{
 "cells": [
  {
   "cell_type": "code",
   "execution_count": 1,
   "metadata": {},
   "outputs": [],
   "source": [
    "from sympy import *"
   ]
  },
  {
   "cell_type": "code",
   "execution_count": 16,
   "metadata": {},
   "outputs": [],
   "source": [
    "x, a, b = symbols('x a b')"
   ]
  },
  {
   "cell_type": "code",
   "execution_count": 52,
   "metadata": {},
   "outputs": [
    {
     "data": {
      "text/latex": [
       "$\\displaystyle 0.05 \\sqrt{2} \\sqrt{\\pi} \\left(\\operatorname{erf}{\\left(1.5 \\sqrt{2} \\right)} + \\operatorname{erf}{\\left(3.5 \\sqrt{2} \\right)}\\right)$"
      ],
      "text/plain": [
       "0.05*sqrt(2)*sqrt(pi)*(erf(1.5*sqrt(2)) + erf(3.5*sqrt(2)))"
      ]
     },
     "execution_count": 52,
     "metadata": {},
     "output_type": "execute_result"
    }
   ],
   "source": [
    "If = exp(-((x - a)/b)**2/2)\n",
    "# simplify(If/integrate(If, (x, 0, 1)))\n",
    "simplify(integrate(If, (x, 0, 1))).subs(a, .3).subs(b, .1)"
   ]
  },
  {
   "cell_type": "code",
   "execution_count": 53,
   "metadata": {},
   "outputs": [
    {
     "data": {
      "text/latex": [
       "$\\displaystyle \\frac{\\sqrt{2} \\sqrt{\\pi} b \\operatorname{erf}{\\left(\\frac{\\sqrt{2} \\left(- a + x\\right)}{2 b} \\right)}}{2}$"
      ],
      "text/plain": [
       "sqrt(2)*sqrt(pi)*b*erf(sqrt(2)*(-a + x)/(2*b))/2"
      ]
     },
     "execution_count": 53,
     "metadata": {},
     "output_type": "execute_result"
    }
   ],
   "source": [
    "integrate(If, x)"
   ]
  },
  {
   "cell_type": "code",
   "execution_count": 25,
   "metadata": {},
   "outputs": [
    {
     "data": {
      "text/latex": [
       "$\\displaystyle \\frac{\\cos^{b}{\\left(a - x \\right)}}{\\int\\limits_{0}^{1}\\int \\cos^{b}{\\left(a - x \\right)}\\, dx\\, dx}$"
      ],
      "text/plain": [
       "cos(a - x)**b/Integral(cos(a - x)**b, x, (x, 0, 1))"
      ]
     },
     "execution_count": 25,
     "metadata": {},
     "output_type": "execute_result"
    }
   ],
   "source": [
    "iF = integrate(If, x, (x, 0, 1))\n",
    "simplify(If/iF)"
   ]
  },
  {
   "cell_type": "code",
   "execution_count": null,
   "metadata": {},
   "outputs": [],
   "source": []
  }
 ],
 "metadata": {
  "kernelspec": {
   "display_name": "Python 3",
   "language": "python",
   "name": "python3"
  },
  "language_info": {
   "codemirror_mode": {
    "name": "ipython",
    "version": 3
   },
   "file_extension": ".py",
   "mimetype": "text/x-python",
   "name": "python",
   "nbconvert_exporter": "python",
   "pygments_lexer": "ipython3",
   "version": "3.11.0"
  },
  "orig_nbformat": 4,
  "vscode": {
   "interpreter": {
    "hash": "c261aea317cc0286b3b3261fbba9abdec21eaa57589985bb7a274bf54d6cc0a7"
   }
  }
 },
 "nbformat": 4,
 "nbformat_minor": 2
}
