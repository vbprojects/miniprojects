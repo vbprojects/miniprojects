{
 "cells": [
  {
   "cell_type": "code",
   "execution_count": 1,
   "metadata": {},
   "outputs": [],
   "source": [
    "from sympy import *"
   ]
  },
  {
   "cell_type": "code",
   "execution_count": 38,
   "metadata": {},
   "outputs": [],
   "source": [
    "x, k, m, c = symbols('x k m c')\n",
    "f = sin((x + pi)/4)**c + k\n",
    "F = integrate(f, (x, -pi, pi))\n",
    "fk = simplify((f/F).subs(c, 2))"
   ]
  },
  {
   "cell_type": "code",
   "execution_count": 39,
   "metadata": {},
   "outputs": [
    {
     "data": {
      "text/latex": [
       "$\\displaystyle \\min\\left(\\frac{k}{2 \\pi k + \\pi}, \\frac{k + 1}{2 \\pi k + \\pi}\\right)$"
      ],
      "text/plain": [
       "Min(k/(2*pi*k + pi), (k + 1)/(2*pi*k + pi))"
      ]
     },
     "execution_count": 39,
     "metadata": {},
     "output_type": "execute_result"
    }
   ],
   "source": [
    "minimum(fk, x, Interval(-pi, pi))"
   ]
  },
  {
   "cell_type": "code",
   "execution_count": 40,
   "metadata": {},
   "outputs": [],
   "source": [
    "km = solve(Eq(k/(2*pi*k + pi), m), k)[0]\n",
    "fkm = simplify(fk.subs(k, km).subs(m, k))"
   ]
  },
  {
   "cell_type": "code",
   "execution_count": 44,
   "metadata": {},
   "outputs": [
    {
     "data": {
      "text/latex": [
       "$\\displaystyle \\frac{\\pi k + \\left(- 2 \\pi k + 1\\right) \\sin^{2}{\\left(\\frac{x}{4} + \\frac{\\pi}{4} \\right)}}{\\pi}$"
      ],
      "text/plain": [
       "(pi*k + (-2*pi*k + 1)*sin(x/4 + pi/4)**2)/pi"
      ]
     },
     "execution_count": 44,
     "metadata": {},
     "output_type": "execute_result"
    }
   ],
   "source": [
    "fkm"
   ]
  },
  {
   "cell_type": "code",
   "execution_count": 41,
   "metadata": {},
   "outputs": [
    {
     "data": {
      "text/latex": [
       "$\\displaystyle \\frac{\\left(1 - 2.0 \\cdot 10^{-5} \\pi\\right) \\sin^{2}{\\left(\\frac{x}{4} + \\frac{\\pi}{4} \\right)} + 1.0 \\cdot 10^{-5} \\pi}{\\pi}$"
      ],
      "text/plain": [
       "((1 - 2.0e-5*pi)*sin(x/4 + pi/4)**2 + 1.0e-5*pi)/pi"
      ]
     },
     "execution_count": 41,
     "metadata": {},
     "output_type": "execute_result"
    }
   ],
   "source": [
    "fkm.subs(k, 1e-5)"
   ]
  },
  {
   "cell_type": "code",
   "execution_count": 42,
   "metadata": {},
   "outputs": [
    {
     "data": {
      "image/png": "[encoded data removed]",
      "text/plain": [
       "<Figure size 432x288 with 1 Axes>"
      ]
     },
     "metadata": {
      "needs_background": "light"
     },
     "output_type": "display_data"
    },
    {
     "data": {
      "text/plain": [
       "<sympy.plotting.plot.Plot at 0x2690d702210>"
      ]
     },
     "execution_count": 42,
     "metadata": {},
     "output_type": "execute_result"
    }
   ],
   "source": [
    "plot(fkm.subs(k, 1e-5), (x, -pi, pi), ylim=(-1, 1))"
   ]
  },
  {
   "cell_type": "code",
   "execution_count": null,
   "metadata": {},
   "outputs": [],
   "source": []
  }
 ],
 "metadata": {
  "kernelspec": {
   "display_name": "Python 3",
   "language": "python",
   "name": "python3"
  },
  "language_info": {
   "codemirror_mode": {
    "name": "ipython",
    "version": 3
   },
   "file_extension": ".py",
   "mimetype": "text/x-python",
   "name": "python",
   "nbconvert_exporter": "python",
   "pygments_lexer": "ipython3",
   "version": "3.11.0rc1 (main, Aug  8 2022, 11:30:54) [MSC v.1932 64 bit (AMD64)]"
  },
  "orig_nbformat": 4,
  "vscode": {
   "interpreter": {
    "hash": "c261aea317cc0286b3b3261fbba9abdec21eaa57589985bb7a274bf54d6cc0a7"
   }
  }
 },
 "nbformat": 4,
 "nbformat_minor": 2
}
