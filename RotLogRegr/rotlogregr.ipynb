{
 "cells": [
  {
   "cell_type": "markdown",
   "metadata": {},
   "source": [
    "---\n",
    "title: \"My document\"\n",
    "format:\n",
    "  html:\n",
    "    toc: true\n",
    "    html-math-method: katex\n",
    "    theme: cyborg\n",
    "---"
   ]
  },
  {
   "cell_type": "code",
   "execution_count": 2,
   "metadata": {},
   "outputs": [],
   "source": [
    "import pyro\n",
    "import pyro.distributions as pyrodist\n",
    "import torch"
   ]
  },
  {
   "cell_type": "code",
   "execution_count": null,
   "metadata": {},
   "outputs": [],
   "source": [
    "def model(x, y = None):\n",
    "    # Parameters\n",
    "    a = pyro.sample(\"a\", pyrodist.Normal(0, 1))\n",
    "    b = pyro.sample(\"b\", pyrodist.Normal(0, 1))\n",
    "    sigma = pyro.sample(\"sigma\", pyrodist.HalfCauchy(1))\n",
    "    # Model\n",
    "    mu = a + b * x\n",
    "    with pyro.plate(\"data\", len(x)):\n",
    "        pyro.sample(\"obs\", pyrodist.Normal(mu, sigma), obs = y)"
   ]
  },
  {
   "cell_type": "code",
   "execution_count": null,
   "metadata": {},
   "outputs": [],
   "source": [
    "from cmath import sqrt\n",
    "\n",
    "\n",
    "def logregr(x, y = None):\n",
    "    # Parameters\n",
    "    theta = pyro.sample(\"theta\", pyrodist.Uniform(-1 * torch.pi, torch.pi))\n",
    "    k = pyro.sample(\"k\", pyrodist.Normal(0, sqrt(100)))\n",
    "    # Model\n",
    "    rot = torch.tensor([[torch.cos(theta), -1 * torch.sin(theta)], [torch.sin(theta), torch.cos(theta)]])\n",
    "    with pyro.plate(\"data\", len(x)):\n",
    "        pyro.sample(\"obs\", pyrodist.Normal(mu, sigma), obs = y)"
   ]
  }
 ],
 "metadata": {
  "kernelspec": {
   "display_name": "Python 3.10.6 ('ppl')",
   "language": "python",
   "name": "python3"
  },
  "language_info": {
   "codemirror_mode": {
    "name": "ipython",
    "version": 3
   },
   "file_extension": ".py",
   "mimetype": "text/x-python",
   "name": "python",
   "nbconvert_exporter": "python",
   "pygments_lexer": "ipython3",
   "version": "3.10.6"
  },
  "orig_nbformat": 4,
  "vscode": {
   "interpreter": {
    "hash": "dda1d36ee382ae8cab405e97adad6ee177139823c6bc101e82164ca12ba02727"
   }
  }
 },
 "nbformat": 4,
 "nbformat_minor": 2
}
