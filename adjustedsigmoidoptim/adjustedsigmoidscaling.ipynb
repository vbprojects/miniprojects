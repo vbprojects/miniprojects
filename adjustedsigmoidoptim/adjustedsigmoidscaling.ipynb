{
 "cells": [
  {
   "cell_type": "code",
   "execution_count": 2,
   "metadata": {},
   "outputs": [],
   "source": [
    "using SymPy, LambdaFn"
   ]
  },
  {
   "cell_type": "code",
   "execution_count": 3,
   "metadata": {},
   "outputs": [
    {
     "data": {
      "text/plain": [
       "(a, y, l)"
      ]
     },
     "metadata": {},
     "output_type": "display_data"
    }
   ],
   "source": [
    "@syms a y l"
   ]
  },
  {
   "cell_type": "code",
   "execution_count": 12,
   "metadata": {},
   "outputs": [
    {
     "data": {
      "text/latex": [
       "$y \\left(a^{2} \\cdot \\left(2 a - 1\\right) + a y \\left(1 - 2 a\\right) + \\frac{y^{2} \\cdot \\left(2 a - 1\\right)}{3}\\right)$"
      ],
      "text/plain": [
       "  /                                2          \\\n",
       "  | 2                             y *(2*a - 1)|\n",
       "y*|a *(2*a - 1) + a*y*(1 - 2*a) + ------------|\n",
       "  \\                                    3      /"
      ]
     },
     "metadata": {},
     "output_type": "display_data"
    }
   ],
   "source": [
    "# f = (2 * a - 1) * (a - y) ^ 2\n",
    "f = (2*a - 1) * (a - y) ^ 2\n",
    "fI =  integrate(f, y) |> simplify"
   ]
  },
  {
   "cell_type": "code",
   "execution_count": 7,
   "metadata": {},
   "outputs": [
    {
     "data": {
      "text/latex": [
       "$\\left[ \\begin{array}{r}\\frac{l}{2} + \\frac{1}{2}\\end{array} \\right]$\n"
      ],
      "text/plain": [
       "1-element Vector{Sym}:\n",
       " l/2 + 1/2"
      ]
     },
     "metadata": {},
     "output_type": "display_data"
    }
   ],
   "source": [
    "eq = l ~ 2*a - 1\n",
    "solve(eq, a)"
   ]
  },
  {
   "cell_type": "code",
   "execution_count": 16,
   "metadata": {},
   "outputs": [
    {
     "data": {
      "text/latex": [
       "$\\frac{y \\left(1 - y\\right)}{- a + y}$"
      ],
      "text/plain": [
       "y*(1 - y)\n",
       "---------\n",
       "  -a + y "
      ]
     },
     "metadata": {},
     "output_type": "display_data"
    }
   ],
   "source": [
    "gI = -(a*ln(y) + (1 - a)*log(1 - y))\n",
    "g = gI |> @lf(diff(_, y))\n",
    "ascent = g ^ -1 |> simplify"
   ]
  },
  {
   "cell_type": "code",
   "execution_count": 27,
   "metadata": {},
   "outputs": [
    {
     "data": {
      "text/latex": [
       "$a \\log{\\left(y \\right)} + \\frac{y \\left(2 a - 1\\right) \\left(3 a^{2} - 3 a y + y^{2}\\right)}{3} - \\left(a - 1\\right) \\log{\\left(1 - y \\right)}$"
      ],
      "text/plain": [
       "                       /   2            2\\                     \n",
       "           y*(2*a - 1)*\\3*a  - 3*a*y + y /                     \n",
       "a*log(y) + ------------------------------- - (a - 1)*log(1 - y)\n",
       "                          3                                    "
      ]
     },
     "metadata": {},
     "output_type": "display_data"
    }
   ],
   "source": [
    "fI - gI |> simplify"
   ]
  },
  {
   "cell_type": "code",
   "execution_count": null,
   "metadata": {},
   "outputs": [],
   "source": []
  }
 ],
 "metadata": {
  "kernelspec": {
   "display_name": "Julia 1.9.0-beta2",
   "language": "julia",
   "name": "julia-1.9"
  },
  "language_info": {
   "file_extension": ".jl",
   "mimetype": "application/julia",
   "name": "julia",
   "version": "1.9.0-beta2"
  },
  "orig_nbformat": 4,
  "vscode": {
   "interpreter": {
    "hash": "c261aea317cc0286b3b3261fbba9abdec21eaa57589985bb7a274bf54d6cc0a7"
   }
  }
 },
 "nbformat": 4,
 "nbformat_minor": 2
}
