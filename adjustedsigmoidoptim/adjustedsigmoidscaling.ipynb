{
 "cells": [
  {
   "cell_type": "code",
   "execution_count": 1,
   "metadata": {},
   "outputs": [],
   "source": [
    "from sympy import *"
   ]
  },
  {
   "cell_type": "code",
   "execution_count": 40,
   "metadata": {},
   "outputs": [],
   "source": [
    "a, w, x, s = symbols('a w x s')"
   ]
  },
  {
   "cell_type": "code",
   "execution_count": 45,
   "metadata": {},
   "outputs": [
    {
     "data": {
      "text/latex": [
       "$\\displaystyle - a + s$"
      ],
      "text/plain": [
       "-a + s"
      ]
     },
     "execution_count": 45,
     "metadata": {},
     "output_type": "execute_result"
    }
   ],
   "source": [
    "f = (a - s)**2/2\n",
    "f_ds = simplify(diff(f, s))\n",
    "f_ds"
   ]
  },
  {
   "cell_type": "code",
   "execution_count": 55,
   "metadata": {},
   "outputs": [
    {
     "data": {
      "text/latex": [
       "$\\displaystyle \\frac{x \\left(2 a - 1\\right) \\left(3 a^{2} \\left(e^{w x} + 1\\right)^{2} - 3 a \\left(e^{w x} + 1\\right) e^{w x} + \\left(- 3 a \\left(e^{w x} + 1\\right) + 2 e^{w x}\\right) e^{w x} + e^{2 w x}\\right) e^{w x}}{3 \\left(e^{w x} + 1\\right)^{4}}$"
      ],
      "text/plain": [
       "x*(2*a - 1)*(3*a**2*(exp(w*x) + 1)**2 - 3*a*(exp(w*x) + 1)*exp(w*x) + (-3*a*(exp(w*x) + 1) + 2*exp(w*x))*exp(w*x) + exp(2*w*x))*exp(w*x)/(3*(exp(w*x) + 1)**4)"
      ]
     },
     "execution_count": 55,
     "metadata": {},
     "output_type": "execute_result"
    }
   ],
   "source": [
    "cf = (a - s)**2 * (2*a - 1)\n",
    "dcf = simplify(cf)\n",
    "f = simplify(integrate(dcf, s))\n",
    "f = f.subs(s, 1/(1 + exp(-w*x)))\n",
    "simplify(diff(f, w))"
   ]
  },
  {
   "cell_type": "code",
   "execution_count": 46,
   "metadata": {},
   "outputs": [
    {
     "data": {
      "text/latex": [
       "$\\displaystyle \\frac{a - s}{s \\left(s - 1\\right)}$"
      ],
      "text/plain": [
       "(a - s)/(s*(s - 1))"
      ]
     },
     "execution_count": 46,
     "metadata": {},
     "output_type": "execute_result"
    }
   ],
   "source": [
    "cl = -(a*ln(s) + (1 - a)*ln(1 - s))\n",
    "dcl = simplify(diff(cl, s))\n",
    "dcl"
   ]
  },
  {
   "cell_type": "code",
   "execution_count": null,
   "metadata": {},
   "outputs": [],
   "source": []
  }
 ],
 "metadata": {
  "kernelspec": {
   "display_name": "Python 3",
   "language": "python",
   "name": "python3"
  },
  "language_info": {
   "codemirror_mode": {
    "name": "ipython",
    "version": 3
   },
   "file_extension": ".py",
   "mimetype": "text/x-python",
   "name": "python",
   "nbconvert_exporter": "python",
   "pygments_lexer": "ipython3",
   "version": "3.11.0rc1"
  },
  "orig_nbformat": 4,
  "vscode": {
   "interpreter": {
    "hash": "c261aea317cc0286b3b3261fbba9abdec21eaa57589985bb7a274bf54d6cc0a7"
   }
  }
 },
 "nbformat": 4,
 "nbformat_minor": 2
}
