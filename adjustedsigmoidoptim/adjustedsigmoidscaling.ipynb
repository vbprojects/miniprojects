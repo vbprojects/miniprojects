{
 "cells": [
  {
   "cell_type": "code",
   "execution_count": 2,
   "metadata": {},
   "outputs": [],
   "source": [
    "using SymPy, LambdaFn, LinearAlgebra"
   ]
  },
  {
   "cell_type": "code",
   "execution_count": 3,
   "metadata": {},
   "outputs": [
    {
     "data": {
      "text/plain": [
       "(a, w, x, y, l)"
      ]
     },
     "metadata": {},
     "output_type": "display_data"
    }
   ],
   "source": [
    "@syms a w x y l"
   ]
  },
  {
   "cell_type": "code",
   "execution_count": 8,
   "metadata": {},
   "outputs": [
    {
     "data": {
      "text/latex": [
       "$w \\left(2 a^{3} x - 5 a^{2} x + 4 a x - x\\right) + \\frac{1 - 2 a}{1 + e^{- w x}} - \\left(2 a - 1\\right)^{2} \\log{\\left(1 + e^{- w x} \\right)}$"
      ],
      "text/plain": [
       "  /   3        2              \\    1 - 2*a             2    /     -w*x\\\n",
       "w*\\2*a *x - 5*a *x + 4*a*x - x/ + --------- - (2*a - 1) *log\\1 + e    /\n",
       "                                       -w*x                            \n",
       "                                  1 + e                                "
      ]
     },
     "metadata": {},
     "output_type": "display_data"
    }
   ],
   "source": [
    "s= 1/(1 + exp(-1 * w * x))\n",
    "f = (2*a - 1)*(a - s)^2*x\n",
    "F1 = integrate(f, w)"
   ]
  },
  {
   "cell_type": "code",
   "execution_count": 25,
   "metadata": {},
   "outputs": [
    {
     "data": {
      "text/latex": [
       "$\\frac{x \\left(a - \\left(a - 1\\right) e^{w x}\\right)}{e^{w x} + 1}$"
      ],
      "text/plain": [
       "  /             w*x\\\n",
       "x*\\a - (a - 1)*e   /\n",
       "--------------------\n",
       "       w*x          \n",
       "      e    + 1      "
      ]
     },
     "metadata": {},
     "output_type": "display_data"
    }
   ],
   "source": [
    "diff(a*ln(s) + (a - 1)*ln(1 - s), w) |> simplify"
   ]
  },
  {
   "cell_type": "code",
   "execution_count": null,
   "metadata": {},
   "outputs": [],
   "source": [
    "a*ln(s)"
   ]
  },
  {
   "cell_type": "code",
   "execution_count": 109,
   "metadata": {},
   "outputs": [
    {
     "data": {
      "text/latex": [
       "$w x \\left(a - 1\\right)^{2} \\cdot \\left(2 a - 1\\right) + \\left(2 a - 1\\right)^{2} \\log{\\left(\\frac{1}{1 + e^{- w x}} \\right)} - \\frac{2 a - 1}{1 + e^{- w x}}$"
      ],
      "text/plain": [
       "           2                      2    /    1    \\    2*a - 1 \n",
       "w*x*(a - 1) *(2*a - 1) + (2*a - 1) *log|---------| - ---------\n",
       "                                       |     -w*x|        -w*x\n",
       "                                       \\1 + e    /   1 + e    "
      ]
     },
     "metadata": {},
     "output_type": "display_data"
    }
   ],
   "source": [
    "F2 = w*((2*a - 1)*(a - 1)^2*x) - (2*a-1)*s + (2*a - 1)^2 * ln(s)"
   ]
  },
  {
   "cell_type": "code",
   "execution_count": 118,
   "metadata": {},
   "outputs": [
    {
     "data": {
      "text/latex": [
       "$0$"
      ],
      "text/plain": [
       "0"
      ]
     },
     "metadata": {},
     "output_type": "display_data"
    }
   ],
   "source": [
    "w*x*(a - 1)^2 * (2*a -1) - (w*(2a^3*x - 5*a^2*x + 4*a*x - x)) |> simplify"
   ]
  },
  {
   "cell_type": "code",
   "execution_count": 99,
   "metadata": {},
   "outputs": [
    {
     "data": {
      "text/latex": [
       "$0$"
      ],
      "text/plain": [
       "0"
      ]
     },
     "metadata": {},
     "output_type": "display_data"
    }
   ],
   "source": [
    "diff(-(2*a - 1)^2 * log(1/s), w) - ((2*a - 1)^2 * (1 - s) * x) |> simplify"
   ]
  },
  {
   "cell_type": "code",
   "execution_count": null,
   "metadata": {},
   "outputs": [],
   "source": []
  },
  {
   "cell_type": "code",
   "execution_count": 85,
   "metadata": {},
   "outputs": [
    {
     "data": {
      "text/latex": [
       "$- \\frac{x \\left(1 - \\frac{1}{1 + e^{- w x}}\\right) \\left(2 a - 1\\right)^{2}}{1 + e^{- w x}}$"
      ],
      "text/plain": [
       "   /        1    \\          2 \n",
       "-x*|1 - ---------|*(2*a - 1)  \n",
       "   |         -w*x|            \n",
       "   \\    1 + e    /            \n",
       "------------------------------\n",
       "               -w*x           \n",
       "          1 + e               "
      ]
     },
     "metadata": {},
     "output_type": "display_data"
    }
   ],
   "source": [
    "-(2*a - 1)^2 * (s * (1 - s)) * x"
   ]
  },
  {
   "cell_type": "code",
   "execution_count": 96,
   "metadata": {},
   "outputs": [
    {
     "data": {
      "text/latex": [
       "$0$"
      ],
      "text/plain": [
       "0"
      ]
     },
     "metadata": {},
     "output_type": "display_data"
    }
   ],
   "source": [
    "diff(-log(s), w) - (-1/s * s * (1 - s) * x) |> simplify"
   ]
  },
  {
   "cell_type": "code",
   "execution_count": 91,
   "metadata": {},
   "outputs": [
    {
     "data": {
      "text/latex": [
       "$- \\frac{x e^{- w x}}{1 + e^{- w x}}$"
      ],
      "text/plain": [
       "    -w*x \n",
       "-x*e     \n",
       "---------\n",
       "     -w*x\n",
       "1 + e    "
      ]
     },
     "metadata": {},
     "output_type": "display_data"
    }
   ],
   "source": [
    "diff(log(1/s), w)"
   ]
  },
  {
   "cell_type": "code",
   "execution_count": 58,
   "metadata": {},
   "outputs": [
    {
     "data": {
      "text/latex": [
       "$- \\frac{2 a - 1}{1 + e^{- w x}}$"
      ],
      "text/plain": [
       "-(2*a - 1) \n",
       "-----------\n",
       "      -w*x \n",
       " 1 + e     "
      ]
     },
     "metadata": {},
     "output_type": "display_data"
    }
   ],
   "source": [
    "(2*a - 1) * s * -1 "
   ]
  },
  {
   "cell_type": "code",
   "execution_count": 51,
   "metadata": {},
   "outputs": [
    {
     "data": {
      "text/latex": [
       "$2 a^{3} - 5 a^{2} + 4 a - 1$"
      ],
      "text/plain": [
       "   3      2          \n",
       "2*a  - 5*a  + 4*a - 1"
      ]
     },
     "metadata": {},
     "output_type": "display_data"
    }
   ],
   "source": [
    "(2*a - 1)*(a-1)^2 |> expand"
   ]
  },
  {
   "cell_type": "code",
   "execution_count": 24,
   "metadata": {},
   "outputs": [
    {
     "data": {
      "text/latex": [
       "$a x \\left(\\begin{cases} a^{2} w - 2 a w + \\frac{2 a \\log{\\left(\\tanh{\\left(w x \\right)} + 1 \\right)}}{x} + w - \\frac{\\tanh{\\left(w x \\right)}}{x} & \\text{for}\\: x \\neq 0 \\\\a^{2} w & \\text{otherwise} \\end{cases}\\right)$"
      ],
      "text/plain": [
       "    // 2             2*a*log(tanh(w*x) + 1)       tanh(w*x)            \\\n",
       "    ||a *w - 2*a*w + ---------------------- + w - ---------  for x != 0|\n",
       "    ||                         x                      x                |\n",
       "a*x*|<                                                                 |\n",
       "    ||                         2                                       |\n",
       "    ||                        a *w                           otherwise |\n",
       "    \\\\                                                                 /"
      ]
     },
     "metadata": {},
     "output_type": "display_data"
    }
   ],
   "source": [
    "s= tanh(w*x)\n",
    "f = a*(a - s)^2*x\n",
    "integrate(f, w)"
   ]
  },
  {
   "cell_type": "code",
   "execution_count": 9,
   "metadata": {},
   "outputs": [
    {
     "data": {
      "text/latex": [
       "$a^{3} y - a^{2} y^{2} + \\frac{a y^{3}}{3}$"
      ],
      "text/plain": [
       "                  3\n",
       " 3      2  2   a*y \n",
       "a *y - a *y  + ----\n",
       "                3  "
      ]
     },
     "metadata": {},
     "output_type": "display_data"
    }
   ],
   "source": [
    "f = a * (a - y) ^ 2\n",
    "fI = integrate(f, y)"
   ]
  },
  {
   "cell_type": "code",
   "execution_count": 12,
   "metadata": {},
   "outputs": [
    {
     "data": {
      "text/latex": [
       "$y \\left(a^{2} \\cdot \\left(2 a - 1\\right) + a y \\left(1 - 2 a\\right) + \\frac{y^{2} \\cdot \\left(2 a - 1\\right)}{3}\\right)$"
      ],
      "text/plain": [
       "  /                                2          \\\n",
       "  | 2                             y *(2*a - 1)|\n",
       "y*|a *(2*a - 1) + a*y*(1 - 2*a) + ------------|\n",
       "  \\                                    3      /"
      ]
     },
     "metadata": {},
     "output_type": "display_data"
    }
   ],
   "source": [
    "# f = (2 * a - 1) * (a - y) ^ 2\n",
    "f = (2*a - 1) * (a - y) ^ 2\n",
    "fI =  integrate(f, y) |> simplify"
   ]
  },
  {
   "cell_type": "code",
   "execution_count": 7,
   "metadata": {},
   "outputs": [
    {
     "data": {
      "text/latex": [
       "$\\left[ \\begin{array}{r}\\frac{l}{2} + \\frac{1}{2}\\end{array} \\right]$\n"
      ],
      "text/plain": [
       "1-element Vector{Sym}:\n",
       " l/2 + 1/2"
      ]
     },
     "metadata": {},
     "output_type": "display_data"
    }
   ],
   "source": [
    "eq = l ~ 2*a - 1\n",
    "solve(eq, a)"
   ]
  },
  {
   "cell_type": "code",
   "execution_count": 16,
   "metadata": {},
   "outputs": [
    {
     "data": {
      "text/latex": [
       "$\\frac{y \\left(1 - y\\right)}{- a + y}$"
      ],
      "text/plain": [
       "y*(1 - y)\n",
       "---------\n",
       "  -a + y "
      ]
     },
     "metadata": {},
     "output_type": "display_data"
    }
   ],
   "source": [
    "gI = -(a*ln(y) + (1 - a)*log(1 - y))\n",
    "g = gI |> @lf(diff(_, y))\n",
    "ascent = g ^ -1 |> simplify"
   ]
  },
  {
   "cell_type": "code",
   "execution_count": 27,
   "metadata": {},
   "outputs": [
    {
     "data": {
      "text/latex": [
       "$a \\log{\\left(y \\right)} + \\frac{y \\left(2 a - 1\\right) \\left(3 a^{2} - 3 a y + y^{2}\\right)}{3} - \\left(a - 1\\right) \\log{\\left(1 - y \\right)}$"
      ],
      "text/plain": [
       "                       /   2            2\\                     \n",
       "           y*(2*a - 1)*\\3*a  - 3*a*y + y /                     \n",
       "a*log(y) + ------------------------------- - (a - 1)*log(1 - y)\n",
       "                          3                                    "
      ]
     },
     "metadata": {},
     "output_type": "display_data"
    }
   ],
   "source": [
    "fI - gI |> simplify"
   ]
  },
  {
   "cell_type": "code",
   "execution_count": null,
   "metadata": {},
   "outputs": [],
   "source": []
  }
 ],
 "metadata": {
  "kernelspec": {
   "display_name": "Julia 1.9.0-beta3",
   "language": "julia",
   "name": "julia-1.9"
  },
  "language_info": {
   "file_extension": ".jl",
   "mimetype": "application/julia",
   "name": "julia",
   "version": "1.9.0-beta3"
  },
  "orig_nbformat": 4,
  "vscode": {
   "interpreter": {
    "hash": "c261aea317cc0286b3b3261fbba9abdec21eaa57589985bb7a274bf54d6cc0a7"
   }
  }
 },
 "nbformat": 4,
 "nbformat_minor": 2
}
