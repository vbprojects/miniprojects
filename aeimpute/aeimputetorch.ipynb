{
 "cells": [
  {
   "cell_type": "code",
   "execution_count": 1,
   "metadata": {},
   "outputs": [
    {
     "name": "stderr",
     "output_type": "stream",
     "text": [
      "c:\\Users\\bhatn\\anaconda3\\envs\\stab\\lib\\site-packages\\tqdm\\auto.py:22: TqdmWarning: IProgress not found. Please update jupyter and ipywidgets. See https://ipywidgets.readthedocs.io/en/stable/user_install.html\n",
      "  from .autonotebook import tqdm as notebook_tqdm\n"
     ]
    }
   ],
   "source": [
    "import torch\n",
    "from torch import nn\n",
    "import skorch"
   ]
  },
  {
   "cell_type": "code",
   "execution_count": 34,
   "metadata": {},
   "outputs": [],
   "source": [
    "class MaskedRegression(nn.Module):\n",
    "    def __init__(self, w):\n",
    "        super(MaskedRegression, self).__init__()\n",
    "        self.weighting = nn.Sequential(\n",
    "            nn.Linear(w, w),\n",
    "            nn.SELU(),\n",
    "            nn.Linear(w, w),\n",
    "            nn.Sigmoid()\n",
    "        )\n",
    "        self.regressor = nn.Sequential(\n",
    "            nn.Linear(w, w),\n",
    "            nn.SELU()\n",
    "        )\n",
    "    def forward(self, X, K):\n",
    "        X, K = X.float(), K.float()\n",
    "        X_Known = X * K\n",
    "        K_weights = self.weighting(K)\n",
    "        X_pred = self.regressor(X_Known * K_weights)\n",
    "        return X_pred * (1 - K) + X * K\n",
    "    def feature_importance(self):\n",
    "        with torch.no_grad():\n",
    "            K = torch.randint(0, 2, (1000, self.weighting[0].in_features), dtype=torch.float)\n",
    "            K_weights = self.weighting(K)\n",
    "            return torch.sum(K_weights * (1 - K), dim =0)"
   ]
  },
  {
   "cell_type": "code",
   "execution_count": 35,
   "metadata": {},
   "outputs": [
    {
     "data": {
      "text/plain": [
       "tensor([243.4780, 248.5415, 249.3514, 217.1315, 227.4699, 301.4597, 260.5251,\n",
       "        213.4435, 266.7733, 289.3407, 241.7278, 212.5731, 256.2693, 218.5317,\n",
       "        274.4241, 265.2117, 246.5060, 224.9903, 299.0406, 286.4236, 268.4144,\n",
       "        231.8828])"
      ]
     },
     "execution_count": 35,
     "metadata": {},
     "output_type": "execute_result"
    }
   ],
   "source": [
    "model = MaskedRegression(22)\n",
    "model.feature_importance()"
   ]
  },
  {
   "cell_type": "code",
   "execution_count": 13,
   "metadata": {},
   "outputs": [],
   "source": [
    "import openml\n",
    "import pandas as pd\n",
    "from sklearn.datasets import fetch_openml\n",
    "import numpy as np"
   ]
  },
  {
   "cell_type": "code",
   "execution_count": 14,
   "metadata": {},
   "outputs": [
    {
     "name": "stderr",
     "output_type": "stream",
     "text": [
      "c:\\Users\\bhatn\\anaconda3\\envs\\stab\\lib\\site-packages\\sklearn\\datasets\\_openml.py:292: UserWarning: Multiple active versions of the dataset matching the name cpu_act exist. Versions may be fundamentally different, returning version 1.\n",
      "  warn(\n"
     ]
    }
   ],
   "source": [
    "openml.datasets.list_datasets()[197]\n",
    "fetch_197 = fetch_openml('cpu_act')"
   ]
  },
  {
   "cell_type": "code",
   "execution_count": 37,
   "metadata": {},
   "outputs": [],
   "source": [
    "data = pd.DataFrame(fetch_197.data)"
   ]
  },
  {
   "cell_type": "code",
   "execution_count": 38,
   "metadata": {},
   "outputs": [],
   "source": [
    "dataM = data.mask(np.random.random(data.shape) < .1)\n",
    "missing_mat = torch.from_numpy(dataM.isna().astype(float).values)\n",
    "M = torch.from_numpy(dataM.fillna(0).astype(float).values)\n",
    "Truth = torch.from_numpy(data[dataM.isna()].astype(float).values)"
   ]
  },
  {
   "cell_type": "code",
   "execution_count": 39,
   "metadata": {},
   "outputs": [],
   "source": [
    "# Create dataloader for M\n",
    "from torch.utils.data import TensorDataset, DataLoader\n",
    "dataset = TensorDataset(M, missing_mat)\n",
    "dataloader = DataLoader(dataset, batch_size=32, shuffle=True)\n",
    "\n",
    "# Train model\n",
    "model = MaskedRegression(M.size(1))\n",
    "\n",
    "# Define loss function\n",
    "criterion = nn.MSELoss()\n",
    "\n",
    "# Define optimizer\n",
    "optimizer = torch.optim.Adam(model.parameters(), lr=1e-3)\n",
    "\n",
    "# Train model\n",
    "for epoch in range(100):\n",
    "    for i, (X, Mb) in enumerate(dataloader):\n",
    "        optimizer.zero_grad()\n",
    "        Xhat = model(X, Mb)\n",
    "        loss = criterion(Xhat * (Mb + 1e-3), X * (Mb + 1e-3))\n",
    "        loss.backward()\n",
    "        optimizer.step()\n"
   ]
  },
  {
   "cell_type": "code",
   "execution_count": 40,
   "metadata": {},
   "outputs": [
    {
     "data": {
      "text/plain": [
       "MaskedRegression(\n",
       "  (weighting): Sequential(\n",
       "    (0): Linear(in_features=21, out_features=21, bias=True)\n",
       "    (1): SELU()\n",
       "    (2): Linear(in_features=21, out_features=21, bias=True)\n",
       "    (3): Sigmoid()\n",
       "  )\n",
       "  (regressor): Sequential(\n",
       "    (0): Linear(in_features=21, out_features=21, bias=True)\n",
       "    (1): SELU()\n",
       "  )\n",
       ")"
      ]
     },
     "execution_count": 40,
     "metadata": {},
     "output_type": "execute_result"
    }
   ],
   "source": [
    "model.eval()"
   ]
  },
  {
   "cell_type": "code",
   "execution_count": 67,
   "metadata": {},
   "outputs": [],
   "source": [
    "aeimpute = model(M, missing_mat) * missing_mat"
   ]
  },
  {
   "cell_type": "code",
   "execution_count": 68,
   "metadata": {},
   "outputs": [
    {
     "data": {
      "text/plain": [
       "tensor([[-0.0000, -0.0000, -0.0000,  ..., -0.0000, -1.7581,  0.0000],\n",
       "        [-0.0000, -0.0000, -0.0000,  ..., -0.0000, -0.0000,  0.0000],\n",
       "        [-0.0000, -0.0000, -0.0000,  ..., -0.0000, -0.0000,  0.0000],\n",
       "        ...,\n",
       "        [-0.0000, -0.0000, -0.0000,  ..., -0.0000, -0.0000,  0.0000],\n",
       "        [-0.0000, -0.0000, -0.0000,  ..., -0.0000, -0.0000,  0.0000],\n",
       "        [-0.0000, -0.0000, -0.0000,  ..., -0.0000, -0.0000, -1.7581]],\n",
       "       dtype=torch.float64, grad_fn=<MulBackward0>)"
      ]
     },
     "execution_count": 68,
     "metadata": {},
     "output_type": "execute_result"
    }
   ],
   "source": [
    "aeimpute"
   ]
  },
  {
   "cell_type": "code",
   "execution_count": 63,
   "metadata": {},
   "outputs": [
    {
     "data": {
      "text/plain": [
       "tensor([[  nan,   nan,   nan,  ...,   nan,   nan,   nan],\n",
       "        [  nan,   nan,   nan,  ...,   nan,   nan,   nan],\n",
       "        [  nan,   77.,   nan,  ...,   nan,   nan,   nan],\n",
       "        ...,\n",
       "        [  nan,   nan,   nan,  ...,   nan,   nan,   nan],\n",
       "        [  nan,    0.,   nan,  ...,   nan, 6355.,   nan],\n",
       "        [  nan,   nan,   nan,  ...,   nan,   nan,   nan]], dtype=torch.float64)"
      ]
     },
     "execution_count": 63,
     "metadata": {},
     "output_type": "execute_result"
    }
   ],
   "source": [
    "Truth"
   ]
  },
  {
   "cell_type": "code",
   "execution_count": null,
   "metadata": {},
   "outputs": [],
   "source": []
  }
 ],
 "metadata": {
  "kernelspec": {
   "display_name": "stab",
   "language": "python",
   "name": "python3"
  },
  "language_info": {
   "codemirror_mode": {
    "name": "ipython",
    "version": 3
   },
   "file_extension": ".py",
   "mimetype": "text/x-python",
   "name": "python",
   "nbconvert_exporter": "python",
   "pygments_lexer": "ipython3",
   "version": "3.8.5"
  },
  "orig_nbformat": 4,
  "vscode": {
   "interpreter": {
    "hash": "4c57ba1fc716273b2257610648ccec671f9529b0bce5c2a4e135769c1f806d0f"
   }
  }
 },
 "nbformat": 4,
 "nbformat_minor": 2
}
