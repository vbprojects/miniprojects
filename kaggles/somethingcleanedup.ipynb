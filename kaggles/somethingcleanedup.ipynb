{
 "cells": [
  {
   "cell_type": "code",
   "execution_count": 31,
   "metadata": {},
   "outputs": [],
   "source": [
    "import pandas as pd\n",
    "import plotly.express as px\n",
    "import numpy as np\n",
    "from sklearn.model_selection import train_test_split\n",
    "from xgboost import XGBRegressor\n",
    "from sklearn.model_selection import RandomizedSearchCV\n",
    "from sklearn.model_selection import GridSearchCV\n",
    "import shap"
   ]
  },
  {
   "cell_type": "code",
   "execution_count": 32,
   "metadata": {},
   "outputs": [],
   "source": [
    "data = pd.read_csv('ndtv_data_final.csv')"
   ]
  },
  {
   "cell_type": "code",
   "execution_count": 33,
   "metadata": {},
   "outputs": [
    {
     "data": {
      "text/html": [
       "<div>\n",
       "<style scoped>\n",
       "    .dataframe tbody tr th:only-of-type {\n",
       "        vertical-align: middle;\n",
       "    }\n",
       "\n",
       "    .dataframe tbody tr th {\n",
       "        vertical-align: top;\n",
       "    }\n",
       "\n",
       "    .dataframe thead th {\n",
       "        text-align: right;\n",
       "    }\n",
       "</style>\n",
       "<table border=\"1\" class=\"dataframe\">\n",
       "  <thead>\n",
       "    <tr style=\"text-align: right;\">\n",
       "      <th></th>\n",
       "      <th>Unnamed: 0</th>\n",
       "      <th>Name</th>\n",
       "      <th>Brand</th>\n",
       "      <th>Model</th>\n",
       "      <th>Battery capacity (mAh)</th>\n",
       "      <th>Screen size (inches)</th>\n",
       "      <th>Touchscreen</th>\n",
       "      <th>Resolution x</th>\n",
       "      <th>Resolution y</th>\n",
       "      <th>Processor</th>\n",
       "      <th>...</th>\n",
       "      <th>Rear camera</th>\n",
       "      <th>Front camera</th>\n",
       "      <th>Operating system</th>\n",
       "      <th>Wi-Fi</th>\n",
       "      <th>Bluetooth</th>\n",
       "      <th>GPS</th>\n",
       "      <th>Number of SIMs</th>\n",
       "      <th>3G</th>\n",
       "      <th>4G/ LTE</th>\n",
       "      <th>Price</th>\n",
       "    </tr>\n",
       "  </thead>\n",
       "  <tbody>\n",
       "    <tr>\n",
       "      <th>0</th>\n",
       "      <td>0</td>\n",
       "      <td>OnePlus 7T Pro McLaren Edition</td>\n",
       "      <td>OnePlus</td>\n",
       "      <td>7T Pro McLaren Edition</td>\n",
       "      <td>4085</td>\n",
       "      <td>6.67</td>\n",
       "      <td>Yes</td>\n",
       "      <td>1440</td>\n",
       "      <td>3120</td>\n",
       "      <td>8</td>\n",
       "      <td>...</td>\n",
       "      <td>48.0</td>\n",
       "      <td>16.0</td>\n",
       "      <td>Android</td>\n",
       "      <td>Yes</td>\n",
       "      <td>Yes</td>\n",
       "      <td>Yes</td>\n",
       "      <td>2</td>\n",
       "      <td>Yes</td>\n",
       "      <td>Yes</td>\n",
       "      <td>58998</td>\n",
       "    </tr>\n",
       "    <tr>\n",
       "      <th>1</th>\n",
       "      <td>1</td>\n",
       "      <td>Realme X2 Pro</td>\n",
       "      <td>Realme</td>\n",
       "      <td>X2 Pro</td>\n",
       "      <td>4000</td>\n",
       "      <td>6.50</td>\n",
       "      <td>Yes</td>\n",
       "      <td>1080</td>\n",
       "      <td>2400</td>\n",
       "      <td>8</td>\n",
       "      <td>...</td>\n",
       "      <td>64.0</td>\n",
       "      <td>16.0</td>\n",
       "      <td>Android</td>\n",
       "      <td>Yes</td>\n",
       "      <td>Yes</td>\n",
       "      <td>Yes</td>\n",
       "      <td>2</td>\n",
       "      <td>Yes</td>\n",
       "      <td>Yes</td>\n",
       "      <td>27999</td>\n",
       "    </tr>\n",
       "    <tr>\n",
       "      <th>2</th>\n",
       "      <td>2</td>\n",
       "      <td>iPhone 11 Pro Max</td>\n",
       "      <td>Apple</td>\n",
       "      <td>iPhone 11 Pro Max</td>\n",
       "      <td>3969</td>\n",
       "      <td>6.50</td>\n",
       "      <td>Yes</td>\n",
       "      <td>1242</td>\n",
       "      <td>2688</td>\n",
       "      <td>6</td>\n",
       "      <td>...</td>\n",
       "      <td>12.0</td>\n",
       "      <td>12.0</td>\n",
       "      <td>iOS</td>\n",
       "      <td>Yes</td>\n",
       "      <td>Yes</td>\n",
       "      <td>Yes</td>\n",
       "      <td>2</td>\n",
       "      <td>Yes</td>\n",
       "      <td>Yes</td>\n",
       "      <td>106900</td>\n",
       "    </tr>\n",
       "    <tr>\n",
       "      <th>3</th>\n",
       "      <td>3</td>\n",
       "      <td>iPhone 11</td>\n",
       "      <td>Apple</td>\n",
       "      <td>iPhone 11</td>\n",
       "      <td>3110</td>\n",
       "      <td>6.10</td>\n",
       "      <td>Yes</td>\n",
       "      <td>828</td>\n",
       "      <td>1792</td>\n",
       "      <td>6</td>\n",
       "      <td>...</td>\n",
       "      <td>12.0</td>\n",
       "      <td>12.0</td>\n",
       "      <td>iOS</td>\n",
       "      <td>Yes</td>\n",
       "      <td>Yes</td>\n",
       "      <td>Yes</td>\n",
       "      <td>2</td>\n",
       "      <td>Yes</td>\n",
       "      <td>Yes</td>\n",
       "      <td>62900</td>\n",
       "    </tr>\n",
       "    <tr>\n",
       "      <th>4</th>\n",
       "      <td>4</td>\n",
       "      <td>LG G8X ThinQ</td>\n",
       "      <td>LG</td>\n",
       "      <td>G8X ThinQ</td>\n",
       "      <td>4000</td>\n",
       "      <td>6.40</td>\n",
       "      <td>Yes</td>\n",
       "      <td>1080</td>\n",
       "      <td>2340</td>\n",
       "      <td>8</td>\n",
       "      <td>...</td>\n",
       "      <td>12.0</td>\n",
       "      <td>32.0</td>\n",
       "      <td>Android</td>\n",
       "      <td>Yes</td>\n",
       "      <td>Yes</td>\n",
       "      <td>Yes</td>\n",
       "      <td>1</td>\n",
       "      <td>No</td>\n",
       "      <td>No</td>\n",
       "      <td>49990</td>\n",
       "    </tr>\n",
       "  </tbody>\n",
       "</table>\n",
       "<p>5 rows × 22 columns</p>\n",
       "</div>"
      ],
      "text/plain": [
       "   Unnamed: 0                            Name    Brand  \\\n",
       "0           0  OnePlus 7T Pro McLaren Edition  OnePlus   \n",
       "1           1                   Realme X2 Pro   Realme   \n",
       "2           2               iPhone 11 Pro Max    Apple   \n",
       "3           3                       iPhone 11    Apple   \n",
       "4           4                    LG G8X ThinQ       LG   \n",
       "\n",
       "                    Model  Battery capacity (mAh)  Screen size (inches)  \\\n",
       "0  7T Pro McLaren Edition                    4085                  6.67   \n",
       "1                  X2 Pro                    4000                  6.50   \n",
       "2       iPhone 11 Pro Max                    3969                  6.50   \n",
       "3               iPhone 11                    3110                  6.10   \n",
       "4               G8X ThinQ                    4000                  6.40   \n",
       "\n",
       "  Touchscreen  Resolution x  Resolution y  Processor  ...  Rear camera  \\\n",
       "0         Yes          1440          3120          8  ...         48.0   \n",
       "1         Yes          1080          2400          8  ...         64.0   \n",
       "2         Yes          1242          2688          6  ...         12.0   \n",
       "3         Yes           828          1792          6  ...         12.0   \n",
       "4         Yes          1080          2340          8  ...         12.0   \n",
       "\n",
       "   Front camera  Operating system  Wi-Fi Bluetooth  GPS Number of SIMs   3G  \\\n",
       "0          16.0           Android    Yes       Yes  Yes              2  Yes   \n",
       "1          16.0           Android    Yes       Yes  Yes              2  Yes   \n",
       "2          12.0               iOS    Yes       Yes  Yes              2  Yes   \n",
       "3          12.0               iOS    Yes       Yes  Yes              2  Yes   \n",
       "4          32.0           Android    Yes       Yes  Yes              1   No   \n",
       "\n",
       "   4G/ LTE   Price  \n",
       "0      Yes   58998  \n",
       "1      Yes   27999  \n",
       "2      Yes  106900  \n",
       "3      Yes   62900  \n",
       "4       No   49990  \n",
       "\n",
       "[5 rows x 22 columns]"
      ]
     },
     "execution_count": 33,
     "metadata": {},
     "output_type": "execute_result"
    }
   ],
   "source": [
    "data.head()"
   ]
  },
  {
   "cell_type": "code",
   "execution_count": 34,
   "metadata": {},
   "outputs": [],
   "source": [
    "data = data.drop(['Unnamed: 0'], axis=1)\n",
    "data = data.convert_dtypes()"
   ]
  },
  {
   "cell_type": "code",
   "execution_count": 35,
   "metadata": {},
   "outputs": [
    {
     "data": {
      "application/vnd.plotly.v1+json": {
       "config": {
        "plotlyServerURL": "https://plot.ly"
       },
       "data": [
        {
         "alignmentgroup": "True",
         "hovertemplate": "<b>%{hovertext}</b><br><br>Price=%{x}<extra></extra>",
         "hovertext": [
          "7T Pro McLaren Edition",
          "X2 Pro",
          "iPhone 11 Pro Max",
          "iPhone 11",
          "G8X ThinQ",
          "7T",
          "7T Pro",
          "Galaxy Note 10+",
          "ROG Phone 2",
          "Redmi K20 Pro",
          "K3",
          "X",
          "Redmi K20",
          "7 Pro",
          "Reno 10x Zoom",
          "3 Pro",
          "P30 Pro",
          "Redmi Note 7 Pro",
          "Mate 20 Pro",
          "V40 ThinQ",
          "6T",
          "iPhone XR",
          "iPhone XS Max",
          "iPhone XS",
          "Pixel 3 XL",
          "Pixel 3",
          "ROG Phone",
          "Galaxy Note 9",
          "G7+ ThinQ",
          "ZenFone Max Pro M1",
          "P20 Pro",
          "6",
          "ZenFone 5Z (ZS620KL)",
          "Redmi Note 5 Pro",
          "7 Plus",
          "Galaxy S9+",
          "Galaxy S9",
          "U11+",
          "Galaxy Note 8",
          "iPhone 8",
          "iPhone 8 Plus",
          "iPhone X",
          "Moto Z2 Force",
          "U11",
          "8",
          "Galaxy S8+",
          "Galaxy S8",
          "G6",
          "3T",
          "Galaxy C9 Pro",
          "Pixel XL",
          "iPhone 7 Plus",
          "iPhone 7",
          "8",
          "3",
          "ZenFone 3 Deluxe (ZS570KL)",
          "Mi 5",
          "Galaxy S7 Edge",
          "Galaxy S7",
          "Moto X Force",
          "Google Nexus 6P",
          "iPhone 6s Plus",
          "reka Plus",
          "Galaxy A8",
          "Galaxy S6",
          "reka",
          "Redmi Note",
          "C3",
          "X2",
          "Galaxy S10 Lite",
          "5i",
          "Galaxy Note 10 Lite",
          "V17",
          "U20",
          "5s",
          "X2",
          "V17 Pro",
          "Red Magic 3S",
          "Galaxy M30s",
          "Z1x",
          "Reno 2Z",
          "XT",
          "Redmi Note 8 Pro",
          "7.2",
          "Galaxy A50s",
          "5 Pro",
          "5",
          "Z1 Pro",
          "Mi A3",
          "6Z",
          "Galaxy M40",
          "Redmi Note 7S",
          "One Vision",
          "Red Magic 3",
          "A9",
          "Pixel 3a XL",
          "Galaxy A70",
          "2",
          "7",
          "G8s ThinQ",
          "V15 Pro",
          "Redmi Note 7",
          "Redmi 7",
          "Galaxy M20",
          "Galaxy M30",
          "View 20",
          "ZenFone Max Pro M2",
          "Pixel 3a",
          "U1",
          "10 Lite",
          "8.1",
          "Galaxy A9 (2018)",
          "K1",
          "7.1",
          "2 Pro",
          "V9 Pro",
          "Galaxy A7 (2018)",
          "Redmi Note 6 Pro",
          "V11 Pro",
          "R17 Pro",
          "5.1 Plus",
          "8X",
          "F1",
          "6.1 Plus",
          "Nex",
          "Find X",
          "Play",
          "1",
          "Mi A2",
          "10",
          "F7",
          "X21",
          "8 Sirocco",
          "Hot S3",
          "6.1",
          "View 10",
          "Zero 5 Pro",
          "F5",
          "5T",
          "9i",
          "Mi MIX 2",
          "K8 Plus",
          "Mi A1",
          "Xperia XZ1",
          "V30+",
          "K8 Note",
          "Moto G5S",
          "Pixel 2 XL",
          "Pixel 2",
          "Moto X4",
          "Moto G5S Plus",
          "Redmi 5",
          "Redmi Note 5",
          "Phone",
          "Galaxy On Max",
          "Moto Z2 Play",
          "reka Black",
          "Mi Max 2",
          "Cool Play 6",
          "5",
          "ZenFone Zoom S",
          "8 Pro",
          "Dual 5",
          "F3 Plus",
          "Xperia XZ Premium",
          "Moto G5 Plus",
          "ZenFone 3S Max",
          "Galaxy C7 Pro",
          "U Play",
          "U Ultra",
          "ZenFone AR",
          "Redmi 4A",
          "Redmi 4",
          "Z11 mini S",
          "Z2 Plus",
          "V20",
          "K6 Power",
          "Xperia XZ",
          "Galaxy J7 Prime",
          "Moto Z Play",
          "Redmi Note 4",
          "Redmi 3S Prime",
          "Moto Z",
          "ZenFone 3 (ZE552KL)",
          "t.phone",
          "Moto G4 Plus",
          "Max",
          "Mi Max",
          "Zuk Z1",
          "Le 2",
          "Le Max 2",
          "P9",
          "iPhone SE",
          "G5",
          "F1",
          "Galaxy A5 (2016)",
          "Redmi Note 3",
          "One A9",
          "Priv",
          "Google Nexus 5X",
          "iPhone 6s",
          "Vibe P1",
          "Vibe S1",
          "Galaxy S6 Edge+",
          "Galaxy Note 5",
          "Moto X Play",
          "Moto G (Gen 3)",
          "7",
          "ZenFone Selfie",
          "G4",
          "Mi 4i",
          "K3 Note",
          "Moto Turbo",
          "Elife S7",
          "Vibe Shot",
          "Galaxy S6 Edge",
          "6 Plus",
          "Desire 820s",
          "One (M8 Eye)",
          "Google Nexus 6",
          "Desire Eye",
          "Passport",
          "iPhone 6 Plus",
          "iPhone 6",
          "Moto X (Gen 2)",
          "Moto G (Gen 2)",
          "Xperia Z3 Compact",
          "Galaxy Note 4",
          "Galaxy Note Edge",
          "Mi 4",
          "Vibe Z2 Pro",
          "One",
          "Galaxy S5",
          "Xperia Z2",
          "Xperia Z1 Compact",
          "Elife E7",
          "Galaxy Grand 2",
          "Moto G",
          "Google Nexus 5",
          "Lumia 1520",
          "iPhone 5c",
          "Mi 3",
          "Galaxy Note 3",
          "Xperia Z1",
          "G2",
          "Moto X",
          "Xperia Z",
          "Galaxy S III",
          "Galaxy S4",
          "Lumia 920",
          "F15",
          "S1 Pro",
          "Moto G8 Plus",
          "One Macro",
          "U10",
          "Redmi 8A",
          "A9 2020",
          "Galaxy M10s",
          "Hot 8",
          "Redmi Note 8",
          "Redmi 8",
          "3i",
          "Hot 7",
          "9X",
          "One Action",
          "W30",
          "Hot 7 Pro",
          "Redmi 7A",
          "S4",
          "Y17",
          "Smart 3 Plus",
          "A1k",
          "A5s",
          "Redmi Y3",
          "C2",
          "20i",
          "S1",
          "3",
          "V15",
          "Redmi Go",
          "M16th",
          "ZenFone Max M2",
          "Note 5 Stylus",
          "Hot S3X",
          "ZenFone Lite L1 (ZA551KL)",
          "ZenFone Max M1 (ZB556KL)",
          "K9",
          "3.1 Plus",
          "8C",
          "Eluga X1 Pro",
          "C1",
          "KEY2 LE",
          "2",
          "Note 5",
          "F9 Pro",
          "F9",
          "9N",
          "Nova 3i",
          "Nova 3",
          "Redmi 6 Pro",
          "Redmi 6A",
          "Redmi Y2",
          "Camon iClick",
          "Redmi 6",
          "Galaxy J8",
          "Galaxy J6",
          "Galaxy A6+",
          "Moto E5 Plus",
          "Red Magic",
          "Vision 3 Pro",
          "S42",
          "P20 Lite",
          "V9",
          "Moto G6 Play",
          "7C",
          "Moto G6",
          "t.phone P",
          "A83",
          "9 Lite",
          "D",
          "Vision 3",
          "Galaxy A8+ (2018)",
          "S11 Lite",
          "V7",
          "Redmi Y1",
          "Redmi 5A",
          "7X",
          "Holly 4",
          "M7 Power",
          "V7+",
          "ZenFone 4 Selfie Pro",
          "Q6",
          "F3",
          "srt.phone",
          "V5s",
          "Evok Power",
          "Z25",
          "M2",
          "S60",
          "Note 5 Lite",
          "A1",
          "Xperia XA1 Ultra",
          "Xperia XZs",
          "A1 Plus",
          "Moto G5",
          "8 Lite",
          "V5 Plus",
          "6",
          "Galaxy A7 (2017)",
          "Galaxy A5 (2017)",
          "Note 3S",
          "A57",
          "V5",
          "ZenFone 3 Max (ZC553KL)",
          "F1",
          "Epic 1",
          "6X",
          "Aqua S7",
          "P2",
          "K6 Note",
          "S6s",
          "Cool 1 Dual",
          "F1s",
          "DTEK50",
          "ZenFone 3 Laser",
          "Phab 2 Plus",
          "nicorn",
          "Note 3 Plus",
          "Le 1s Eco",
          "V3Max",
          "F1 Plus",
          "Bingo 50",
          "Vibe K5",
          "Vibe K5 Plus",
          "Era 4K",
          "X screen",
          "Note 3 Lite",
          "Vibe K4 Note",
          "Marathon M5 Plus",
          "Aqua GenX",
          "topia",
          "M680",
          "Marathon M5 Lite",
          "S6",
          "Moto G Turbo Edition",
          "Canvas 5",
          "5X",
          "Note 3",
          "One E9s Dual SIM",
          "nique",
          "Xperia Z5 Dual",
          "Liquid Z630s",
          "Redmi 2 Prime",
          "ZenFone Max",
          "ZenFone 2 Deluxe",
          "Marathon M4",
          "ZenFone 2 Laser (ZE550KL)",
          "Moto X Style",
          "M812",
          "Black",
          "Passion 660",
          "Dazen X7",
          "phoria",
          "4C",
          "A6000 Plus",
          "A7000",
          "Moto E (Gen 2)",
          "Desire 526G+ Dual SIM",
          "A6000",
          "ZenFone Zoom",
          "Redmi 2",
          "Iris Fuel 60",
          "Y15",
          "Canvas Selfie",
          "4X",
          "Q2100",
          "Canvas 4 Plus",
          "Canvas A1",
          "Sparkle V",
          "Dream Uno",
          "Canvas Nitro",
          "Lumia 830",
          "Desire 820",
          "Galaxy Alpha",
          "8X-1000",
          "Stellar 520",
          "Redmi 1S",
          "6",
          "N1 Mini",
          "Q1200",
          "P81",
          "Moto E",
          "R1",
          "Q1010i",
          "Canvas Knight",
          "Desire 816",
          "X Dual SIM",
          "S660",
          "Elife S5.5",
          "G Pro 2",
          "Q1100",
          "Galaxy Note 3 Neo",
          "ZenFone 6",
          "Asha 502",
          "Lumia 1020",
          "Pinnacle FHD",
          "Elife E6",
          "Canvas 4",
          "Iris 504q",
          "Q5",
          "Q10",
          "P780",
          "Xperia U",
          "Xperia SP",
          "Galaxy Y Pro Duos",
          "Galaxy Mega 5.8",
          "Lumia 620",
          "Lumia 820",
          "Optimus G",
          "One S",
          "Z10",
          "S5 Lite",
          "S5",
          "Moto E6s",
          "Camon i4",
          "4.2",
          "3.2",
          "Galaxy M10",
          "Infinity N12",
          "Note 8",
          "Galaxy J6+",
          "Galaxy J4+",
          "Galaxy J2 Core",
          "D2",
          "Mega 5A",
          "Smart 2",
          "Hot 6 Pro",
          "i2 Lite",
          "7S",
          "Note 6",
          "Eluga Ray 550",
          "1",
          "Camon i",
          "i1",
          "Galaxy On7 Prime",
          "Aqua Lions X1+",
          "Gladiator",
          "Turbo 5 Plus",
          "M3",
          "Canvas Infinity",
          "C451",
          "Eluga A3 Pro",
          "K9 Kavach 4G",
          "Astra Titan 4G",
          "Turbo 5",
          "Aura Note 2",
          "Speed X",
          "Elyt e7",
          "Canvas 2 (2017)",
          "i7",
          "Z10",
          "Y66",
          "Flash X Plus",
          "Y55s",
          "3",
          "Aqua Supreme+",
          "Blade A2 Plus",
          "Eluga Prim",
          "Mega 3",
          "Mega 2.5D",
          "S6 Pro",
          "Eluga Arc",
          "V3",
          "Canvas Spark 3",
          "Bingo 21",
          "Holly 2 Plus",
          "Quattro L50 HD",
          "Earth 1",
          "i4G1",
          "One X9",
          "Aqua Ace",
          "Pixel V2",
          "F103",
          "Canvas Nitro 4G",
          "V1Max",
          "Canvas Selfie 2",
          "Eluga Icon",
          "Titanium Mach Five",
          "M370",
          "Canvas Xpress 2",
          "Pixel V1",
          "Canvas Doodle 4",
          "Xperia Z3+",
          "G4 Stylus",
          "Cloud N",
          "Unite 3",
          "Canvas Spark",
          "Lumia 540 Dual SIM",
          "One M9+",
          "Aqua Speed HD",
          "Titanium Mach Two S360",
          "Leap",
          "ZenFone C (ZC451CG)",
          "Iris X8",
          "Pioneer P6",
          "Machone Titanium S310",
          "Canvas Hue",
          "Classic",
          "Aqua Power",
          "Marathon M3",
          "Holly",
          "Elife S5.1",
          "Desire 816G",
          "Vibe X2",
          "V5",
          "Play 8X-1100",
          "G3 Stylus",
          "Andi 5K Panther",
          "Desire 616 Dual SIM",
          "G3 Beat",
          "Win Q900s",
          "Xperia T3",
          "Unite 2",
          "Iris X1",
          "Z3",
          "Iris Pro 20",
          "L90 Dual",
          "Titanium Octane Plus",
          "S860",
          "Canvas Turbo Mini",
          "Aqua Octa",
          "Q3000",
          "Pioneer P3",
          "Lumia 525",
          "Q2000",
          "Canvas Turbo",
          "Lumia 1320",
          "G Pro Lite",
          "Z30",
          "Desire 500",
          "Lumia 625",
          "Play T1000",
          "Elife E3",
          "Galaxy S4 Zoom",
          "Desire 600",
          "Galaxy Pocket",
          "Galaxy Grand Duos",
          "Asha 501",
          "Lumia 610",
          "Lumia 520",
          "Optimus L3 II Dual",
          "Curve 9220",
          "Cool 5",
          "Innelo 1",
          "XQ Dual",
          "X1 Note",
          "Aqua Lions N1",
          "A40 Indian",
          "Metal Pro 2",
          "Me 1+",
          "Me 1",
          "ZenFone Live",
          "Aqua Crystal",
          "Pixi 4 (5)",
          "Allure",
          "Quattro L52",
          "Bingo 10",
          "Desire 626 Dual SIM",
          "Aqua Trend",
          "Desire 310",
          "Q1000 Opus",
          "9720",
          "Cinemax 3",
          "Galaxy S20+",
          "Galaxy S20 Ultra",
          "Redmi 8A Dual",
          "Z53",
          "Galaxy Z Flip",
          "Galaxy S20",
          "Z71",
          "2.3",
          "Spark Power",
          "Y19",
          "Z41",
          "Camon 12 Air",
          "iOne Note",
          "Pixel 4 XL",
          "Pixel 4",
          "K10 Plus",
          "Galaxy A70s",
          "iPhone 11 Pro",
          "Galaxy A20s",
          "Reno 2F",
          "Galaxy A30s",
          "Z93",
          "Wildfire X",
          "Galaxy A10s",
          "Mate 30 Pro",
          "Galaxy Note 10",
          "Phantom 9",
          "W30 Pro",
          "Y12",
          "A46",
          "Y9 Prime 2019",
          "Galaxy A80",
          "Reno",
          "Galaxy A2 Core",
          "Galaxy A20",
          "Y91i",
          "Eluga Ray 800",
          "Z40",
          "Galaxy Fold",
          "F205 Pro",
          "Camon iAce 2X",
          "Camon iAce 2",
          "Cool 3",
          "Y91",
          "A44 Air",
          "R15 Pro",
          "G2",
          "Era 4X",
          "Infinity N11",
          "TA-3",
          "TA-2",
          "M6T",
          "C9",
          "Moto G7 Power",
          "Moto G7",
          "A44 Power",
          "Y95",
          "Z81",
          "Y93",
          "Bharat 5 Infinity Edition",
          "Spark Go",
          "Eluga Z1 Pro",
          "Eluga Z1",
          "Eluga Ray 530",
          "Phone 2",
          "Z1",
          "Eluga X1",
          "Staari 11",
          "iPro",
          "V11",
          "One",
          "U12 Life",
          "Ace",
          "H5",
          "H3",
          "H1",
          "Z60s",
          "A22 Pro",
          "A45",
          "Galaxy A8 Star",
          "Y83 Pro",
          "Camon iSky 2",
          "Camon iACE",
          "R17",
          "16",
          "Evolve",
          "Galaxy On8 (2018)",
          "Camon iTwin",
          "Y71i",
          "5V",
          "Infie 33",
          "Infie 3",
          "A3s",
          "A5",
          "Z10",
          "Galaxy On6",
          "1",
          "Y81",
          "P90",
          "Dazen 6A",
          "C1 Pro",
          "V5",
          "Q Stylus+",
          "Q Stylus",
          "A5",
          "3.1",
          "Jazz",
          "Y83",
          "KEY2",
          "CQ",
          "Bharat Go",
          "i2",
          "Q7+",
          "Q7",
          "U12+",
          "X6",
          "Impulse",
          "Galaxy J4",
          "Frames S9",
          "Staari 10",
          "P95",
          "G7 ThinQ",
          "Galaxy A6",
          "Galaxy J2 (2018)",
          "Y53i",
          "V9 Youth",
          "Moto E5",
          "Y71",
          "A1",
          "Galaxy J7 Duo",
          "7A",
          "Z91",
          "A83 (2018)",
          "K9",
          "Galaxy J7 Prime 2",
          "Aqua Lions E3",
          "A44 Pro",
          "A44",
          "Moto G6 Plus",
          "Z50",
          "Xperia XZ2",
          "8110 4G",
          "3V",
          "3X",
          "S61",
          "Titanium Jumbo 2",
          "UniQ",
          "C2 Lite",
          "S1 Lite",
          "Duopix F9",
          "Aqua Lions T1 Lite",
          "P100",
          "A2",
          "A71 (2018)",
          "Y53",
          "Astra Star",
          "U11 EYEs",
          "Titanium Frames S7",
          "i1s",
          "Xperia L2",
          "Xperia XA2 Ultra",
          "Bharat 5 Plus",
          "S10 Lite",
          "Duopix R1",
          "Star 4G+",
          "K9 Music 4G",
          "A20",
          "Revolution TnT3",
          "Eluga I9",
          "Elyt E6",
          "Bharat 2 Plus",
          "Canvas Infinity Pro",
          "Ambition",
          "Bharat 5",
          "Elyt Dual",
          "F205",
          "P91",
          "Zero 5",
          "Aqua Jewel 2",
          "Aqua Lions T1",
          "K9 Smart Eco",
          "K9 Smart Yuva",
          "A1 Indian",
          "Capture+",
          "Admire Unity",
          "Eluga I5",
          "S21",
          "Eluga A4",
          "Redmi Y1 Lite",
          "Holly 4 Plus",
          "K9 Smart Selfie",
          "Smart 4G",
          "Xperia R1 Plus",
          "Xperia R1",
          "Titanium Jumbo",
          "Bharat-2 Ultra",
          "2",
          "W15",
          "Era 3",
          "Era 2V",
          "Era 3X",
          "Galaxy J2 (2017)",
          "Elite Pro",
          "Motion",
          "Z90",
          "Z80",
          "Z70",
          "C2",
          "K7i",
          "Astra Curve 4G",
          "Eluga I4",
          "G",
          "K9 Smart Grand",
          "Aqua Lions 2",
          "S41",
          "Aqua S1",
          "Cloud C1",
          "X1s",
          "Bharat 4",
          "Bharat 3",
          "Eluga Ray 700",
          "Eluga Ray 500",
          "reka 2",
          "Aqua 5.5 VR+",
          "Snap 4",
          "E",
          "K8",
          "P9",
          "A71",
          "Me 3s",
          "Me 3",
          "A7",
          "S31",
          "S41",
          "Xperia XA1 Plus",
          "Aqua Note 5.5",
          "Grand 3000",
          "Prime 390",
          "Prime 300",
          "Energy E12",
          "Energy E3",
          "Aqua Style III",
          "Y69",
          "Me 2",
          "Neo Power",
          "M6 Note",
          "Q500",
          "Q626",
          "U5 HD",
          "TEZ4G",
          "X1",
          "C1",
          "S1",
          "P1",
          "Evok Dual Note",
          "ZenFone 4",
          "Elite 4G",
          "Eluga I2 Activ",
          "ZenFone 4 Selfie DC (ZD553KL)",
          "PowerPro P41",
          "Eluga A3",
          "A1 Lite",
          "A41 Power",
          "Konnect Power",
          "Beyond",
          "Note 5 Lite C",
          "Aura Note Play",
          "Hot 4 Pro",
          "Note 4",
          "Selfie 2",
          "Pro 7",
          "nique 2",
          "C459",
          "Galaxy J7 Nxt",
          "Aqua Lions 3",
          "Me5",
          "Me4",
          "Aqua Zenith",
          "Canvas 1",
          "Aqua Selfie",
          "ZenFone 4 Selfie",
          "Era 1X Pro",
          "Q6+",
          "Aqua S3",
          "M2 Play",
          "Galaxy J7 Max",
          "Galaxy J7 Pro",
          "Water 7S",
          "Eluga I3 Mega",
          "Astra VIVA 4G",
          "A77",
          "Aura Power 4G Plus",
          "Wish A21",
          "Wish A41+",
          "Moto C Plus",
          "Z4",
          "P85",
          "Eluga Ray",
          "Aura 4G",
          "Aqua Crystal Plus",
          "ZenFone Go 5.5 (ZB552KL)",
          "Astra Colors 4G",
          "Admire Joy",
          "Aqua A4",
          "Color M5",
          "Krypton 22",
          "Admire Metal",
          "Moto E4 Plus",
          "Astra Force 4G",
          "Color M4",
          "Bee 2",
          "i5 Pro",
          "i3 Pro",
          "i5",
          "i3",
          "Delite 11+",
          "Moto C",
          "Moto E4",
          "Evok Note",
          "Color X 5.5",
          "W7",
          "QUIQ Flash 4G",
          "ELYT-e1",
          "Horizon 1",
          "Bharat 2",
          "Konnect Neo 4G",
          "Wish A41",
          "Eluga Ray X",
          "Eluga Ray Max",
          "Aqua 4G Mini",
          "Spark Vdeo",
          "Admire Swadesh",
          "N2",
          "M2 Lite",
          "Aura Sleek 4G",
          "Aqua Trend Lite",
          "Vibe B",
          "Le Pro 3 Elite",
          "iV505",
          "Elite Sense",
          "Aqua Strong 5.1+",
          "N1 lite",
          "Blade V8 Mini",
          "A5 LED",
          "Xperia XA1",
          "Elite 3",
          "5",
          "Konnect Star",
          "ZenFone Go 5.0 LTE (ZB500KL)",
          "Aqua Lions 4G",
          "Aqua 4.0",
          "Aqua Amaze+",
          "Elite Power",
          "X41+",
          "Cloud Style 4G",
          "Vdeo 3",
          "Vdeo 4",
          "Galaxy J2 Ace",
          "Konnect Grand",
          "Era 2X",
          "Water 3",
          "F1S",
          "K9 Viraat 4G",
          "Wind 7S",
          "Stylus 3",
          "K8 (2017)",
          "Edge",
          "Cinemax Click",
          "A76+",
          "Elite Max",
          "P88",
          "Elite Star",
          "P7",
          "Vdeo 2",
          "Vdeo 1",
          "M5 Note",
          "Water 9",
          "X50+",
          "Pro 6 Plus",
          "Eluga Mark 2",
          "10 evo",
          "Wind 7i",
          "P71",
          "Color F2",
          "Moto M",
          "F8",
          "Mate 9",
          "Aqua Power M",
          "Cinemax 2+",
          "Elite 2 Plus",
          "Galaxy On Nxt",
          "Era 2",
          "Color F5",
          "Cloud S9",
          "Aqua Q8",
          "Aqua Craze II",
          "Aqua 5.5 VR",
          "Aqua S2",
          "8 Smart",
          "Holly 3",
          "DTEK60",
          "Mi Max Prime",
          "Wind 4S",
          "Flame 7s",
          "Cinemax Force",
          "Aqua Strong 5.2",
          "Y55L",
          "Pixel",
          "Titanium 3-D Plex",
          "Aqua Pro 4G",
          "P7 Max",
          "Note 5",
          "A97",
          "Galaxy On8",
          "Canvas 5 Lite",
          "P77",
          "A56",
          "X28",
          "Bolt Q326+",
          "Desire 10 Lifestyle",
          "Galaxy J5 Prime",
          "Cube 3",
          "Color F1",
          "A7700",
          "A6600 Plus",
          "A6600",
          "Admire Star",
          "Galaxy Folder 2",
          "Era 1X",
          "Aqua Costa",
          "Aqua Q7N Pro",
          "Water 10",
          "Y21L",
          "Cloud Tread",
          "Bingo 50+",
          "Z2",
          "reka S",
          "nique Plus",
          "Millennia Ufeel",
          "Aqua Eco 4G",
          "Aqua Viturbo",
          "Wind 7",
          "Flame 7",
          "Aqua Music",
          "ZenFone Go (ZB450KL)",
          "Flame 8",
          "Wind 3",
          "Unite 4 Plus",
          "Konnect Plus",
          "X38",
          "Wind 2",
          "Aqua Strong 5.1",
          "Vibe K5 Note",
          "Eluga Arc 2",
          "T44 Lite",
          "Cloud String v2.0",
          "Water 8",
          "Fashion Eye",
          "Galaxy J2 Pro",
          "M535+",
          "Aqua Ring",
          "A32",
          "A68",
          "Aqua Q7N",
          "Aqua Pride",
          "X17",
          "Water 4",
          "ZenFone 3 Max (ZC520TL)",
          "Aura Power",
          "Galaxy On7 Pro",
          "Galaxy On5 Pro",
          "Galaxy J2 (2016)",
          "Aqua Power 4G",
          "N1",
          "Eluga Note",
          "560",
          "A91 Storm",
          "X7",
          "Andi 5G Blink 4G",
          "Z11",
          "Earth 2",
          "Aqua Classic",
          "Canvas Fire 5",
          "A37",
          "Aqua Sense 5.1",
          "P75",
          "Redmi 3S",
          "Aqua View",
          "Water 7",
          "Wind 1",
          "T44",
          "T30",
          "Phab 2",
          "Phab 2 Pro",
          "X81",
          "Wind 5",
          "X46",
          "Cloud Glory 4G",
          "Galaxy J3 Pro",
          "Flame 6",
          "Elite Plus",
          "A82",
          "Aqua Shine 4G",
          "Stylus 2 Plus",
          "X Power",
          "Flame 4",
          "Admire SXY",
          "A59",
          "A48",
          "Eluga A2",
          "A79",
          "Canvas Selfie 4",
          "Bolt Selfie",
          "Cloud String HD",
          "Aqua Secure",
          "Moto G4 Play",
          "Xperia XA Ultra",
          "Vibe C",
          "Desire 628 Dual SIM",
          "Wind 4",
          "Flame 2",
          "A67",
          "Canvas XP 4G",
          "Cloud Fame",
          "Aqua Joy",
          "Desire 830",
          "Canvas Mega 2",
          "Andi 5N Dude",
          "5C",
          "Eluga I3",
          "Elite Note",
          "ZenFone Go 4.5 (ZB452KG)",
          "Aqua 4.5 Pro",
          "Blade A910",
          "Blade V7 Max",
          "Le 2 Pro",
          "Z11 mini",
          "Pioneer P5W",
          "reka Note",
          "Krypton V50DA",
          "10 Lifestyle",
          "m3 note",
          "Opulent",
          "Zenfone Go 5.0 LTE",
          "Pioneer P5 mini",
          "Galaxy A9 Pro",
          "Cloud Gem+",
          "Galaxy J7 (2016)",
          "Galaxy J5 (2016)",
          "Y31L",
          "Cogent",
          "V2s",
          "Krypton V50FG",
          "A52",
          "Cloud Force",
          "Aqua 4G Strong",
          "Flair S1",
          "Bingo 20 (M425)",
          "T50",
          "Aqua Twist",
          "8",
          "7 Plus",
          "Cloud Breeze",
          "Wind 6",
          "Life Mark",
          "Speed 8",
          "Era X",
          "Aqua Fish",
          "Blade V7 Lite",
          "Xperia X",
          "Xperia XA",
          "Desire 825",
          "Desire 630",
          "Elite x3",
          "Idol 4",
          "Aqua Ace Mini",
          "Konnect 5.1",
          "Stylus 2",
          "Cloud Crystal 2.5D",
          "Aqua Freedom",
          "Lumia 650",
          "X cam",
          "Aqua Craze",
          "Aqua Lite",
          "X11",
          "A88",
          "Vibe P1 Turbo",
          "A71",
          "Aqua Wing",
          "Aqua Raze",
          "P66 Mega",
          "Flame 1",
          "X3",
          "Hero 1",
          "Cobalt 5.5F Youva",
          "Canvas Juice 4",
          "Y51L",
          "V5",
          "Water 2",
          "Water 1",
          "K5 Note",
          "Eluga Turbo",
          "Virtue",
          "P7",
          "Aqua Air II",
          "Iris Atom",
          "Cloud 4G Smart",
          "Cloud 3G Gem",
          "Cloud 3G Candy",
          "A7000 Turbo",
          "K9 Smart",
          "Pixi 4 (6)",
          "K7",
          "K10",
          "Cloud Champ",
          "Iris Atom 3",
          "Aqua Q7 Pro",
          "Titanium Moghul",
          "One HD",
          "Cinemax 2",
          "Z55 Krypton",
          "Aqua Star 4G",
          "Cloud Cube",
          "10",
          "Canvas Pulse 4G",
          "ZenPad C 7.0 (Z170MG)",
          "Redmi Note Prime",
          "Andi 5.5H Weber",
          "Canvas Mega 4G",
          "Canvas Fire 4G+",
          "P5W",
          "Blade A1",
          "Eluga Mark",
          "Galaxy A7 (2016)",
          "Z55 Delite",
          "Infinium Z45 Amaze",
          "Canvas Pace 4G",
          "X10",
          "Cloud Zest",
          "Iris Atom 2X",
          "Galaxy J3 (6)",
          "Aqua Air",
          "Canvas Xpress 4G",
          "Canvas Blaze 4G+",
          "Aqua Super",
          "Aqua Wave",
          "Aqua Q7",
          "Andi Sprinter 4G",
          "S Plus",
          "M535",
          "Desire 828 Dual SIM",
          "Desire 728G Dual SIM",
          "Aqua Young",
          "Aqua Play",
          "Black 1X",
          "M260",
          "Alfa A91 Power",
          "Neo 7",
          "Galaxy On7",
          "Bolt Q332",
          "Galaxy On5",
          "A1000",
          "A6000 Shot",
          "Iris Fuel F1",
          "Aqua Life III",
          "Cloud Swift",
          "Speed 7 Plus",
          "Bolt S302",
          "Bolt Q331",
          "Z3",
          "P65 Flash",
          "P50 Idol",
          "Axon Mini",
          "Andi 4.5C Magnifico",
          "Lumia 550",
          "Lumia 950",
          "Lumia 950 XL",
          "Bolt Q339",
          "V10",
          "Infinium Z51 Punch",
          "Infinium Z51Q Star",
          "Y15S",
          "Galaxy J1 Ace",
          "Y27L",
          "Canvas Play 4G",
          "Iris Fuel F1 Mini",
          "Canvas Blaze 4G",
          "Pioneer P3S",
          "Bolt Q338",
          "Aqua Power II",
          "Canvas Juice 3+",
          "Aqua Glam",
          "Cobalt Solus 4G",
          "Canvas Juice 3",
          "Desire 728 Dual SIM",
          "Vibe P1m",
          "Xperia Z5 Premium Dual",
          "Liquid Z530",
          "Canvas Fire 4G",
          "Cloud V",
          "Andi 4.5 O'Buddy",
          "Z55 Dash",
          "Aqua Turbo 4G",
          "Speed 7",
          "Eluga Switch",
          "Aqua 3G Neo",
          "A2010",
          "Flair P1i",
          "T45 4G",
          "Eluga I2",
          "Eluga L2",
          "Iris Atom 2",
          "Andi 5U Platino",
          "Aqua Sense 5.0",
          "Xenium S309",
          "Cloud Pace",
          "Win HD LTE",
          "Aqua Q1+",
          "Aqua Dream II",
          "ZenFone 2 Laser (ZE601KL)",
          "Cloud 4G Star",
          "Iris X5 4G",
          "ZenFone 2 Laser (ZE500KL)",
          "Xperia M5",
          "Xperia C5 Ultra",
          "Iris X1 Selfie",
          "M808",
          "Love T10",
          "Andi HD6",
          "Flair Z1",
          "Aqua Y2 Power",
          "Max",
          "Titanium Mach One Plus",
          "T33",
          "Andi 3.5V Genius2",
          "XLife 406",
          "Bolt D303",
          "V1",
          "Eluga Z",
          "Era",
          "Aqua Y2 Ultra",
          "Aqua A2",
          "Infinium Z51 Nova+",
          "Aqua Y4",
          "Andi4 B20",
          "Andi Avonte 5"
         ],
         "legendgroup": "",
         "marker": {
          "color": "#636efa"
         },
         "name": "",
         "notched": false,
         "offsetgroup": "",
         "orientation": "h",
         "showlegend": false,
         "type": "box",
         "x": [
          58998,
          27999,
          106900,
          62900,
          49990,
          34930,
          52990,
          79699,
          37999,
          23190,
          23990,
          14999,
          19282,
          39995,
          36990,
          13999,
          54280,
          9799,
          63990,
          29999,
          31999,
          45499,
          69999,
          59999,
          47990,
          37999,
          69999,
          56999,
          37999,
          9990,
          49990,
          34999,
          18999,
          9349,
          12000,
          29999,
          26999,
          52990,
          49999,
          36999,
          47000,
          69999,
          20999,
          53990,
          14994,
          30000,
          26994,
          23990,
          19999,
          16999,
          30990,
          34999,
          27999,
          20246,
          22999,
          44999,
          24999,
          39996,
          23999,
          6994,
          42998,
          25990,
          5995,
          7299,
          25999,
          3999,
          7999,
          6999,
          15999,
          39999,
          8999,
          38999,
          21150,
          10990,
          9999,
          16999,
          26220,
          47999,
          12999,
          15990,
          23100,
          14999,
          13999,
          15377,
          16650,
          11999,
          8600,
          12990,
          11845,
          27999,
          16879,
          8649,
          13690,
          35999,
          11990,
          34999,
          22299,
          29999,
          29999,
          39990,
          17973,
          9699,
          7332,
          9999,
          9499,
          25120,
          11999,
          30999,
          8999,
          7999,
          18000,
          22000,
          9990,
          11900,
          11770,
          16490,
          16490,
          9580,
          14990,
          21299,
          6999,
          9999,
          14990,
          8999,
          29999,
          59090,
          18011,
          10299,
          8990,
          16990,
          18990,
          18290,
          13999,
          9999,
          8849,
          15899,
          15900,
          10499,
          28499,
          8999,
          29999,
          6990,
          9999,
          34990,
          27999,
          7299,
          9999,
          12994,
          9994,
          12500,
          8500,
          6499,
          8699,
          1249,
          9890,
          10499,
          5990,
          8999,
          8999,
          17499,
          26999,
          17586,
          13999,
          13990,
          33500,
          10900,
          14999,
          16999,
          15500,
          54665,
          49999,
          6999,
          8999,
          16999,
          11499,
          26999,
          8500,
          11999,
          15995,
          8990,
          9990,
          8000,
          11999,
          14999,
          5490,
          5999,
          8499,
          11990,
          7499,
          6999,
          7790,
          39999,
          16999,
          10999,
          8999,
          19990,
          6899,
          30149,
          19999,
          25990,
          22999,
          15999,
          10990,
          17999,
          14999,
          7990,
          10999,
          15999,
          14999,
          13299,
          12999,
          9999,
          31999,
          15999,
          9799,
          25999,
          26499,
          25500,
          28500,
          13490,
          10990,
          15999,
          23999,
          15999,
          23999,
          13500,
          38990,
          27900,
          29950,
          7987,
          29999,
          21999,
          33999,
          35990,
          11999,
          3699,
          15999,
          9999,
          12000,
          34990,
          8499,
          13999,
          50650,
          56699,
          22499,
          15000,
          32490,
          5999,
          57915,
          8999,
          18690,
          18599,
          12999,
          8999,
          8990,
          6499,
          14730,
          8499,
          8000,
          9195,
          7999,
          6999,
          9990,
          13999,
          9999,
          8499,
          10999,
          5499,
          7999,
          11490,
          6999,
          6670,
          7935,
          7999,
          5999,
          10999,
          14979,
          8490,
          14990,
          4499,
          19990,
          7499,
          15999,
          10999,
          4999,
          5999,
          5899,
          6850,
          7999,
          29999,
          7990,
          22990,
          8890,
          5850,
          17990,
          11994,
          7499,
          21999,
          15999,
          8290,
          5699,
          7999,
          7420,
          7180,
          15499,
          9490,
          15999,
          9399,
          24860,
          7990,
          8480,
          12800,
          13740,
          8049,
          7799,
          10499,
          10500,
          6799,
          8929,
          4999,
          6850,
          16900,
          6319,
          13990,
          8490,
          7199,
          12722,
          8499,
          8890,
          10990,
          25999,
          8948,
          11990,
          5999,
          12990,
          5499,
          12000,
          12990,
          39999,
          4290,
          9999,
          5994,
          29990,
          994,
          5450,
          14933,
          12500,
          7250,
          25900,
          18999,
          8990,
          12000,
          16541,
          8599,
          6499,
          10999,
          13999,
          5499,
          16999,
          8890,
          12000,
          12639,
          15990,
          11999,
          5499,
          9999,
          4999,
          6249,
          7990,
          17979,
          17990,
          9990,
          5999,
          7999,
          4999,
          7990,
          4999,
          8990,
          23900,
          9630,
          29999,
          4990,
          7499,
          15998,
          16999,
          6800,
          7400,
          9499,
          6999,
          4695,
          45999,
          7190,
          6999,
          4999,
          16999,
          4400,
          12999,
          20999,
          7916,
          11936,
          3238,
          4999,
          8999,
          8999,
          6399,
          6666,
          4999,
          9000,
          5000,
          15999,
          5399,
          4299,
          6539,
          13895,
          9999,
          6998,
          5490,
          4795,
          2899,
          7490,
          4999,
          19999,
          25999,
          9999,
          5499,
          4999,
          5999,
          14999,
          9990,
          13667,
          11900,
          4999,
          11735,
          13606,
          5999,
          27390,
          7999,
          6700,
          10999,
          42021,
          13677,
          11250,
          8891,
          3499,
          10990,
          5999,
          21450,
          5199,
          9499,
          10800,
          9899,
          15410,
          4990,
          21490,
          5555,
          6999,
          4999,
          19660,
          9999,
          17172,
          5500,
          8999,
          8999,
          6999,
          6933,
          7999,
          6690,
          6999,
          6299,
          7433,
          11999,
          9499,
          6190,
          4999,
          3900,
          3999,
          8999,
          4999,
          5999,
          6999,
          5709,
          4672,
          5930,
          4240,
          10990,
          4199,
          6899,
          5350,
          4229,
          4991,
          3499,
          9000,
          3399,
          3499,
          7099,
          6200,
          7399,
          3999,
          4399,
          8966,
          8920,
          10999,
          6990,
          10990,
          6900,
          8200,
          12499,
          8440,
          4590,
          5990,
          7999,
          4899,
          14980,
          3968,
          3740,
          8556,
          3999,
          12999,
          5385,
          14770,
          6999,
          13300,
          10200,
          4799,
          13000,
          6999,
          4500,
          2999,
          7999,
          6199,
          3999,
          9500,
          34915,
          5999,
          3500,
          3999,
          5999,
          7000,
          11000,
          7500,
          7800,
          7200,
          5499,
          8500,
          4150,
          7000,
          5599,
          13899,
          4500,
          3490,
          5999,
          5499,
          21990,
          17499,
          3399,
          5888,
          10490,
          3199,
          7999,
          5999,
          4495,
          18490,
          8999,
          3632,
          19000,
          5040,
          3299,
          12494,
          18748,
          6495,
          16818,
          18138,
          7494,
          7500,
          14534,
          17490,
          9960,
          5899,
          8300,
          19000,
          4999,
          14153,
          6499,
          15990,
          22500,
          3190,
          8999,
          4999,
          4990,
          3850,
          1999,
          6999,
          6999,
          4499,
          5199,
          6300,
          2590,
          3250,
          3999,
          3499,
          4999,
          4599,
          6000,
          2999,
          2699,
          8649,
          3199,
          5499,
          4444,
          2699,
          9499,
          7500,
          3299,
          73999,
          92999,
          6499,
          4829,
          174990,
          66999,
          6299,
          7149,
          8499,
          13990,
          3899,
          9960,
          6694,
          83900,
          69500,
          10999,
          25999,
          96900,
          10999,
          20900,
          13980,
          8099,
          7999,
          8499,
          77299,
          69999,
          12999,
          12480,
          9550,
          4450,
          14450,
          35990,
          26990,
          5290,
          9900,
          6799,
          6488,
          3499,
          164999,
          4488,
          5899,
          5199,
          4649,
          8349,
          3751,
          14299,
          7999,
          3999,
          5899,
          3790,
          3400,
          8999,
          3539,
          10870,
          8961,
          3990,
          10499,
          6999,
          9950,
          4699,
          3099,
          8490,
          6990,
          8999,
          54990,
          4490,
          8899,
          6999,
          2999,
          14229,
          9490,
          12990,
          3999,
          4840,
          4900,
          3749,
          4890,
          4350,
          4999,
          20800,
          13950,
          5899,
          4599,
          17990,
          19490,
          13999,
          19990,
          8990,
          7500,
          12999,
          3499,
          3450,
          7450,
          8990,
          7994,
          17600,
          3499,
          9790,
          3899,
          7900,
          6499,
          2999,
          16999,
          14999,
          5300,
          5994,
          4599,
          10399,
          19994,
          4294,
          3789,
          4299,
          11849,
          8875,
          74990,
          6999,
          4378,
          6924,
          6999,
          4999,
          3675,
          35999,
          12999,
          6799,
          7706,
          8990,
          7950,
          8500,
          4590,
          10640,
          6999,
          7999,
          9490,
          6299,
          10500,
          3999,
          3890,
          6600,
          12900,
          4540,
          57900,
          2999,
          10999,
          9999,
          67900,
          8226,
          7249,
          5999,
          5399,
          3599,
          3799,
          4499,
          3899,
          7999,
          8490,
          3799,
          19999,
          4799,
          4999,
          73300,
          74164,
          4470,
          6290,
          3199,
          2999,
          4190,
          3749,
          2550,
          5490,
          6729,
          2340,
          6999,
          3999,
          4790,
          5295,
          3999,
          7990,
          12999,
          4970,
          4495,
          2999,
          3800,
          2450,
          4890,
          3999,
          8990,
          4900,
          5935,
          5999,
          14990,
          3282,
          3199,
          9500,
          9990,
          7490,
          2299,
          6999,
          3970,
          5999,
          7499,
          8499,
          6000,
          4399,
          29999,
          9999,
          4725,
          5279,
          4199,
          4321,
          3799,
          5699,
          6999,
          3490,
          3890,
          5410,
          3299,
          2950,
          5699,
          3480,
          3290,
          6999,
          5891,
          13999,
          4799,
          6195,
          4999,
          7040,
          6604,
          8490,
          4950,
          3790,
          8999,
          27990,
          44990,
          15990,
          4390,
          6449,
          5199,
          3599,
          2499,
          2599,
          4999,
          9500,
          2900,
          2499,
          14000,
          7499,
          3999,
          6499,
          3950,
          4978,
          4995,
          5499,
          8666,
          4499,
          6499,
          3499,
          4990,
          6998,
          3880,
          5935,
          4999,
          2754,
          3599,
          3999,
          4610,
          5899,
          7499,
          8999,
          4895,
          28000,
          4499,
          3590,
          10990,
          5440,
          3290,
          3450,
          4099,
          3690,
          4879,
          6449,
          6888,
          9999,
          3980,
          8999,
          11046,
          16900,
          4990,
          5831,
          3499,
          4900,
          3399,
          3860,
          6506,
          6190,
          4790,
          6499,
          7999,
          6326,
          7490,
          6110,
          4399,
          2999,
          4625,
          3389,
          2999,
          5599,
          9999,
          3499,
          4888,
          5499,
          6789,
          9993,
          6629,
          7142,
          5599,
          5499,
          8499,
          4960,
          3980,
          4105,
          3699,
          6100,
          3900,
          2359,
          1999,
          4880,
          5930,
          11499,
          3935,
          4999,
          4790,
          9049,
          7160,
          5668,
          3999,
          6450,
          10990,
          3900,
          4400,
          3690,
          5999,
          5200,
          15026,
          7994,
          5999,
          8999,
          2690,
          4999,
          4400,
          4095,
          4050,
          4499,
          5599,
          6199,
          4499,
          3999,
          5990,
          2999,
          6099,
          7000,
          7599,
          5900,
          6099,
          6999,
          7450,
          29124,
          3899,
          5599,
          12999,
          8000,
          3999,
          7499,
          4950,
          4499,
          5490,
          5550,
          4999,
          27600,
          13990,
          11100,
          5099,
          6998,
          4598,
          7499,
          3499,
          53983,
          3499,
          3739,
          4999,
          11200,
          4099,
          4289,
          6772,
          2699,
          5429,
          5849,
          3999,
          16699,
          5999,
          16999,
          19999,
          6498,
          3579,
          2999,
          5949,
          10450,
          22299,
          3999,
          4532,
          5999,
          12050,
          5500,
          7999,
          4299,
          6990,
          2299,
          6400,
          3195,
          16000,
          12499,
          8250,
          4333,
          6990,
          7300,
          7450,
          2799,
          16990,
          5149,
          2999,
          2700,
          4060,
          7100,
          4299,
          6499,
          3599,
          7000,
          6199,
          3999,
          3990,
          4999,
          7499,
          2499,
          6999,
          4499,
          2545,
          4999,
          7998,
          2990,
          6199,
          4995,
          4600,
          7990,
          5599,
          2190,
          6499,
          7900,
          3279,
          10480,
          6000,
          4997,
          1999,
          6999,
          2488,
          3887,
          6600,
          4999,
          13990,
          3299,
          5990,
          6480,
          5990,
          4995,
          11999,
          10990,
          4989,
          1999,
          9999,
          4890,
          20999,
          6990,
          4790,
          7389,
          8666,
          2658,
          5499,
          6500,
          4899,
          494,
          7000,
          3590,
          2488,
          8999,
          22999,
          4999,
          8399,
          9700,
          4499,
          8299,
          1999,
          2999,
          8999,
          4500,
          8999,
          6999,
          4199,
          2639,
          4199,
          2399,
          5430,
          4200,
          5970,
          4299,
          4999,
          4866,
          6990,
          7999,
          4500,
          6498,
          5999,
          3599,
          3399,
          4595,
          3949,
          2666,
          7999,
          7530,
          1999,
          9999,
          5549,
          7500,
          3999,
          4750,
          4999,
          4500,
          5890,
          9999,
          4800,
          6499,
          4006,
          9751,
          5290,
          2690,
          4990,
          4999,
          19980,
          2199,
          13450,
          9999,
          8599,
          2200,
          4500,
          6600,
          1999,
          3333,
          6500,
          1999,
          4490,
          6760,
          3499,
          6499,
          7399,
          2999,
          3499,
          7999,
          9980,
          4559,
          4799,
          3840,
          19990,
          7994,
          7890,
          10299,
          88719,
          16999,
          6849,
          4099,
          7999,
          6800,
          3099,
          9990,
          8000,
          2999,
          2799,
          7980,
          4949,
          7679,
          3990,
          2990,
          4999,
          5299,
          5499,
          3999,
          12000,
          7599,
          3995,
          9099,
          8250,
          7750,
          4800,
          8990,
          13988,
          3599,
          3449,
          4690,
          5199,
          4777,
          2399,
          1999,
          14000,
          4690,
          3998,
          994,
          3994,
          3800,
          2899,
          4290,
          8700,
          7999,
          3739,
          2950,
          4699,
          2199,
          4499,
          4150,
          6199,
          8999,
          3999,
          4790,
          4990,
          6999,
          2900,
          6990,
          9999,
          6390,
          2999,
          7499,
          12000,
          4999,
          2999,
          4999,
          4090,
          4050,
          3799,
          5849,
          2199,
          2199,
          4699,
          6490,
          6990,
          7999,
          11586,
          4900,
          4299,
          9999,
          2490,
          2599,
          8200,
          9977,
          2399,
          4655,
          3549,
          5990,
          8700,
          5300,
          9300,
          6499,
          2240,
          2999,
          4990,
          8499,
          3899,
          5900,
          3840,
          5398,
          41390,
          24999,
          2999,
          14999,
          5399,
          2799,
          4999,
          4300,
          9001,
          4499,
          2499,
          3199,
          3299,
          4970,
          5990,
          5990,
          4295,
          3999,
          4290,
          5999,
          6999,
          57500,
          5750,
          3999,
          3699,
          4995,
          5499,
          5649,
          3990,
          14990,
          2399,
          6000,
          2222,
          4650,
          5830,
          3990,
          4299,
          3499,
          3899,
          3199,
          4499,
          4500,
          4449,
          8200,
          8999,
          5999,
          6999,
          5990,
          5999,
          25990,
          2999,
          4490,
          2000,
          5000,
          2999,
          4050,
          3999,
          3990,
          2990,
          2499,
          3500,
          2984,
          15300,
          5529,
          3699,
          3599,
          2599,
          2940,
          2999,
          2498,
          3999
         ],
         "x0": " ",
         "xaxis": "x",
         "y0": " ",
         "yaxis": "y"
        }
       ],
       "layout": {
        "boxmode": "group",
        "legend": {
         "tracegroupgap": 0
        },
        "margin": {
         "t": 60
        },
        "template": {
         "data": {
          "bar": [
           {
            "error_x": {
             "color": "#2a3f5f"
            },
            "error_y": {
             "color": "#2a3f5f"
            },
            "marker": {
             "line": {
              "color": "#E5ECF6",
              "width": 0.5
             },
             "pattern": {
              "fillmode": "overlay",
              "size": 10,
              "solidity": 0.2
             }
            },
            "type": "bar"
           }
          ],
          "barpolar": [
           {
            "marker": {
             "line": {
              "color": "#E5ECF6",
              "width": 0.5
             },
             "pattern": {
              "fillmode": "overlay",
              "size": 10,
              "solidity": 0.2
             }
            },
            "type": "barpolar"
           }
          ],
          "carpet": [
           {
            "aaxis": {
             "endlinecolor": "#2a3f5f",
             "gridcolor": "white",
             "linecolor": "white",
             "minorgridcolor": "white",
             "startlinecolor": "#2a3f5f"
            },
            "baxis": {
             "endlinecolor": "#2a3f5f",
             "gridcolor": "white",
             "linecolor": "white",
             "minorgridcolor": "white",
             "startlinecolor": "#2a3f5f"
            },
            "type": "carpet"
           }
          ],
          "choropleth": [
           {
            "colorbar": {
             "outlinewidth": 0,
             "ticks": ""
            },
            "type": "choropleth"
           }
          ],
          "contour": [
           {
            "colorbar": {
             "outlinewidth": 0,
             "ticks": ""
            },
            "colorscale": [
             [
              0,
              "#0d0887"
             ],
             [
              0.1111111111111111,
              "#46039f"
             ],
             [
              0.2222222222222222,
              "#7201a8"
             ],
             [
              0.3333333333333333,
              "#9c179e"
             ],
             [
              0.4444444444444444,
              "#bd3786"
             ],
             [
              0.5555555555555556,
              "#d8576b"
             ],
             [
              0.6666666666666666,
              "#ed7953"
             ],
             [
              0.7777777777777778,
              "#fb9f3a"
             ],
             [
              0.8888888888888888,
              "#fdca26"
             ],
             [
              1,
              "#f0f921"
             ]
            ],
            "type": "contour"
           }
          ],
          "contourcarpet": [
           {
            "colorbar": {
             "outlinewidth": 0,
             "ticks": ""
            },
            "type": "contourcarpet"
           }
          ],
          "heatmap": [
           {
            "colorbar": {
             "outlinewidth": 0,
             "ticks": ""
            },
            "colorscale": [
             [
              0,
              "#0d0887"
             ],
             [
              0.1111111111111111,
              "#46039f"
             ],
             [
              0.2222222222222222,
              "#7201a8"
             ],
             [
              0.3333333333333333,
              "#9c179e"
             ],
             [
              0.4444444444444444,
              "#bd3786"
             ],
             [
              0.5555555555555556,
              "#d8576b"
             ],
             [
              0.6666666666666666,
              "#ed7953"
             ],
             [
              0.7777777777777778,
              "#fb9f3a"
             ],
             [
              0.8888888888888888,
              "#fdca26"
             ],
             [
              1,
              "#f0f921"
             ]
            ],
            "type": "heatmap"
           }
          ],
          "heatmapgl": [
           {
            "colorbar": {
             "outlinewidth": 0,
             "ticks": ""
            },
            "colorscale": [
             [
              0,
              "#0d0887"
             ],
             [
              0.1111111111111111,
              "#46039f"
             ],
             [
              0.2222222222222222,
              "#7201a8"
             ],
             [
              0.3333333333333333,
              "#9c179e"
             ],
             [
              0.4444444444444444,
              "#bd3786"
             ],
             [
              0.5555555555555556,
              "#d8576b"
             ],
             [
              0.6666666666666666,
              "#ed7953"
             ],
             [
              0.7777777777777778,
              "#fb9f3a"
             ],
             [
              0.8888888888888888,
              "#fdca26"
             ],
             [
              1,
              "#f0f921"
             ]
            ],
            "type": "heatmapgl"
           }
          ],
          "histogram": [
           {
            "marker": {
             "pattern": {
              "fillmode": "overlay",
              "size": 10,
              "solidity": 0.2
             }
            },
            "type": "histogram"
           }
          ],
          "histogram2d": [
           {
            "colorbar": {
             "outlinewidth": 0,
             "ticks": ""
            },
            "colorscale": [
             [
              0,
              "#0d0887"
             ],
             [
              0.1111111111111111,
              "#46039f"
             ],
             [
              0.2222222222222222,
              "#7201a8"
             ],
             [
              0.3333333333333333,
              "#9c179e"
             ],
             [
              0.4444444444444444,
              "#bd3786"
             ],
             [
              0.5555555555555556,
              "#d8576b"
             ],
             [
              0.6666666666666666,
              "#ed7953"
             ],
             [
              0.7777777777777778,
              "#fb9f3a"
             ],
             [
              0.8888888888888888,
              "#fdca26"
             ],
             [
              1,
              "#f0f921"
             ]
            ],
            "type": "histogram2d"
           }
          ],
          "histogram2dcontour": [
           {
            "colorbar": {
             "outlinewidth": 0,
             "ticks": ""
            },
            "colorscale": [
             [
              0,
              "#0d0887"
             ],
             [
              0.1111111111111111,
              "#46039f"
             ],
             [
              0.2222222222222222,
              "#7201a8"
             ],
             [
              0.3333333333333333,
              "#9c179e"
             ],
             [
              0.4444444444444444,
              "#bd3786"
             ],
             [
              0.5555555555555556,
              "#d8576b"
             ],
             [
              0.6666666666666666,
              "#ed7953"
             ],
             [
              0.7777777777777778,
              "#fb9f3a"
             ],
             [
              0.8888888888888888,
              "#fdca26"
             ],
             [
              1,
              "#f0f921"
             ]
            ],
            "type": "histogram2dcontour"
           }
          ],
          "mesh3d": [
           {
            "colorbar": {
             "outlinewidth": 0,
             "ticks": ""
            },
            "type": "mesh3d"
           }
          ],
          "parcoords": [
           {
            "line": {
             "colorbar": {
              "outlinewidth": 0,
              "ticks": ""
             }
            },
            "type": "parcoords"
           }
          ],
          "pie": [
           {
            "automargin": true,
            "type": "pie"
           }
          ],
          "scatter": [
           {
            "fillpattern": {
             "fillmode": "overlay",
             "size": 10,
             "solidity": 0.2
            },
            "type": "scatter"
           }
          ],
          "scatter3d": [
           {
            "line": {
             "colorbar": {
              "outlinewidth": 0,
              "ticks": ""
             }
            },
            "marker": {
             "colorbar": {
              "outlinewidth": 0,
              "ticks": ""
             }
            },
            "type": "scatter3d"
           }
          ],
          "scattercarpet": [
           {
            "marker": {
             "colorbar": {
              "outlinewidth": 0,
              "ticks": ""
             }
            },
            "type": "scattercarpet"
           }
          ],
          "scattergeo": [
           {
            "marker": {
             "colorbar": {
              "outlinewidth": 0,
              "ticks": ""
             }
            },
            "type": "scattergeo"
           }
          ],
          "scattergl": [
           {
            "marker": {
             "colorbar": {
              "outlinewidth": 0,
              "ticks": ""
             }
            },
            "type": "scattergl"
           }
          ],
          "scattermapbox": [
           {
            "marker": {
             "colorbar": {
              "outlinewidth": 0,
              "ticks": ""
             }
            },
            "type": "scattermapbox"
           }
          ],
          "scatterpolar": [
           {
            "marker": {
             "colorbar": {
              "outlinewidth": 0,
              "ticks": ""
             }
            },
            "type": "scatterpolar"
           }
          ],
          "scatterpolargl": [
           {
            "marker": {
             "colorbar": {
              "outlinewidth": 0,
              "ticks": ""
             }
            },
            "type": "scatterpolargl"
           }
          ],
          "scatterternary": [
           {
            "marker": {
             "colorbar": {
              "outlinewidth": 0,
              "ticks": ""
             }
            },
            "type": "scatterternary"
           }
          ],
          "surface": [
           {
            "colorbar": {
             "outlinewidth": 0,
             "ticks": ""
            },
            "colorscale": [
             [
              0,
              "#0d0887"
             ],
             [
              0.1111111111111111,
              "#46039f"
             ],
             [
              0.2222222222222222,
              "#7201a8"
             ],
             [
              0.3333333333333333,
              "#9c179e"
             ],
             [
              0.4444444444444444,
              "#bd3786"
             ],
             [
              0.5555555555555556,
              "#d8576b"
             ],
             [
              0.6666666666666666,
              "#ed7953"
             ],
             [
              0.7777777777777778,
              "#fb9f3a"
             ],
             [
              0.8888888888888888,
              "#fdca26"
             ],
             [
              1,
              "#f0f921"
             ]
            ],
            "type": "surface"
           }
          ],
          "table": [
           {
            "cells": {
             "fill": {
              "color": "#EBF0F8"
             },
             "line": {
              "color": "white"
             }
            },
            "header": {
             "fill": {
              "color": "#C8D4E3"
             },
             "line": {
              "color": "white"
             }
            },
            "type": "table"
           }
          ]
         },
         "layout": {
          "annotationdefaults": {
           "arrowcolor": "#2a3f5f",
           "arrowhead": 0,
           "arrowwidth": 1
          },
          "autotypenumbers": "strict",
          "coloraxis": {
           "colorbar": {
            "outlinewidth": 0,
            "ticks": ""
           }
          },
          "colorscale": {
           "diverging": [
            [
             0,
             "#8e0152"
            ],
            [
             0.1,
             "#c51b7d"
            ],
            [
             0.2,
             "#de77ae"
            ],
            [
             0.3,
             "#f1b6da"
            ],
            [
             0.4,
             "#fde0ef"
            ],
            [
             0.5,
             "#f7f7f7"
            ],
            [
             0.6,
             "#e6f5d0"
            ],
            [
             0.7,
             "#b8e186"
            ],
            [
             0.8,
             "#7fbc41"
            ],
            [
             0.9,
             "#4d9221"
            ],
            [
             1,
             "#276419"
            ]
           ],
           "sequential": [
            [
             0,
             "#0d0887"
            ],
            [
             0.1111111111111111,
             "#46039f"
            ],
            [
             0.2222222222222222,
             "#7201a8"
            ],
            [
             0.3333333333333333,
             "#9c179e"
            ],
            [
             0.4444444444444444,
             "#bd3786"
            ],
            [
             0.5555555555555556,
             "#d8576b"
            ],
            [
             0.6666666666666666,
             "#ed7953"
            ],
            [
             0.7777777777777778,
             "#fb9f3a"
            ],
            [
             0.8888888888888888,
             "#fdca26"
            ],
            [
             1,
             "#f0f921"
            ]
           ],
           "sequentialminus": [
            [
             0,
             "#0d0887"
            ],
            [
             0.1111111111111111,
             "#46039f"
            ],
            [
             0.2222222222222222,
             "#7201a8"
            ],
            [
             0.3333333333333333,
             "#9c179e"
            ],
            [
             0.4444444444444444,
             "#bd3786"
            ],
            [
             0.5555555555555556,
             "#d8576b"
            ],
            [
             0.6666666666666666,
             "#ed7953"
            ],
            [
             0.7777777777777778,
             "#fb9f3a"
            ],
            [
             0.8888888888888888,
             "#fdca26"
            ],
            [
             1,
             "#f0f921"
            ]
           ]
          },
          "colorway": [
           "#636efa",
           "#EF553B",
           "#00cc96",
           "#ab63fa",
           "#FFA15A",
           "#19d3f3",
           "#FF6692",
           "#B6E880",
           "#FF97FF",
           "#FECB52"
          ],
          "font": {
           "color": "#2a3f5f"
          },
          "geo": {
           "bgcolor": "white",
           "lakecolor": "white",
           "landcolor": "#E5ECF6",
           "showlakes": true,
           "showland": true,
           "subunitcolor": "white"
          },
          "hoverlabel": {
           "align": "left"
          },
          "hovermode": "closest",
          "mapbox": {
           "style": "light"
          },
          "paper_bgcolor": "white",
          "plot_bgcolor": "#E5ECF6",
          "polar": {
           "angularaxis": {
            "gridcolor": "white",
            "linecolor": "white",
            "ticks": ""
           },
           "bgcolor": "#E5ECF6",
           "radialaxis": {
            "gridcolor": "white",
            "linecolor": "white",
            "ticks": ""
           }
          },
          "scene": {
           "xaxis": {
            "backgroundcolor": "#E5ECF6",
            "gridcolor": "white",
            "gridwidth": 2,
            "linecolor": "white",
            "showbackground": true,
            "ticks": "",
            "zerolinecolor": "white"
           },
           "yaxis": {
            "backgroundcolor": "#E5ECF6",
            "gridcolor": "white",
            "gridwidth": 2,
            "linecolor": "white",
            "showbackground": true,
            "ticks": "",
            "zerolinecolor": "white"
           },
           "zaxis": {
            "backgroundcolor": "#E5ECF6",
            "gridcolor": "white",
            "gridwidth": 2,
            "linecolor": "white",
            "showbackground": true,
            "ticks": "",
            "zerolinecolor": "white"
           }
          },
          "shapedefaults": {
           "line": {
            "color": "#2a3f5f"
           }
          },
          "ternary": {
           "aaxis": {
            "gridcolor": "white",
            "linecolor": "white",
            "ticks": ""
           },
           "baxis": {
            "gridcolor": "white",
            "linecolor": "white",
            "ticks": ""
           },
           "bgcolor": "#E5ECF6",
           "caxis": {
            "gridcolor": "white",
            "linecolor": "white",
            "ticks": ""
           }
          },
          "title": {
           "x": 0.05
          },
          "xaxis": {
           "automargin": true,
           "gridcolor": "white",
           "linecolor": "white",
           "ticks": "",
           "title": {
            "standoff": 15
           },
           "zerolinecolor": "white",
           "zerolinewidth": 2
          },
          "yaxis": {
           "automargin": true,
           "gridcolor": "white",
           "linecolor": "white",
           "ticks": "",
           "title": {
            "standoff": 15
           },
           "zerolinecolor": "white",
           "zerolinewidth": 2
          }
         }
        },
        "xaxis": {
         "anchor": "y",
         "domain": [
          0,
          1
         ],
         "title": {
          "text": "Price"
         }
        },
        "yaxis": {
         "anchor": "x",
         "domain": [
          0,
          1
         ]
        }
       }
      }
     },
     "metadata": {},
     "output_type": "display_data"
    }
   ],
   "source": [
    "px.box(data, 'Price', hover_name = 'Model')"
   ]
  },
  {
   "cell_type": "code",
   "execution_count": 36,
   "metadata": {},
   "outputs": [
    {
     "data": {
      "application/vnd.plotly.v1+json": {
       "config": {
        "plotlyServerURL": "https://plot.ly"
       },
       "data": [
        {
         "alignmentgroup": "True",
         "hovertemplate": "<b>%{hovertext}</b><br><br>Price=%{x}<extra></extra>",
         "hovertext": [
          "10.or",
          "Acer",
          "Alcatel",
          "Apple",
          "Aqua",
          "Asus",
          "Billion",
          "Black Shark",
          "BlackBerry",
          "Blu",
          "Cat",
          "Celkon",
          "Comio",
          "Coolpad",
          "Gionee",
          "Google",
          "HP",
          "HTC",
          "Homtom",
          "Honor",
          "Huawei",
          "InFocus",
          "Infinix",
          "Intex",
          "Itel",
          "Jio",
          "Jivi",
          "Karbonn",
          "Kult",
          "LG",
          "Lava",
          "LeEco",
          "Lenovo",
          "Lephone",
          "Lyf",
          "M-tech",
          "Meizu",
          "Micromax",
          "Microsoft",
          "Mobiistar",
          "Motorola",
          "Nokia",
          "Nubia",
          "Nuu Mobile",
          "OnePlus",
          "Onida",
          "Oppo",
          "Panasonic",
          "Phicomm",
          "Philips",
          "Poco",
          "Razer",
          "Reach",
          "Realme",
          "Samsung",
          "Sansui",
          "Smartron",
          "Sony",
          "Spice",
          "Swipe",
          "TCL",
          "Tambo",
          "Tecno",
          "Videocon",
          "Vivo",
          "Xiaomi",
          "Xolo",
          "Yu",
          "ZTE",
          "Zen",
          "Ziox",
          "Zopo",
          "Zuk",
          "iBall",
          "iVoomi",
          "mPhone"
         ],
         "legendgroup": "",
         "marker": {
          "color": "#636efa"
         },
         "name": "",
         "notched": false,
         "offsetgroup": "",
         "orientation": "h",
         "showlegend": false,
         "type": "box",
         "x": [
          5999,
          6470,
          9201.6,
          45510.470588235294,
          4599,
          14926.45945945946,
          4890,
          29999,
          14180.882352941177,
          6249.5,
          45219.75,
          4361.5,
          5944.5,
          6893.315789473684,
          7818.636363636364,
          38166.4,
          88719,
          19297.14285714286,
          4496.333333333333,
          12056.666666666666,
          38564.75,
          6167.105263157895,
          9601.588235294117,
          4669.683760683761,
          4913,
          1249,
          3815.8333333333335,
          4968.088235294118,
          4754.8,
          14884.452380952382,
          5595.966101694915,
          7931.8,
          9737.952380952382,
          5325,
          5340.090909090909,
          3950,
          14710.888888888889,
          5305.957746478874,
          17755.4,
          4746.5,
          11030.5,
          9658.57142857143,
          17754.25,
          5242.333333333333,
          32908.75,
          5385,
          15511.257142857143,
          7116.254545454545,
          3238,
          3199,
          15494.5,
          54990,
          2529.6666666666665,
          11390.388888888889,
          22500.069306930694,
          3900,
          7329.666666666667,
          28315.535714285714,
          5497,
          4431.444444444444,
          4989,
          3595,
          7615.375,
          4648.384615384615,
          12501.923076923076,
          9993.808510638299,
          8463.04,
          8220.846153846154,
          5404.625,
          3681.818181818182,
          3665.6666666666665,
          6027.916666666667,
          29124,
          4051,
          4018.875,
          6949
         ],
         "x0": " ",
         "xaxis": "x",
         "y0": " ",
         "yaxis": "y"
        }
       ],
       "layout": {
        "boxmode": "group",
        "legend": {
         "tracegroupgap": 0
        },
        "margin": {
         "t": 60
        },
        "template": {
         "data": {
          "bar": [
           {
            "error_x": {
             "color": "#2a3f5f"
            },
            "error_y": {
             "color": "#2a3f5f"
            },
            "marker": {
             "line": {
              "color": "#E5ECF6",
              "width": 0.5
             },
             "pattern": {
              "fillmode": "overlay",
              "size": 10,
              "solidity": 0.2
             }
            },
            "type": "bar"
           }
          ],
          "barpolar": [
           {
            "marker": {
             "line": {
              "color": "#E5ECF6",
              "width": 0.5
             },
             "pattern": {
              "fillmode": "overlay",
              "size": 10,
              "solidity": 0.2
             }
            },
            "type": "barpolar"
           }
          ],
          "carpet": [
           {
            "aaxis": {
             "endlinecolor": "#2a3f5f",
             "gridcolor": "white",
             "linecolor": "white",
             "minorgridcolor": "white",
             "startlinecolor": "#2a3f5f"
            },
            "baxis": {
             "endlinecolor": "#2a3f5f",
             "gridcolor": "white",
             "linecolor": "white",
             "minorgridcolor": "white",
             "startlinecolor": "#2a3f5f"
            },
            "type": "carpet"
           }
          ],
          "choropleth": [
           {
            "colorbar": {
             "outlinewidth": 0,
             "ticks": ""
            },
            "type": "choropleth"
           }
          ],
          "contour": [
           {
            "colorbar": {
             "outlinewidth": 0,
             "ticks": ""
            },
            "colorscale": [
             [
              0,
              "#0d0887"
             ],
             [
              0.1111111111111111,
              "#46039f"
             ],
             [
              0.2222222222222222,
              "#7201a8"
             ],
             [
              0.3333333333333333,
              "#9c179e"
             ],
             [
              0.4444444444444444,
              "#bd3786"
             ],
             [
              0.5555555555555556,
              "#d8576b"
             ],
             [
              0.6666666666666666,
              "#ed7953"
             ],
             [
              0.7777777777777778,
              "#fb9f3a"
             ],
             [
              0.8888888888888888,
              "#fdca26"
             ],
             [
              1,
              "#f0f921"
             ]
            ],
            "type": "contour"
           }
          ],
          "contourcarpet": [
           {
            "colorbar": {
             "outlinewidth": 0,
             "ticks": ""
            },
            "type": "contourcarpet"
           }
          ],
          "heatmap": [
           {
            "colorbar": {
             "outlinewidth": 0,
             "ticks": ""
            },
            "colorscale": [
             [
              0,
              "#0d0887"
             ],
             [
              0.1111111111111111,
              "#46039f"
             ],
             [
              0.2222222222222222,
              "#7201a8"
             ],
             [
              0.3333333333333333,
              "#9c179e"
             ],
             [
              0.4444444444444444,
              "#bd3786"
             ],
             [
              0.5555555555555556,
              "#d8576b"
             ],
             [
              0.6666666666666666,
              "#ed7953"
             ],
             [
              0.7777777777777778,
              "#fb9f3a"
             ],
             [
              0.8888888888888888,
              "#fdca26"
             ],
             [
              1,
              "#f0f921"
             ]
            ],
            "type": "heatmap"
           }
          ],
          "heatmapgl": [
           {
            "colorbar": {
             "outlinewidth": 0,
             "ticks": ""
            },
            "colorscale": [
             [
              0,
              "#0d0887"
             ],
             [
              0.1111111111111111,
              "#46039f"
             ],
             [
              0.2222222222222222,
              "#7201a8"
             ],
             [
              0.3333333333333333,
              "#9c179e"
             ],
             [
              0.4444444444444444,
              "#bd3786"
             ],
             [
              0.5555555555555556,
              "#d8576b"
             ],
             [
              0.6666666666666666,
              "#ed7953"
             ],
             [
              0.7777777777777778,
              "#fb9f3a"
             ],
             [
              0.8888888888888888,
              "#fdca26"
             ],
             [
              1,
              "#f0f921"
             ]
            ],
            "type": "heatmapgl"
           }
          ],
          "histogram": [
           {
            "marker": {
             "pattern": {
              "fillmode": "overlay",
              "size": 10,
              "solidity": 0.2
             }
            },
            "type": "histogram"
           }
          ],
          "histogram2d": [
           {
            "colorbar": {
             "outlinewidth": 0,
             "ticks": ""
            },
            "colorscale": [
             [
              0,
              "#0d0887"
             ],
             [
              0.1111111111111111,
              "#46039f"
             ],
             [
              0.2222222222222222,
              "#7201a8"
             ],
             [
              0.3333333333333333,
              "#9c179e"
             ],
             [
              0.4444444444444444,
              "#bd3786"
             ],
             [
              0.5555555555555556,
              "#d8576b"
             ],
             [
              0.6666666666666666,
              "#ed7953"
             ],
             [
              0.7777777777777778,
              "#fb9f3a"
             ],
             [
              0.8888888888888888,
              "#fdca26"
             ],
             [
              1,
              "#f0f921"
             ]
            ],
            "type": "histogram2d"
           }
          ],
          "histogram2dcontour": [
           {
            "colorbar": {
             "outlinewidth": 0,
             "ticks": ""
            },
            "colorscale": [
             [
              0,
              "#0d0887"
             ],
             [
              0.1111111111111111,
              "#46039f"
             ],
             [
              0.2222222222222222,
              "#7201a8"
             ],
             [
              0.3333333333333333,
              "#9c179e"
             ],
             [
              0.4444444444444444,
              "#bd3786"
             ],
             [
              0.5555555555555556,
              "#d8576b"
             ],
             [
              0.6666666666666666,
              "#ed7953"
             ],
             [
              0.7777777777777778,
              "#fb9f3a"
             ],
             [
              0.8888888888888888,
              "#fdca26"
             ],
             [
              1,
              "#f0f921"
             ]
            ],
            "type": "histogram2dcontour"
           }
          ],
          "mesh3d": [
           {
            "colorbar": {
             "outlinewidth": 0,
             "ticks": ""
            },
            "type": "mesh3d"
           }
          ],
          "parcoords": [
           {
            "line": {
             "colorbar": {
              "outlinewidth": 0,
              "ticks": ""
             }
            },
            "type": "parcoords"
           }
          ],
          "pie": [
           {
            "automargin": true,
            "type": "pie"
           }
          ],
          "scatter": [
           {
            "fillpattern": {
             "fillmode": "overlay",
             "size": 10,
             "solidity": 0.2
            },
            "type": "scatter"
           }
          ],
          "scatter3d": [
           {
            "line": {
             "colorbar": {
              "outlinewidth": 0,
              "ticks": ""
             }
            },
            "marker": {
             "colorbar": {
              "outlinewidth": 0,
              "ticks": ""
             }
            },
            "type": "scatter3d"
           }
          ],
          "scattercarpet": [
           {
            "marker": {
             "colorbar": {
              "outlinewidth": 0,
              "ticks": ""
             }
            },
            "type": "scattercarpet"
           }
          ],
          "scattergeo": [
           {
            "marker": {
             "colorbar": {
              "outlinewidth": 0,
              "ticks": ""
             }
            },
            "type": "scattergeo"
           }
          ],
          "scattergl": [
           {
            "marker": {
             "colorbar": {
              "outlinewidth": 0,
              "ticks": ""
             }
            },
            "type": "scattergl"
           }
          ],
          "scattermapbox": [
           {
            "marker": {
             "colorbar": {
              "outlinewidth": 0,
              "ticks": ""
             }
            },
            "type": "scattermapbox"
           }
          ],
          "scatterpolar": [
           {
            "marker": {
             "colorbar": {
              "outlinewidth": 0,
              "ticks": ""
             }
            },
            "type": "scatterpolar"
           }
          ],
          "scatterpolargl": [
           {
            "marker": {
             "colorbar": {
              "outlinewidth": 0,
              "ticks": ""
             }
            },
            "type": "scatterpolargl"
           }
          ],
          "scatterternary": [
           {
            "marker": {
             "colorbar": {
              "outlinewidth": 0,
              "ticks": ""
             }
            },
            "type": "scatterternary"
           }
          ],
          "surface": [
           {
            "colorbar": {
             "outlinewidth": 0,
             "ticks": ""
            },
            "colorscale": [
             [
              0,
              "#0d0887"
             ],
             [
              0.1111111111111111,
              "#46039f"
             ],
             [
              0.2222222222222222,
              "#7201a8"
             ],
             [
              0.3333333333333333,
              "#9c179e"
             ],
             [
              0.4444444444444444,
              "#bd3786"
             ],
             [
              0.5555555555555556,
              "#d8576b"
             ],
             [
              0.6666666666666666,
              "#ed7953"
             ],
             [
              0.7777777777777778,
              "#fb9f3a"
             ],
             [
              0.8888888888888888,
              "#fdca26"
             ],
             [
              1,
              "#f0f921"
             ]
            ],
            "type": "surface"
           }
          ],
          "table": [
           {
            "cells": {
             "fill": {
              "color": "#EBF0F8"
             },
             "line": {
              "color": "white"
             }
            },
            "header": {
             "fill": {
              "color": "#C8D4E3"
             },
             "line": {
              "color": "white"
             }
            },
            "type": "table"
           }
          ]
         },
         "layout": {
          "annotationdefaults": {
           "arrowcolor": "#2a3f5f",
           "arrowhead": 0,
           "arrowwidth": 1
          },
          "autotypenumbers": "strict",
          "coloraxis": {
           "colorbar": {
            "outlinewidth": 0,
            "ticks": ""
           }
          },
          "colorscale": {
           "diverging": [
            [
             0,
             "#8e0152"
            ],
            [
             0.1,
             "#c51b7d"
            ],
            [
             0.2,
             "#de77ae"
            ],
            [
             0.3,
             "#f1b6da"
            ],
            [
             0.4,
             "#fde0ef"
            ],
            [
             0.5,
             "#f7f7f7"
            ],
            [
             0.6,
             "#e6f5d0"
            ],
            [
             0.7,
             "#b8e186"
            ],
            [
             0.8,
             "#7fbc41"
            ],
            [
             0.9,
             "#4d9221"
            ],
            [
             1,
             "#276419"
            ]
           ],
           "sequential": [
            [
             0,
             "#0d0887"
            ],
            [
             0.1111111111111111,
             "#46039f"
            ],
            [
             0.2222222222222222,
             "#7201a8"
            ],
            [
             0.3333333333333333,
             "#9c179e"
            ],
            [
             0.4444444444444444,
             "#bd3786"
            ],
            [
             0.5555555555555556,
             "#d8576b"
            ],
            [
             0.6666666666666666,
             "#ed7953"
            ],
            [
             0.7777777777777778,
             "#fb9f3a"
            ],
            [
             0.8888888888888888,
             "#fdca26"
            ],
            [
             1,
             "#f0f921"
            ]
           ],
           "sequentialminus": [
            [
             0,
             "#0d0887"
            ],
            [
             0.1111111111111111,
             "#46039f"
            ],
            [
             0.2222222222222222,
             "#7201a8"
            ],
            [
             0.3333333333333333,
             "#9c179e"
            ],
            [
             0.4444444444444444,
             "#bd3786"
            ],
            [
             0.5555555555555556,
             "#d8576b"
            ],
            [
             0.6666666666666666,
             "#ed7953"
            ],
            [
             0.7777777777777778,
             "#fb9f3a"
            ],
            [
             0.8888888888888888,
             "#fdca26"
            ],
            [
             1,
             "#f0f921"
            ]
           ]
          },
          "colorway": [
           "#636efa",
           "#EF553B",
           "#00cc96",
           "#ab63fa",
           "#FFA15A",
           "#19d3f3",
           "#FF6692",
           "#B6E880",
           "#FF97FF",
           "#FECB52"
          ],
          "font": {
           "color": "#2a3f5f"
          },
          "geo": {
           "bgcolor": "white",
           "lakecolor": "white",
           "landcolor": "#E5ECF6",
           "showlakes": true,
           "showland": true,
           "subunitcolor": "white"
          },
          "hoverlabel": {
           "align": "left"
          },
          "hovermode": "closest",
          "mapbox": {
           "style": "light"
          },
          "paper_bgcolor": "white",
          "plot_bgcolor": "#E5ECF6",
          "polar": {
           "angularaxis": {
            "gridcolor": "white",
            "linecolor": "white",
            "ticks": ""
           },
           "bgcolor": "#E5ECF6",
           "radialaxis": {
            "gridcolor": "white",
            "linecolor": "white",
            "ticks": ""
           }
          },
          "scene": {
           "xaxis": {
            "backgroundcolor": "#E5ECF6",
            "gridcolor": "white",
            "gridwidth": 2,
            "linecolor": "white",
            "showbackground": true,
            "ticks": "",
            "zerolinecolor": "white"
           },
           "yaxis": {
            "backgroundcolor": "#E5ECF6",
            "gridcolor": "white",
            "gridwidth": 2,
            "linecolor": "white",
            "showbackground": true,
            "ticks": "",
            "zerolinecolor": "white"
           },
           "zaxis": {
            "backgroundcolor": "#E5ECF6",
            "gridcolor": "white",
            "gridwidth": 2,
            "linecolor": "white",
            "showbackground": true,
            "ticks": "",
            "zerolinecolor": "white"
           }
          },
          "shapedefaults": {
           "line": {
            "color": "#2a3f5f"
           }
          },
          "ternary": {
           "aaxis": {
            "gridcolor": "white",
            "linecolor": "white",
            "ticks": ""
           },
           "baxis": {
            "gridcolor": "white",
            "linecolor": "white",
            "ticks": ""
           },
           "bgcolor": "#E5ECF6",
           "caxis": {
            "gridcolor": "white",
            "linecolor": "white",
            "ticks": ""
           }
          },
          "title": {
           "x": 0.05
          },
          "xaxis": {
           "automargin": true,
           "gridcolor": "white",
           "linecolor": "white",
           "ticks": "",
           "title": {
            "standoff": 15
           },
           "zerolinecolor": "white",
           "zerolinewidth": 2
          },
          "yaxis": {
           "automargin": true,
           "gridcolor": "white",
           "linecolor": "white",
           "ticks": "",
           "title": {
            "standoff": 15
           },
           "zerolinecolor": "white",
           "zerolinewidth": 2
          }
         }
        },
        "xaxis": {
         "anchor": "y",
         "domain": [
          0,
          1
         ],
         "title": {
          "text": "Price"
         }
        },
        "yaxis": {
         "anchor": "x",
         "domain": [
          0,
          1
         ]
        }
       }
      }
     },
     "metadata": {},
     "output_type": "display_data"
    }
   ],
   "source": [
    "px.box(data.groupby('Brand', as_index=False).Price.mean(), 'Price', hover_name = 'Brand')"
   ]
  },
  {
   "cell_type": "code",
   "execution_count": 37,
   "metadata": {},
   "outputs": [],
   "source": [
    "train, test = train_test_split(data, test_size=0.2, random_state=42)"
   ]
  },
  {
   "cell_type": "code",
   "execution_count": 38,
   "metadata": {},
   "outputs": [
    {
     "data": {
      "text/plain": [
       "Index(['Name', 'Brand', 'Model', 'Battery capacity (mAh)',\n",
       "       'Screen size (inches)', 'Touchscreen', 'Resolution x', 'Resolution y',\n",
       "       'Processor', 'RAM (MB)', 'Internal storage (GB)', 'Rear camera',\n",
       "       'Front camera', 'Operating system', 'Wi-Fi', 'Bluetooth', 'GPS',\n",
       "       'Number of SIMs', '3G', '4G/ LTE', 'Price'],\n",
       "      dtype='object')"
      ]
     },
     "execution_count": 38,
     "metadata": {},
     "output_type": "execute_result"
    }
   ],
   "source": [
    "train.columns"
   ]
  },
  {
   "cell_type": "code",
   "execution_count": 39,
   "metadata": {},
   "outputs": [],
   "source": [
    "brand_mapping_mean = train.groupby('Brand').Price.mean().to_dict()\n",
    "brand_mapping_std = train.groupby('Brand').Price.std().to_dict()"
   ]
  },
  {
   "cell_type": "code",
   "execution_count": 40,
   "metadata": {},
   "outputs": [],
   "source": [
    "train['brand_mean'] = train['Brand'].map(brand_mapping_mean)\n",
    "train['brand_std'] = train['Brand'].map(brand_mapping_std)"
   ]
  },
  {
   "cell_type": "code",
   "execution_count": 41,
   "metadata": {},
   "outputs": [
    {
     "data": {
      "text/plain": [
       "865                   S1\n",
       "1289        Lumia 950 XL\n",
       "394     ZenFone 2 Deluxe\n",
       "731            Frames S9\n",
       "54                     3\n",
       "              ...       \n",
       "1095       Canvas Fire 5\n",
       "1130              Vibe C\n",
       "1294                Y15S\n",
       "860                 Q626\n",
       "1126     Cloud String HD\n",
       "Name: Model, Length: 1087, dtype: string"
      ]
     },
     "execution_count": 41,
     "metadata": {},
     "output_type": "execute_result"
    }
   ],
   "source": [
    "train.pop('Name')\n",
    "train.pop('Brand')\n",
    "train.pop('Model')"
   ]
  },
  {
   "cell_type": "code",
   "execution_count": 42,
   "metadata": {},
   "outputs": [],
   "source": [
    "y_train = train.pop('Price')"
   ]
  },
  {
   "cell_type": "code",
   "execution_count": 43,
   "metadata": {},
   "outputs": [],
   "source": [
    "cates = train.select_dtypes(exclude=['int64', 'float64']).columns"
   ]
  },
  {
   "cell_type": "code",
   "execution_count": 44,
   "metadata": {},
   "outputs": [],
   "source": [
    "param_grid = {\n",
    "    'n_estimators': [100, 200, 300, 400, 500],\n",
    "    'max_depth': [3, 4, 5, 6, 7, 8, 9, 10],\n",
    "    'learning_rate': [0.01, 0.05, 0.1, 0.2, 0.3],\n",
    "    'subsample': [0.5, 0.6, 0.7, 0.8, 0.9, 1.0],\n",
    "    'colsample_bytree': [0.5, 0.6, 0.7, 0.8, 0.9, 1.0],\n",
    "    'min_child_weight': [1, 2, 3, 4, 5],\n",
    "    'gamma': [0, 0.25, 0.5, 1.0],\n",
    "    'reg_alpha': [0, 0.25, 0.5, 1.0],\n",
    "    'reg_lambda': [0, 0.25, 0.5, 1.0],\n",
    "    'tree_method': ['hist'],\n",
    "    #'enable_categorical': [True],\n",
    "    'n_jobs': [-1],\n",
    "    'random_state': [42]\n",
    "}"
   ]
  },
  {
   "cell_type": "code",
   "execution_count": 45,
   "metadata": {},
   "outputs": [],
   "source": [
    "for c in train.columns:\n",
    "    if c not in cates:\n",
    "        train[c] = train[c].astype('float')\n",
    "    if c in cates:\n",
    "        train[c] = train[c].astype('category')"
   ]
  },
  {
   "cell_type": "code",
   "execution_count": 46,
   "metadata": {},
   "outputs": [],
   "source": [
    "model = XGBRegressor()"
   ]
  },
  {
   "cell_type": "code",
   "execution_count": 47,
   "metadata": {},
   "outputs": [],
   "source": [
    "train = pd.get_dummies(train, columns=cates, drop_first='if_binary')"
   ]
  },
  {
   "cell_type": "code",
   "execution_count": 48,
   "metadata": {},
   "outputs": [
    {
     "name": "stdout",
     "output_type": "stream",
     "text": [
      "Fitting 5 folds for each of 100 candidates, totalling 500 fits\n"
     ]
    },
    {
     "name": "stderr",
     "output_type": "stream",
     "text": [
      "c:\\Users\\bhatn\\anaconda3\\envs\\modsk\\lib\\site-packages\\xgboost\\data.py:250: FutureWarning:\n",
      "\n",
      "pandas.Int64Index is deprecated and will be removed from pandas in a future version. Use pandas.Index with the appropriate dtype instead.\n",
      "\n"
     ]
    }
   ],
   "source": [
    "clf = RandomizedSearchCV(model, param_grid, n_iter=100, cv=5, verbose=2, n_jobs=-1).fit(train, y_train)"
   ]
  },
  {
   "cell_type": "code",
   "execution_count": 49,
   "metadata": {},
   "outputs": [],
   "source": [
    "bestmodel = XGBRegressor(**clf.best_params_).fit(train, y_train)"
   ]
  },
  {
   "cell_type": "code",
   "execution_count": 63,
   "metadata": {},
   "outputs": [
    {
     "data": {
      "image/png": "[encoded data removed]",
      "text/plain": [
       "<Figure size 800x950 with 1 Axes>"
      ]
     },
     "metadata": {},
     "output_type": "display_data"
    }
   ],
   "source": [
    "explainer = shap.TreeExplainer(bestmodel)\n",
    "shap_values = explainer.shap_values(train)\n",
    "shap.decision_plot(explainer.expected_value, shap_values, train.iloc[0,:])"
   ]
  },
  {
   "cell_type": "code",
   "execution_count": 51,
   "metadata": {},
   "outputs": [],
   "source": [
    "y_test = test.pop('Price')"
   ]
  },
  {
   "cell_type": "code",
   "execution_count": 52,
   "metadata": {},
   "outputs": [],
   "source": [
    "test['brand_mean'] = test['Brand'].map(brand_mapping_mean)\n",
    "test['brand_std'] = test['Brand'].map(brand_mapping_std)"
   ]
  },
  {
   "cell_type": "code",
   "execution_count": 53,
   "metadata": {},
   "outputs": [
    {
     "data": {
      "text/plain": [
       "51       iPhone 7 Plus\n",
       "1100         Aqua View\n",
       "1312           Cloud V\n",
       "514           Bingo 21\n",
       "1074               A32\n",
       "             ...      \n",
       "924             i5 Pro\n",
       "573          Lumia 525\n",
       "243          Xperia Z1\n",
       "945                 N2\n",
       "638     Galaxy Note 10\n",
       "Name: Model, Length: 272, dtype: string"
      ]
     },
     "execution_count": 53,
     "metadata": {},
     "output_type": "execute_result"
    }
   ],
   "source": [
    "test.pop('Name')\n",
    "test.pop('Brand')\n",
    "test.pop('Model')"
   ]
  },
  {
   "cell_type": "code",
   "execution_count": 54,
   "metadata": {},
   "outputs": [],
   "source": [
    "for c in test.columns:\n",
    "    if c not in cates:\n",
    "        test[c] = test[c].astype('float')\n",
    "    if c in cates:\n",
    "        test[c] = test[c].astype('category')"
   ]
  },
  {
   "cell_type": "code",
   "execution_count": 55,
   "metadata": {},
   "outputs": [],
   "source": [
    "test = pd.get_dummies(test, columns=cates, drop_first='if_binary')"
   ]
  },
  {
   "cell_type": "code",
   "execution_count": 60,
   "metadata": {},
   "outputs": [],
   "source": [
    "for x in [x for x in train.columns if x not in test.columns]:\n",
    "    test[x] = np.zeros(test.shape[0])"
   ]
  },
  {
   "cell_type": "code",
   "execution_count": 61,
   "metadata": {},
   "outputs": [
    {
     "data": {
      "text/plain": [
       "0.6843541786984355"
      ]
     },
     "execution_count": 61,
     "metadata": {},
     "output_type": "execute_result"
    }
   ],
   "source": [
    "bestmodel.score(test, y_test)"
   ]
  },
  {
   "cell_type": "code",
   "execution_count": 72,
   "metadata": {},
   "outputs": [
    {
     "name": "stderr",
     "output_type": "stream",
     "text": [
      "c:\\Users\\bhatn\\anaconda3\\envs\\modsk\\lib\\site-packages\\xgboost\\data.py:250: FutureWarning:\n",
      "\n",
      "pandas.Int64Index is deprecated and will be removed from pandas in a future version. Use pandas.Index with the appropriate dtype instead.\n",
      "\n",
      "c:\\Users\\bhatn\\anaconda3\\envs\\modsk\\lib\\site-packages\\xgboost\\core.py:105: UserWarning:\n",
      "\n",
      "ntree_limit is deprecated, use `iteration_range` or model slicing instead.\n",
      "\n"
     ]
    },
    {
     "data": {
      "image/png": "[encoded data removed]",
      "text/plain": [
       "<Figure size 800x950 with 1 Axes>"
      ]
     },
     "metadata": {},
     "output_type": "display_data"
    }
   ],
   "source": [
    "explainer = shap.TreeExplainer(bestmodel)\n",
    "shap_values = explainer.shap_values(test)\n",
    "shap.decision_plot(explainer.expected_value, shap_values, test.iloc[0,:])"
   ]
  }
 ],
 "metadata": {
  "kernelspec": {
   "display_name": "Python 3.10.6 ('modsk')",
   "language": "python",
   "name": "python3"
  },
  "language_info": {
   "codemirror_mode": {
    "name": "ipython",
    "version": 3
   },
   "file_extension": ".py",
   "mimetype": "text/x-python",
   "name": "python",
   "nbconvert_exporter": "python",
   "pygments_lexer": "ipython3",
   "version": "3.10.6"
  },
  "orig_nbformat": 4,
  "vscode": {
   "interpreter": {
    "hash": "b9ae54b3b7252eb3331050130acf793dbc454c58162976f5195e4deca65cc9ec"
   }
  }
 },
 "nbformat": 4,
 "nbformat_minor": 2
}
