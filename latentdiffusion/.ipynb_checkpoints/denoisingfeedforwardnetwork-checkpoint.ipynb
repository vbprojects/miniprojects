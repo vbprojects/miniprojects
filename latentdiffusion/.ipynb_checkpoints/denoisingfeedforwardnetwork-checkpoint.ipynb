{
 "cells": [
  {
   "cell_type": "code",
   "execution_count": 1,
   "metadata": {},
   "outputs": [
    {
     "name": "stderr",
     "output_type": "stream",
     "text": [
      "\u001b[33m\u001b[1m┌ \u001b[22m\u001b[39m\u001b[33m\u001b[1mWarning: \u001b[22m\u001b[39mMNIST.traindata() is deprecated, use `MNIST(split=:train)[:]` instead.\n",
      "\u001b[33m\u001b[1m└ \u001b[22m\u001b[39m\u001b[90m@ MLDatasets C:\\Users\\bhatn\\.julia\\packages\\MLDatasets\\bg0uc\\src\\datasets\\vision\\mnist.jl:187\u001b[39m\n",
      "\u001b[33m\u001b[1m┌ \u001b[22m\u001b[39m\u001b[33m\u001b[1mWarning: \u001b[22m\u001b[39mMNIST.testdata() is deprecated, use `MNIST(split=:test)[:]` instead.\n",
      "\u001b[33m\u001b[1m└ \u001b[22m\u001b[39m\u001b[90m@ MLDatasets C:\\Users\\bhatn\\.julia\\packages\\MLDatasets\\bg0uc\\src\\datasets\\vision\\mnist.jl:195\u001b[39m\n"
     ]
    },
    {
     "data": {
      "text/plain": [
       "axis (generic function with 1 method)"
      ]
     },
     "execution_count": 1,
     "metadata": {},
     "output_type": "execute_result"
    }
   ],
   "source": [
    "using Zygote, LinearAlgebra, Flux, Statistics, Images, Random, CUDA, Plots, Distributions, StatsAPI\n",
    "ENV[\"DATADEPS_ALWAYS_ACCEPT\"] = true\n",
    "using MLDatasets, MLUtils\n",
    "train_x, train_y = MNIST.traindata(Float32)\n",
    "test_x, test_y = MNIST.testdata(Float32)\n",
    "TX = train_x |> flatten\n",
    "tX = test_x |> flatten\n",
    "rs(x, y) = w -> reshape(w, (x, y))\n",
    "data = DataLoader((TX, TX), batchsize=200, shuffle=true)\n",
    "axis(x) = D -> [D[[k != x ? (:) : i for k in 1:length(size(D))]...] for i in axes(D, x)]"
   ]
  },
  {
   "cell_type": "code",
   "execution_count": 2,
   "metadata": {},
   "outputs": [
    {
     "data": {
      "text/plain": [
       "Chain(\n",
       "  Dense(28 => 54, selu),                \u001b[90m# 1_566 parameters\u001b[39m\n",
       "  Dense(54 => 106, selu),               \u001b[90m# 5_830 parameters\u001b[39m\n",
       "  Dense(106 => 784, σ),                 \u001b[90m# 83_888 parameters\u001b[39m\n",
       ") \u001b[90m                  # Total: 6 arrays, \u001b[39m91_284 parameters, 856 bytes."
      ]
     },
     "execution_count": 2,
     "metadata": {},
     "output_type": "execute_result"
    }
   ],
   "source": [
    "toint(x) = floor(x) |> Int\n",
    "layers = [2, 1.4, 1.2, 1]\n",
    "w1 = (28 .^ layers[1:end-1]) .|> toint\n",
    "w2 = (28 .^ layers[2:end]) .|> toint\n",
    "encoder = Chain(\n",
    "    Dense(w1[1], w2[1], selu),\n",
    "    Dense(w1[2], w2[2], selu),\n",
    "    Dense(w1[3], w2[3], sigmoid),\n",
    ") |> gpu\n",
    "decoder = Chain(\n",
    "    Dense(w2[3], w1[3], selu),\n",
    "    Dense(w2[2], w1[2], selu),\n",
    "    Dense(w2[1], w1[1], sigmoid),\n",
    ") |> gpu"
   ]
  },
  {
   "cell_type": "code",
   "execution_count": 3,
   "metadata": {},
   "outputs": [
    {
     "name": "stdout",
     "output_type": "stream",
     "text": [
      "Epoch: 1\n",
      "Epoch: 2\n",
      "Epoch: 3\n",
      "Epoch: 4\n",
      "Epoch: 5\n",
      "Epoch: 6\n",
      "Epoch: 7\n",
      "Epoch: 8\n",
      "Epoch: 9\n",
      "Epoch: 10\n",
      "Epoch: 11\n",
      "Epoch: 12\n",
      "Epoch: 13\n",
      "Epoch: 14\n",
      "Epoch: 15\n",
      "Epoch: 16\n",
      "Epoch: 17\n",
      "Epoch: 18\n",
      "Epoch: 19\n",
      "Epoch: 20\n"
     ]
    }
   ],
   "source": [
    "loss = Flux.binarycrossentropy\n",
    "opt = ADAM(0.01)\n",
    "p = Flux.params(Chain(encoder, decoder))\n",
    "for epoch in 1:20\n",
    "    println(\"Epoch: $epoch\")\n",
    "    for (x_batch, y_batch) in data\n",
    "        gpx = x_batch |> gpu\n",
    "        gpy = y_batch |> gpu\n",
    "        gs = gradient(p) do\n",
    "            z = encoder(gpx)\n",
    "            loss(decoder(z), gpy)\n",
    "        end\n",
    "        Flux.Optimise.update!(opt, p, gs)\n",
    "    end\n",
    "end"
   ]
  },
  {
   "cell_type": "code",
   "execution_count": 11,
   "metadata": {},
   "outputs": [
    {
     "data": {
      "text/plain": [
       "11.208313f0"
      ]
     },
     "execution_count": 11,
     "metadata": {},
     "output_type": "execute_result"
    }
   ],
   "source": [
    "encdec = Chain(encoder, decoder) |> cpu\n",
    "Flux.kldivergence(encdec(tX), tX)"
   ]
  },
  {
   "cell_type": "code",
   "execution_count": 12,
   "metadata": {},
   "outputs": [
    {
     "data": {
      "image/png": "[encoded data removed]",
      "text/html": [
       "<img src=\"data:image/png;base64,iVBORw0KGgoAAAANSUhEUgAAAOAAAABwCAAAAAAiICN+AAAABGdBTUEAALGPC/xhBQAAAAFzUkdCAK7OHOkAAAAgY0hSTQAAeiYAAICEAAD6AAAAgOgAAHUwAADqYAAAOpgAABdwnLpRPAAACitJREFUeAHdwQl0leWBAND7v/clIYRFREFREAbUKm543Pe6UAVKmUFHW614xrZqq6KOdlS006o9otN66jpalXHcd2tHWnTqguNewYWKCojWqOxLEkhI8vK+6UuIIXlhc/QM/vcGKRekXJByQcoFKRekXLBeiVKluqm2SpP/f1lNNlyQcsF6ZJTrbZg5qiU2BXnrlwhyEnlBygXrlOhhL0c4xice8JAm0aYvkehtqGcQpFywDokKox1rF131NVClqTZ1iaC7bV2nzitWClIu6FSiIGOI8QarUaOP4AwvyPnqJLJoEq1LtHaJLrbzbafq4yM5BCkXrCGRyCCKIhJb2ByLvGM//e0rsS4ZJXo6yDYqvetjq0RrlxFFBYlEqQGOdqAX/dYqGyeRKEhk7eKfHWwzK12iHkHKBaslKuygvyXmWigvKtjdZrKmm+IbBqiQWLtuTjfOIF0k8mpUutedlmjQmUQvNGjSza6+6Uj99VLiCA/7zIZKlOhtK73MsEI0wBX2ElS73p8UBCkXNMuocJ0d1XrUh/KigmhHWXnTzDHf7hqsTXCE6/VXigQZ5QY5z0ludJ8qxTJ2sZ1yWfvbST9dlSiVKFFvQyUGmmAPfTT6qakyfmYvvOZO92tUEKRcsNrxjlHtE4tViVo1SSSW6aFMXq28Yok+7nGgUjTKIateXlZiSz+1i3+xUkeJ/sbYTL1yi9So1Me+KsxXrU0iWpvEGS5UIa9Mkz29Zyf7WGCqq3wsr0WQckGzrk5XotKdXlQnapH3F1mrHGkLu+IzecW2dL/9lMqb6zp/tZVRhtjacgtVG+A7Kl0tai/xqXfUeNdci9RiSw/a2XvyWiTKDLLMAlGxxKEmyvrUTLvpYbgedrPK7f5TlahVkHJBs18aInrKY2rltYqe9HNd/b2MYLmb5HVU4XZ7a1DjcpPUiypUuUKZ5WaaarTDHOfXctrLmaHe+6rlRAX1ZhhiqVL1snrra4yR3vdjNYr186AuZjrFQuOcaXuDrPSwW9WJ2gQpF/xN4nBZiTkakCBq8bEZDtBd3lIzPKWjxFgHylniMndrkohW6qEXal3lY5WOMlC5Gu1Fy03XIK9VVk6Doc7XzwhlGmWV6ymrWJlpNrfMCWbhBefoqtYfTFQnWlOQckGznFLVVijIyGmV110JGs3xgBU66m6Crma72YPyiMhbpVyJBT5Sb56Mcpur0VFeTtQio9yRDtbNULvICHKqUGmCKh1l/UZvDb7vfVHWUbrJm+pyS0TtBSkX/E1ULiOrvxJ5TdpUGIwmC1R7S9TRnvrhdY9r0Cp6XVZWlMjaQ05eVrFEdw2Crgb6nh300xf1osXmuss7FqtVLepoL2M1utmfRInBvqPWH5xnmbyOgpQLmr1roKxhnjRfXqsyv9dTVK/MSjlBTnuX6KLK3RbJi1p9oNqWhjhezpnKrNRDsb4uspMBypRiiYXmW+Je0y3SKIpIRB1lDNdojus1SWzrWj084jJLRcWClAua3eMAFQ5wiD+qlkPGfh63OXKWWaBahRL1ojYZu4oqzdUoatPkcSfo4UoVyiSWmqejxBhjVShR5X23e8EqwVK1ojZRsYyBEvPQTS9X2Nk015gv6kyQckGz17zgcNs5065e9Z6ebvYNJfKWm+slOdN01csK7U1zsEVyojVFv7CXwbrLoMEjlio23wyLPe0xy0UFiWj9gkGyVtlbuREGe9OvfCSvc0HKBc0WecyO+hlkR6fJK1cqqvOcH2nQTQ991VgpEbWJJlrkegtF7c13gnMdK6j1qIlyOop+b7JGeW2iDZGxyDI9jdVFf0+73Rw5LRJRe0HKBc1WecRs4+xtoFIlErWe80uva5KokhOVqtde9IpPVWrUUd4cEzxjW1PNVS0qlpPzRdT5ubP9nUX4s7tUymuTSERELYKUC1arM91bBjvCALXKPOEdy+UV5C1TI6qV116DD3UuWm6KnAZR9OWa7SIDNKmywgp5a0pkRHmtgpQLmkXkNJpppkSCKIpa5NVKEBXLS0SdiVYi+rJFTar9RUEUtRflRVGrIOWCz0VERO1FBdHaRGsTfVUiomJRIoraBCkXbMIyytQpFnUuERGtKUi5YBOWV2djRETtBSkXpFyQckHKBSkXpFyQckHKBSkXpFyQckHKBSkXrNc/utBgdxjv66Pc1g4zCUHKBesxwaVKcIZRxpjh62CwHzrbKpMQpFywHicqscyVrjbQBU626dvJRU70rN8pCFIuWKeRtsMUN/mmY5zoZOv3XVtJPGGWjZHxPWMNcZmH/F+Uu8IYTxmlSUGQckE7Q1Wq1qa3LpikzhLr01epS52qIPFvuM1/ecL6lBuN4/yDgpM8ZGOUKfFtgz1qJkpNMMYsl2nSIki54HM9Xe1Yx3lGe2+bYf3Oc6HNJaIWEacabRdLdG4ffMtuRilTMFtPfWycMg8YZluMdZTFrnSOGf7JdK2ClAtW6+YUP/Cyd3VUrdQwB+AhndvBHYbYXMESz2IPQxT08ZDjLNGZ55Wq1miFFV72lqtd7mwbYzd3G4qZdra7Li52lk8Mt1CbIOWC1U5xDc41T0cH+ViLN3VmB1fZV8StFrjJQjxriFkmO88hHjVKjWL76e9li31RI91ggNdd5nnP2tOhfqTBtRZaU5BywWrDdeYNi22hRb2pOnOW0TIWudhtWh0qeskFprrfQX7lNMXe9KZ12cL5zkBPnSlzmz4e9hOL9TcMV9naeDdoL0i5YLXDJM71Z+3NsNSWSPDfXlasu0NEbxvpE61GiaLb8IQfm+RUp9lQJbra1VhH6W1b1OpMV1foa4rjFZwskehnrht0FKRc0Ox8Fe51vWIv2QHRSr9WrK+nDDXL0eZps702s22orQ3H0WYagEQ02X94XmcuNd6rvq/FHiKecpZiQcoFzUaiUV6xT7VY7nnF9jMUk81TbE+v2BBbOsk2xuijm4IBFrkak32oXmdKnWiVUZYoON4IzPUbsxULUi5o9pRDdGaCC6zLuRJ1rtHe81aqcLTf4mKJzmXta5iT9bONgjq3qnUvFvqrdbnFNv5oiYJ+7lDqE0N0Lki54HMjTXKOaq0GutM+SjBdf31c4m4faW8r0RPmaW+aW403wgh7OkY0WWf+3Q8U/I8ZXvG239lQe+NNBcElSj3oUmsTpFzQ7D7jbG+cMtdq8S3jDMIyU5xtmPv8Qs5Exe5X7H7j8ahExOU6U2uWJ73lTjkbZ2dV7lWwv9Pc51T11iZIuaDZR0Z4TS8nOEGrjLwq9xiPp51oiuEmau9yE72h2Bt+4lJbKbjcGzpzji/qI9u5Vp0PHKnSz9RbuyDlgtXmOl25c+2uRbXJnjTXi1q86BRv6Oge9+hMzi1u8UPdfeZ+X7bvusnhWOlf3ajBugQpF3zuYTxntBYvm25Nte6ysW711XjV/g73gXofW58g5YJ2Kt3o66DBFBsmSLkg5YKUC1IuSLkg5YKUC1IuSLn/BYpFWQvW5+pWAAAAAElFTkSuQmCC\">"
      ],
      "text/plain": [
       "56×112 Array{Gray{Float32},2} with eltype Gray{Float32}:\n",
       " Gray{Float32}(1.38547f-6)  …  Gray{Float32}(3.87225f-6)\n",
       " Gray{Float32}(2.92927f-6)     Gray{Float32}(2.20164f-6)\n",
       " Gray{Float32}(1.89802f-6)     Gray{Float32}(2.12287f-6)\n",
       " Gray{Float32}(9.83686f-7)     Gray{Float32}(2.9959f-6)\n",
       " Gray{Float32}(9.03111f-7)     Gray{Float32}(1.95575f-5)\n",
       " Gray{Float32}(1.20526f-6)  …  Gray{Float32}(1.54777f-5)\n",
       " Gray{Float32}(3.24667f-6)     Gray{Float32}(3.5343f-5)\n",
       " Gray{Float32}(1.24902f-6)     Gray{Float32}(1.17171f-5)\n",
       " Gray{Float32}(9.50371f-7)     Gray{Float32}(1.01431f-5)\n",
       " Gray{Float32}(1.44514f-6)     Gray{Float32}(2.2972f-6)\n",
       " Gray{Float32}(1.08389f-6)  …  Gray{Float32}(5.1422f-5)\n",
       " Gray{Float32}(1.6749f-6)      Gray{Float32}(2.12447f-6)\n",
       " Gray{Float32}(4.40439f-8)     Gray{Float32}(1.90926f-6)\n",
       " ⋮                          ⋱  \n",
       " Gray{Float32}(0.0)            Gray{Float32}(0.0)\n",
       " Gray{Float32}(0.0)         …  Gray{Float32}(0.0)\n",
       " Gray{Float32}(0.0)            Gray{Float32}(0.0)\n",
       " Gray{Float32}(0.0)            Gray{Float32}(0.0)\n",
       " Gray{Float32}(0.0)            Gray{Float32}(0.0)\n",
       " Gray{Float32}(0.0)            Gray{Float32}(0.0)\n",
       " Gray{Float32}(0.0)         …  Gray{Float32}(0.0)\n",
       " Gray{Float32}(0.0)            Gray{Float32}(0.0)\n",
       " Gray{Float32}(0.0)            Gray{Float32}(0.0)\n",
       " Gray{Float32}(0.0)            Gray{Float32}(0.0)\n",
       " Gray{Float32}(0.0)            Gray{Float32}(0.0)\n",
       " Gray{Float32}(0.0)         …  Gray{Float32}(0.0)"
      ]
     },
     "execution_count": 12,
     "metadata": {},
     "output_type": "execute_result"
    }
   ],
   "source": [
    "iS = rand(1:1000, 4)\n",
    "[reduce(hcat, [encdec(TX[:, i])' |> rs(28, 28) for i in iS]); reduce(hcat, [TX[:, i]' |> rs(28, 28) for i in iS])] .|> Gray"
   ]
  },
  {
   "cell_type": "code",
   "execution_count": 154,
   "metadata": {},
   "outputs": [
    {
     "name": "stdout",
     "output_type": "stream",
     "text": [
      "start of Epoch: 1\n",
      "start of Epoch: 2\n",
      "start of Epoch: 3\n",
      "start of Epoch: 4\n",
      "start of Epoch: 5\n",
      "start of Epoch: 6\n",
      "start of Epoch: 7\n",
      "start of Epoch: 8\n",
      "start of Epoch: 9\n",
      "start of Epoch: 10\n",
      "start of Epoch: 11\n",
      "start of Epoch: 12\n",
      "start of Epoch: 13\n",
      "start of Epoch: 14\n",
      "start of Epoch: 15\n",
      "start of Epoch: 16\n",
      "start of Epoch: 17\n",
      "start of Epoch: 18\n",
      "start of Epoch: 19\n",
      "start of Epoch: 20\n"
     ]
    }
   ],
   "source": [
    "T = 10\n",
    "mag_e = 5\n",
    "function encode_first(x, y)\n",
    "end\n",
    "diffuser = Chain(Flux.Bilinear((mag_e, 28) => 28, selu), Dense(28, 28, selu), Dense(28, 28, selu), Dense(28, 28, sigmoid)) |> gpu\n",
    "t_emb = Embedding(T, mag_e) |> gpu\n",
    "loss = Flux.mse\n",
    "opt = Adam(0.01)\n",
    "β = 0:1/(T - 1):1\n",
    "p = Flux.params(Chain(t_emb, diffuser))\n",
    "Dh(x, t) = rand(Normal(sqrt(1 - β[t])*x, β[t]))\n",
    "Dc(t) = (x) -> Dh(x, t)\n",
    "D(x, t) = Dc(t).(x)\n",
    "# x_batch, y_batch = first(data)\n",
    "# t = rand(1:T)\n",
    "# z = encoder(x_batch |> gpu) |> cpu\n",
    "# nz = Dc(t).(z) |> gpu\n",
    "# S = size(z, 2)\n",
    "# t_enc = ones(Int64, S) * t |> gpu\n",
    "# gpy = y_batch |> gpu\n",
    "# zp = diffuser(((t_enc |> t_emb), nz))\n",
    "# loss(decoder(zp), gpy)\n",
    "for epoch in 1:20\n",
    "    println(\"start of Epoch: $epoch\")\n",
    "    for (x_batch, y_batch) in data\n",
    "        t = rand(1:T)\n",
    "        z = encoder(x_batch |> gpu) |> cpu\n",
    "        nz = D(z, t) |> gpu\n",
    "        S = size(z, 2)\n",
    "        t_enc = ones(Int64, S) * t |> gpu\n",
    "        gpy = y_batch |> gpu\n",
    "        gs = gradient(p) do\n",
    "            zp = diffuser(((t_enc |> t_emb), nz))\n",
    "            loss(decoder(zp), gpy)\n",
    "        end\n",
    "        Flux.Optimise.update!(opt, p, gs)\n",
    "    end\n",
    "end"
   ]
  },
  {
   "cell_type": "code",
   "execution_count": 157,
   "metadata": {},
   "outputs": [
    {
     "data": {
      "text/plain": [
       "R (generic function with 2 methods)"
      ]
     },
     "execution_count": 157,
     "metadata": {},
     "output_type": "execute_result"
    }
   ],
   "source": [
    "cdif = diffuser |> cpu\n",
    "dec = decoder |> cpu\n",
    "cembed = t_emb |> cpu\n",
    "R(x, t) = cdif((cembed(ones(Int64, size(x, 2)) * t), x))"
   ]
  },
  {
   "cell_type": "code",
   "execution_count": 195,
   "metadata": {},
   "outputs": [
    {
     "data": {
      "text/plain": [
       "sample_d (generic function with 1 method)"
      ]
     },
     "execution_count": 195,
     "metadata": {},
     "output_type": "execute_result"
    }
   ],
   "source": [
    "function sample_d(n)\n",
    "    x = randn(28, n)\n",
    "    xn = randn(28, n)\n",
    "    for t in T:-1:1\n",
    "        xn = R(x, t)\n",
    "        x = D(xn, t)\n",
    "    end\n",
    "    return xn\n",
    "end"
   ]
  },
  {
   "cell_type": "code",
   "execution_count": 209,
   "metadata": {},
   "outputs": [
    {
     "data": {
      "image/png": "[encoded data removed]",
      "text/html": [
       "<img src=\"data:image/png;base64,iVBORw0KGgoAAAANSUhEUgAAAjAAAAA4CAAAAADGVp33AAAABGdBTUEAALGPC/xhBQAAAAFzUkdCAK7OHOkAAAAgY0hSTQAAeiYAAICEAAD6AAAAgOgAAHUwAADqYAAAOpgAABdwnLpRPAAAEbZJREFUeAHtwdmTXXedGPDP79zT9/a+qbW1dlleMQaPXYOBqYEZJmSSl9Q8zL+V5+Q9VXmZyltSCYTKFGCwB+PxImyEZO2tpbvV693vPeebamShvpK6rSZFiof7+eSGhg4gNzR0ALmhoQPIDQ0dQO7PTBL+f0oCSRh6HrmhoQPIPUMSEsJDSZKEEJIwKAk7kqT0pISQJKW9JA8Fwp9eEh4JJCEJB5WQhLC/JDwpCV8lCX9uckNDB5B7puSR5KGwI3laeChJkjAokJDsJckQdoQkPK/kofD/JhD+OOGPE55HsiP8+cgNDR1A7hlCkoQMSUhyhELpSUl4KASSsFvyUGlvIZMJO0JpR/hqIUlIkhAeCfsLJCF5KCQ7wldJBlXsKIWwt/Ck5JGwn4SQ7Ah/eslj4VlyQ0MHkHuGJCHJJLmk5rAxTfc0lZ6UPJTJhNJuSUUSSqW9JLmahExHqbCjFAj7SXIZKkqUyJRKhbC/JEl2JCQVoVQKYW9JsiNJKpIRh0xoWNFWCntLHkuSqhGhoy/sJUlyO5JCKO0IzyN5LCSPhb1lMgQCCUkI4bHc0NAB5J6SJJkkSUbVTDvna475V5+4qSU8KUlG1NDTUwo7khFTpjQ1tYXwtCRTNWLUiEmFtoau3Ii2tlLYS5KpGDNqQih0MWZa1z1NPaW9JZkKklxuxLR5m5a19IW9JEkmyWQmjJn3ujcd9UvvuqJpUBIeSkhISKiYcs5Jt92ypic8S5LJVVWMqCi09SSFnvBVkiTJEEpkKiiFQHiWZFQuUyj0kVAzpaOurxQeyg0NHUBuQJLJVeSSERUjJhxySG7SN4xqWPKkJDdiyrTQ0NTVFzJVh5zykhU3XbflaUlm1Iwp43KLOh5Y0RKqapKertLTEnKTjjpu1BEbHtiW1MypmvTAkq7wLEnFqDGZmmTcrElHVLV8atmmnvAsmREjchUTJk2bd9xrTjjs++b9k8sKg5KQJJlMjlyplBlzwote8aJLfm7N05IkN2HKmOSoqsKalqamhq4Q9pIkI8aNGNPT1FJIklymoqur72mZaa84pG3Jtqa+TG7CjMyKlrq+sCM3NHQAuT9IktysOTNGVGxZMKan545RJ834riWrmgZVVM1aNGtK24abAlXjprzhDbctaupoGZRUjHnBouNKubpz1rCkacRh8zqWtJQGJZkxZ73mbRNKS85bds2yTePOOCH8yC09T0tGXfC2CV2rzjlkTNsNybRNCy57oONpFQvOOiwzJnndjC1NS0ZMGPU9993SMChJcmNGTRo1aUtFV09VbsKC485YsqlvUJKpOums0/p6ul414b5rrpnXsaytoxSelqk55mVHjNsy47qPreurmDXnlE0rrioMyhzyj75vwW0/9wtTklxfXemoKZOuuqsukBsaOoDcl5KKMfOOWdDX0XLIBVx2U6gZ845Zb/lY06Axh00bU9iwpeGoRZPqthw15prcKa/Z1BZ2y0w740WHbLpqyxHTeppaQlfPty36Zx/bEh5LauZd8LIX9H3uhprjVty1bEfVv3VO1X+x5klJzRv+wbRbLpvxskXbPvRAx7Yj3rDooovCbknumL/0gmXr6l71pvCBj2xZcc1fO+wHfqRht2TUhAnTJpDrWnTIpmXbkhWf+I7T/spn+nZLKiYd9aLT1lyy6YjzjpjBgork67o+tKplUJKb9rK/MWPTkiNet+CODUnFhB96R9/H/qPCbsmk7/mes+75hfe1zRnXtqKtwF/6rlUf+Sd95IaGDiD3B5NOOK/igaaO5JhJy+4r1OQKyZwTugZl5hwx774tPcmYRd9SuuyCKX2XHXbBhp8LuyWjTnkLV920pmLesptWVY3IzTjvO+b81qDMcW/4uraL7ljRc9iaWzbUTKgKEy4o/VdPyoz7lh+quekjq87J9KyYMOML941527dtumjQiEX/zim/9Tsrprxp0rIr6nru66qbcl5h0IgLzpp336qeZMJx87a0zZrSsy6c8DXhSZPOeh2XfGFDxYwVLV1fQ1/fWee85z9pGVR12ve8gmVXbBtx3wPMYtbL3vZNDT9RGJQ77h0TPvDPfm3bDLZsqpjU1TbmDaNaHsoNDR1A7ksV8141bUWhoTSt1JC54IEpmbYtN/yLpkFVhyxo2NASxkw5ZEzFt2UafmRJrq+ra1Ay7mWzltS1ZcYV7qmbk8ttS8aNSzrCblXnfRN33LGsY8SGhroJsyatayuVtrQMSsa86e8suONTl41o68q8ZFXyU+sWHVEzb1Ay5/tes+aemzpmVPRwQUvPffQV7tkyaM53XHDfksCk445q6TsmV3NPT1fXPT2DcrNeNeOmZU2FEaUVPd92RvKupty8RU9K5v29v9By3W/cNeqmbaWXLZrStmhUwxXvKg3KnZa77n2/9kBNX0PmmHEtNyXHLQiZ0o7c0NAB5L404XUvuC90VFVMojCr6ZTShqaPlX6lsFsy45Rpt3T1TVgwqyZz2KZ1P/MRVtxxV2FQxVEnUTWNpnFTChO2jaurOuqIrut6Bh31LSf9xraWKRNCW2FK1WFNPeNqNn2gZ1DFN/wHx8y6oo5Rcw45KnT91gN9uUxVzaBRf+uH2patCDVzJmWqembc1jKt7oGfa9kt84bvm3BXJhxy2oKansPuyaxYN6HllneVBk244GX3VYyaVFFTM+EvvGTBdRt6SiuuKA0a8ZYfSG64bU1LT0+yKJw2Ys2cZQ0/sWRQMu+stra7QsWYmjGzahatKr3om8Y98LGwIzc0dAC538sc87JxpWQUbVt6zqg6Ytu2wgMz7loTHktyR1ywrjRqwrRJudKkti3/00UNNaPW3FHYLRl13CGlWcfdtOqwo6atuuuevjknHbXkstJuuW/4mgrGLeirI0wp1bRsqZo056aLCrslR/2jrxvRVdU0YtZrzpvQ9L53NVW9oKqrYbfk6/7BOXd8oSoXktKIUk3DtlzNEbf9SumxZMy/8ZK6WfNyM3JJ1Qnbcnesy1B12TVht4rj3nLemEUnfO6BGS/5ljMmfeZnbpnU9xsf6Rs06S3TGtraWtomjDtp1qhSQ27VpM98qGdQ5rijKnqqyFTUvGjGhFFHve2Cr2v5nSseyg0NHUDu95LctsyqDS1tDau+5rQT1nxhy7hjVqxoCLslbNlUqJhSFToWzJhw000tFeecFu7pGVQq9FUdUnVfJveaedt+o23cq/7Otos+0bVbhrbShp5cx6aeC86bsO2KlpP+vdLnLinsljvmtAlLVl3SNuW41x1Rcc8vbap4xTeN+tAvhccqXnXCjKvWdITMhkOmZI64ZtRhf6Pjis+UdsvVhK660oSwqXTSLJpu4ai/N+GiFWG3TNWiinGnzatjwRvOWNR0w6pJr7jtus817JbQsuGqW7Yxasw3vOqo0pLb5o143w1f6HhSz4htHU0Ftr3mrx1WGlEx55i6u/6zz4UduaGhA8j9XlhzyXEd4xr6mHPeKeO2VWUyt3xuWctuofDAXU2ZWaOqZp3wqhn3faivas47Fn3ugbBb6Fly0ymTrls35rgZkxj3ouQFK973Y3eVduu77FM122pWbWDBi96Q+a05I94w4hf+u1Vht9K2B8Zc1bFl0ov+ylF9635qU820b5t3y3+zZrewrq1QOmpUzZjXHJIpJdPmHdP0vvesCo+Fpvcct2XdlC0dkw6bNmlGZs6Ud5x30y9tG1RY8Ymzwknb6uadNKZn3ZLSlI5LrrhuQ2m30PKuvnXjKmZMOe+bzhtTV9q05n2faSiEQWFdadq0qqrCvDe9ZkJSWtf0nv/l55YUHsoNDR1A7vdKa27IzTokU9f3uncsWLaubUrXJcvanlR64LrDjnlVxYQZJ8144AP3ZI543YwVVzWFQX3LrjopYVHNWZN6NkybMyH5tf9tSWFQ6br3nFYzpy3Td8pZVcu2TXrFOVf9HzcUBpVue9d3ZI54RdXrTum66orbas44KXfDHR/q2K30oSumzDjtrBkLvueY0pptI14y7aL33Vca1PdjNbO6TphRwYIxNFQd9YJvWPeeLxQGlVb81D2vaGo7bcSYdQ2TakbVLLnmvqbCk9o+13HGWaNmjDvuBVOa6Gj40Ge2lZ4WmrouaDmso+ev/MCijpY1N932P3yurRQeyg0NHUDuS31NnHDKgpYZF0y66LJ1hbseuKetFAaFnrpT3vK2vnE9DZf9zFXrKjL3bdpwSc+TQtuybblTZmXYtmTLuHn3XfSe23rCkzruGnfeObM21Y3Zdt0dhdN6PvIrv9UWBoWOTy16yVnHzBiz6rL3rGto6briunDTptJuYd2nzhl11Hf1nHVW+Nwn1tGw4ZI7usKgsOEXTjnjpEzfsmV9G+7YNie54pKf2VZ6Ut8dhUNGHDNhxReStnOO2fCZS7Z0hPCkUHfXGWfMqunqablt3bKr3rWkqfQsoTBmxow3nXHSG47bcNVnfudf3belLzyWGxo6gNyXQk9d3Zo5JxzS8IErGjY0rOlqKIVn6alrumfWkpvec01b0jeip6uprimEQaHntvdtKtzSMaZm3LQZl33itnsK4WlhDVWlnhvqkoqq3IS71t1zSUd4WrjtPX09c5Ys+bHPdIwrdXTQU+grPannI0cdUZo154S29/1K3bq6B3pW9IWnFW7bVNcx4qb7Wpgwraa0rO4TWwpPC213/Upfy2e29CQL+uo+d1FDV3i2vg03/cKidfc1lZLCqms2FEp76bvmvNIhhxxT+thHPvWxe9ooDcoNDR1A7kuh645Jhy2Ytexd17Vt2dTS1lcKz1Kqu6WqZcJt/+KeMCJTQV9DW0cpPK1Q97EvVDT0JLNe0HbXNXc0FMKzhJb7Or7AlrYw7YxRyU1LlnWEZylt+I22FbPueN+yQrJtRyGUCE/r+a2OV7xi0RFrfu0Dt6zY1tHRUwjPUmrpargqaeoojZhSN2HNpgfqSs9W6rjqttBRYsSoO1Zd09QT9hLafueOMXUNhZppfU0NhdLeun6p6lXnTbvnJy677YZNfeFpuaGhA8h9KbRsWHffpDsu+sCmpKOrpxTCXppCZllh06oe+pKKloSu0rOFUltbeKiQqQrL2grh2UIhrFtH2JHUBW5Y0xX20rPlmmWhblNPSEJCIDxbWNfT01Ox5Jofu6uro68QQthLKLQ0EQKhrm1ToaOnFJ4t0NP1SF/DHcmmQthbCE1NIQS6Oij0hf303PGxnr4Rv/YTdV1dpfAsuaGhA8jtUlrzhXVtl63qC30Fwt5CUtqwodDTF5IShYoklMLeSiF5qG9dqdRXCPsJfTuSkOlbsayrrae0n8KWulDqCwTCjrC30HZL15quq9Z1hUJpR9hfKTwSenpaklJpfyGQ7AgdfaUCSdhPKRB2lHpCKewv9Nyy7aqua9b1hVJ4ttzQ0AHkvpTkSsvWjBuzra2QlAiEvSQ52gohUxF2hCSEEAh7CYQkCaGnQImwvxJJkgldmwqhUAp7S0IXSZIk4Xn1bWm4q6ahKRCeR3goIVAKyY4Q9hYeSUiSniQQkvBsSQg7EgKl8NWSvlUP3DSqpSeEsJfc0NAB5L6Uqerqo25CX6m0IyRhbxVzGlpKpVxF0hNCEijtLSGQZDKh1BN2hL0lmdKOkGRKhZaHwt6SqkKJMI6OvvDVkopSodBTUwghfLWkohR2ZAghBJJS2FtC2JHJVYSQJMn+EsKOTBJK4XlUhB66SiEphb3lhoYOIPelUkuptKOpVCLsCPsJTX2EkKOvokAY0Re+WiiFJCkEkrC3EHYECoFMISSE/YQQAhkymVKgorC3UAgEOkIIf4xMKBCS5xUKNaOaOjI1PYS9BQKlpCJTKJGE/RQIhA5K+8sNDR1A7kuhLzzU8/wKdaGwo6VUCjsqOsJ+wiOlhLAjCfsL4aFQIOxISvsJXYQd2whhR6YQ9lN6pPD8QoGwo5CEQFJRCPsJj4RSw7ZATV3YT+mRUlIKO5IQ9lN6pEDYX25o6AByfxD+OD2P9DzWdxDhkfBVwiPhsdJXCY+UHiv9qYRHQngo9D2/EB7pOIjwSHh+4avlhoYO4P8CKL8T2tWpesMAAAAASUVORK5C\">"
      ],
      "text/plain": [
       "28×280 Array{Gray{Float64},2} with eltype Gray{Float64}:\n",
       " Gray{Float64}(4.03546e-5)  …  Gray{Float64}(6.72441e-6)\n",
       " Gray{Float64}(5.27755e-5)     Gray{Float64}(5.88099e-6)\n",
       " Gray{Float64}(5.48828e-5)     Gray{Float64}(6.03978e-6)\n",
       " Gray{Float64}(4.72472e-5)     Gray{Float64}(6.31093e-6)\n",
       " Gray{Float64}(4.72737e-5)     Gray{Float64}(3.52232e-7)\n",
       " Gray{Float64}(4.66844e-5)  …  Gray{Float64}(2.42764e-7)\n",
       " Gray{Float64}(4.43151e-5)     Gray{Float64}(3.0095e-8)\n",
       " Gray{Float64}(4.0073e-5)      Gray{Float64}(2.39179e-8)\n",
       " Gray{Float64}(4.98569e-5)     Gray{Float64}(6.18521e-7)\n",
       " Gray{Float64}(3.53545e-5)     Gray{Float64}(3.17244e-6)\n",
       " Gray{Float64}(3.84124e-5)  …  Gray{Float64}(1.81445e-5)\n",
       " Gray{Float64}(3.19913e-5)     Gray{Float64}(1.33799e-6)\n",
       " Gray{Float64}(2.90806e-5)     Gray{Float64}(7.08003e-7)\n",
       " ⋮                          ⋱  \n",
       " Gray{Float64}(3.6349e-5)      Gray{Float64}(8.53128e-7)\n",
       " Gray{Float64}(4.34572e-5)     Gray{Float64}(1.57853e-7)\n",
       " Gray{Float64}(5.47347e-5)     Gray{Float64}(1.18961e-7)\n",
       " Gray{Float64}(5.23279e-5)     Gray{Float64}(3.65917e-8)\n",
       " Gray{Float64}(4.36968e-5)  …  Gray{Float64}(3.24726e-7)\n",
       " Gray{Float64}(3.44185e-5)     Gray{Float64}(9.09989e-8)\n",
       " Gray{Float64}(4.57534e-5)     Gray{Float64}(3.56844e-8)\n",
       " Gray{Float64}(4.58681e-5)     Gray{Float64}(9.04197e-7)\n",
       " Gray{Float64}(3.40686e-5)     Gray{Float64}(7.96894e-6)\n",
       " Gray{Float64}(4.54593e-5)  …  Gray{Float64}(7.68514e-6)\n",
       " Gray{Float64}(3.96783e-5)     Gray{Float64}(5.3354e-6)\n",
       " Gray{Float64}(4.46156e-5)     Gray{Float64}(7.6034e-6)"
      ]
     },
     "execution_count": 209,
     "metadata": {},
     "output_type": "execute_result"
    }
   ],
   "source": [
    "h = 10\n",
    "sample_d(h) |> dec |> rs(28, 28*h) .|> Gray"
   ]
  },
  {
   "cell_type": "code",
   "execution_count": 121,
   "metadata": {},
   "outputs": [
    {
     "ename": "LoadError",
     "evalue": "DimensionMismatch: number of rows in data must match W",
     "output_type": "error",
     "traceback": [
      "DimensionMismatch: number of rows in data must match W",
      "",
      "Stacktrace:",
      " [1] (::Flux.Bilinear{typeof(selu), Array{Float32, 3}, Vector{Float32}})(x::Matrix{Float32}, y::Matrix{Float32})",
      "   @ Flux C:\\Users\\bhatn\\.julia\\packages\\Flux\\v79Am\\src\\layers\\basic.jl:426",
      " [2] Bilinear",
      "   @ C:\\Users\\bhatn\\.julia\\packages\\Flux\\v79Am\\src\\layers\\basic.jl:440 [inlined]",
      " [3] macro expansion",
      "   @ C:\\Users\\bhatn\\.julia\\packages\\Flux\\v79Am\\src\\layers\\basic.jl:53 [inlined]",
      " [4] _applychain",
      "   @ C:\\Users\\bhatn\\.julia\\packages\\Flux\\v79Am\\src\\layers\\basic.jl:53 [inlined]",
      " [5] Chain",
      "   @ C:\\Users\\bhatn\\.julia\\packages\\Flux\\v79Am\\src\\layers\\basic.jl:51 [inlined]",
      " [6] macro expansion",
      "   @ C:\\Users\\bhatn\\.julia\\packages\\Flux\\v79Am\\src\\layers\\basic.jl:53 [inlined]",
      " [7] _applychain(layers::Tuple{Chain{Tuple{Dense{typeof(selu), Matrix{Float32}, Vector{Float32}}, Dense{typeof(selu), Matrix{Float32}, Vector{Float32}}, Dense{typeof(σ), Matrix{Float32}, Vector{Float32}}}}, Chain{Tuple{Flux.Bilinear{typeof(selu), Array{Float32, 3}, Vector{Float32}}, Dense{typeof(selu), Matrix{Float32}, Vector{Float32}}, Dense{typeof(selu), Matrix{Float32}, Vector{Float32}}, Dense{typeof(σ), Matrix{Float32}, Vector{Float32}}}}, Chain{Tuple{Dense{typeof(selu), Matrix{Float32}, Vector{Float32}}, Dense{typeof(selu), Matrix{Float32}, Vector{Float32}}, Dense{typeof(σ), Matrix{Float32}, Vector{Float32}}}}}, x::Matrix{Float32})",
      "   @ Flux C:\\Users\\bhatn\\.julia\\packages\\Flux\\v79Am\\src\\layers\\basic.jl:53",
      " [8] (::Chain{Tuple{Chain{Tuple{Dense{typeof(selu), Matrix{Float32}, Vector{Float32}}, Dense{typeof(selu), Matrix{Float32}, Vector{Float32}}, Dense{typeof(σ), Matrix{Float32}, Vector{Float32}}}}, Chain{Tuple{Flux.Bilinear{typeof(selu), Array{Float32, 3}, Vector{Float32}}, Dense{typeof(selu), Matrix{Float32}, Vector{Float32}}, Dense{typeof(selu), Matrix{Float32}, Vector{Float32}}, Dense{typeof(σ), Matrix{Float32}, Vector{Float32}}}}, Chain{Tuple{Dense{typeof(selu), Matrix{Float32}, Vector{Float32}}, Dense{typeof(selu), Matrix{Float32}, Vector{Float32}}, Dense{typeof(σ), Matrix{Float32}, Vector{Float32}}}}}})(x::Matrix{Float32})",
      "   @ Flux C:\\Users\\bhatn\\.julia\\packages\\Flux\\v79Am\\src\\layers\\basic.jl:51",
      " [9] top-level scope",
      "   @ In[121]:2"
     ]
    }
   ],
   "source": [
    "fm = Chain(encoder, diffuser, decoder) |> cpu\n",
    "Flux.kldivergence(fm(tX), tX)"
   ]
  },
  {
   "cell_type": "code",
   "execution_count": null,
   "metadata": {},
   "outputs": [],
   "source": [
    "iS = rand(1:1000, 4)\n",
    "[reduce(hcat, [fm(TX[:, i])' |> rs(28, 28) for i in iS]); reduce(hcat, [TX[:, i]' |> rs(28, 28) for i in iS])] .|> Gray"
   ]
  },
  {
   "cell_type": "code",
   "execution_count": null,
   "metadata": {},
   "outputs": [],
   "source": [
    "encs = encoder(TX |> gpu) |> cpu\n",
    "mvbetadist = Distributions.Product(encs |> axis(1) .|> x -> fit_mle(Beta, x))\n",
    "mvnormdist = Distributions.Product(encs |> axis(1) .|> x -> fit_mle(Normal, x))"
   ]
  },
  {
   "cell_type": "code",
   "execution_count": 262,
   "metadata": {},
   "outputs": [
    {
     "data": {
      "text/plain": [
       "Chain(\n",
       "  Chain(\n",
       "    Dense(28 => 54, selu),              \u001b[90m# 1_566 parameters\u001b[39m\n",
       "    Dense(54 => 106, selu),             \u001b[90m# 5_830 parameters\u001b[39m\n",
       "    Dense(106 => 784, σ),               \u001b[90m# 83_888 parameters\u001b[39m\n",
       "  ),\n",
       ") \u001b[90m                  # Total: 6 arrays, \u001b[39m91_284 parameters, 357.047 KiB."
      ]
     },
     "metadata": {},
     "output_type": "display_data"
    }
   ],
   "source": [
    "dd = Chain(diffuser, decoder) |> cpu\n",
    "d = Chain(decoder) |> cpu"
   ]
  },
  {
   "cell_type": "code",
   "execution_count": 312,
   "metadata": {},
   "outputs": [
    {
     "data": {
      "text/plain": [
       "(380054.44f0, 266174.6661939353)"
      ]
     },
     "metadata": {},
     "output_type": "display_data"
    }
   ],
   "source": [
    "sum(encs |> axis(2) .|> x -> loglikelihood(mvbetadist, x)), sum(encs |> axis(2) .|> x -> loglikelihood(mvnormdist, x))"
   ]
  },
  {
   "cell_type": "code",
   "execution_count": 320,
   "metadata": {},
   "outputs": [
    {
     "data": {
      "text/plain": [
       "(287.6242259329252, 400.74370652423073)"
      ]
     },
     "metadata": {},
     "output_type": "display_data"
    }
   ],
   "source": [
    "Flux.kldivergence(rand(mvbetadist, 10000) |> dd, tX), Flux.kldivergence(rand(mvbetadist, 10000) |> d, tX)"
   ]
  },
  {
   "cell_type": "code",
   "execution_count": 323,
   "metadata": {},
   "outputs": [
    {
     "data": {
      "text/plain": [
       "(286.9530572800221, 406.0179387169956)"
      ]
     },
     "metadata": {},
     "output_type": "display_data"
    }
   ],
   "source": [
    "Flux.kldivergence(rand(mvnormdist, 10000) |> dd, tX), Flux.kldivergence(rand(mvnormdist, 10000) |> d, tX)"
   ]
  },
  {
   "cell_type": "code",
   "execution_count": 324,
   "metadata": {},
   "outputs": [
    {
     "data": {
      "text/plain": [
       "(367.9909379200449, 524.0393653389146)"
      ]
     },
     "metadata": {},
     "output_type": "display_data"
    }
   ],
   "source": [
    "Flux.kldivergence(rand(28, 10000) |> dd, tX), Flux.kldivergence(rand(28, 10000) |> d, tX)"
   ]
  },
  {
   "cell_type": "code",
   "execution_count": 325,
   "metadata": {},
   "outputs": [
    {
     "data": {
      "text/plain": [
       "(547.6425734023377, 836.1168753124942)"
      ]
     },
     "metadata": {},
     "output_type": "display_data"
    }
   ],
   "source": [
    "Flux.kldivergence(randn(28, 10000) |> dd, tX), Flux.kldivergence(randn(28, 10000) |> d, tX)"
   ]
  },
  {
   "cell_type": "code",
   "execution_count": 326,
   "metadata": {},
   "outputs": [
    {
     "data": {
      "text/plain": [
       "(369.5001151062365, 526.2097914160381)"
      ]
     },
     "metadata": {},
     "output_type": "display_data"
    }
   ],
   "source": [
    "Flux.kldivergence(rand(Beta(), 28, 10000) |> dd, tX), Flux.kldivergence(rand(Beta(),28, 10000) |> d, tX)"
   ]
  },
  {
   "cell_type": "code",
   "execution_count": null,
   "metadata": {},
   "outputs": [],
   "source": []
  }
 ],
 "metadata": {
  "kernelspec": {
   "display_name": "Julia 1.9.0-beta4",
   "language": "julia",
   "name": "julia-1.9"
  },
  "language_info": {
   "file_extension": ".jl",
   "mimetype": "application/julia",
   "name": "julia",
   "version": "1.9.0"
  },
  "vscode": {
   "interpreter": {
    "hash": "c261aea317cc0286b3b3261fbba9abdec21eaa57589985bb7a274bf54d6cc0a7"
   }
  }
 },
 "nbformat": 4,
 "nbformat_minor": 4
}
