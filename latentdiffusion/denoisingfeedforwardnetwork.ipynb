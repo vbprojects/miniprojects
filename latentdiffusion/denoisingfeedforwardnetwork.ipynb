{
 "cells": [
  {
   "cell_type": "code",
   "execution_count": 2,
   "metadata": {},
   "outputs": [
    {
     "name": "stderr",
     "output_type": "stream",
     "text": [
      "┌ Warning: MNIST.traindata() is deprecated, use `MNIST(split=:train)[:]` instead.\n",
      "└ @ MLDatasets C:\\Users\\bhatn\\.julia\\packages\\MLDatasets\\bg0uc\\src\\datasets\\vision\\mnist.jl:187\n"
     ]
    },
    {
     "name": "stderr",
     "output_type": "stream",
     "text": [
      "┌ Warning: MNIST.testdata() is deprecated, use `MNIST(split=:test)[:]` instead.\n",
      "└ @ MLDatasets C:\\Users\\bhatn\\.julia\\packages\\MLDatasets\\bg0uc\\src\\datasets\\vision\\mnist.jl:195\n"
     ]
    },
    {
     "data": {
      "text/plain": [
       "axis (generic function with 1 method)"
      ]
     },
     "metadata": {},
     "output_type": "display_data"
    }
   ],
   "source": [
    "using Zygote, LinearAlgebra, Flux, Statistics, Images, Random, CUDA, Plots, Distributions, StatsAPI\n",
    "ENV[\"DATADEPS_ALWAYS_ACCEPT\"] = true\n",
    "using MLDatasets, MLUtils\n",
    "train_x, train_y = MNIST.traindata(Float32)\n",
    "test_x, test_y = MNIST.testdata(Float32)\n",
    "TX = train_x |> flatten\n",
    "tX = test_x |> flatten\n",
    "rs(x, y) = w -> reshape(w, (x, y))\n",
    "data = DataLoader((TX, TX), batchsize=200, shuffle=true)\n",
    "axis(x) = D -> [D[[k != x ? (:) : i for k in 1:length(size(D))]...] for i in axes(D, x)]"
   ]
  },
  {
   "cell_type": "code",
   "execution_count": 3,
   "metadata": {},
   "outputs": [
    {
     "data": {
      "text/plain": [
       "Chain(\n",
       "  Dense(28 => 54, selu),                \u001b[90m# 1_566 parameters\u001b[39m\n",
       "  Dense(54 => 106, selu),               \u001b[90m# 5_830 parameters\u001b[39m\n",
       "  Dense(106 => 784, σ),                 \u001b[90m# 83_888 parameters\u001b[39m\n",
       ") \u001b[90m                  # Total: 6 arrays, \u001b[39m91_284 parameters, 856 bytes."
      ]
     },
     "metadata": {},
     "output_type": "display_data"
    }
   ],
   "source": [
    "toint(x) = floor(x) |> Int\n",
    "layers = [2, 1.4, 1.2, 1]\n",
    "w1 = (28 .^ layers[1:end-1]) .|> toint\n",
    "w2 = (28 .^ layers[2:end]) .|> toint\n",
    "encoder = Chain(\n",
    "    Dense(w1[1], w2[1], selu),\n",
    "    Dense(w1[2], w2[2], selu),\n",
    "    Dense(w1[3], w2[3], sigmoid),\n",
    ") |> gpu\n",
    "decoder = Chain(\n",
    "    Dense(w2[3], w1[3], selu),\n",
    "    Dense(w2[2], w1[2], selu),\n",
    "    Dense(w2[1], w1[1], sigmoid),\n",
    ") |> gpu"
   ]
  },
  {
   "cell_type": "code",
   "execution_count": 4,
   "metadata": {},
   "outputs": [
    {
     "name": "stdout",
     "output_type": "stream",
     "text": [
      "Epoch: 1\n"
     ]
    },
    {
     "name": "stdout",
     "output_type": "stream",
     "text": [
      "Epoch: 2\n"
     ]
    },
    {
     "name": "stdout",
     "output_type": "stream",
     "text": [
      "Epoch: 3\n"
     ]
    },
    {
     "name": "stdout",
     "output_type": "stream",
     "text": [
      "Epoch: 4\n"
     ]
    },
    {
     "name": "stdout",
     "output_type": "stream",
     "text": [
      "Epoch: 5\n"
     ]
    },
    {
     "name": "stdout",
     "output_type": "stream",
     "text": [
      "Epoch: 6\n"
     ]
    },
    {
     "name": "stdout",
     "output_type": "stream",
     "text": [
      "Epoch: 7\n"
     ]
    },
    {
     "name": "stdout",
     "output_type": "stream",
     "text": [
      "Epoch: 8\n"
     ]
    },
    {
     "name": "stdout",
     "output_type": "stream",
     "text": [
      "Epoch: 9\n"
     ]
    },
    {
     "name": "stdout",
     "output_type": "stream",
     "text": [
      "Epoch: 10\n"
     ]
    },
    {
     "name": "stdout",
     "output_type": "stream",
     "text": [
      "Epoch: 11\n"
     ]
    },
    {
     "name": "stdout",
     "output_type": "stream",
     "text": [
      "Epoch: 12\n"
     ]
    },
    {
     "name": "stdout",
     "output_type": "stream",
     "text": [
      "Epoch: 13\n"
     ]
    },
    {
     "name": "stdout",
     "output_type": "stream",
     "text": [
      "Epoch: 14\n"
     ]
    },
    {
     "name": "stdout",
     "output_type": "stream",
     "text": [
      "Epoch: 15\n"
     ]
    },
    {
     "name": "stdout",
     "output_type": "stream",
     "text": [
      "Epoch: 16\n"
     ]
    },
    {
     "name": "stdout",
     "output_type": "stream",
     "text": [
      "Epoch: 17\n"
     ]
    },
    {
     "name": "stdout",
     "output_type": "stream",
     "text": [
      "Epoch: 18\n"
     ]
    },
    {
     "name": "stdout",
     "output_type": "stream",
     "text": [
      "Epoch: 19\n"
     ]
    },
    {
     "name": "stdout",
     "output_type": "stream",
     "text": [
      "Epoch: 20\n"
     ]
    }
   ],
   "source": [
    "loss = Flux.binarycrossentropy\n",
    "opt = ADAM(0.01)\n",
    "p = Flux.params(Chain(encoder, decoder))\n",
    "for epoch in 1:20\n",
    "    println(\"Epoch: $epoch\")\n",
    "    for (x_batch, y_batch) in data\n",
    "        gpx = x_batch |> gpu\n",
    "        gpy = y_batch |> gpu\n",
    "        gs = gradient(p) do\n",
    "            z = encoder(gpx)\n",
    "            loss(decoder(z), gpy)\n",
    "        end\n",
    "        Flux.Optimise.update!(opt, p, gs)\n",
    "    end\n",
    "end"
   ]
  },
  {
   "cell_type": "code",
   "execution_count": 5,
   "metadata": {},
   "outputs": [
    {
     "data": {
      "text/plain": [
       "15.283661f0"
      ]
     },
     "metadata": {},
     "output_type": "display_data"
    }
   ],
   "source": [
    "encdec = Chain(encoder, decoder) |> cpu\n",
    "Flux.kldivergence(encdec(tX), tX)"
   ]
  },
  {
   "cell_type": "code",
   "execution_count": 6,
   "metadata": {},
   "outputs": [
    {
     "data": {
      "image/png": "[encoded data removed]",
      "text/html": [
       "<img src=\"data:image/png;base64,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\">"
      ],
      "text/plain": [
       "56×112 Array{Gray{Float32},2} with eltype Gray{Float32}:\n",
       " Gray{Float32}(2.11797f-6)  …  Gray{Float32}(1.70192f-8)\n",
       " Gray{Float32}(1.59065f-6)     Gray{Float32}(1.50447f-8)\n",
       " Gray{Float32}(9.57627f-7)     Gray{Float32}(1.29946f-8)\n",
       " Gray{Float32}(2.6921f-6)      Gray{Float32}(1.58401f-8)\n",
       " Gray{Float32}(1.6426f-6)      Gray{Float32}(1.89957f-11)\n",
       " Gray{Float32}(2.21822f-6)  …  Gray{Float32}(1.16768f-12)\n",
       " Gray{Float32}(1.83388f-6)     Gray{Float32}(5.26817f-12)\n",
       " Gray{Float32}(1.38557f-6)     Gray{Float32}(2.37894f-14)\n",
       " Gray{Float32}(1.14782f-6)     Gray{Float32}(1.44589f-12)\n",
       " Gray{Float32}(2.43539f-6)     Gray{Float32}(5.54558f-15)\n",
       " ⋮                          ⋱  \n",
       " Gray{Float32}(0.0)            Gray{Float32}(0.0)\n",
       " Gray{Float32}(0.0)            Gray{Float32}(0.0)\n",
       " Gray{Float32}(0.0)            Gray{Float32}(0.0)\n",
       " Gray{Float32}(0.0)         …  Gray{Float32}(0.0)\n",
       " Gray{Float32}(0.0)            Gray{Float32}(0.0)\n",
       " Gray{Float32}(0.0)            Gray{Float32}(0.0)\n",
       " Gray{Float32}(0.0)            Gray{Float32}(0.0)\n",
       " Gray{Float32}(0.0)            Gray{Float32}(0.0)\n",
       " Gray{Float32}(0.0)         …  Gray{Float32}(0.0)"
      ]
     },
     "metadata": {},
     "output_type": "display_data"
    }
   ],
   "source": [
    "iS = rand(1:1000, 4)\n",
    "[reduce(hcat, [encdec(TX[:, i])' |> rs(28, 28) for i in iS]); reduce(hcat, [TX[:, i]' |> rs(28, 28) for i in iS])] .|> Gray"
   ]
  },
  {
   "cell_type": "code",
   "execution_count": 7,
   "metadata": {},
   "outputs": [
    {
     "ename": "ArgumentError",
     "evalue": "ArgumentError: cannot take the CPU address of a CuArray{Float32, 2, CUDA.Mem.DeviceBuffer}",
     "output_type": "error",
     "traceback": [
      "ArgumentError: cannot take the CPU address of a CuArray{Float32, 2, CUDA.Mem.DeviceBuffer}\n",
      "\n",
      "Stacktrace:\n",
      "  [1] unsafe_convert(#unused#::Type{Ptr{Float32}}, x::CuArray{Float32, 2, CUDA.Mem.DeviceBuffer})\n",
      "    @ CUDA C:\\Users\\bhatn\\.julia\\packages\\CUDA\\BbliS\\src\\array.jl:319\n",
      "  [2] gemm!(transA::Char, transB::Char, alpha::Float32, A::CuArray{Float32, 2, CUDA.Mem.DeviceBuffer}, B::Matrix{Float32}, beta::Float32, C::Matrix{Float32})\n",
      "    @ LinearAlgebra.BLAS C:\\Users\\bhatn\\.julia\\juliaup\\julia-1.9.0-beta4+0.x64.w64.mingw32\\share\\julia\\stdlib\\v1.9\\LinearAlgebra\\src\\blas.jl:1524\n",
      "  [3] gemm_wrapper!(C::Matrix{Float32}, tA::Char, tB::Char, A::CuArray{Float32, 2, CUDA.Mem.DeviceBuffer}, B::Matrix{Float32}, _add::LinearAlgebra.MulAddMul{true, true, Bool, Bool})\n",
      "    @ LinearAlgebra C:\\Users\\bhatn\\.julia\\juliaup\\julia-1.9.0-beta4+0.x64.w64.mingw32\\share\\julia\\stdlib\\v1.9\\LinearAlgebra\\src\\matmul.jl:674\n",
      "  [4] mul!\n",
      "    @ C:\\Users\\bhatn\\.julia\\juliaup\\julia-1.9.0-beta4+0.x64.w64.mingw32\\share\\julia\\stdlib\\v1.9\\LinearAlgebra\\src\\matmul.jl:161 [inlined]\n",
      "  [5] mul!\n",
      "    @ C:\\Users\\bhatn\\.julia\\juliaup\\julia-1.9.0-beta4+0.x64.w64.mingw32\\share\\julia\\stdlib\\v1.9\\LinearAlgebra\\src\\matmul.jl:276 [inlined]\n",
      "  [6] *\n",
      "    @ C:\\Users\\bhatn\\.julia\\juliaup\\julia-1.9.0-beta4+0.x64.w64.mingw32\\share\\julia\\stdlib\\v1.9\\LinearAlgebra\\src\\matmul.jl:148 [inlined]\n",
      "  [7] (::Dense{typeof(selu), CuArray{Float32, 2, CUDA.Mem.DeviceBuffer}, CuArray{Float32, 1, CUDA.Mem.DeviceBuffer}})(x::Matrix{Float32})\n",
      "    @ Flux C:\\Users\\bhatn\\.julia\\packages\\Flux\\v79Am\\src\\layers\\basic.jl:172\n",
      "  [8] macro expansion\n",
      "    @ C:\\Users\\bhatn\\.julia\\packages\\Flux\\v79Am\\src\\layers\\basic.jl:53 [inlined]\n",
      "  [9] _applychain\n",
      "    @ C:\\Users\\bhatn\\.julia\\packages\\Flux\\v79Am\\src\\layers\\basic.jl:53 [inlined]\n",
      " [10] (::Chain{Tuple{Dense{typeof(selu), CuArray{Float32, 2, CUDA.Mem.DeviceBuffer}, CuArray{Float32, 1, CUDA.Mem.DeviceBuffer}}, Dense{typeof(selu), CuArray{Float32, 2, CUDA.Mem.DeviceBuffer}, CuArray{Float32, 1, CUDA.Mem.DeviceBuffer}}, Dense{typeof(σ), CuArray{Float32, 2, CUDA.Mem.DeviceBuffer}, CuArray{Float32, 1, CUDA.Mem.DeviceBuffer}}}})(x::Matrix{Float32})\n",
      "    @ Flux C:\\Users\\bhatn\\.julia\\packages\\Flux\\v79Am\\src\\layers\\basic.jl:51\n",
      " [11] top-level scope\n",
      "    @ e:\\github\\miniprojects\\latentdiffusion\\denoisingfeedforwardnetwork.ipynb:9"
     ]
    }
   ],
   "source": [
    "T = 10\n",
    "mag_e = 5\n",
    "diffuser = Chain(Flux.Bilinear((mag_e, 28) => 28, selu), Dense(28, 28, selu), Dense(28, 28, selu), Dense(28, 28, sigmoid)) |> gpu\n",
    "t_emb = Embedding(T, mag_e) |> gpu\n",
    "loss = Flux.binarycrossentropy\n",
    "opt = Adam(0.01)\n",
    "α = 0:1/(T - 1):1\n",
    "p = Flux.params(Chain(t_emb, diffuser))\n",
    "train_z = encoder(TX) |> cpu # encoded training data\n",
    "batch_size = 625\n",
    "for _ in 1:20\n",
    "    t = rand(1:T)\n",
    "    \n",
    "end"
   ]
  },
  {
   "cell_type": "code",
   "execution_count": 8,
   "metadata": {},
   "outputs": [
    {
     "data": {
      "text/plain": [
       "R (generic function with 1 method)"
      ]
     },
     "metadata": {},
     "output_type": "display_data"
    }
   ],
   "source": [
    "cdif = diffuser |> cpu\n",
    "dec = decoder |> cpu\n",
    "cembed = t_emb |> cpu\n",
    "R(x, t) = cdif((cembed(ones(Int64, size(x, 2)) * t), x))"
   ]
  },
  {
   "cell_type": "code",
   "execution_count": 9,
   "metadata": {},
   "outputs": [
    {
     "data": {
      "text/plain": [
       "Product{Continuous, Normal{Float64}, Vector{Normal{Float64}}}(\n",
       "v: Normal{Float64}[Normal{Float64}(μ=0.9999993443489075, σ=3.301697246585447e-5), Normal{Float64}(μ=0.9999999403953552, σ=9.09423723116811e-6), Normal{Float64}(μ=0.8715893626213074, σ=0.22656694499949953), Normal{Float64}(μ=0.48728761076927185, σ=0.2070569952545776), Normal{Float64}(μ=0.9999999403953552, σ=9.05896985086156e-6), Normal{Float64}(μ=0.49656185507774353, σ=0.249704732861196), Normal{Float64}(μ=0.4220190942287445, σ=0.20656425317586818), Normal{Float64}(μ=0.9999999403953552, σ=8.96173798663619e-6), Normal{Float64}(μ=0.43043753504753113, σ=0.19696217894533924), Normal{Float64}(μ=0.5069789290428162, σ=0.19254340140804943)  …  Normal{Float64}(μ=0.5334770083427429, σ=0.2487103618177595), Normal{Float64}(μ=0.46822959184646606, σ=0.25094298879686217), Normal{Float64}(μ=0.8405230641365051, σ=0.23999468479628616), Normal{Float64}(μ=0.49026671051979065, σ=0.19667349765789385), Normal{Float64}(μ=0.417830228805542, σ=0.1937629888959329), Normal{Float64}(μ=0.03345336392521858, σ=0.08555381321749889), Normal{Float64}(μ=0.5206997394561768, σ=0.22846477799686377), Normal{Float64}(μ=1.0, σ=0.0), Normal{Float64}(μ=0.495904803276062, σ=0.2272581274903423), Normal{Float64}(μ=0.31557080149650574, σ=0.23940458402098405)]\n",
       ")\n"
      ]
     },
     "metadata": {},
     "output_type": "display_data"
    }
   ],
   "source": [
    "encs = encoder(TX |> gpu) |> cpu\n",
    "# mvbetadist = Distributions.Product(encs |> axis(1) .|> x -> fit_mle(Beta, x))\n",
    "mvnormdist = Distributions.Product(encs |> axis(1) .|> x -> fit_mle(Normal, x))"
   ]
  },
  {
   "cell_type": "code",
   "execution_count": 10,
   "metadata": {},
   "outputs": [
    {
     "data": {
      "text/plain": [
       "sample_d (generic function with 1 method)"
      ]
     },
     "metadata": {},
     "output_type": "display_data"
    }
   ],
   "source": [
    "function sample_d(n)\n",
    "    x = rand(28, n, T)\n",
    "    for s in 2:1:T\n",
    "        xh_o = R(x[:,:,s], s)\n",
    "        x[:, :, s-1] = D(xh_o, s - 1)\n",
    "    end\n",
    "    return R(x[:, :, T], 1)\n",
    "end"
   ]
  },
  {
   "cell_type": "code",
   "execution_count": 1,
   "metadata": {},
   "outputs": [
    {
     "ename": "UndefVarError",
     "evalue": "UndefVarError: `sample_d` not defined",
     "output_type": "error",
     "traceback": [
      "UndefVarError: `sample_d` not defined\n",
      "\n",
      "Stacktrace:\n",
      " [1] top-level scope\n",
      "   @ e:\\github\\miniprojects\\latentdiffusion\\denoisingfeedforwardnetwork.ipynb:2"
     ]
    }
   ],
   "source": [
    "h = 10\n",
    "sample_d(h)"
   ]
  },
  {
   "cell_type": "code",
   "execution_count": 146,
   "metadata": {},
   "outputs": [
    {
     "data": {
      "image/png": "[encoded data removed]",
      "text/html": [
       "<img src=\"data:image/png;base64,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\">"
      ],
      "text/plain": [
       "28×280 Array{Gray{Float64},2} with eltype Gray{Float64}:\n",
       " Gray{Float64}(0.000421932)  …  Gray{Float64}(0.00057141)\n",
       " Gray{Float64}(0.00149734)      Gray{Float64}(0.000673744)\n",
       " Gray{Float64}(0.00050362)      Gray{Float64}(0.000370353)\n",
       " Gray{Float64}(0.000735376)     Gray{Float64}(0.000557821)\n",
       " Gray{Float64}(0.00092109)      Gray{Float64}(0.0031254)\n",
       " Gray{Float64}(0.000226757)  …  Gray{Float64}(1.0878e-5)\n",
       " Gray{Float64}(0.000760409)     Gray{Float64}(2.61074e-6)\n",
       " Gray{Float64}(0.000517742)     Gray{Float64}(9.02135e-7)\n",
       " Gray{Float64}(0.000943441)     Gray{Float64}(1.49506e-8)\n",
       " Gray{Float64}(0.000262112)     Gray{Float64}(1.53081e-7)\n",
       " Gray{Float64}(0.000924058)  …  Gray{Float64}(4.1474e-6)\n",
       " Gray{Float64}(0.000304064)     Gray{Float64}(1.68868e-7)\n",
       " Gray{Float64}(0.000199549)     Gray{Float64}(1.80643e-6)\n",
       " ⋮                           ⋱  \n",
       " Gray{Float64}(0.000738404)     Gray{Float64}(2.81394e-7)\n",
       " Gray{Float64}(0.000470972)     Gray{Float64}(5.91835e-7)\n",
       " Gray{Float64}(0.00135093)      Gray{Float64}(2.32172e-8)\n",
       " Gray{Float64}(0.000483147)     Gray{Float64}(1.85696e-8)\n",
       " Gray{Float64}(0.000407473)  …  Gray{Float64}(5.36281e-8)\n",
       " Gray{Float64}(0.000412318)     Gray{Float64}(7.72124e-6)\n",
       " Gray{Float64}(0.00039503)      Gray{Float64}(0.000254436)\n",
       " Gray{Float64}(0.00032551)      Gray{Float64}(0.00185275)\n",
       " Gray{Float64}(0.000316827)     Gray{Float64}(0.000674721)\n",
       " Gray{Float64}(0.000506162)  …  Gray{Float64}(0.000868073)\n",
       " Gray{Float64}(0.00053629)      Gray{Float64}(0.0004191)\n",
       " Gray{Float64}(0.000683273)     Gray{Float64}(0.000538617)"
      ]
     },
     "execution_count": 146,
     "metadata": {},
     "output_type": "execute_result"
    }
   ],
   "source": [
    "R(D(rand(mvnormdist, h), 4) , 2) |> dec |> rs(28, 28*h) .|> Gray"
   ]
  },
  {
   "cell_type": "code",
   "execution_count": 71,
   "metadata": {},
   "outputs": [
    {
     "ename": "LoadError",
     "evalue": "DimensionMismatch: number of rows in data must match W",
     "output_type": "error",
     "traceback": [
      "DimensionMismatch: number of rows in data must match W",
      "",
      "Stacktrace:",
      " [1] (::Flux.Bilinear{typeof(selu), Array{Float32, 3}, Vector{Float32}})(x::Matrix{Float32}, y::Matrix{Float32})",
      "   @ Flux C:\\Users\\bhatn\\.julia\\packages\\Flux\\v79Am\\src\\layers\\basic.jl:426",
      " [2] Bilinear",
      "   @ C:\\Users\\bhatn\\.julia\\packages\\Flux\\v79Am\\src\\layers\\basic.jl:440 [inlined]",
      " [3] macro expansion",
      "   @ C:\\Users\\bhatn\\.julia\\packages\\Flux\\v79Am\\src\\layers\\basic.jl:53 [inlined]",
      " [4] _applychain",
      "   @ C:\\Users\\bhatn\\.julia\\packages\\Flux\\v79Am\\src\\layers\\basic.jl:53 [inlined]",
      " [5] Chain",
      "   @ C:\\Users\\bhatn\\.julia\\packages\\Flux\\v79Am\\src\\layers\\basic.jl:51 [inlined]",
      " [6] macro expansion",
      "   @ C:\\Users\\bhatn\\.julia\\packages\\Flux\\v79Am\\src\\layers\\basic.jl:53 [inlined]",
      " [7] _applychain(layers::Tuple{Chain{Tuple{Dense{typeof(selu), Matrix{Float32}, Vector{Float32}}, Dense{typeof(selu), Matrix{Float32}, Vector{Float32}}, Dense{typeof(σ), Matrix{Float32}, Vector{Float32}}}}, Chain{Tuple{Flux.Bilinear{typeof(selu), Array{Float32, 3}, Vector{Float32}}, Dense{typeof(selu), Matrix{Float32}, Vector{Float32}}, Dense{typeof(selu), Matrix{Float32}, Vector{Float32}}, Dense{typeof(σ), Matrix{Float32}, Vector{Float32}}}}, Chain{Tuple{Dense{typeof(selu), Matrix{Float32}, Vector{Float32}}, Dense{typeof(selu), Matrix{Float32}, Vector{Float32}}, Dense{typeof(σ), Matrix{Float32}, Vector{Float32}}}}}, x::Matrix{Float32})",
      "   @ Flux C:\\Users\\bhatn\\.julia\\packages\\Flux\\v79Am\\src\\layers\\basic.jl:53",
      " [8] (::Chain{Tuple{Chain{Tuple{Dense{typeof(selu), Matrix{Float32}, Vector{Float32}}, Dense{typeof(selu), Matrix{Float32}, Vector{Float32}}, Dense{typeof(σ), Matrix{Float32}, Vector{Float32}}}}, Chain{Tuple{Flux.Bilinear{typeof(selu), Array{Float32, 3}, Vector{Float32}}, Dense{typeof(selu), Matrix{Float32}, Vector{Float32}}, Dense{typeof(selu), Matrix{Float32}, Vector{Float32}}, Dense{typeof(σ), Matrix{Float32}, Vector{Float32}}}}, Chain{Tuple{Dense{typeof(selu), Matrix{Float32}, Vector{Float32}}, Dense{typeof(selu), Matrix{Float32}, Vector{Float32}}, Dense{typeof(σ), Matrix{Float32}, Vector{Float32}}}}}})(x::Matrix{Float32})",
      "   @ Flux C:\\Users\\bhatn\\.julia\\packages\\Flux\\v79Am\\src\\layers\\basic.jl:51",
      " [9] top-level scope",
      "   @ In[71]:2"
     ]
    }
   ],
   "source": [
    "fm = Chain(encoder, diffuser, decoder) |> cpu\n",
    "Flux.kldivergence(fm(tX), tX)"
   ]
  },
  {
   "cell_type": "code",
   "execution_count": null,
   "metadata": {},
   "outputs": [],
   "source": [
    "iS = rand(1:1000, 4)\n",
    "[reduce(hcat, [fm(TX[:, i])' |> rs(28, 28) for i in iS]); reduce(hcat, [TX[:, i]' |> rs(28, 28) for i in iS])] .|> Gray"
   ]
  },
  {
   "cell_type": "code",
   "execution_count": null,
   "metadata": {},
   "outputs": [],
   "source": [
    "encs = encoder(TX |> gpu) |> cpu\n",
    "mvbetadist = Distributions.Product(encs |> axis(1) .|> x -> fit_mle(Beta, x))\n",
    "mvnormdist = Distributions.Product(encs |> axis(1) .|> x -> fit_mle(Normal, x))"
   ]
  },
  {
   "cell_type": "code",
   "execution_count": 262,
   "metadata": {},
   "outputs": [
    {
     "data": {
      "text/plain": [
       "Chain(\n",
       "  Chain(\n",
       "    Dense(28 => 54, selu),              \u001b[90m# 1_566 parameters\u001b[39m\n",
       "    Dense(54 => 106, selu),             \u001b[90m# 5_830 parameters\u001b[39m\n",
       "    Dense(106 => 784, σ),               \u001b[90m# 83_888 parameters\u001b[39m\n",
       "  ),\n",
       ") \u001b[90m                  # Total: 6 arrays, \u001b[39m91_284 parameters, 357.047 KiB."
      ]
     },
     "metadata": {},
     "output_type": "display_data"
    }
   ],
   "source": [
    "dd = Chain(diffuser, decoder) |> cpu\n",
    "d = Chain(decoder) |> cpu"
   ]
  },
  {
   "cell_type": "code",
   "execution_count": 312,
   "metadata": {},
   "outputs": [
    {
     "data": {
      "text/plain": [
       "(380054.44f0, 266174.6661939353)"
      ]
     },
     "metadata": {},
     "output_type": "display_data"
    }
   ],
   "source": [
    "sum(encs |> axis(2) .|> x -> loglikelihood(mvbetadist, x)), sum(encs |> axis(2) .|> x -> loglikelihood(mvnormdist, x))"
   ]
  },
  {
   "cell_type": "code",
   "execution_count": 320,
   "metadata": {},
   "outputs": [
    {
     "data": {
      "text/plain": [
       "(287.6242259329252, 400.74370652423073)"
      ]
     },
     "metadata": {},
     "output_type": "display_data"
    }
   ],
   "source": [
    "Flux.kldivergence(rand(mvbetadist, 10000) |> dd, tX), Flux.kldivergence(rand(mvbetadist, 10000) |> d, tX)"
   ]
  },
  {
   "cell_type": "code",
   "execution_count": 323,
   "metadata": {},
   "outputs": [
    {
     "data": {
      "text/plain": [
       "(286.9530572800221, 406.0179387169956)"
      ]
     },
     "metadata": {},
     "output_type": "display_data"
    }
   ],
   "source": [
    "Flux.kldivergence(rand(mvnormdist, 10000) |> dd, tX), Flux.kldivergence(rand(mvnormdist, 10000) |> d, tX)"
   ]
  },
  {
   "cell_type": "code",
   "execution_count": 324,
   "metadata": {},
   "outputs": [
    {
     "data": {
      "text/plain": [
       "(367.9909379200449, 524.0393653389146)"
      ]
     },
     "metadata": {},
     "output_type": "display_data"
    }
   ],
   "source": [
    "Flux.kldivergence(rand(28, 10000) |> dd, tX), Flux.kldivergence(rand(28, 10000) |> d, tX)"
   ]
  },
  {
   "cell_type": "code",
   "execution_count": 325,
   "metadata": {},
   "outputs": [
    {
     "data": {
      "text/plain": [
       "(547.6425734023377, 836.1168753124942)"
      ]
     },
     "metadata": {},
     "output_type": "display_data"
    }
   ],
   "source": [
    "Flux.kldivergence(randn(28, 10000) |> dd, tX), Flux.kldivergence(randn(28, 10000) |> d, tX)"
   ]
  },
  {
   "cell_type": "code",
   "execution_count": 326,
   "metadata": {},
   "outputs": [
    {
     "data": {
      "text/plain": [
       "(369.5001151062365, 526.2097914160381)"
      ]
     },
     "metadata": {},
     "output_type": "display_data"
    }
   ],
   "source": [
    "Flux.kldivergence(rand(Beta(), 28, 10000) |> dd, tX), Flux.kldivergence(rand(Beta(),28, 10000) |> d, tX)"
   ]
  },
  {
   "cell_type": "code",
   "execution_count": null,
   "metadata": {},
   "outputs": [],
   "source": []
  }
 ],
 "metadata": {
  "kernelspec": {
   "display_name": "Julia 1.9.0-beta4",
   "language": "julia",
   "name": "julia-1.9"
  },
  "language_info": {
   "file_extension": ".jl",
   "mimetype": "application/julia",
   "name": "julia",
   "version": "1.9.0-beta4"
  },
  "vscode": {
   "interpreter": {
    "hash": "c261aea317cc0286b3b3261fbba9abdec21eaa57589985bb7a274bf54d6cc0a7"
   }
  }
 },
 "nbformat": 4,
 "nbformat_minor": 4
}
