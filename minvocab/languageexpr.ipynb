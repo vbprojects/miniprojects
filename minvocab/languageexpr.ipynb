{
 "cells": [
  {
   "cell_type": "code",
   "execution_count": 378,
   "metadata": {},
   "outputs": [],
   "source": [
    "using Flux, Flux.Optimise\n",
    "using Flux: onehotbatch, onecold, crossentropy, throttle\n",
    "using MLUtils: mapobs, DataLoader, flatten\n",
    "using Images: Gray\n",
    "using CUDA: CuIterator, @cuprint\n",
    "using ProgressMeter: @showprogress \n",
    "using Plots, StatsPlots, StatsBase"
   ]
  },
  {
   "cell_type": "code",
   "execution_count": 379,
   "metadata": {},
   "outputs": [
    {
     "data": {
      "text/plain": [
       "([0.0 0.0 … 0.0 0.0; 0.0 0.0 … 0.0 0.0; … ; 0.0 0.0 … 0.0 0.0; 0.0 0.0 … 0.0 0.0;;; 0.0 0.0 … 0.0 0.0; 0.0 0.0 … 0.0 0.0; … ; 0.0 0.0 … 0.0 0.0; 0.0 0.0 … 0.0 0.0;;; 0.0 0.0 … 0.0 0.0; 0.0 0.0 … 0.0 0.0; … ; 0.0 0.0 … 0.0 0.0; 0.0 0.0 … 0.0 0.0;;; … ;;; 0.0 0.0 … 0.0 0.0; 0.0 0.0 … 0.0 0.0; … ; 0.0 0.0 … 0.0 0.0; 0.0 0.0 … 0.0 0.0;;; 0.0 0.0 … 0.0 0.0; 0.0 0.0 … 0.0 0.0; … ; 0.0 0.0 … 0.0 0.0; 0.0 0.0 … 0.0 0.0;;; 0.0 0.0 … 0.0 0.0; 0.0 0.0 … 0.0 0.0; … ; 0.0 0.0 … 0.0 0.0; 0.0 0.0 … 0.0 0.0], [7, 2, 1, 0, 4, 1, 4, 9, 5, 9  …  7, 8, 9, 0, 1, 2, 3, 4, 5, 6])"
      ]
     },
     "metadata": {},
     "output_type": "display_data"
    }
   ],
   "source": [
    "#download MNIST Dataset\n",
    "ENV[\"DATADEPS_ALWAYS_ACCEPT\"] = true\n",
    "using MLDatasets\n",
    "train_x, train_y = MNIST.traindata(Float32)\n",
    "test_x, test_y = MNIST.testdata(Float32)"
   ]
  },
  {
   "cell_type": "code",
   "execution_count": 380,
   "metadata": {},
   "outputs": [
    {
     "data": {
      "text/plain": [
       "Dict{Int64, Vector{Float32}} with 16 entries:\n",
       "  5  => [1.0, 0.0, 1.0, 0.0]\n",
       "  7  => [1.0, 1.0, 1.0, 0.0]\n",
       "  12 => [0.0, 0.0, 1.0, 1.0]\n",
       "  8  => [0.0, 0.0, 0.0, 1.0]\n",
       "  1  => [1.0, 0.0, 0.0, 0.0]\n",
       "  0  => [0.0, 0.0, 0.0, 0.0]\n",
       "  4  => [0.0, 1.0, 1.0, 1.0]\n",
       "  6  => [0.0, 1.0, 1.0, 0.0]\n",
       "  13 => [1.0, 0.0, 1.0, 1.0]\n",
       "  2  => [0.0, 1.0, 0.0, 0.0]\n",
       "  10 => [0.0, 1.0, 0.0, 1.0]\n",
       "  11 => [1.0, 1.0, 0.0, 1.0]\n",
       "  9  => [1.0, 0.0, 0.0, 1.0]\n",
       "  15 => [1.0, 1.0, 1.0, 1.0]\n",
       "  14 => [0.0, 0.0, 1.0, 0.0]\n",
       "  3  => [1.0, 1.0, 0.0, 0.0]"
      ]
     },
     "metadata": {},
     "output_type": "display_data"
    }
   ],
   "source": [
    "minvocab = Dict(x => digits(x, base = 2, pad = 4) .|> Float32 for x in 0:15)\n",
    "minvocab[4], minvocab[14] = minvocab[14], minvocab[4]\n",
    "minvocab"
   ]
  },
  {
   "cell_type": "code",
   "execution_count": 381,
   "metadata": {},
   "outputs": [
    {
     "data": {
      "text/plain": [
       "Dict{Vector{Float32}, Int64} with 16 entries:\n",
       "  [1.0, 1.0, 1.0, 0.0] => 7\n",
       "  [0.0, 1.0, 0.0, 1.0] => 10\n",
       "  [0.0, 1.0, 0.0, 0.0] => 2\n",
       "  [0.0, 1.0, 1.0, 1.0] => 4\n",
       "  [0.0, 1.0, 1.0, 0.0] => 6\n",
       "  [1.0, 0.0, 0.0, 1.0] => 9\n",
       "  [1.0, 0.0, 0.0, 0.0] => 1\n",
       "  [1.0, 0.0, 1.0, 1.0] => 13\n",
       "  [1.0, 0.0, 1.0, 0.0] => 5\n",
       "  [0.0, 0.0, 0.0, 1.0] => 8\n",
       "  [0.0, 0.0, 0.0, 0.0] => 0\n",
       "  [1.0, 1.0, 0.0, 1.0] => 11\n",
       "  [0.0, 0.0, 1.0, 1.0] => 12\n",
       "  [1.0, 1.0, 0.0, 0.0] => 3\n",
       "  [0.0, 0.0, 1.0, 0.0] => 14\n",
       "  [1.0, 1.0, 1.0, 1.0] => 15"
      ]
     },
     "metadata": {},
     "output_type": "display_data"
    }
   ],
   "source": [
    "invvocab = Dict(v => k for (k, v) in minvocab)"
   ]
  },
  {
   "cell_type": "code",
   "execution_count": 382,
   "metadata": {},
   "outputs": [
    {
     "data": {
      "text/plain": [
       "rs (generic function with 1 method)"
      ]
     },
     "metadata": {},
     "output_type": "display_data"
    }
   ],
   "source": [
    "rs(w, h) = x -> reshape(x, (w, h))"
   ]
  },
  {
   "cell_type": "code",
   "execution_count": 383,
   "metadata": {},
   "outputs": [
    {
     "data": {
      "image/png": "[encoded data removed]",
      "text/html": [
       "<img src=\"data:image/png;base64,iVBORw0KGgoAAAANSUhEUgAAAHAAAABwCAAAAADji6uXAAAABGdBTUEAALGPC/xhBQAAAAFzUkdCAK7OHOkAAAAgY0hSTQAAeiYAAICEAAD6AAAAgOgAAHUwAADqYAAAOpgAABdwnLpRPAAAAiVJREFUaAW9wT2IFgQABuAHemnI4aJFISgJwkDIIiqIsMLcajiKIEEIshosmgSHhhoUIW/IcIgCISHa+psKsp8hEKSSSAlyECon61Q+jMDT4RuO7w6/n5Pe54myKIuyKIuyKIuyKIuyKIuyKIuyKIuyKIuyKIuyKIsZ3YQ5y17FLdiE3TiI5/EvDuAto6IsyqIsJrgDN+MRPIpb8YzV/sAhzOMSTuI7q0VZlEVZjHE/vsac8ZbwBgb4CH/hH/xmtSiLsiiLMc7iPOasdhyLeAL/4ajpRFmURVmM8Tf24Cn8hEOGfsZ2DLAZr5telEVZlMUEn+IYLmELXsQCBoZ+xcumF2VRFmUxhYuGLhjahY+xZHZRFmVRFjN4Ew/gMTyJr8wuyqIsymIGA7yEH/E+vsEJHMZV04myKIuymNEZvIAj2ImdWIcPcc5kURZlURZr8Al+xwK2YT/uxD78abwoi7IoizX6Bc/haRzBK7gb240XZVEWZXEDFnEUHyDYisfxreuLsiiLslije/EsHkQMncL3xouyKIuymNEmvIZ5bLDsCs5hyXhRFmVRFlPagB3YjY1GncA+fG6yKIuyKIsJ1mMz3sU9Rh3H2/gMS6YTZVEWZXEdt+E93Ie7jPoBC/gSl80myqIsymKFh7EHD+F2oy7jHezHwNpEWZRFWawwj3nLTuMLXMFBLLoxURZlURYr7MVe/58oi7Ioi7Ioi7Ioi7Ioi7IouwZsVVgTmd3ynQAAAABJRU5ErkJg\">"
      ],
      "text/plain": [
       "28×28 Array{Gray{Float32},2} with eltype Gray{Float32}:\n",
       " Gray{Float32}(0.0)  Gray{Float32}(0.0)  …  Gray{Float32}(0.0)\n",
       " Gray{Float32}(0.0)  Gray{Float32}(0.0)     Gray{Float32}(0.0)\n",
       " Gray{Float32}(0.0)  Gray{Float32}(0.0)     Gray{Float32}(0.0)\n",
       " Gray{Float32}(0.0)  Gray{Float32}(0.0)     Gray{Float32}(0.0)\n",
       " Gray{Float32}(0.0)  Gray{Float32}(0.0)     Gray{Float32}(0.0)\n",
       " Gray{Float32}(0.0)  Gray{Float32}(0.0)  …  Gray{Float32}(0.0)\n",
       " Gray{Float32}(0.0)  Gray{Float32}(0.0)     Gray{Float32}(0.0)\n",
       " Gray{Float32}(0.0)  Gray{Float32}(0.0)     Gray{Float32}(0.0)\n",
       " Gray{Float32}(0.0)  Gray{Float32}(0.0)     Gray{Float32}(0.0)\n",
       " Gray{Float32}(0.0)  Gray{Float32}(0.0)     Gray{Float32}(0.0)\n",
       " ⋮                                       ⋱  \n",
       " Gray{Float32}(0.0)  Gray{Float32}(0.0)     Gray{Float32}(0.0)\n",
       " Gray{Float32}(0.0)  Gray{Float32}(0.0)  …  Gray{Float32}(0.0)\n",
       " Gray{Float32}(0.0)  Gray{Float32}(0.0)     Gray{Float32}(0.0)\n",
       " Gray{Float32}(0.0)  Gray{Float32}(0.0)     Gray{Float32}(0.0)\n",
       " Gray{Float32}(0.0)  Gray{Float32}(0.0)     Gray{Float32}(0.0)\n",
       " Gray{Float32}(0.0)  Gray{Float32}(0.0)     Gray{Float32}(0.0)\n",
       " Gray{Float32}(0.0)  Gray{Float32}(0.0)  …  Gray{Float32}(0.0)\n",
       " Gray{Float32}(0.0)  Gray{Float32}(0.0)     Gray{Float32}(0.0)\n",
       " Gray{Float32}(0.0)  Gray{Float32}(0.0)     Gray{Float32}(0.0)"
      ]
     },
     "metadata": {},
     "output_type": "display_data"
    }
   ],
   "source": [
    "holdouts = sample(1:60000, 1000, replace = false, ordered = true)\n",
    "training = setdiff(1:60000, holdouts)\n",
    "mtrainy = map(x -> minvocab[x], train_y[training]) |> collect\n",
    "mtrainx = train_x[:, :, training] |> flatten |> transpose |> eachrow .|> collect\n",
    "mtrainx[1] |> rs(28, 28) |> transpose .|> Gray"
   ]
  },
  {
   "cell_type": "code",
   "execution_count": 384,
   "metadata": {},
   "outputs": [
    {
     "data": {
      "text/plain": [
       "5"
      ]
     },
     "metadata": {},
     "output_type": "display_data"
    }
   ],
   "source": [
    "invvocab[mtrainy[1]]"
   ]
  },
  {
   "cell_type": "code",
   "execution_count": 385,
   "metadata": {},
   "outputs": [
    {
     "data": {
      "image/png": "[encoded data removed]",
      "text/html": [
       "<img src=\"data:image/png;base64,iVBORw0KGgoAAAANSUhEUgAAAHAAAABwCAAAAADji6uXAAAABGdBTUEAALGPC/xhBQAAAAFzUkdCAK7OHOkAAAAgY0hSTQAAeiYAAICEAAD6AAAAgOgAAHUwAADqYAAAOpgAABdwnLpRPAAAAbxJREFUaAW9wb2rjwsAB/CPfMtLUl4G0zFcLyWD7Q6yUazIXe3nRqR0Bv+Au938C9dCwmBjoBiRgcHu5KWuOEmGY1SH3/M86tf384myKIuyKIuyKIuyKIuyKIuyKIuyKIuyKIuyKIuyKIsRwRb8b7ZXuIh7xkVZlEVZjDiNRRwx2yq2mCbKoizKYsQzwzZjE+6bJsqiLMpixFnDFrBguiiLsiiLATtxGRfMT5RFWZTFgBP4gP+MO4LbxkVZlEVZzLADV3AL74zbbpooi7Ioixn+xnYsGraMZdNFWZRFWcxwGtfwzbgV/IGd+IIVs0VZlEVZ/MJJ7MO/frYD+3EKf+IgtmIJS3iCw2aLsiiLsviFJbzHAezCARzGbmzDBrzAXdzHJTzGUbwxLMqiLMpijb04hPV46IenuIpHeIuPfjiD13iJfwyLsiiLslhjGbdwEzdMsw7rcM64KIuyKIs1PuEvv2cVq6aJsiiLspiDBzhmmiiLsiiLOfiMPaaJsiiLspijDfhqWJRFWZTFHB3HHcOiLMqiLMqiLMqiLObgOs6bJsqiLMpiDp5jo2miLMqiLMqiLMqiLMqiLMqi7DtHqzXp2ACNXwAAAABJRU5ErkJg\">"
      ],
      "text/plain": [
       "28×28 Array{Gray{Float32},2} with eltype Gray{Float32}:\n",
       " Gray{Float32}(0.0)  Gray{Float32}(0.0)  …  Gray{Float32}(0.0)\n",
       " Gray{Float32}(0.0)  Gray{Float32}(0.0)     Gray{Float32}(0.0)\n",
       " Gray{Float32}(0.0)  Gray{Float32}(0.0)     Gray{Float32}(0.0)\n",
       " Gray{Float32}(0.0)  Gray{Float32}(0.0)     Gray{Float32}(0.0)\n",
       " Gray{Float32}(0.0)  Gray{Float32}(0.0)     Gray{Float32}(0.0)\n",
       " Gray{Float32}(0.0)  Gray{Float32}(0.0)  …  Gray{Float32}(0.0)\n",
       " Gray{Float32}(0.0)  Gray{Float32}(0.0)     Gray{Float32}(0.0)\n",
       " Gray{Float32}(0.0)  Gray{Float32}(0.0)     Gray{Float32}(0.0)\n",
       " Gray{Float32}(0.0)  Gray{Float32}(0.0)     Gray{Float32}(0.0)\n",
       " Gray{Float32}(0.0)  Gray{Float32}(0.0)     Gray{Float32}(0.0)\n",
       " ⋮                                       ⋱  \n",
       " Gray{Float32}(0.0)  Gray{Float32}(0.0)     Gray{Float32}(0.0)\n",
       " Gray{Float32}(0.0)  Gray{Float32}(0.0)  …  Gray{Float32}(0.0)\n",
       " Gray{Float32}(0.0)  Gray{Float32}(0.0)     Gray{Float32}(0.0)\n",
       " Gray{Float32}(0.0)  Gray{Float32}(0.0)     Gray{Float32}(0.0)\n",
       " Gray{Float32}(0.0)  Gray{Float32}(0.0)     Gray{Float32}(0.0)\n",
       " Gray{Float32}(0.0)  Gray{Float32}(0.0)     Gray{Float32}(0.0)\n",
       " Gray{Float32}(0.0)  Gray{Float32}(0.0)  …  Gray{Float32}(0.0)\n",
       " Gray{Float32}(0.0)  Gray{Float32}(0.0)     Gray{Float32}(0.0)\n",
       " Gray{Float32}(0.0)  Gray{Float32}(0.0)     Gray{Float32}(0.0)"
      ]
     },
     "metadata": {},
     "output_type": "display_data"
    }
   ],
   "source": [
    "holdouts = sample([1:60000;], 1000, replace = false)\n",
    "holdouty = map(x -> minvocab[x], train_y[holdouts]) |> collect\n",
    "holdoutx = train_x[:, :, holdouts] |> flatten |> transpose |> eachrow .|> collect\n",
    "holdoutx[1] |> rs(28, 28) |> transpose .|> Gray"
   ]
  },
  {
   "cell_type": "code",
   "execution_count": 386,
   "metadata": {},
   "outputs": [
    {
     "data": {
      "text/plain": [
       "Chain(\n",
       "  Dense(784 => 100, σ),                 \u001b[90m# 78_500 parameters\u001b[39m\n",
       "  Dense(100 => 4, σ),                   \u001b[90m# 404 parameters\u001b[39m\n",
       ") \u001b[90m                  # Total: 4 arrays, \u001b[39m78_904 parameters, 576 bytes."
      ]
     },
     "metadata": {},
     "output_type": "display_data"
    }
   ],
   "source": [
    "nn = Chain(Dense(28*28 => (local o = 100), sigmoid), Dense(o => 4, sigmoid)) |> gpu"
   ]
  },
  {
   "cell_type": "code",
   "execution_count": 387,
   "metadata": {},
   "outputs": [
    {
     "data": {
      "text/plain": [
       "DataLoader{MLUtils.MappedData{typeof(gpu), Tuple{Vector{Vector{Float32}}, Vector{Vector{Float32}}}}, Random._GLOBAL_RNG, Val{nothing}}(mapobs(gpu, Tuple{Vector{Vector{Float32}}, Vector{Vector{Float32}}}), 128, false, true, true, false, Val{nothing}(), Random._GLOBAL_RNG())"
      ]
     },
     "metadata": {},
     "output_type": "display_data"
    }
   ],
   "source": [
    "data = DataLoader(mapobs(gpu, (mtrainx, mtrainy)), batchsize = 128, shuffle = true)"
   ]
  },
  {
   "cell_type": "code",
   "execution_count": 388,
   "metadata": {},
   "outputs": [
    {
     "data": {
      "text/plain": [
       "Params([Float32[0.08048938 -0.03232238 … 0.07813133 0.05738393; -0.0427351 -0.026833186 … 0.045879558 -0.077074595; … ; -0.02093247 -0.0007707099 … 0.034936674 -0.05322118; -0.055222955 0.08234367 … 0.006280939 -0.035993375], Float32[0.0, 0.0, 0.0, 0.0, 0.0, 0.0, 0.0, 0.0, 0.0, 0.0  …  0.0, 0.0, 0.0, 0.0, 0.0, 0.0, 0.0, 0.0, 0.0, 0.0], Float32[-0.01649985 0.013219036 … -0.21240412 0.039903495; 0.03059861 0.10317639 … -0.22722861 0.17487763; -0.07651713 -0.16013809 … 0.23059718 0.028937688; 0.052025594 -0.16899781 … -0.035515122 0.22227865], Float32[0.0, 0.0, 0.0, 0.0]])"
      ]
     },
     "metadata": {},
     "output_type": "display_data"
    }
   ],
   "source": [
    "opt = ADAM(0.001)\n",
    "params = Flux.params(nn)"
   ]
  },
  {
   "cell_type": "code",
   "execution_count": 389,
   "metadata": {},
   "outputs": [],
   "source": [
    "Flux.@epochs 5 Flux.train!(loss, params, data, opt)"
   ]
  },
  {
   "cell_type": "code",
   "execution_count": 390,
   "metadata": {},
   "outputs": [
    {
     "data": {
      "text/plain": [
       "113.76287f0"
      ]
     },
     "metadata": {},
     "output_type": "display_data"
    }
   ],
   "source": [
    "loss(holdoutx |> gpu, holdouty |> gpu)"
   ]
  },
  {
   "cell_type": "code",
   "execution_count": 401,
   "metadata": {},
   "outputs": [
    {
     "data": {
      "text/plain": [
       "0.906"
      ]
     },
     "metadata": {},
     "output_type": "display_data"
    }
   ],
   "source": [
    "hpred = nn.(holdoutx |> gpu) |> cpu .|> x -> round.(x)\n",
    "hpreda = map(x -> invvocab[x], hpred) |> collect\n",
    "hacta = map(x -> invvocab[x], holdouty) |> collect\n",
    "1 - sum(hpreda .!= hacta) / length(hpreda)"
   ]
  },
  {
   "cell_type": "code",
   "execution_count": 393,
   "metadata": {},
   "outputs": [
    {
     "data": {
      "text/plain": [
       "16×16 adjoint(::Matrix{Int64}) with eltype Int64:\n",
       " 15  0  0  3  0  5  0  1  2  2   0   0   0   0   0   0\n",
       " 14  0  0  1  1  1  2  0  3  0   0   0   0   0   0   0\n",
       " 13  0  4  0  0  2  0  4  0  0   0   0   0   0   0   0\n",
       " 12  0  0  0  0  0  4  0  0  1   0   0   0   0   0   0\n",
       " 11  0  0  2  0  0  2  0  0  1   0   0   0   0   0   0\n",
       " 10  0  4  0  2  0  0  1  2  0   0   0   0   0   0   0\n",
       "  9  0  0  1  0  1  1  0  0  0   0   0   0   0   0   0\n",
       "  8  0  1  1  0  0  0  0  0  3   0   0   0   0   0   0\n",
       "  7  0  0  1  2  0  0  1  3  0   0   0   0   0   0   0\n",
       "  6  0  0  0  1  0  0  0  1  0   0   0   0   0   0   0\n",
       "  5  0  0  1  0  0  0  0  0  0   0   0   0   0   0   0\n",
       "  4  0  0  0  2  0  0  0  0  0   0   0   0   0   0   0\n",
       "  3  0  0  0  1  0  0  1  1  1   0   0   0   0   0   0\n",
       "  2  0  0  0  0  0  2  0  0  0   0   0   0   0   0   0\n",
       "  1  0  1  0  2  0  0  0  0  0   0   0   0   0   0   0\n",
       "  0  1  2  3  4  5  6  7  8  9  10  11  12  13  14  15"
      ]
     },
     "metadata": {},
     "output_type": "display_data"
    }
   ],
   "source": [
    "inds = [i for (i, x) in enumerate(hpreda) if x != hacta[i]]\n",
    "errorcounts = zip(hpreda[inds], hacta[inds]) |> collect |> countmap\n",
    "mat = Iterators.product(1:15, 1:15) |> collect \n",
    "# .|> x -> x in errorcounts ? errorcounts[x] : 0\n",
    "mat = mat .|> x -> x in errorcounts.keys ? errorcounts[x] : 0\n",
    "hcat(hcat(15:-1:1, mat)', 0:15)'"
   ]
  },
  {
   "cell_type": "code",
   "execution_count": 394,
   "metadata": {},
   "outputs": [
    {
     "data": {
      "text/plain": [
       "1124.2444f0"
      ]
     },
     "metadata": {},
     "output_type": "display_data"
    }
   ],
   "source": [
    "dataTx = (test_x |> flatten)' |> eachrow .|> collect |> gpu\n",
    "dataTy = [minvocab[y] for y in test_y] .|> collect |> gpu\n",
    "loss(dataTx, dataTy)"
   ]
  },
  {
   "cell_type": "code",
   "execution_count": 395,
   "metadata": {},
   "outputs": [
    {
     "data": {
      "text/plain": [
       "10000-element Vector{Int64}:\n",
       " 7\n",
       " 2\n",
       " 1\n",
       " 0\n",
       " 4\n",
       " 1\n",
       " 4\n",
       " 9\n",
       " 6\n",
       " 9\n",
       " ⋮\n",
       " 8\n",
       " 9\n",
       " 0\n",
       " 1\n",
       " 2\n",
       " 3\n",
       " 4\n",
       " 5\n",
       " 6"
      ]
     },
     "metadata": {},
     "output_type": "display_data"
    }
   ],
   "source": [
    "something = [invvocab[x] for x in nn.(dataTx) |> cpu .|> x -> round.(x)]"
   ]
  },
  {
   "cell_type": "code",
   "execution_count": 396,
   "metadata": {},
   "outputs": [
    {
     "data": {
      "text/plain": [
       "0.9056"
      ]
     },
     "metadata": {},
     "output_type": "display_data"
    }
   ],
   "source": [
    "1 - (sum(something .!= test_y) / length(test_y))"
   ]
  },
  {
   "cell_type": "code",
   "execution_count": 397,
   "metadata": {},
   "outputs": [
    {
     "data": {
      "text/plain": [
       "([6, 6, 3, 13, 7, 3, 0, 15, 8, 10  …  0, 1, 2, 3, 1, 9, 6, 1, 3, 2], [5, 4, 2, 9, 3, 7, 2, 7, 2, 9  …  2, 3, 3, 5, 3, 3, 4, 8, 5, 5])"
      ]
     },
     "metadata": {},
     "output_type": "display_data"
    }
   ],
   "source": [
    "pairs = [(x, test_y[i]) for (i,x) in enumerate(something) if x != test_y[i]]\n",
    "xn, yn = [k for (k,_) in pairs], [v for (_,v) in pairs]"
   ]
  },
  {
   "cell_type": "code",
   "execution_count": 398,
   "metadata": {},
   "outputs": [
    {
     "data": {
      "image/png": "[encoded data removed]",
      "image/svg+xml": "<?xml version=\"1.0\" encoding=\"utf-8\"?>\n<svg xmlns=\"http://www.w3.org/2000/svg\" xmlns:xlink=\"http://www.w3.org/1999/xlink\" width=\"600\" height=\"400\" viewBox=\"0 0 2400 1600\">\n<defs>\n  <clipPath id=\"clip440\">\n    <rect x=\"0\" y=\"0\" width=\"2400\" height=\"1600\"/>\n  </clipPath>\n</defs>\n<path clip-path=\"url(#clip440)\" d=\"\nM0 1600 L2400 1600 L2400 0 L0 0  Z\n  \" fill=\"#ffffff\" fill-rule=\"evenodd\" fill-opacity=\"1\"/>\n<defs>\n  <clipPath id=\"clip441\">\n    <rect x=\"480\" y=\"0\" width=\"1681\" height=\"1600\"/>\n  </clipPath>\n</defs>\n<path clip-path=\"url(#clip440)\" d=\"\nM138.959 1486.45 L2112.76 1486.45 L2112.76 47.2441 L138.959 47.2441  Z\n  \" fill=\"#ffffff\" fill-rule=\"evenodd\" fill-opacity=\"1\"/>\n<defs>\n  <clipPath id=\"clip442\">\n    <rect x=\"138\" y=\"47\" width=\"1975\" height=\"1440\"/>\n  </clipPath>\n</defs>\n<polyline clip-path=\"url(#clip442)\" style=\"stroke:#000000; stroke-linecap:round; stroke-linejoin:round; stroke-width:2; stroke-opacity:0.1; fill:none\" points=\"\n  262.322,1486.45 262.322,47.2441 \n  \"/>\n<polyline clip-path=\"url(#clip442)\" style=\"stroke:#000000; stroke-linecap:round; stroke-linejoin:round; stroke-width:2; stroke-opacity:0.1; fill:none\" points=\"\n  385.684,1486.45 385.684,47.2441 \n  \"/>\n<polyline clip-path=\"url(#clip442)\" style=\"stroke:#000000; stroke-linecap:round; stroke-linejoin:round; stroke-width:2; stroke-opacity:0.1; fill:none\" points=\"\n  509.046,1486.45 509.046,47.2441 \n  \"/>\n<polyline clip-path=\"url(#clip442)\" style=\"stroke:#000000; stroke-linecap:round; stroke-linejoin:round; stroke-width:2; stroke-opacity:0.1; fill:none\" points=\"\n  632.409,1486.45 632.409,47.2441 \n  \"/>\n<polyline clip-path=\"url(#clip442)\" style=\"stroke:#000000; stroke-linecap:round; stroke-linejoin:round; stroke-width:2; stroke-opacity:0.1; fill:none\" points=\"\n  755.771,1486.45 755.771,47.2441 \n  \"/>\n<polyline clip-path=\"url(#clip442)\" style=\"stroke:#000000; stroke-linecap:round; stroke-linejoin:round; stroke-width:2; stroke-opacity:0.1; fill:none\" points=\"\n  879.133,1486.45 879.133,47.2441 \n  \"/>\n<polyline clip-path=\"url(#clip442)\" style=\"stroke:#000000; stroke-linecap:round; stroke-linejoin:round; stroke-width:2; stroke-opacity:0.1; fill:none\" points=\"\n  1002.5,1486.45 1002.5,47.2441 \n  \"/>\n<polyline clip-path=\"url(#clip442)\" style=\"stroke:#000000; stroke-linecap:round; stroke-linejoin:round; stroke-width:2; stroke-opacity:0.1; fill:none\" points=\"\n  1125.86,1486.45 1125.86,47.2441 \n  \"/>\n<polyline clip-path=\"url(#clip442)\" style=\"stroke:#000000; stroke-linecap:round; stroke-linejoin:round; stroke-width:2; stroke-opacity:0.1; fill:none\" points=\"\n  1249.22,1486.45 1249.22,47.2441 \n  \"/>\n<polyline clip-path=\"url(#clip442)\" style=\"stroke:#000000; stroke-linecap:round; stroke-linejoin:round; stroke-width:2; stroke-opacity:0.1; fill:none\" points=\"\n  1372.58,1486.45 1372.58,47.2441 \n  \"/>\n<polyline clip-path=\"url(#clip442)\" style=\"stroke:#000000; stroke-linecap:round; stroke-linejoin:round; stroke-width:2; stroke-opacity:0.1; fill:none\" points=\"\n  1495.94,1486.45 1495.94,47.2441 \n  \"/>\n<polyline clip-path=\"url(#clip442)\" style=\"stroke:#000000; stroke-linecap:round; stroke-linejoin:round; stroke-width:2; stroke-opacity:0.1; fill:none\" points=\"\n  1619.31,1486.45 1619.31,47.2441 \n  \"/>\n<polyline clip-path=\"url(#clip442)\" style=\"stroke:#000000; stroke-linecap:round; stroke-linejoin:round; stroke-width:2; stroke-opacity:0.1; fill:none\" points=\"\n  1742.67,1486.45 1742.67,47.2441 \n  \"/>\n<polyline clip-path=\"url(#clip442)\" style=\"stroke:#000000; stroke-linecap:round; stroke-linejoin:round; stroke-width:2; stroke-opacity:0.1; fill:none\" points=\"\n  1866.03,1486.45 1866.03,47.2441 \n  \"/>\n<polyline clip-path=\"url(#clip442)\" style=\"stroke:#000000; stroke-linecap:round; stroke-linejoin:round; stroke-width:2; stroke-opacity:0.1; fill:none\" points=\"\n  1989.39,1486.45 1989.39,47.2441 \n  \"/>\n<polyline clip-path=\"url(#clip442)\" style=\"stroke:#000000; stroke-linecap:round; stroke-linejoin:round; stroke-width:2; stroke-opacity:0.1; fill:none\" points=\"\n  2112.76,1486.45 2112.76,47.2441 \n  \"/>\n<polyline clip-path=\"url(#clip440)\" style=\"stroke:#000000; stroke-linecap:round; stroke-linejoin:round; stroke-width:4; stroke-opacity:1; fill:none\" points=\"\n  138.959,1486.45 2112.76,1486.45 \n  \"/>\n<polyline clip-path=\"url(#clip440)\" style=\"stroke:#000000; stroke-linecap:round; stroke-linejoin:round; stroke-width:4; stroke-opacity:1; fill:none\" points=\"\n  262.322,1486.45 262.322,1467.55 \n  \"/>\n<polyline clip-path=\"url(#clip440)\" style=\"stroke:#000000; stroke-linecap:round; stroke-linejoin:round; stroke-width:4; stroke-opacity:1; fill:none\" points=\"\n  385.684,1486.45 385.684,1467.55 \n  \"/>\n<polyline clip-path=\"url(#clip440)\" style=\"stroke:#000000; stroke-linecap:round; stroke-linejoin:round; stroke-width:4; stroke-opacity:1; fill:none\" points=\"\n  509.046,1486.45 509.046,1467.55 \n  \"/>\n<polyline clip-path=\"url(#clip440)\" style=\"stroke:#000000; stroke-linecap:round; stroke-linejoin:round; stroke-width:4; stroke-opacity:1; fill:none\" points=\"\n  632.409,1486.45 632.409,1467.55 \n  \"/>\n<polyline clip-path=\"url(#clip440)\" style=\"stroke:#000000; stroke-linecap:round; stroke-linejoin:round; stroke-width:4; stroke-opacity:1; fill:none\" points=\"\n  755.771,1486.45 755.771,1467.55 \n  \"/>\n<polyline clip-path=\"url(#clip440)\" style=\"stroke:#000000; stroke-linecap:round; stroke-linejoin:round; stroke-width:4; stroke-opacity:1; fill:none\" points=\"\n  879.133,1486.45 879.133,1467.55 \n  \"/>\n<polyline clip-path=\"url(#clip440)\" style=\"stroke:#000000; stroke-linecap:round; stroke-linejoin:round; stroke-width:4; stroke-opacity:1; fill:none\" points=\"\n  1002.5,1486.45 1002.5,1467.55 \n  \"/>\n<polyline clip-path=\"url(#clip440)\" style=\"stroke:#000000; stroke-linecap:round; stroke-linejoin:round; stroke-width:4; stroke-opacity:1; fill:none\" points=\"\n  1125.86,1486.45 1125.86,1467.55 \n  \"/>\n<polyline clip-path=\"url(#clip440)\" style=\"stroke:#000000; stroke-linecap:round; stroke-linejoin:round; stroke-width:4; stroke-opacity:1; fill:none\" points=\"\n  1249.22,1486.45 1249.22,1467.55 \n  \"/>\n<polyline clip-path=\"url(#clip440)\" style=\"stroke:#000000; stroke-linecap:round; stroke-linejoin:round; stroke-width:4; stroke-opacity:1; fill:none\" points=\"\n  1372.58,1486.45 1372.58,1467.55 \n  \"/>\n<polyline clip-path=\"url(#clip440)\" style=\"stroke:#000000; stroke-linecap:round; stroke-linejoin:round; stroke-width:4; stroke-opacity:1; fill:none\" points=\"\n  1495.94,1486.45 1495.94,1467.55 \n  \"/>\n<polyline clip-path=\"url(#clip440)\" style=\"stroke:#000000; stroke-linecap:round; stroke-linejoin:round; stroke-width:4; stroke-opacity:1; fill:none\" points=\"\n  1619.31,1486.45 1619.31,1467.55 \n  \"/>\n<polyline clip-path=\"url(#clip440)\" style=\"stroke:#000000; stroke-linecap:round; stroke-linejoin:round; stroke-width:4; stroke-opacity:1; fill:none\" points=\"\n  1742.67,1486.45 1742.67,1467.55 \n  \"/>\n<polyline clip-path=\"url(#clip440)\" style=\"stroke:#000000; stroke-linecap:round; stroke-linejoin:round; stroke-width:4; stroke-opacity:1; fill:none\" points=\"\n  1866.03,1486.45 1866.03,1467.55 \n  \"/>\n<polyline clip-path=\"url(#clip440)\" style=\"stroke:#000000; stroke-linecap:round; stroke-linejoin:round; stroke-width:4; stroke-opacity:1; fill:none\" points=\"\n  1989.39,1486.45 1989.39,1467.55 \n  \"/>\n<polyline clip-path=\"url(#clip440)\" style=\"stroke:#000000; stroke-linecap:round; stroke-linejoin:round; stroke-width:4; stroke-opacity:1; fill:none\" points=\"\n  2112.76,1486.45 2112.76,1467.55 \n  \"/>\n<path clip-path=\"url(#clip440)\" d=\"M252.704 1544.91 L260.343 1544.91 L260.343 1518.55 L252.032 1520.21 L252.032 1515.95 L260.296 1514.29 L264.972 1514.29 L264.972 1544.91 L272.611 1544.91 L272.611 1548.85 L252.704 1548.85 L252.704 1544.91 Z\" fill=\"#000000\" fill-rule=\"evenodd\" fill-opacity=\"1\" /><path clip-path=\"url(#clip440)\" d=\"M380.337 1544.91 L396.656 1544.91 L396.656 1548.85 L374.712 1548.85 L374.712 1544.91 Q377.374 1542.16 381.957 1537.53 Q386.564 1532.88 387.744 1531.53 Q389.99 1529.01 390.869 1527.27 Q391.772 1525.51 391.772 1523.82 Q391.772 1521.07 389.827 1519.33 Q387.906 1517.6 384.804 1517.6 Q382.605 1517.6 380.152 1518.36 Q377.721 1519.13 374.943 1520.68 L374.943 1515.95 Q377.767 1514.82 380.221 1514.24 Q382.675 1513.66 384.712 1513.66 Q390.082 1513.66 393.277 1516.35 Q396.471 1519.03 396.471 1523.52 Q396.471 1525.65 395.661 1527.57 Q394.874 1529.47 392.767 1532.07 Q392.189 1532.74 389.087 1535.95 Q385.985 1539.15 380.337 1544.91 Z\" fill=\"#000000\" fill-rule=\"evenodd\" fill-opacity=\"1\" /><path clip-path=\"url(#clip440)\" d=\"M513.294 1530.21 Q516.65 1530.93 518.525 1533.2 Q520.424 1535.47 520.424 1538.8 Q520.424 1543.92 516.905 1546.72 Q513.387 1549.52 506.905 1549.52 Q504.729 1549.52 502.414 1549.08 Q500.123 1548.66 497.669 1547.81 L497.669 1543.29 Q499.613 1544.43 501.928 1545.01 Q504.243 1545.58 506.766 1545.58 Q511.164 1545.58 513.456 1543.85 Q515.771 1542.11 515.771 1538.8 Q515.771 1535.75 513.618 1534.03 Q511.488 1532.3 507.669 1532.3 L503.641 1532.3 L503.641 1528.45 L507.854 1528.45 Q511.303 1528.45 513.132 1527.09 Q514.961 1525.7 514.961 1523.11 Q514.961 1520.45 513.062 1519.03 Q511.187 1517.6 507.669 1517.6 Q505.748 1517.6 503.549 1518.01 Q501.35 1518.43 498.711 1519.31 L498.711 1515.14 Q501.373 1514.4 503.688 1514.03 Q506.025 1513.66 508.086 1513.66 Q513.41 1513.66 516.512 1516.09 Q519.613 1518.5 519.613 1522.62 Q519.613 1525.49 517.97 1527.48 Q516.326 1529.45 513.294 1530.21 Z\" fill=\"#000000\" fill-rule=\"evenodd\" fill-opacity=\"1\" /><path clip-path=\"url(#clip440)\" d=\"M635.418 1518.36 L623.612 1536.81 L635.418 1536.81 L635.418 1518.36 M634.191 1514.29 L640.071 1514.29 L640.071 1536.81 L645.001 1536.81 L645.001 1540.7 L640.071 1540.7 L640.071 1548.85 L635.418 1548.85 L635.418 1540.7 L619.816 1540.7 L619.816 1536.19 L634.191 1514.29 Z\" fill=\"#000000\" fill-rule=\"evenodd\" fill-opacity=\"1\" /><path clip-path=\"url(#clip440)\" d=\"M746.049 1514.29 L764.405 1514.29 L764.405 1518.22 L750.331 1518.22 L750.331 1526.7 Q751.35 1526.35 752.368 1526.19 Q753.387 1526 754.405 1526 Q760.192 1526 763.572 1529.17 Q766.951 1532.34 766.951 1537.76 Q766.951 1543.34 763.479 1546.44 Q760.007 1549.52 753.688 1549.52 Q751.512 1549.52 749.243 1549.15 Q746.998 1548.78 744.59 1548.04 L744.59 1543.34 Q746.674 1544.47 748.896 1545.03 Q751.118 1545.58 753.595 1545.58 Q757.6 1545.58 759.937 1543.48 Q762.275 1541.37 762.275 1537.76 Q762.275 1534.15 759.937 1532.04 Q757.6 1529.94 753.595 1529.94 Q751.72 1529.94 749.845 1530.35 Q747.993 1530.77 746.049 1531.65 L746.049 1514.29 Z\" fill=\"#000000\" fill-rule=\"evenodd\" fill-opacity=\"1\" /><path clip-path=\"url(#clip440)\" d=\"M879.538 1529.7 Q876.39 1529.7 874.538 1531.86 Q872.71 1534.01 872.71 1537.76 Q872.71 1541.49 874.538 1543.66 Q876.39 1545.82 879.538 1545.82 Q882.686 1545.82 884.515 1543.66 Q886.367 1541.49 886.367 1537.76 Q886.367 1534.01 884.515 1531.86 Q882.686 1529.7 879.538 1529.7 M888.821 1515.05 L888.821 1519.31 Q887.061 1518.48 885.256 1518.04 Q883.473 1517.6 881.714 1517.6 Q877.085 1517.6 874.631 1520.72 Q872.2 1523.85 871.853 1530.17 Q873.219 1528.15 875.279 1527.09 Q877.339 1526 879.816 1526 Q885.024 1526 888.034 1529.17 Q891.066 1532.32 891.066 1537.76 Q891.066 1543.08 887.918 1546.3 Q884.77 1549.52 879.538 1549.52 Q873.543 1549.52 870.372 1544.94 Q867.2 1540.33 867.2 1531.6 Q867.2 1523.41 871.089 1518.55 Q874.978 1513.66 881.529 1513.66 Q883.288 1513.66 885.071 1514.01 Q886.876 1514.36 888.821 1515.05 Z\" fill=\"#000000\" fill-rule=\"evenodd\" fill-opacity=\"1\" /><path clip-path=\"url(#clip440)\" d=\"M991.384 1514.29 L1013.61 1514.29 L1013.61 1516.28 L1001.06 1548.85 L996.176 1548.85 L1007.98 1518.22 L991.384 1518.22 L991.384 1514.29 Z\" fill=\"#000000\" fill-rule=\"evenodd\" fill-opacity=\"1\" /><path clip-path=\"url(#clip440)\" d=\"M1125.86 1532.44 Q1122.52 1532.44 1120.6 1534.22 Q1118.7 1536 1118.7 1539.13 Q1118.7 1542.25 1120.6 1544.03 Q1122.52 1545.82 1125.86 1545.82 Q1129.19 1545.82 1131.11 1544.03 Q1133.03 1542.23 1133.03 1539.13 Q1133.03 1536 1131.11 1534.22 Q1129.21 1532.44 1125.86 1532.44 M1121.18 1530.45 Q1118.17 1529.7 1116.48 1527.64 Q1114.82 1525.58 1114.82 1522.62 Q1114.82 1518.48 1117.76 1516.07 Q1120.72 1513.66 1125.86 1513.66 Q1131.02 1513.66 1133.96 1516.07 Q1136.9 1518.48 1136.9 1522.62 Q1136.9 1525.58 1135.21 1527.64 Q1133.54 1529.7 1130.56 1530.45 Q1133.94 1531.23 1135.81 1533.52 Q1137.71 1535.82 1137.71 1539.13 Q1137.71 1544.15 1134.63 1546.83 Q1131.58 1549.52 1125.86 1549.52 Q1120.14 1549.52 1117.06 1546.83 Q1114.01 1544.15 1114.01 1539.13 Q1114.01 1535.82 1115.9 1533.52 Q1117.8 1531.23 1121.18 1530.45 M1119.47 1523.06 Q1119.47 1525.75 1121.14 1527.25 Q1122.83 1528.76 1125.86 1528.76 Q1128.87 1528.76 1130.56 1527.25 Q1132.27 1525.75 1132.27 1523.06 Q1132.27 1520.38 1130.56 1518.87 Q1128.87 1517.37 1125.86 1517.37 Q1122.83 1517.37 1121.14 1518.87 Q1119.47 1520.38 1119.47 1523.06 Z\" fill=\"#000000\" fill-rule=\"evenodd\" fill-opacity=\"1\" /><path clip-path=\"url(#clip440)\" d=\"M1239.52 1548.13 L1239.52 1543.87 Q1241.28 1544.7 1243.09 1545.14 Q1244.89 1545.58 1246.63 1545.58 Q1251.26 1545.58 1253.69 1542.48 Q1256.14 1539.36 1256.49 1533.01 Q1255.15 1535.01 1253.09 1536.07 Q1251.03 1537.13 1248.53 1537.13 Q1243.34 1537.13 1240.31 1534.01 Q1237.3 1530.86 1237.3 1525.42 Q1237.3 1520.1 1240.45 1516.88 Q1243.59 1513.66 1248.83 1513.66 Q1254.82 1513.66 1257.97 1518.27 Q1261.14 1522.85 1261.14 1531.6 Q1261.14 1539.77 1257.25 1544.66 Q1253.39 1549.52 1246.84 1549.52 Q1245.08 1549.52 1243.27 1549.17 Q1241.47 1548.82 1239.52 1548.13 M1248.83 1533.48 Q1251.97 1533.48 1253.8 1531.32 Q1255.66 1529.17 1255.66 1525.42 Q1255.66 1521.7 1253.8 1519.54 Q1251.97 1517.37 1248.83 1517.37 Q1245.68 1517.37 1243.83 1519.54 Q1242 1521.7 1242 1525.42 Q1242 1529.17 1243.83 1531.32 Q1245.68 1533.48 1248.83 1533.48 Z\" fill=\"#000000\" fill-rule=\"evenodd\" fill-opacity=\"1\" /><path clip-path=\"url(#clip440)\" d=\"M1347.27 1544.91 L1354.91 1544.91 L1354.91 1518.55 L1346.6 1520.21 L1346.6 1515.95 L1354.86 1514.29 L1359.54 1514.29 L1359.54 1544.91 L1367.18 1544.91 L1367.18 1548.85 L1347.27 1548.85 L1347.27 1544.91 Z\" fill=\"#000000\" fill-rule=\"evenodd\" fill-opacity=\"1\" /><path clip-path=\"url(#clip440)\" d=\"M1386.62 1517.37 Q1383.01 1517.37 1381.18 1520.93 Q1379.38 1524.47 1379.38 1531.6 Q1379.38 1538.71 1381.18 1542.27 Q1383.01 1545.82 1386.62 1545.82 Q1390.26 1545.82 1392.06 1542.27 Q1393.89 1538.71 1393.89 1531.6 Q1393.89 1524.47 1392.06 1520.93 Q1390.26 1517.37 1386.62 1517.37 M1386.62 1513.66 Q1392.43 1513.66 1395.49 1518.27 Q1398.57 1522.85 1398.57 1531.6 Q1398.57 1540.33 1395.49 1544.94 Q1392.43 1549.52 1386.62 1549.52 Q1380.81 1549.52 1377.73 1544.94 Q1374.68 1540.33 1374.68 1531.6 Q1374.68 1522.85 1377.73 1518.27 Q1380.81 1513.66 1386.62 1513.66 Z\" fill=\"#000000\" fill-rule=\"evenodd\" fill-opacity=\"1\" /><path clip-path=\"url(#clip440)\" d=\"M1471.25 1544.91 L1478.88 1544.91 L1478.88 1518.55 L1470.57 1520.21 L1470.57 1515.95 L1478.84 1514.29 L1483.51 1514.29 L1483.51 1544.91 L1491.15 1544.91 L1491.15 1548.85 L1471.25 1548.85 L1471.25 1544.91 Z\" fill=\"#000000\" fill-rule=\"evenodd\" fill-opacity=\"1\" /><path clip-path=\"url(#clip440)\" d=\"M1501.41 1544.91 L1509.05 1544.91 L1509.05 1518.55 L1500.74 1520.21 L1500.74 1515.95 L1509 1514.29 L1513.68 1514.29 L1513.68 1544.91 L1521.31 1544.91 L1521.31 1548.85 L1501.41 1548.85 L1501.41 1544.91 Z\" fill=\"#000000\" fill-rule=\"evenodd\" fill-opacity=\"1\" /><path clip-path=\"url(#clip440)\" d=\"M1594.79 1544.91 L1602.43 1544.91 L1602.43 1518.55 L1594.12 1520.21 L1594.12 1515.95 L1602.39 1514.29 L1607.06 1514.29 L1607.06 1544.91 L1614.7 1544.91 L1614.7 1548.85 L1594.79 1548.85 L1594.79 1544.91 Z\" fill=\"#000000\" fill-rule=\"evenodd\" fill-opacity=\"1\" /><path clip-path=\"url(#clip440)\" d=\"M1628.17 1544.91 L1644.49 1544.91 L1644.49 1548.85 L1622.55 1548.85 L1622.55 1544.91 Q1625.21 1542.16 1629.79 1537.53 Q1634.4 1532.88 1635.58 1531.53 Q1637.83 1529.01 1638.7 1527.27 Q1639.61 1525.51 1639.61 1523.82 Q1639.61 1521.07 1637.66 1519.33 Q1635.74 1517.6 1632.64 1517.6 Q1630.44 1517.6 1627.99 1518.36 Q1625.56 1519.13 1622.78 1520.68 L1622.78 1515.95 Q1625.6 1514.82 1628.06 1514.24 Q1630.51 1513.66 1632.55 1513.66 Q1637.92 1513.66 1641.11 1516.35 Q1644.31 1519.03 1644.31 1523.52 Q1644.31 1525.65 1643.5 1527.57 Q1642.71 1529.47 1640.6 1532.07 Q1640.02 1532.74 1636.92 1535.95 Q1633.82 1539.15 1628.17 1544.91 Z\" fill=\"#000000\" fill-rule=\"evenodd\" fill-opacity=\"1\" /><path clip-path=\"url(#clip440)\" d=\"M1717.68 1544.91 L1725.32 1544.91 L1725.32 1518.55 L1717.01 1520.21 L1717.01 1515.95 L1725.27 1514.29 L1729.95 1514.29 L1729.95 1544.91 L1737.59 1544.91 L1737.59 1548.85 L1717.68 1548.85 L1717.68 1544.91 Z\" fill=\"#000000\" fill-rule=\"evenodd\" fill-opacity=\"1\" /><path clip-path=\"url(#clip440)\" d=\"M1761.2 1530.21 Q1764.56 1530.93 1766.43 1533.2 Q1768.33 1535.47 1768.33 1538.8 Q1768.33 1543.92 1764.81 1546.72 Q1761.29 1549.52 1754.81 1549.52 Q1752.63 1549.52 1750.32 1549.08 Q1748.03 1548.66 1745.57 1547.81 L1745.57 1543.29 Q1747.52 1544.43 1749.83 1545.01 Q1752.15 1545.58 1754.67 1545.58 Q1759.07 1545.58 1761.36 1543.85 Q1763.68 1542.11 1763.68 1538.8 Q1763.68 1535.75 1761.52 1534.03 Q1759.39 1532.3 1755.57 1532.3 L1751.55 1532.3 L1751.55 1528.45 L1755.76 1528.45 Q1759.21 1528.45 1761.04 1527.09 Q1762.87 1525.7 1762.87 1523.11 Q1762.87 1520.45 1760.97 1519.03 Q1759.09 1517.6 1755.57 1517.6 Q1753.65 1517.6 1751.45 1518.01 Q1749.25 1518.43 1746.62 1519.31 L1746.62 1515.14 Q1749.28 1514.4 1751.59 1514.03 Q1753.93 1513.66 1755.99 1513.66 Q1761.31 1513.66 1764.42 1516.09 Q1767.52 1518.5 1767.52 1522.62 Q1767.52 1525.49 1765.87 1527.48 Q1764.23 1529.45 1761.2 1530.21 Z\" fill=\"#000000\" fill-rule=\"evenodd\" fill-opacity=\"1\" /><path clip-path=\"url(#clip440)\" d=\"M1840.48 1544.91 L1848.11 1544.91 L1848.11 1518.55 L1839.8 1520.21 L1839.8 1515.95 L1848.07 1514.29 L1852.74 1514.29 L1852.74 1544.91 L1860.38 1544.91 L1860.38 1548.85 L1840.48 1548.85 L1840.48 1544.91 Z\" fill=\"#000000\" fill-rule=\"evenodd\" fill-opacity=\"1\" /><path clip-path=\"url(#clip440)\" d=\"M1882.67 1518.36 L1870.87 1536.81 L1882.67 1536.81 L1882.67 1518.36 M1881.45 1514.29 L1887.33 1514.29 L1887.33 1536.81 L1892.26 1536.81 L1892.26 1540.7 L1887.33 1540.7 L1887.33 1548.85 L1882.67 1548.85 L1882.67 1540.7 L1867.07 1540.7 L1867.07 1536.19 L1881.45 1514.29 Z\" fill=\"#000000\" fill-rule=\"evenodd\" fill-opacity=\"1\" /><path clip-path=\"url(#clip440)\" d=\"M1964.58 1544.91 L1972.22 1544.91 L1972.22 1518.55 L1963.91 1520.21 L1963.91 1515.95 L1972.17 1514.29 L1976.85 1514.29 L1976.85 1544.91 L1984.49 1544.91 L1984.49 1548.85 L1964.58 1548.85 L1964.58 1544.91 Z\" fill=\"#000000\" fill-rule=\"evenodd\" fill-opacity=\"1\" /><path clip-path=\"url(#clip440)\" d=\"M1993.98 1514.29 L2012.33 1514.29 L2012.33 1518.22 L1998.26 1518.22 L1998.26 1526.7 Q1999.28 1526.35 2000.3 1526.19 Q2001.31 1526 2002.33 1526 Q2008.12 1526 2011.5 1529.17 Q2014.88 1532.34 2014.88 1537.76 Q2014.88 1543.34 2011.41 1546.44 Q2007.94 1549.52 2001.62 1549.52 Q1999.44 1549.52 1997.17 1549.15 Q1994.93 1548.78 1992.52 1548.04 L1992.52 1543.34 Q1994.6 1544.47 1996.82 1545.03 Q1999.05 1545.58 2001.52 1545.58 Q2005.53 1545.58 2007.87 1543.48 Q2010.2 1541.37 2010.2 1537.76 Q2010.2 1534.15 2007.87 1532.04 Q2005.53 1529.94 2001.52 1529.94 Q1999.65 1529.94 1997.77 1530.35 Q1995.92 1530.77 1993.98 1531.65 L1993.98 1514.29 Z\" fill=\"#000000\" fill-rule=\"evenodd\" fill-opacity=\"1\" /><path clip-path=\"url(#clip440)\" d=\"M2087.36 1544.91 L2095 1544.91 L2095 1518.55 L2086.69 1520.21 L2086.69 1515.95 L2094.96 1514.29 L2099.63 1514.29 L2099.63 1544.91 L2107.27 1544.91 L2107.27 1548.85 L2087.36 1548.85 L2087.36 1544.91 Z\" fill=\"#000000\" fill-rule=\"evenodd\" fill-opacity=\"1\" /><path clip-path=\"url(#clip440)\" d=\"M2127.29 1529.7 Q2124.14 1529.7 2122.29 1531.86 Q2120.46 1534.01 2120.46 1537.76 Q2120.46 1541.49 2122.29 1543.66 Q2124.14 1545.82 2127.29 1545.82 Q2130.44 1545.82 2132.27 1543.66 Q2134.12 1541.49 2134.12 1537.76 Q2134.12 1534.01 2132.27 1531.86 Q2130.44 1529.7 2127.29 1529.7 M2136.58 1515.05 L2136.58 1519.31 Q2134.82 1518.48 2133.01 1518.04 Q2131.23 1517.6 2129.47 1517.6 Q2124.84 1517.6 2122.39 1520.72 Q2119.95 1523.85 2119.61 1530.17 Q2120.97 1528.15 2123.03 1527.09 Q2125.09 1526 2127.57 1526 Q2132.78 1526 2135.79 1529.17 Q2138.82 1532.32 2138.82 1537.76 Q2138.82 1543.08 2135.67 1546.3 Q2132.52 1549.52 2127.29 1549.52 Q2121.3 1549.52 2118.13 1544.94 Q2114.95 1540.33 2114.95 1531.6 Q2114.95 1523.41 2118.84 1518.55 Q2122.73 1513.66 2129.28 1513.66 Q2131.04 1513.66 2132.83 1514.01 Q2134.63 1514.36 2136.58 1515.05 Z\" fill=\"#000000\" fill-rule=\"evenodd\" fill-opacity=\"1\" /><polyline clip-path=\"url(#clip442)\" style=\"stroke:#000000; stroke-linecap:round; stroke-linejoin:round; stroke-width:2; stroke-opacity:0.1; fill:none\" points=\"\n  138.959,1342.53 2112.76,1342.53 \n  \"/>\n<polyline clip-path=\"url(#clip442)\" style=\"stroke:#000000; stroke-linecap:round; stroke-linejoin:round; stroke-width:2; stroke-opacity:0.1; fill:none\" points=\"\n  138.959,1198.61 2112.76,1198.61 \n  \"/>\n<polyline clip-path=\"url(#clip442)\" style=\"stroke:#000000; stroke-linecap:round; stroke-linejoin:round; stroke-width:2; stroke-opacity:0.1; fill:none\" points=\"\n  138.959,1054.69 2112.76,1054.69 \n  \"/>\n<polyline clip-path=\"url(#clip442)\" style=\"stroke:#000000; stroke-linecap:round; stroke-linejoin:round; stroke-width:2; stroke-opacity:0.1; fill:none\" points=\"\n  138.959,910.766 2112.76,910.766 \n  \"/>\n<polyline clip-path=\"url(#clip442)\" style=\"stroke:#000000; stroke-linecap:round; stroke-linejoin:round; stroke-width:2; stroke-opacity:0.1; fill:none\" points=\"\n  138.959,766.846 2112.76,766.846 \n  \"/>\n<polyline clip-path=\"url(#clip442)\" style=\"stroke:#000000; stroke-linecap:round; stroke-linejoin:round; stroke-width:2; stroke-opacity:0.1; fill:none\" points=\"\n  138.959,622.926 2112.76,622.926 \n  \"/>\n<polyline clip-path=\"url(#clip442)\" style=\"stroke:#000000; stroke-linecap:round; stroke-linejoin:round; stroke-width:2; stroke-opacity:0.1; fill:none\" points=\"\n  138.959,479.005 2112.76,479.005 \n  \"/>\n<polyline clip-path=\"url(#clip442)\" style=\"stroke:#000000; stroke-linecap:round; stroke-linejoin:round; stroke-width:2; stroke-opacity:0.1; fill:none\" points=\"\n  138.959,335.085 2112.76,335.085 \n  \"/>\n<polyline clip-path=\"url(#clip442)\" style=\"stroke:#000000; stroke-linecap:round; stroke-linejoin:round; stroke-width:2; stroke-opacity:0.1; fill:none\" points=\"\n  138.959,191.164 2112.76,191.164 \n  \"/>\n<polyline clip-path=\"url(#clip442)\" style=\"stroke:#000000; stroke-linecap:round; stroke-linejoin:round; stroke-width:2; stroke-opacity:0.1; fill:none\" points=\"\n  138.959,47.2441 2112.76,47.2441 \n  \"/>\n<polyline clip-path=\"url(#clip440)\" style=\"stroke:#000000; stroke-linecap:round; stroke-linejoin:round; stroke-width:4; stroke-opacity:1; fill:none\" points=\"\n  138.959,1486.45 138.959,47.2441 \n  \"/>\n<polyline clip-path=\"url(#clip440)\" style=\"stroke:#000000; stroke-linecap:round; stroke-linejoin:round; stroke-width:4; stroke-opacity:1; fill:none\" points=\"\n  138.959,1342.53 155.808,1342.53 \n  \"/>\n<polyline clip-path=\"url(#clip440)\" style=\"stroke:#000000; stroke-linecap:round; stroke-linejoin:round; stroke-width:4; stroke-opacity:1; fill:none\" points=\"\n  138.959,1198.61 155.808,1198.61 \n  \"/>\n<polyline clip-path=\"url(#clip440)\" style=\"stroke:#000000; stroke-linecap:round; stroke-linejoin:round; stroke-width:4; stroke-opacity:1; fill:none\" points=\"\n  138.959,1054.69 155.808,1054.69 \n  \"/>\n<polyline clip-path=\"url(#clip440)\" style=\"stroke:#000000; stroke-linecap:round; stroke-linejoin:round; stroke-width:4; stroke-opacity:1; fill:none\" points=\"\n  138.959,910.766 155.808,910.766 \n  \"/>\n<polyline clip-path=\"url(#clip440)\" style=\"stroke:#000000; stroke-linecap:round; stroke-linejoin:round; stroke-width:4; stroke-opacity:1; fill:none\" points=\"\n  138.959,766.846 155.808,766.846 \n  \"/>\n<polyline clip-path=\"url(#clip440)\" style=\"stroke:#000000; stroke-linecap:round; stroke-linejoin:round; stroke-width:4; stroke-opacity:1; fill:none\" points=\"\n  138.959,622.926 155.808,622.926 \n  \"/>\n<polyline clip-path=\"url(#clip440)\" style=\"stroke:#000000; stroke-linecap:round; stroke-linejoin:round; stroke-width:4; stroke-opacity:1; fill:none\" points=\"\n  138.959,479.005 155.808,479.005 \n  \"/>\n<polyline clip-path=\"url(#clip440)\" style=\"stroke:#000000; stroke-linecap:round; stroke-linejoin:round; stroke-width:4; stroke-opacity:1; fill:none\" points=\"\n  138.959,335.085 155.808,335.085 \n  \"/>\n<polyline clip-path=\"url(#clip440)\" style=\"stroke:#000000; stroke-linecap:round; stroke-linejoin:round; stroke-width:4; stroke-opacity:1; fill:none\" points=\"\n  138.959,191.164 155.808,191.164 \n  \"/>\n<polyline clip-path=\"url(#clip440)\" style=\"stroke:#000000; stroke-linecap:round; stroke-linejoin:round; stroke-width:4; stroke-opacity:1; fill:none\" points=\"\n  138.959,47.2441 155.808,47.2441 \n  \"/>\n<path clip-path=\"url(#clip440)\" d=\"M83.0521 1355.87 L90.691 1355.87 L90.691 1329.51 L82.3808 1331.17 L82.3808 1326.91 L90.6447 1325.25 L95.3206 1325.25 L95.3206 1355.87 L102.959 1355.87 L102.959 1359.81 L83.0521 1359.81 L83.0521 1355.87 Z\" fill=\"#000000\" fill-rule=\"evenodd\" fill-opacity=\"1\" /><path clip-path=\"url(#clip440)\" d=\"M86.6401 1211.95 L102.959 1211.95 L102.959 1215.89 L81.0151 1215.89 L81.0151 1211.95 Q83.6771 1209.2 88.2604 1204.57 Q92.8669 1199.91 94.0475 1198.57 Q96.2928 1196.05 97.1724 1194.31 Q98.0752 1192.55 98.0752 1190.86 Q98.0752 1188.11 96.1308 1186.37 Q94.2095 1184.64 91.1077 1184.64 Q88.9086 1184.64 86.4549 1185.4 Q84.0244 1186.17 81.2466 1187.72 L81.2466 1182.99 Q84.0707 1181.86 86.5243 1181.28 Q88.978 1180.7 91.0151 1180.7 Q96.3854 1180.7 99.5798 1183.39 Q102.774 1186.07 102.774 1190.56 Q102.774 1192.69 101.964 1194.61 Q101.177 1196.51 99.0706 1199.1 Q98.4919 1199.78 95.39 1202.99 Q92.2882 1206.19 86.6401 1211.95 Z\" fill=\"#000000\" fill-rule=\"evenodd\" fill-opacity=\"1\" /><path clip-path=\"url(#clip440)\" d=\"M95.8298 1053.33 Q99.1863 1054.05 101.061 1056.32 Q102.959 1058.59 102.959 1061.92 Q102.959 1067.04 99.4409 1069.84 Q95.9224 1072.64 89.441 1072.64 Q87.2651 1072.64 84.9503 1072.2 Q82.6586 1071.78 80.2049 1070.93 L80.2049 1066.41 Q82.1494 1067.55 84.4642 1068.12 Q86.779 1068.7 89.3021 1068.7 Q93.7002 1068.7 95.9919 1066.97 Q98.3067 1065.23 98.3067 1061.92 Q98.3067 1058.86 96.1539 1057.15 Q94.0243 1055.42 90.2049 1055.42 L86.1771 1055.42 L86.1771 1051.57 L90.3901 1051.57 Q93.8391 1051.57 95.6678 1050.21 Q97.4965 1048.82 97.4965 1046.23 Q97.4965 1043.56 95.5984 1042.15 Q93.7234 1040.72 90.2049 1040.72 Q88.2836 1040.72 86.0845 1041.13 Q83.8855 1041.55 81.2466 1042.43 L81.2466 1038.26 Q83.9086 1037.52 86.2234 1037.15 Q88.5614 1036.78 90.6215 1036.78 Q95.9456 1036.78 99.0474 1039.21 Q102.149 1041.62 102.149 1045.74 Q102.149 1048.61 100.506 1050.6 Q98.8622 1052.57 95.8298 1053.33 Z\" fill=\"#000000\" fill-rule=\"evenodd\" fill-opacity=\"1\" /><path clip-path=\"url(#clip440)\" d=\"M93.3762 897.56 L81.5707 916.009 L93.3762 916.009 L93.3762 897.56 M92.1493 893.486 L98.0289 893.486 L98.0289 916.009 L102.959 916.009 L102.959 919.898 L98.0289 919.898 L98.0289 928.046 L93.3762 928.046 L93.3762 919.898 L77.7744 919.898 L77.7744 915.384 L92.1493 893.486 Z\" fill=\"#000000\" fill-rule=\"evenodd\" fill-opacity=\"1\" /><path clip-path=\"url(#clip440)\" d=\"M82.0568 749.566 L100.413 749.566 L100.413 753.501 L86.3392 753.501 L86.3392 761.973 Q87.3577 761.626 88.3762 761.464 Q89.3947 761.279 90.4132 761.279 Q96.2002 761.279 99.5798 764.45 Q102.959 767.621 102.959 773.038 Q102.959 778.617 99.4872 781.719 Q96.015 784.797 89.6956 784.797 Q87.5197 784.797 85.2512 784.427 Q83.0058 784.057 80.5984 783.316 L80.5984 778.617 Q82.6818 779.751 84.904 780.307 Q87.1262 780.862 89.603 780.862 Q93.6076 780.862 95.9456 778.756 Q98.2835 776.649 98.2835 773.038 Q98.2835 769.427 95.9456 767.321 Q93.6076 765.214 89.603 765.214 Q87.728 765.214 85.8531 765.631 Q84.0012 766.047 82.0568 766.927 L82.0568 749.566 Z\" fill=\"#000000\" fill-rule=\"evenodd\" fill-opacity=\"1\" /><path clip-path=\"url(#clip440)\" d=\"M91.4317 621.062 Q88.2836 621.062 86.4318 623.215 Q84.6031 625.368 84.6031 629.118 Q84.6031 632.845 86.4318 635.02 Q88.2836 637.173 91.4317 637.173 Q94.5799 637.173 96.4085 635.02 Q98.2604 632.845 98.2604 629.118 Q98.2604 625.368 96.4085 623.215 Q94.5799 621.062 91.4317 621.062 M100.714 606.409 L100.714 610.669 Q98.9548 609.835 97.1493 609.396 Q95.3669 608.956 93.6076 608.956 Q88.978 608.956 86.5243 612.081 Q84.0938 615.206 83.7466 621.525 Q85.1123 619.511 87.1725 618.446 Q89.2327 617.359 91.7095 617.359 Q96.9178 617.359 99.927 620.53 Q102.959 623.678 102.959 629.118 Q102.959 634.442 99.8113 637.659 Q96.6632 640.877 91.4317 640.877 Q85.4364 640.877 82.2651 636.294 Q79.0938 631.687 79.0938 622.96 Q79.0938 614.766 82.9827 609.905 Q86.8716 605.021 93.4225 605.021 Q95.1817 605.021 96.9641 605.368 Q98.7696 605.715 100.714 606.409 Z\" fill=\"#000000\" fill-rule=\"evenodd\" fill-opacity=\"1\" /><path clip-path=\"url(#clip440)\" d=\"M80.7373 461.725 L102.959 461.725 L102.959 463.716 L90.4132 496.285 L85.529 496.285 L97.3345 465.66 L80.7373 465.66 L80.7373 461.725 Z\" fill=\"#000000\" fill-rule=\"evenodd\" fill-opacity=\"1\" /><path clip-path=\"url(#clip440)\" d=\"M91.1077 335.953 Q87.7743 335.953 85.8531 337.735 Q83.9549 339.518 83.9549 342.643 Q83.9549 345.768 85.8531 347.55 Q87.7743 349.332 91.1077 349.332 Q94.441 349.332 96.3623 347.55 Q98.2835 345.745 98.2835 342.643 Q98.2835 339.518 96.3623 337.735 Q94.4641 335.953 91.1077 335.953 M86.4318 333.962 Q83.4225 333.221 81.7327 331.161 Q80.066 329.101 80.066 326.138 Q80.066 321.995 83.0058 319.587 Q85.9688 317.18 91.1077 317.18 Q96.2697 317.18 99.2095 319.587 Q102.149 321.995 102.149 326.138 Q102.149 329.101 100.459 331.161 Q98.7928 333.221 95.8067 333.962 Q99.1863 334.749 101.061 337.041 Q102.959 339.333 102.959 342.643 Q102.959 347.666 99.8808 350.351 Q96.8252 353.036 91.1077 353.036 Q85.3901 353.036 82.3114 350.351 Q79.2559 347.666 79.2559 342.643 Q79.2559 339.333 81.154 337.041 Q83.0521 334.749 86.4318 333.962 M84.7188 326.578 Q84.7188 329.263 86.3855 330.768 Q88.0753 332.272 91.1077 332.272 Q94.1169 332.272 95.8067 330.768 Q97.5197 329.263 97.5197 326.578 Q97.5197 323.893 95.8067 322.388 Q94.1169 320.884 91.1077 320.884 Q88.0753 320.884 86.3855 322.388 Q84.7188 323.893 84.7188 326.578 Z\" fill=\"#000000\" fill-rule=\"evenodd\" fill-opacity=\"1\" /><path clip-path=\"url(#clip440)\" d=\"M81.3392 207.727 L81.3392 203.468 Q83.0984 204.301 84.904 204.741 Q86.7095 205.181 88.4456 205.181 Q93.0752 205.181 95.5058 202.079 Q97.9595 198.954 98.3067 192.611 Q96.9641 194.602 94.9039 195.667 Q92.8438 196.732 90.3438 196.732 Q85.1586 196.732 82.1262 193.607 Q79.117 190.458 79.117 185.019 Q79.117 179.695 82.2651 176.477 Q85.4132 173.259 90.6447 173.259 Q96.64 173.259 99.7882 177.866 Q102.959 182.449 102.959 191.199 Q102.959 199.37 99.0706 204.255 Q95.2049 209.116 88.654 209.116 Q86.8947 209.116 85.0892 208.769 Q83.2836 208.421 81.3392 207.727 M90.6447 193.074 Q93.7928 193.074 95.6215 190.921 Q97.4734 188.769 97.4734 185.019 Q97.4734 181.292 95.6215 179.139 Q93.7928 176.963 90.6447 176.963 Q87.4966 176.963 85.6447 179.139 Q83.816 181.292 83.816 185.019 Q83.816 188.769 85.6447 190.921 Q87.4966 193.074 90.6447 193.074 Z\" fill=\"#000000\" fill-rule=\"evenodd\" fill-opacity=\"1\" /><path clip-path=\"url(#clip440)\" d=\"M51.6634 60.5889 L59.3023 60.5889 L59.3023 34.2233 L50.9921 35.89 L50.9921 31.6308 L59.256 29.9641 L63.9319 29.9641 L63.9319 60.5889 L71.5707 60.5889 L71.5707 64.5241 L51.6634 64.5241 L51.6634 60.5889 Z\" fill=\"#000000\" fill-rule=\"evenodd\" fill-opacity=\"1\" /><path clip-path=\"url(#clip440)\" d=\"M91.0151 33.0428 Q87.404 33.0428 85.5753 36.6076 Q83.7697 40.1492 83.7697 47.2788 Q83.7697 54.3853 85.5753 57.9501 Q87.404 61.4917 91.0151 61.4917 Q94.6493 61.4917 96.4548 57.9501 Q98.2835 54.3853 98.2835 47.2788 Q98.2835 40.1492 96.4548 36.6076 Q94.6493 33.0428 91.0151 33.0428 M91.0151 29.3391 Q96.8252 29.3391 99.8808 33.9456 Q102.959 38.5289 102.959 47.2788 Q102.959 56.0056 99.8808 60.6121 Q96.8252 65.1954 91.0151 65.1954 Q85.2049 65.1954 82.1262 60.6121 Q79.0707 56.0056 79.0707 47.2788 Q79.0707 38.5289 82.1262 33.9456 Q85.2049 29.3391 91.0151 29.3391 Z\" fill=\"#000000\" fill-rule=\"evenodd\" fill-opacity=\"1\" /><g clip-path=\"url(#clip442)\">\n<image width=\"1974\" height=\"1439\" xlink:href=\"data:image/png;base64,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\nAAAAkPYPmZ7o/K80fr0AAAAASUVORK5CYII=\n\" transform=\"translate(139, 47)\"/>\n</g>\n<defs>\n  <clipPath id=\"clip443\">\n    <rect x=\"2160\" y=\"47\" width=\"73\" height=\"1440\"/>\n  </clipPath>\n</defs>\n<g clip-path=\"url(#clip443)\">\n<image width=\"72\" height=\"1439\" xlink:href=\"data:image/png;base64,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\nBYGCQOE/LrLuTX/wFc8AAAAASUVORK5CYII=\n\" transform=\"translate(2161, 47)\"/>\n</g>\n<path clip-path=\"url(#clip440)\" d=\"M2270.21 1328.47 L2288.57 1328.47 L2288.57 1332.41 L2274.5 1332.41 L2274.5 1340.88 Q2275.52 1340.53 2276.53 1340.37 Q2277.55 1340.18 2278.57 1340.18 Q2284.36 1340.18 2287.74 1343.36 Q2291.12 1346.53 2291.12 1351.94 Q2291.12 1357.52 2287.64 1360.62 Q2284.17 1363.7 2277.85 1363.7 Q2275.68 1363.7 2273.41 1363.33 Q2271.16 1362.96 2268.76 1362.22 L2268.76 1357.52 Q2270.84 1358.66 2273.06 1359.21 Q2275.28 1359.77 2277.76 1359.77 Q2281.77 1359.77 2284.1 1357.66 Q2286.44 1355.56 2286.44 1351.94 Q2286.44 1348.33 2284.1 1346.23 Q2281.77 1344.12 2277.76 1344.12 Q2275.89 1344.12 2274.01 1344.54 Q2272.16 1344.95 2270.21 1345.83 L2270.21 1328.47 Z\" fill=\"#000000\" fill-rule=\"evenodd\" fill-opacity=\"1\" /><path clip-path=\"url(#clip440)\" d=\"M2269.43 1187.76 L2277.07 1187.76 L2277.07 1161.4 L2268.76 1163.06 L2268.76 1158.8 L2277.02 1157.14 L2281.7 1157.14 L2281.7 1187.76 L2289.33 1187.76 L2289.33 1191.7 L2269.43 1191.7 L2269.43 1187.76 Z\" fill=\"#000000\" fill-rule=\"evenodd\" fill-opacity=\"1\" /><path clip-path=\"url(#clip440)\" d=\"M2308.78 1160.22 Q2305.17 1160.22 2303.34 1163.78 Q2301.53 1167.32 2301.53 1174.45 Q2301.53 1181.56 2303.34 1185.12 Q2305.17 1188.67 2308.78 1188.67 Q2312.41 1188.67 2314.22 1185.12 Q2316.05 1181.56 2316.05 1174.45 Q2316.05 1167.32 2314.22 1163.78 Q2312.41 1160.22 2308.78 1160.22 M2308.78 1156.51 Q2314.59 1156.51 2317.64 1161.12 Q2320.72 1165.7 2320.72 1174.45 Q2320.72 1183.18 2317.64 1187.79 Q2314.59 1192.37 2308.78 1192.37 Q2302.97 1192.37 2299.89 1187.79 Q2296.83 1183.18 2296.83 1174.45 Q2296.83 1165.7 2299.89 1161.12 Q2302.97 1156.51 2308.78 1156.51 Z\" fill=\"#000000\" fill-rule=\"evenodd\" fill-opacity=\"1\" /><path clip-path=\"url(#clip440)\" d=\"M2269.43 1016.43 L2277.07 1016.43 L2277.07 990.064 L2268.76 991.73 L2268.76 987.471 L2277.02 985.804 L2281.7 985.804 L2281.7 1016.43 L2289.33 1016.43 L2289.33 1020.36 L2269.43 1020.36 L2269.43 1016.43 Z\" fill=\"#000000\" fill-rule=\"evenodd\" fill-opacity=\"1\" /><path clip-path=\"url(#clip440)\" d=\"M2298.83 985.804 L2317.18 985.804 L2317.18 989.74 L2303.11 989.74 L2303.11 998.212 Q2304.13 997.865 2305.14 997.703 Q2306.16 997.517 2307.18 997.517 Q2312.97 997.517 2316.35 1000.69 Q2319.73 1003.86 2319.73 1009.28 Q2319.73 1014.86 2316.26 1017.96 Q2312.78 1021.04 2306.46 1021.04 Q2304.29 1021.04 2302.02 1020.67 Q2299.77 1020.3 2297.37 1019.55 L2297.37 1014.86 Q2299.45 1015.99 2301.67 1016.55 Q2303.89 1017.1 2306.37 1017.1 Q2310.38 1017.1 2312.71 1014.99 Q2315.05 1012.89 2315.05 1009.28 Q2315.05 1005.67 2312.71 1003.56 Q2310.38 1001.45 2306.37 1001.45 Q2304.5 1001.45 2302.62 1001.87 Q2300.77 1002.29 2298.83 1003.17 L2298.83 985.804 Z\" fill=\"#000000\" fill-rule=\"evenodd\" fill-opacity=\"1\" /><path clip-path=\"url(#clip440)\" d=\"M2274.38 845.096 L2290.7 845.096 L2290.7 849.031 L2268.76 849.031 L2268.76 845.096 Q2271.42 842.341 2276 837.711 Q2280.61 833.059 2281.79 831.716 Q2284.03 829.193 2284.91 827.457 Q2285.82 825.697 2285.82 824.008 Q2285.82 821.253 2283.87 819.517 Q2281.95 817.781 2278.85 817.781 Q2276.65 817.781 2274.2 818.545 Q2271.77 819.309 2268.99 820.86 L2268.99 816.137 Q2271.81 815.003 2274.27 814.424 Q2276.72 813.846 2278.76 813.846 Q2284.13 813.846 2287.32 816.531 Q2290.52 819.216 2290.52 823.707 Q2290.52 825.836 2289.7 827.758 Q2288.92 829.656 2286.81 832.248 Q2286.23 832.92 2283.13 836.137 Q2280.03 839.332 2274.38 845.096 Z\" fill=\"#000000\" fill-rule=\"evenodd\" fill-opacity=\"1\" /><path clip-path=\"url(#clip440)\" d=\"M2310.51 817.549 Q2306.9 817.549 2305.08 821.114 Q2303.27 824.656 2303.27 831.785 Q2303.27 838.892 2305.08 842.457 Q2306.9 845.998 2310.51 845.998 Q2314.15 845.998 2315.95 842.457 Q2317.78 838.892 2317.78 831.785 Q2317.78 824.656 2315.95 821.114 Q2314.15 817.549 2310.51 817.549 M2310.51 813.846 Q2316.33 813.846 2319.38 818.452 Q2322.46 823.035 2322.46 831.785 Q2322.46 840.512 2319.38 845.119 Q2316.33 849.702 2310.51 849.702 Q2304.7 849.702 2301.63 845.119 Q2298.57 840.512 2298.57 831.785 Q2298.57 823.035 2301.63 818.452 Q2304.7 813.846 2310.51 813.846 Z\" fill=\"#000000\" fill-rule=\"evenodd\" fill-opacity=\"1\" /><path clip-path=\"url(#clip440)\" d=\"M2274.38 673.762 L2290.7 673.762 L2290.7 677.697 L2268.76 677.697 L2268.76 673.762 Q2271.42 671.007 2276 666.378 Q2280.61 661.725 2281.79 660.382 Q2284.03 657.859 2284.91 656.123 Q2285.82 654.364 2285.82 652.674 Q2285.82 649.919 2283.87 648.183 Q2281.95 646.447 2278.85 646.447 Q2276.65 646.447 2274.2 647.211 Q2271.77 647.975 2268.99 649.526 L2268.99 644.804 Q2271.81 643.669 2274.27 643.091 Q2276.72 642.512 2278.76 642.512 Q2284.13 642.512 2287.32 645.197 Q2290.52 647.882 2290.52 652.373 Q2290.52 654.503 2289.7 656.424 Q2288.92 658.322 2286.81 660.915 Q2286.23 661.586 2283.13 664.803 Q2280.03 667.998 2274.38 673.762 Z\" fill=\"#000000\" fill-rule=\"evenodd\" fill-opacity=\"1\" /><path clip-path=\"url(#clip440)\" d=\"M2300.56 643.137 L2318.92 643.137 L2318.92 647.072 L2304.84 647.072 L2304.84 655.544 Q2305.86 655.197 2306.88 655.035 Q2307.9 654.85 2308.92 654.85 Q2314.7 654.85 2318.08 658.021 Q2321.46 661.192 2321.46 666.609 Q2321.46 672.188 2317.99 675.29 Q2314.52 678.368 2308.2 678.368 Q2306.02 678.368 2303.76 677.998 Q2301.51 677.627 2299.1 676.887 L2299.1 672.188 Q2301.19 673.322 2303.41 673.877 Q2305.63 674.433 2308.11 674.433 Q2312.11 674.433 2314.45 672.327 Q2316.79 670.22 2316.79 666.609 Q2316.79 662.998 2314.45 660.891 Q2312.11 658.785 2308.11 658.785 Q2306.23 658.785 2304.36 659.202 Q2302.51 659.618 2300.56 660.498 L2300.56 643.137 Z\" fill=\"#000000\" fill-rule=\"evenodd\" fill-opacity=\"1\" /><path clip-path=\"url(#clip440)\" d=\"M2284.38 487.729 Q2287.74 488.447 2289.61 490.715 Q2291.51 492.984 2291.51 496.317 Q2291.51 501.433 2287.99 504.234 Q2284.47 507.034 2277.99 507.034 Q2275.82 507.034 2273.5 506.595 Q2271.21 506.178 2268.76 505.321 L2268.76 500.808 Q2270.7 501.942 2273.02 502.521 Q2275.33 503.099 2277.85 503.099 Q2282.25 503.099 2284.54 501.363 Q2286.86 499.627 2286.86 496.317 Q2286.86 493.261 2284.7 491.548 Q2282.58 489.812 2278.76 489.812 L2274.73 489.812 L2274.73 485.97 L2278.94 485.97 Q2282.39 485.97 2284.22 484.604 Q2286.05 483.215 2286.05 480.623 Q2286.05 477.961 2284.15 476.548 Q2282.27 475.113 2278.76 475.113 Q2276.83 475.113 2274.64 475.53 Q2272.44 475.947 2269.8 476.826 L2269.8 472.66 Q2272.46 471.919 2274.77 471.549 Q2277.11 471.178 2279.17 471.178 Q2284.5 471.178 2287.6 473.609 Q2290.7 476.016 2290.7 480.136 Q2290.7 483.007 2289.06 484.998 Q2287.41 486.965 2284.38 487.729 Z\" fill=\"#000000\" fill-rule=\"evenodd\" fill-opacity=\"1\" /><path clip-path=\"url(#clip440)\" d=\"M2310.38 474.882 Q2306.76 474.882 2304.94 478.447 Q2303.13 481.988 2303.13 489.118 Q2303.13 496.224 2304.94 499.789 Q2306.76 503.331 2310.38 503.331 Q2314.01 503.331 2315.82 499.789 Q2317.64 496.224 2317.64 489.118 Q2317.64 481.988 2315.82 478.447 Q2314.01 474.882 2310.38 474.882 M2310.38 471.178 Q2316.19 471.178 2319.24 475.785 Q2322.32 480.368 2322.32 489.118 Q2322.32 497.845 2319.24 502.451 Q2316.19 507.034 2310.38 507.034 Q2304.57 507.034 2301.49 502.451 Q2298.43 497.845 2298.43 489.118 Q2298.43 480.368 2301.49 475.785 Q2304.57 471.178 2310.38 471.178 Z\" fill=\"#000000\" fill-rule=\"evenodd\" fill-opacity=\"1\" /><path clip-path=\"url(#clip440)\" d=\"M2284.38 316.395 Q2287.74 317.113 2289.61 319.381 Q2291.51 321.65 2291.51 324.983 Q2291.51 330.099 2287.99 332.9 Q2284.47 335.701 2277.99 335.701 Q2275.82 335.701 2273.5 335.261 Q2271.21 334.844 2268.76 333.988 L2268.76 329.474 Q2270.7 330.608 2273.02 331.187 Q2275.33 331.765 2277.85 331.765 Q2282.25 331.765 2284.54 330.029 Q2286.86 328.293 2286.86 324.983 Q2286.86 321.928 2284.7 320.215 Q2282.58 318.479 2278.76 318.479 L2274.73 318.479 L2274.73 314.636 L2278.94 314.636 Q2282.39 314.636 2284.22 313.27 Q2286.05 311.881 2286.05 309.289 Q2286.05 306.627 2284.15 305.215 Q2282.27 303.78 2278.76 303.78 Q2276.83 303.78 2274.64 304.196 Q2272.44 304.613 2269.8 305.492 L2269.8 301.326 Q2272.46 300.585 2274.77 300.215 Q2277.11 299.844 2279.17 299.844 Q2284.5 299.844 2287.6 302.275 Q2290.7 304.682 2290.7 308.803 Q2290.7 311.673 2289.06 313.664 Q2287.41 315.631 2284.38 316.395 Z\" fill=\"#000000\" fill-rule=\"evenodd\" fill-opacity=\"1\" /><path clip-path=\"url(#clip440)\" d=\"M2300.42 300.469 L2318.78 300.469 L2318.78 304.405 L2304.7 304.405 L2304.7 312.877 Q2305.72 312.529 2306.74 312.367 Q2307.76 312.182 2308.78 312.182 Q2314.57 312.182 2317.95 315.354 Q2321.33 318.525 2321.33 323.941 Q2321.33 329.52 2317.85 332.622 Q2314.38 335.701 2308.06 335.701 Q2305.89 335.701 2303.62 335.33 Q2301.37 334.96 2298.96 334.219 L2298.96 329.52 Q2301.05 330.654 2303.27 331.21 Q2305.49 331.765 2307.97 331.765 Q2311.97 331.765 2314.31 329.659 Q2316.65 327.553 2316.65 323.941 Q2316.65 320.33 2314.31 318.224 Q2311.97 316.117 2307.97 316.117 Q2306.09 316.117 2304.22 316.534 Q2302.37 316.951 2300.42 317.83 L2300.42 300.469 Z\" fill=\"#000000\" fill-rule=\"evenodd\" fill-opacity=\"1\" /><path clip-path=\"url(#clip440)\" d=\"M2284.36 133.21 L2272.55 151.659 L2284.36 151.659 L2284.36 133.21 M2283.13 129.136 L2289.01 129.136 L2289.01 151.659 L2293.94 151.659 L2293.94 155.547 L2289.01 155.547 L2289.01 163.696 L2284.36 163.696 L2284.36 155.547 L2268.76 155.547 L2268.76 151.034 L2283.13 129.136 Z\" fill=\"#000000\" fill-rule=\"evenodd\" fill-opacity=\"1\" /><path clip-path=\"url(#clip440)\" d=\"M2311.67 132.214 Q2308.06 132.214 2306.23 135.779 Q2304.43 139.321 2304.43 146.45 Q2304.43 153.557 2306.23 157.122 Q2308.06 160.663 2311.67 160.663 Q2315.31 160.663 2317.11 157.122 Q2318.94 153.557 2318.94 146.45 Q2318.94 139.321 2317.11 135.779 Q2315.31 132.214 2311.67 132.214 M2311.67 128.511 Q2317.48 128.511 2320.54 133.117 Q2323.62 137.7 2323.62 146.45 Q2323.62 155.177 2320.54 159.784 Q2317.48 164.367 2311.67 164.367 Q2305.86 164.367 2302.78 159.784 Q2299.73 155.177 2299.73 146.45 Q2299.73 137.7 2302.78 133.117 Q2305.86 128.511 2311.67 128.511 Z\" fill=\"#000000\" fill-rule=\"evenodd\" fill-opacity=\"1\" /><polyline clip-path=\"url(#clip440)\" style=\"stroke:#000000; stroke-linecap:round; stroke-linejoin:round; stroke-width:4; stroke-opacity:1; fill:none\" points=\"\n  2232.76,1486.45 2232.76,1349.38 2256.76,1349.38 2232.76,1349.38 2232.76,1178.05 2256.76,1178.05 2232.76,1178.05 2232.76,1006.71 2256.76,1006.71 2232.76,1006.71 \n  2232.76,835.379 2256.76,835.379 2232.76,835.379 2232.76,664.046 2256.76,664.046 2232.76,664.046 2232.76,492.712 2256.76,492.712 2232.76,492.712 2232.76,321.378 \n  2256.76,321.378 2232.76,321.378 2232.76,150.044 2256.76,150.044 2232.76,150.044 2232.76,47.2441 \n  \"/>\n</svg>\n",
      "text/html": [
       "<?xml version=\"1.0\" encoding=\"utf-8\"?>\n",
       "<svg xmlns=\"http://www.w3.org/2000/svg\" xmlns:xlink=\"http://www.w3.org/1999/xlink\" width=\"600\" height=\"400\" viewBox=\"0 0 2400 1600\">\n",
       "<defs>\n",
       "  <clipPath id=\"clip490\">\n",
       "    <rect x=\"0\" y=\"0\" width=\"2400\" height=\"1600\"/>\n",
       "  </clipPath>\n",
       "</defs>\n",
       "<path clip-path=\"url(#clip490)\" d=\"\n",
       "M0 1600 L2400 1600 L2400 0 L0 0  Z\n",
       "  \" fill=\"#ffffff\" fill-rule=\"evenodd\" fill-opacity=\"1\"/>\n",
       "<defs>\n",
       "  <clipPath id=\"clip491\">\n",
       "    <rect x=\"480\" y=\"0\" width=\"1681\" height=\"1600\"/>\n",
       "  </clipPath>\n",
       "</defs>\n",
       "<path clip-path=\"url(#clip490)\" d=\"\n",
       "M138.959 1486.45 L2112.76 1486.45 L2112.76 47.2441 L138.959 47.2441  Z\n",
       "  \" fill=\"#ffffff\" fill-rule=\"evenodd\" fill-opacity=\"1\"/>\n",
       "<defs>\n",
       "  <clipPath id=\"clip492\">\n",
       "    <rect x=\"138\" y=\"47\" width=\"1975\" height=\"1440\"/>\n",
       "  </clipPath>\n",
       "</defs>\n",
       "<polyline clip-path=\"url(#clip492)\" style=\"stroke:#000000; stroke-linecap:round; stroke-linejoin:round; stroke-width:2; stroke-opacity:0.1; fill:none\" points=\"\n",
       "  262.322,1486.45 262.322,47.2441 \n",
       "  \"/>\n",
       "<polyline clip-path=\"url(#clip492)\" style=\"stroke:#000000; stroke-linecap:round; stroke-linejoin:round; stroke-width:2; stroke-opacity:0.1; fill:none\" points=\"\n",
       "  385.684,1486.45 385.684,47.2441 \n",
       "  \"/>\n",
       "<polyline clip-path=\"url(#clip492)\" style=\"stroke:#000000; stroke-linecap:round; stroke-linejoin:round; stroke-width:2; stroke-opacity:0.1; fill:none\" points=\"\n",
       "  509.046,1486.45 509.046,47.2441 \n",
       "  \"/>\n",
       "<polyline clip-path=\"url(#clip492)\" style=\"stroke:#000000; stroke-linecap:round; stroke-linejoin:round; stroke-width:2; stroke-opacity:0.1; fill:none\" points=\"\n",
       "  632.409,1486.45 632.409,47.2441 \n",
       "  \"/>\n",
       "<polyline clip-path=\"url(#clip492)\" style=\"stroke:#000000; stroke-linecap:round; stroke-linejoin:round; stroke-width:2; stroke-opacity:0.1; fill:none\" points=\"\n",
       "  755.771,1486.45 755.771,47.2441 \n",
       "  \"/>\n",
       "<polyline clip-path=\"url(#clip492)\" style=\"stroke:#000000; stroke-linecap:round; stroke-linejoin:round; stroke-width:2; stroke-opacity:0.1; fill:none\" points=\"\n",
       "  879.133,1486.45 879.133,47.2441 \n",
       "  \"/>\n",
       "<polyline clip-path=\"url(#clip492)\" style=\"stroke:#000000; stroke-linecap:round; stroke-linejoin:round; stroke-width:2; stroke-opacity:0.1; fill:none\" points=\"\n",
       "  1002.5,1486.45 1002.5,47.2441 \n",
       "  \"/>\n",
       "<polyline clip-path=\"url(#clip492)\" style=\"stroke:#000000; stroke-linecap:round; stroke-linejoin:round; stroke-width:2; stroke-opacity:0.1; fill:none\" points=\"\n",
       "  1125.86,1486.45 1125.86,47.2441 \n",
       "  \"/>\n",
       "<polyline clip-path=\"url(#clip492)\" style=\"stroke:#000000; stroke-linecap:round; stroke-linejoin:round; stroke-width:2; stroke-opacity:0.1; fill:none\" points=\"\n",
       "  1249.22,1486.45 1249.22,47.2441 \n",
       "  \"/>\n",
       "<polyline clip-path=\"url(#clip492)\" style=\"stroke:#000000; stroke-linecap:round; stroke-linejoin:round; stroke-width:2; stroke-opacity:0.1; fill:none\" points=\"\n",
       "  1372.58,1486.45 1372.58,47.2441 \n",
       "  \"/>\n",
       "<polyline clip-path=\"url(#clip492)\" style=\"stroke:#000000; stroke-linecap:round; stroke-linejoin:round; stroke-width:2; stroke-opacity:0.1; fill:none\" points=\"\n",
       "  1495.94,1486.45 1495.94,47.2441 \n",
       "  \"/>\n",
       "<polyline clip-path=\"url(#clip492)\" style=\"stroke:#000000; stroke-linecap:round; stroke-linejoin:round; stroke-width:2; stroke-opacity:0.1; fill:none\" points=\"\n",
       "  1619.31,1486.45 1619.31,47.2441 \n",
       "  \"/>\n",
       "<polyline clip-path=\"url(#clip492)\" style=\"stroke:#000000; stroke-linecap:round; stroke-linejoin:round; stroke-width:2; stroke-opacity:0.1; fill:none\" points=\"\n",
       "  1742.67,1486.45 1742.67,47.2441 \n",
       "  \"/>\n",
       "<polyline clip-path=\"url(#clip492)\" style=\"stroke:#000000; stroke-linecap:round; stroke-linejoin:round; stroke-width:2; stroke-opacity:0.1; fill:none\" points=\"\n",
       "  1866.03,1486.45 1866.03,47.2441 \n",
       "  \"/>\n",
       "<polyline clip-path=\"url(#clip492)\" style=\"stroke:#000000; stroke-linecap:round; stroke-linejoin:round; stroke-width:2; stroke-opacity:0.1; fill:none\" points=\"\n",
       "  1989.39,1486.45 1989.39,47.2441 \n",
       "  \"/>\n",
       "<polyline clip-path=\"url(#clip492)\" style=\"stroke:#000000; stroke-linecap:round; stroke-linejoin:round; stroke-width:2; stroke-opacity:0.1; fill:none\" points=\"\n",
       "  2112.76,1486.45 2112.76,47.2441 \n",
       "  \"/>\n",
       "<polyline clip-path=\"url(#clip490)\" style=\"stroke:#000000; stroke-linecap:round; stroke-linejoin:round; stroke-width:4; stroke-opacity:1; fill:none\" points=\"\n",
       "  138.959,1486.45 2112.76,1486.45 \n",
       "  \"/>\n",
       "<polyline clip-path=\"url(#clip490)\" style=\"stroke:#000000; stroke-linecap:round; stroke-linejoin:round; stroke-width:4; stroke-opacity:1; fill:none\" points=\"\n",
       "  262.322,1486.45 262.322,1467.55 \n",
       "  \"/>\n",
       "<polyline clip-path=\"url(#clip490)\" style=\"stroke:#000000; stroke-linecap:round; stroke-linejoin:round; stroke-width:4; stroke-opacity:1; fill:none\" points=\"\n",
       "  385.684,1486.45 385.684,1467.55 \n",
       "  \"/>\n",
       "<polyline clip-path=\"url(#clip490)\" style=\"stroke:#000000; stroke-linecap:round; stroke-linejoin:round; stroke-width:4; stroke-opacity:1; fill:none\" points=\"\n",
       "  509.046,1486.45 509.046,1467.55 \n",
       "  \"/>\n",
       "<polyline clip-path=\"url(#clip490)\" style=\"stroke:#000000; stroke-linecap:round; stroke-linejoin:round; stroke-width:4; stroke-opacity:1; fill:none\" points=\"\n",
       "  632.409,1486.45 632.409,1467.55 \n",
       "  \"/>\n",
       "<polyline clip-path=\"url(#clip490)\" style=\"stroke:#000000; stroke-linecap:round; stroke-linejoin:round; stroke-width:4; stroke-opacity:1; fill:none\" points=\"\n",
       "  755.771,1486.45 755.771,1467.55 \n",
       "  \"/>\n",
       "<polyline clip-path=\"url(#clip490)\" style=\"stroke:#000000; stroke-linecap:round; stroke-linejoin:round; stroke-width:4; stroke-opacity:1; fill:none\" points=\"\n",
       "  879.133,1486.45 879.133,1467.55 \n",
       "  \"/>\n",
       "<polyline clip-path=\"url(#clip490)\" style=\"stroke:#000000; stroke-linecap:round; stroke-linejoin:round; stroke-width:4; stroke-opacity:1; fill:none\" points=\"\n",
       "  1002.5,1486.45 1002.5,1467.55 \n",
       "  \"/>\n",
       "<polyline clip-path=\"url(#clip490)\" style=\"stroke:#000000; stroke-linecap:round; stroke-linejoin:round; stroke-width:4; stroke-opacity:1; fill:none\" points=\"\n",
       "  1125.86,1486.45 1125.86,1467.55 \n",
       "  \"/>\n",
       "<polyline clip-path=\"url(#clip490)\" style=\"stroke:#000000; stroke-linecap:round; stroke-linejoin:round; stroke-width:4; stroke-opacity:1; fill:none\" points=\"\n",
       "  1249.22,1486.45 1249.22,1467.55 \n",
       "  \"/>\n",
       "<polyline clip-path=\"url(#clip490)\" style=\"stroke:#000000; stroke-linecap:round; stroke-linejoin:round; stroke-width:4; stroke-opacity:1; fill:none\" points=\"\n",
       "  1372.58,1486.45 1372.58,1467.55 \n",
       "  \"/>\n",
       "<polyline clip-path=\"url(#clip490)\" style=\"stroke:#000000; stroke-linecap:round; stroke-linejoin:round; stroke-width:4; stroke-opacity:1; fill:none\" points=\"\n",
       "  1495.94,1486.45 1495.94,1467.55 \n",
       "  \"/>\n",
       "<polyline clip-path=\"url(#clip490)\" style=\"stroke:#000000; stroke-linecap:round; stroke-linejoin:round; stroke-width:4; stroke-opacity:1; fill:none\" points=\"\n",
       "  1619.31,1486.45 1619.31,1467.55 \n",
       "  \"/>\n",
       "<polyline clip-path=\"url(#clip490)\" style=\"stroke:#000000; stroke-linecap:round; stroke-linejoin:round; stroke-width:4; stroke-opacity:1; fill:none\" points=\"\n",
       "  1742.67,1486.45 1742.67,1467.55 \n",
       "  \"/>\n",
       "<polyline clip-path=\"url(#clip490)\" style=\"stroke:#000000; stroke-linecap:round; stroke-linejoin:round; stroke-width:4; stroke-opacity:1; fill:none\" points=\"\n",
       "  1866.03,1486.45 1866.03,1467.55 \n",
       "  \"/>\n",
       "<polyline clip-path=\"url(#clip490)\" style=\"stroke:#000000; stroke-linecap:round; stroke-linejoin:round; stroke-width:4; stroke-opacity:1; fill:none\" points=\"\n",
       "  1989.39,1486.45 1989.39,1467.55 \n",
       "  \"/>\n",
       "<polyline clip-path=\"url(#clip490)\" style=\"stroke:#000000; stroke-linecap:round; stroke-linejoin:round; stroke-width:4; stroke-opacity:1; fill:none\" points=\"\n",
       "  2112.76,1486.45 2112.76,1467.55 \n",
       "  \"/>\n",
       "<path clip-path=\"url(#clip490)\" d=\"M252.704 1544.91 L260.343 1544.91 L260.343 1518.55 L252.032 1520.21 L252.032 1515.95 L260.296 1514.29 L264.972 1514.29 L264.972 1544.91 L272.611 1544.91 L272.611 1548.85 L252.704 1548.85 L252.704 1544.91 Z\" fill=\"#000000\" fill-rule=\"evenodd\" fill-opacity=\"1\" /><path clip-path=\"url(#clip490)\" d=\"M380.337 1544.91 L396.656 1544.91 L396.656 1548.85 L374.712 1548.85 L374.712 1544.91 Q377.374 1542.16 381.957 1537.53 Q386.564 1532.88 387.744 1531.53 Q389.99 1529.01 390.869 1527.27 Q391.772 1525.51 391.772 1523.82 Q391.772 1521.07 389.827 1519.33 Q387.906 1517.6 384.804 1517.6 Q382.605 1517.6 380.152 1518.36 Q377.721 1519.13 374.943 1520.68 L374.943 1515.95 Q377.767 1514.82 380.221 1514.24 Q382.675 1513.66 384.712 1513.66 Q390.082 1513.66 393.277 1516.35 Q396.471 1519.03 396.471 1523.52 Q396.471 1525.65 395.661 1527.57 Q394.874 1529.47 392.767 1532.07 Q392.189 1532.74 389.087 1535.95 Q385.985 1539.15 380.337 1544.91 Z\" fill=\"#000000\" fill-rule=\"evenodd\" fill-opacity=\"1\" /><path clip-path=\"url(#clip490)\" d=\"M513.294 1530.21 Q516.65 1530.93 518.525 1533.2 Q520.424 1535.47 520.424 1538.8 Q520.424 1543.92 516.905 1546.72 Q513.387 1549.52 506.905 1549.52 Q504.729 1549.52 502.414 1549.08 Q500.123 1548.66 497.669 1547.81 L497.669 1543.29 Q499.613 1544.43 501.928 1545.01 Q504.243 1545.58 506.766 1545.58 Q511.164 1545.58 513.456 1543.85 Q515.771 1542.11 515.771 1538.8 Q515.771 1535.75 513.618 1534.03 Q511.488 1532.3 507.669 1532.3 L503.641 1532.3 L503.641 1528.45 L507.854 1528.45 Q511.303 1528.45 513.132 1527.09 Q514.961 1525.7 514.961 1523.11 Q514.961 1520.45 513.062 1519.03 Q511.187 1517.6 507.669 1517.6 Q505.748 1517.6 503.549 1518.01 Q501.35 1518.43 498.711 1519.31 L498.711 1515.14 Q501.373 1514.4 503.688 1514.03 Q506.025 1513.66 508.086 1513.66 Q513.41 1513.66 516.512 1516.09 Q519.613 1518.5 519.613 1522.62 Q519.613 1525.49 517.97 1527.48 Q516.326 1529.45 513.294 1530.21 Z\" fill=\"#000000\" fill-rule=\"evenodd\" fill-opacity=\"1\" /><path clip-path=\"url(#clip490)\" d=\"M635.418 1518.36 L623.612 1536.81 L635.418 1536.81 L635.418 1518.36 M634.191 1514.29 L640.071 1514.29 L640.071 1536.81 L645.001 1536.81 L645.001 1540.7 L640.071 1540.7 L640.071 1548.85 L635.418 1548.85 L635.418 1540.7 L619.816 1540.7 L619.816 1536.19 L634.191 1514.29 Z\" fill=\"#000000\" fill-rule=\"evenodd\" fill-opacity=\"1\" /><path clip-path=\"url(#clip490)\" d=\"M746.049 1514.29 L764.405 1514.29 L764.405 1518.22 L750.331 1518.22 L750.331 1526.7 Q751.35 1526.35 752.368 1526.19 Q753.387 1526 754.405 1526 Q760.192 1526 763.572 1529.17 Q766.951 1532.34 766.951 1537.76 Q766.951 1543.34 763.479 1546.44 Q760.007 1549.52 753.688 1549.52 Q751.512 1549.52 749.243 1549.15 Q746.998 1548.78 744.59 1548.04 L744.59 1543.34 Q746.674 1544.47 748.896 1545.03 Q751.118 1545.58 753.595 1545.58 Q757.6 1545.58 759.937 1543.48 Q762.275 1541.37 762.275 1537.76 Q762.275 1534.15 759.937 1532.04 Q757.6 1529.94 753.595 1529.94 Q751.72 1529.94 749.845 1530.35 Q747.993 1530.77 746.049 1531.65 L746.049 1514.29 Z\" fill=\"#000000\" fill-rule=\"evenodd\" fill-opacity=\"1\" /><path clip-path=\"url(#clip490)\" d=\"M879.538 1529.7 Q876.39 1529.7 874.538 1531.86 Q872.71 1534.01 872.71 1537.76 Q872.71 1541.49 874.538 1543.66 Q876.39 1545.82 879.538 1545.82 Q882.686 1545.82 884.515 1543.66 Q886.367 1541.49 886.367 1537.76 Q886.367 1534.01 884.515 1531.86 Q882.686 1529.7 879.538 1529.7 M888.821 1515.05 L888.821 1519.31 Q887.061 1518.48 885.256 1518.04 Q883.473 1517.6 881.714 1517.6 Q877.085 1517.6 874.631 1520.72 Q872.2 1523.85 871.853 1530.17 Q873.219 1528.15 875.279 1527.09 Q877.339 1526 879.816 1526 Q885.024 1526 888.034 1529.17 Q891.066 1532.32 891.066 1537.76 Q891.066 1543.08 887.918 1546.3 Q884.77 1549.52 879.538 1549.52 Q873.543 1549.52 870.372 1544.94 Q867.2 1540.33 867.2 1531.6 Q867.2 1523.41 871.089 1518.55 Q874.978 1513.66 881.529 1513.66 Q883.288 1513.66 885.071 1514.01 Q886.876 1514.36 888.821 1515.05 Z\" fill=\"#000000\" fill-rule=\"evenodd\" fill-opacity=\"1\" /><path clip-path=\"url(#clip490)\" d=\"M991.384 1514.29 L1013.61 1514.29 L1013.61 1516.28 L1001.06 1548.85 L996.176 1548.85 L1007.98 1518.22 L991.384 1518.22 L991.384 1514.29 Z\" fill=\"#000000\" fill-rule=\"evenodd\" fill-opacity=\"1\" /><path clip-path=\"url(#clip490)\" d=\"M1125.86 1532.44 Q1122.52 1532.44 1120.6 1534.22 Q1118.7 1536 1118.7 1539.13 Q1118.7 1542.25 1120.6 1544.03 Q1122.52 1545.82 1125.86 1545.82 Q1129.19 1545.82 1131.11 1544.03 Q1133.03 1542.23 1133.03 1539.13 Q1133.03 1536 1131.11 1534.22 Q1129.21 1532.44 1125.86 1532.44 M1121.18 1530.45 Q1118.17 1529.7 1116.48 1527.64 Q1114.82 1525.58 1114.82 1522.62 Q1114.82 1518.48 1117.76 1516.07 Q1120.72 1513.66 1125.86 1513.66 Q1131.02 1513.66 1133.96 1516.07 Q1136.9 1518.48 1136.9 1522.62 Q1136.9 1525.58 1135.21 1527.64 Q1133.54 1529.7 1130.56 1530.45 Q1133.94 1531.23 1135.81 1533.52 Q1137.71 1535.82 1137.71 1539.13 Q1137.71 1544.15 1134.63 1546.83 Q1131.58 1549.52 1125.86 1549.52 Q1120.14 1549.52 1117.06 1546.83 Q1114.01 1544.15 1114.01 1539.13 Q1114.01 1535.82 1115.9 1533.52 Q1117.8 1531.23 1121.18 1530.45 M1119.47 1523.06 Q1119.47 1525.75 1121.14 1527.25 Q1122.83 1528.76 1125.86 1528.76 Q1128.87 1528.76 1130.56 1527.25 Q1132.27 1525.75 1132.27 1523.06 Q1132.27 1520.38 1130.56 1518.87 Q1128.87 1517.37 1125.86 1517.37 Q1122.83 1517.37 1121.14 1518.87 Q1119.47 1520.38 1119.47 1523.06 Z\" fill=\"#000000\" fill-rule=\"evenodd\" fill-opacity=\"1\" /><path clip-path=\"url(#clip490)\" d=\"M1239.52 1548.13 L1239.52 1543.87 Q1241.28 1544.7 1243.09 1545.14 Q1244.89 1545.58 1246.63 1545.58 Q1251.26 1545.58 1253.69 1542.48 Q1256.14 1539.36 1256.49 1533.01 Q1255.15 1535.01 1253.09 1536.07 Q1251.03 1537.13 1248.53 1537.13 Q1243.34 1537.13 1240.31 1534.01 Q1237.3 1530.86 1237.3 1525.42 Q1237.3 1520.1 1240.45 1516.88 Q1243.59 1513.66 1248.83 1513.66 Q1254.82 1513.66 1257.97 1518.27 Q1261.14 1522.85 1261.14 1531.6 Q1261.14 1539.77 1257.25 1544.66 Q1253.39 1549.52 1246.84 1549.52 Q1245.08 1549.52 1243.27 1549.17 Q1241.47 1548.82 1239.52 1548.13 M1248.83 1533.48 Q1251.97 1533.48 1253.8 1531.32 Q1255.66 1529.17 1255.66 1525.42 Q1255.66 1521.7 1253.8 1519.54 Q1251.97 1517.37 1248.83 1517.37 Q1245.68 1517.37 1243.83 1519.54 Q1242 1521.7 1242 1525.42 Q1242 1529.17 1243.83 1531.32 Q1245.68 1533.48 1248.83 1533.48 Z\" fill=\"#000000\" fill-rule=\"evenodd\" fill-opacity=\"1\" /><path clip-path=\"url(#clip490)\" d=\"M1347.27 1544.91 L1354.91 1544.91 L1354.91 1518.55 L1346.6 1520.21 L1346.6 1515.95 L1354.86 1514.29 L1359.54 1514.29 L1359.54 1544.91 L1367.18 1544.91 L1367.18 1548.85 L1347.27 1548.85 L1347.27 1544.91 Z\" fill=\"#000000\" fill-rule=\"evenodd\" fill-opacity=\"1\" /><path clip-path=\"url(#clip490)\" d=\"M1386.62 1517.37 Q1383.01 1517.37 1381.18 1520.93 Q1379.38 1524.47 1379.38 1531.6 Q1379.38 1538.71 1381.18 1542.27 Q1383.01 1545.82 1386.62 1545.82 Q1390.26 1545.82 1392.06 1542.27 Q1393.89 1538.71 1393.89 1531.6 Q1393.89 1524.47 1392.06 1520.93 Q1390.26 1517.37 1386.62 1517.37 M1386.62 1513.66 Q1392.43 1513.66 1395.49 1518.27 Q1398.57 1522.85 1398.57 1531.6 Q1398.57 1540.33 1395.49 1544.94 Q1392.43 1549.52 1386.62 1549.52 Q1380.81 1549.52 1377.73 1544.94 Q1374.68 1540.33 1374.68 1531.6 Q1374.68 1522.85 1377.73 1518.27 Q1380.81 1513.66 1386.62 1513.66 Z\" fill=\"#000000\" fill-rule=\"evenodd\" fill-opacity=\"1\" /><path clip-path=\"url(#clip490)\" d=\"M1471.25 1544.91 L1478.88 1544.91 L1478.88 1518.55 L1470.57 1520.21 L1470.57 1515.95 L1478.84 1514.29 L1483.51 1514.29 L1483.51 1544.91 L1491.15 1544.91 L1491.15 1548.85 L1471.25 1548.85 L1471.25 1544.91 Z\" fill=\"#000000\" fill-rule=\"evenodd\" fill-opacity=\"1\" /><path clip-path=\"url(#clip490)\" d=\"M1501.41 1544.91 L1509.05 1544.91 L1509.05 1518.55 L1500.74 1520.21 L1500.74 1515.95 L1509 1514.29 L1513.68 1514.29 L1513.68 1544.91 L1521.31 1544.91 L1521.31 1548.85 L1501.41 1548.85 L1501.41 1544.91 Z\" fill=\"#000000\" fill-rule=\"evenodd\" fill-opacity=\"1\" /><path clip-path=\"url(#clip490)\" d=\"M1594.79 1544.91 L1602.43 1544.91 L1602.43 1518.55 L1594.12 1520.21 L1594.12 1515.95 L1602.39 1514.29 L1607.06 1514.29 L1607.06 1544.91 L1614.7 1544.91 L1614.7 1548.85 L1594.79 1548.85 L1594.79 1544.91 Z\" fill=\"#000000\" fill-rule=\"evenodd\" fill-opacity=\"1\" /><path clip-path=\"url(#clip490)\" d=\"M1628.17 1544.91 L1644.49 1544.91 L1644.49 1548.85 L1622.55 1548.85 L1622.55 1544.91 Q1625.21 1542.16 1629.79 1537.53 Q1634.4 1532.88 1635.58 1531.53 Q1637.83 1529.01 1638.7 1527.27 Q1639.61 1525.51 1639.61 1523.82 Q1639.61 1521.07 1637.66 1519.33 Q1635.74 1517.6 1632.64 1517.6 Q1630.44 1517.6 1627.99 1518.36 Q1625.56 1519.13 1622.78 1520.68 L1622.78 1515.95 Q1625.6 1514.82 1628.06 1514.24 Q1630.51 1513.66 1632.55 1513.66 Q1637.92 1513.66 1641.11 1516.35 Q1644.31 1519.03 1644.31 1523.52 Q1644.31 1525.65 1643.5 1527.57 Q1642.71 1529.47 1640.6 1532.07 Q1640.02 1532.74 1636.92 1535.95 Q1633.82 1539.15 1628.17 1544.91 Z\" fill=\"#000000\" fill-rule=\"evenodd\" fill-opacity=\"1\" /><path clip-path=\"url(#clip490)\" d=\"M1717.68 1544.91 L1725.32 1544.91 L1725.32 1518.55 L1717.01 1520.21 L1717.01 1515.95 L1725.27 1514.29 L1729.95 1514.29 L1729.95 1544.91 L1737.59 1544.91 L1737.59 1548.85 L1717.68 1548.85 L1717.68 1544.91 Z\" fill=\"#000000\" fill-rule=\"evenodd\" fill-opacity=\"1\" /><path clip-path=\"url(#clip490)\" d=\"M1761.2 1530.21 Q1764.56 1530.93 1766.43 1533.2 Q1768.33 1535.47 1768.33 1538.8 Q1768.33 1543.92 1764.81 1546.72 Q1761.29 1549.52 1754.81 1549.52 Q1752.63 1549.52 1750.32 1549.08 Q1748.03 1548.66 1745.57 1547.81 L1745.57 1543.29 Q1747.52 1544.43 1749.83 1545.01 Q1752.15 1545.58 1754.67 1545.58 Q1759.07 1545.58 1761.36 1543.85 Q1763.68 1542.11 1763.68 1538.8 Q1763.68 1535.75 1761.52 1534.03 Q1759.39 1532.3 1755.57 1532.3 L1751.55 1532.3 L1751.55 1528.45 L1755.76 1528.45 Q1759.21 1528.45 1761.04 1527.09 Q1762.87 1525.7 1762.87 1523.11 Q1762.87 1520.45 1760.97 1519.03 Q1759.09 1517.6 1755.57 1517.6 Q1753.65 1517.6 1751.45 1518.01 Q1749.25 1518.43 1746.62 1519.31 L1746.62 1515.14 Q1749.28 1514.4 1751.59 1514.03 Q1753.93 1513.66 1755.99 1513.66 Q1761.31 1513.66 1764.42 1516.09 Q1767.52 1518.5 1767.52 1522.62 Q1767.52 1525.49 1765.87 1527.48 Q1764.23 1529.45 1761.2 1530.21 Z\" fill=\"#000000\" fill-rule=\"evenodd\" fill-opacity=\"1\" /><path clip-path=\"url(#clip490)\" d=\"M1840.48 1544.91 L1848.11 1544.91 L1848.11 1518.55 L1839.8 1520.21 L1839.8 1515.95 L1848.07 1514.29 L1852.74 1514.29 L1852.74 1544.91 L1860.38 1544.91 L1860.38 1548.85 L1840.48 1548.85 L1840.48 1544.91 Z\" fill=\"#000000\" fill-rule=\"evenodd\" fill-opacity=\"1\" /><path clip-path=\"url(#clip490)\" d=\"M1882.67 1518.36 L1870.87 1536.81 L1882.67 1536.81 L1882.67 1518.36 M1881.45 1514.29 L1887.33 1514.29 L1887.33 1536.81 L1892.26 1536.81 L1892.26 1540.7 L1887.33 1540.7 L1887.33 1548.85 L1882.67 1548.85 L1882.67 1540.7 L1867.07 1540.7 L1867.07 1536.19 L1881.45 1514.29 Z\" fill=\"#000000\" fill-rule=\"evenodd\" fill-opacity=\"1\" /><path clip-path=\"url(#clip490)\" d=\"M1964.58 1544.91 L1972.22 1544.91 L1972.22 1518.55 L1963.91 1520.21 L1963.91 1515.95 L1972.17 1514.29 L1976.85 1514.29 L1976.85 1544.91 L1984.49 1544.91 L1984.49 1548.85 L1964.58 1548.85 L1964.58 1544.91 Z\" fill=\"#000000\" fill-rule=\"evenodd\" fill-opacity=\"1\" /><path clip-path=\"url(#clip490)\" d=\"M1993.98 1514.29 L2012.33 1514.29 L2012.33 1518.22 L1998.26 1518.22 L1998.26 1526.7 Q1999.28 1526.35 2000.3 1526.19 Q2001.31 1526 2002.33 1526 Q2008.12 1526 2011.5 1529.17 Q2014.88 1532.34 2014.88 1537.76 Q2014.88 1543.34 2011.41 1546.44 Q2007.94 1549.52 2001.62 1549.52 Q1999.44 1549.52 1997.17 1549.15 Q1994.93 1548.78 1992.52 1548.04 L1992.52 1543.34 Q1994.6 1544.47 1996.82 1545.03 Q1999.05 1545.58 2001.52 1545.58 Q2005.53 1545.58 2007.87 1543.48 Q2010.2 1541.37 2010.2 1537.76 Q2010.2 1534.15 2007.87 1532.04 Q2005.53 1529.94 2001.52 1529.94 Q1999.65 1529.94 1997.77 1530.35 Q1995.92 1530.77 1993.98 1531.65 L1993.98 1514.29 Z\" fill=\"#000000\" fill-rule=\"evenodd\" fill-opacity=\"1\" /><path clip-path=\"url(#clip490)\" d=\"M2087.36 1544.91 L2095 1544.91 L2095 1518.55 L2086.69 1520.21 L2086.69 1515.95 L2094.96 1514.29 L2099.63 1514.29 L2099.63 1544.91 L2107.27 1544.91 L2107.27 1548.85 L2087.36 1548.85 L2087.36 1544.91 Z\" fill=\"#000000\" fill-rule=\"evenodd\" fill-opacity=\"1\" /><path clip-path=\"url(#clip490)\" d=\"M2127.29 1529.7 Q2124.14 1529.7 2122.29 1531.86 Q2120.46 1534.01 2120.46 1537.76 Q2120.46 1541.49 2122.29 1543.66 Q2124.14 1545.82 2127.29 1545.82 Q2130.44 1545.82 2132.27 1543.66 Q2134.12 1541.49 2134.12 1537.76 Q2134.12 1534.01 2132.27 1531.86 Q2130.44 1529.7 2127.29 1529.7 M2136.58 1515.05 L2136.58 1519.31 Q2134.82 1518.48 2133.01 1518.04 Q2131.23 1517.6 2129.47 1517.6 Q2124.84 1517.6 2122.39 1520.72 Q2119.95 1523.85 2119.61 1530.17 Q2120.97 1528.15 2123.03 1527.09 Q2125.09 1526 2127.57 1526 Q2132.78 1526 2135.79 1529.17 Q2138.82 1532.32 2138.82 1537.76 Q2138.82 1543.08 2135.67 1546.3 Q2132.52 1549.52 2127.29 1549.52 Q2121.3 1549.52 2118.13 1544.94 Q2114.95 1540.33 2114.95 1531.6 Q2114.95 1523.41 2118.84 1518.55 Q2122.73 1513.66 2129.28 1513.66 Q2131.04 1513.66 2132.83 1514.01 Q2134.63 1514.36 2136.58 1515.05 Z\" fill=\"#000000\" fill-rule=\"evenodd\" fill-opacity=\"1\" /><polyline clip-path=\"url(#clip492)\" style=\"stroke:#000000; stroke-linecap:round; stroke-linejoin:round; stroke-width:2; stroke-opacity:0.1; fill:none\" points=\"\n",
       "  138.959,1342.53 2112.76,1342.53 \n",
       "  \"/>\n",
       "<polyline clip-path=\"url(#clip492)\" style=\"stroke:#000000; stroke-linecap:round; stroke-linejoin:round; stroke-width:2; stroke-opacity:0.1; fill:none\" points=\"\n",
       "  138.959,1198.61 2112.76,1198.61 \n",
       "  \"/>\n",
       "<polyline clip-path=\"url(#clip492)\" style=\"stroke:#000000; stroke-linecap:round; stroke-linejoin:round; stroke-width:2; stroke-opacity:0.1; fill:none\" points=\"\n",
       "  138.959,1054.69 2112.76,1054.69 \n",
       "  \"/>\n",
       "<polyline clip-path=\"url(#clip492)\" style=\"stroke:#000000; stroke-linecap:round; stroke-linejoin:round; stroke-width:2; stroke-opacity:0.1; fill:none\" points=\"\n",
       "  138.959,910.766 2112.76,910.766 \n",
       "  \"/>\n",
       "<polyline clip-path=\"url(#clip492)\" style=\"stroke:#000000; stroke-linecap:round; stroke-linejoin:round; stroke-width:2; stroke-opacity:0.1; fill:none\" points=\"\n",
       "  138.959,766.846 2112.76,766.846 \n",
       "  \"/>\n",
       "<polyline clip-path=\"url(#clip492)\" style=\"stroke:#000000; stroke-linecap:round; stroke-linejoin:round; stroke-width:2; stroke-opacity:0.1; fill:none\" points=\"\n",
       "  138.959,622.926 2112.76,622.926 \n",
       "  \"/>\n",
       "<polyline clip-path=\"url(#clip492)\" style=\"stroke:#000000; stroke-linecap:round; stroke-linejoin:round; stroke-width:2; stroke-opacity:0.1; fill:none\" points=\"\n",
       "  138.959,479.005 2112.76,479.005 \n",
       "  \"/>\n",
       "<polyline clip-path=\"url(#clip492)\" style=\"stroke:#000000; stroke-linecap:round; stroke-linejoin:round; stroke-width:2; stroke-opacity:0.1; fill:none\" points=\"\n",
       "  138.959,335.085 2112.76,335.085 \n",
       "  \"/>\n",
       "<polyline clip-path=\"url(#clip492)\" style=\"stroke:#000000; stroke-linecap:round; stroke-linejoin:round; stroke-width:2; stroke-opacity:0.1; fill:none\" points=\"\n",
       "  138.959,191.164 2112.76,191.164 \n",
       "  \"/>\n",
       "<polyline clip-path=\"url(#clip492)\" style=\"stroke:#000000; stroke-linecap:round; stroke-linejoin:round; stroke-width:2; stroke-opacity:0.1; fill:none\" points=\"\n",
       "  138.959,47.2441 2112.76,47.2441 \n",
       "  \"/>\n",
       "<polyline clip-path=\"url(#clip490)\" style=\"stroke:#000000; stroke-linecap:round; stroke-linejoin:round; stroke-width:4; stroke-opacity:1; fill:none\" points=\"\n",
       "  138.959,1486.45 138.959,47.2441 \n",
       "  \"/>\n",
       "<polyline clip-path=\"url(#clip490)\" style=\"stroke:#000000; stroke-linecap:round; stroke-linejoin:round; stroke-width:4; stroke-opacity:1; fill:none\" points=\"\n",
       "  138.959,1342.53 155.808,1342.53 \n",
       "  \"/>\n",
       "<polyline clip-path=\"url(#clip490)\" style=\"stroke:#000000; stroke-linecap:round; stroke-linejoin:round; stroke-width:4; stroke-opacity:1; fill:none\" points=\"\n",
       "  138.959,1198.61 155.808,1198.61 \n",
       "  \"/>\n",
       "<polyline clip-path=\"url(#clip490)\" style=\"stroke:#000000; stroke-linecap:round; stroke-linejoin:round; stroke-width:4; stroke-opacity:1; fill:none\" points=\"\n",
       "  138.959,1054.69 155.808,1054.69 \n",
       "  \"/>\n",
       "<polyline clip-path=\"url(#clip490)\" style=\"stroke:#000000; stroke-linecap:round; stroke-linejoin:round; stroke-width:4; stroke-opacity:1; fill:none\" points=\"\n",
       "  138.959,910.766 155.808,910.766 \n",
       "  \"/>\n",
       "<polyline clip-path=\"url(#clip490)\" style=\"stroke:#000000; stroke-linecap:round; stroke-linejoin:round; stroke-width:4; stroke-opacity:1; fill:none\" points=\"\n",
       "  138.959,766.846 155.808,766.846 \n",
       "  \"/>\n",
       "<polyline clip-path=\"url(#clip490)\" style=\"stroke:#000000; stroke-linecap:round; stroke-linejoin:round; stroke-width:4; stroke-opacity:1; fill:none\" points=\"\n",
       "  138.959,622.926 155.808,622.926 \n",
       "  \"/>\n",
       "<polyline clip-path=\"url(#clip490)\" style=\"stroke:#000000; stroke-linecap:round; stroke-linejoin:round; stroke-width:4; stroke-opacity:1; fill:none\" points=\"\n",
       "  138.959,479.005 155.808,479.005 \n",
       "  \"/>\n",
       "<polyline clip-path=\"url(#clip490)\" style=\"stroke:#000000; stroke-linecap:round; stroke-linejoin:round; stroke-width:4; stroke-opacity:1; fill:none\" points=\"\n",
       "  138.959,335.085 155.808,335.085 \n",
       "  \"/>\n",
       "<polyline clip-path=\"url(#clip490)\" style=\"stroke:#000000; stroke-linecap:round; stroke-linejoin:round; stroke-width:4; stroke-opacity:1; fill:none\" points=\"\n",
       "  138.959,191.164 155.808,191.164 \n",
       "  \"/>\n",
       "<polyline clip-path=\"url(#clip490)\" style=\"stroke:#000000; stroke-linecap:round; stroke-linejoin:round; stroke-width:4; stroke-opacity:1; fill:none\" points=\"\n",
       "  138.959,47.2441 155.808,47.2441 \n",
       "  \"/>\n",
       "<path clip-path=\"url(#clip490)\" d=\"M83.0521 1355.87 L90.691 1355.87 L90.691 1329.51 L82.3808 1331.17 L82.3808 1326.91 L90.6447 1325.25 L95.3206 1325.25 L95.3206 1355.87 L102.959 1355.87 L102.959 1359.81 L83.0521 1359.81 L83.0521 1355.87 Z\" fill=\"#000000\" fill-rule=\"evenodd\" fill-opacity=\"1\" /><path clip-path=\"url(#clip490)\" d=\"M86.6401 1211.95 L102.959 1211.95 L102.959 1215.89 L81.0151 1215.89 L81.0151 1211.95 Q83.6771 1209.2 88.2604 1204.57 Q92.8669 1199.91 94.0475 1198.57 Q96.2928 1196.05 97.1724 1194.31 Q98.0752 1192.55 98.0752 1190.86 Q98.0752 1188.11 96.1308 1186.37 Q94.2095 1184.64 91.1077 1184.64 Q88.9086 1184.64 86.4549 1185.4 Q84.0244 1186.17 81.2466 1187.72 L81.2466 1182.99 Q84.0707 1181.86 86.5243 1181.28 Q88.978 1180.7 91.0151 1180.7 Q96.3854 1180.7 99.5798 1183.39 Q102.774 1186.07 102.774 1190.56 Q102.774 1192.69 101.964 1194.61 Q101.177 1196.51 99.0706 1199.1 Q98.4919 1199.78 95.39 1202.99 Q92.2882 1206.19 86.6401 1211.95 Z\" fill=\"#000000\" fill-rule=\"evenodd\" fill-opacity=\"1\" /><path clip-path=\"url(#clip490)\" d=\"M95.8298 1053.33 Q99.1863 1054.05 101.061 1056.32 Q102.959 1058.59 102.959 1061.92 Q102.959 1067.04 99.4409 1069.84 Q95.9224 1072.64 89.441 1072.64 Q87.2651 1072.64 84.9503 1072.2 Q82.6586 1071.78 80.2049 1070.93 L80.2049 1066.41 Q82.1494 1067.55 84.4642 1068.12 Q86.779 1068.7 89.3021 1068.7 Q93.7002 1068.7 95.9919 1066.97 Q98.3067 1065.23 98.3067 1061.92 Q98.3067 1058.86 96.1539 1057.15 Q94.0243 1055.42 90.2049 1055.42 L86.1771 1055.42 L86.1771 1051.57 L90.3901 1051.57 Q93.8391 1051.57 95.6678 1050.21 Q97.4965 1048.82 97.4965 1046.23 Q97.4965 1043.56 95.5984 1042.15 Q93.7234 1040.72 90.2049 1040.72 Q88.2836 1040.72 86.0845 1041.13 Q83.8855 1041.55 81.2466 1042.43 L81.2466 1038.26 Q83.9086 1037.52 86.2234 1037.15 Q88.5614 1036.78 90.6215 1036.78 Q95.9456 1036.78 99.0474 1039.21 Q102.149 1041.62 102.149 1045.74 Q102.149 1048.61 100.506 1050.6 Q98.8622 1052.57 95.8298 1053.33 Z\" fill=\"#000000\" fill-rule=\"evenodd\" fill-opacity=\"1\" /><path clip-path=\"url(#clip490)\" d=\"M93.3762 897.56 L81.5707 916.009 L93.3762 916.009 L93.3762 897.56 M92.1493 893.486 L98.0289 893.486 L98.0289 916.009 L102.959 916.009 L102.959 919.898 L98.0289 919.898 L98.0289 928.046 L93.3762 928.046 L93.3762 919.898 L77.7744 919.898 L77.7744 915.384 L92.1493 893.486 Z\" fill=\"#000000\" fill-rule=\"evenodd\" fill-opacity=\"1\" /><path clip-path=\"url(#clip490)\" d=\"M82.0568 749.566 L100.413 749.566 L100.413 753.501 L86.3392 753.501 L86.3392 761.973 Q87.3577 761.626 88.3762 761.464 Q89.3947 761.279 90.4132 761.279 Q96.2002 761.279 99.5798 764.45 Q102.959 767.621 102.959 773.038 Q102.959 778.617 99.4872 781.719 Q96.015 784.797 89.6956 784.797 Q87.5197 784.797 85.2512 784.427 Q83.0058 784.057 80.5984 783.316 L80.5984 778.617 Q82.6818 779.751 84.904 780.307 Q87.1262 780.862 89.603 780.862 Q93.6076 780.862 95.9456 778.756 Q98.2835 776.649 98.2835 773.038 Q98.2835 769.427 95.9456 767.321 Q93.6076 765.214 89.603 765.214 Q87.728 765.214 85.8531 765.631 Q84.0012 766.047 82.0568 766.927 L82.0568 749.566 Z\" fill=\"#000000\" fill-rule=\"evenodd\" fill-opacity=\"1\" /><path clip-path=\"url(#clip490)\" d=\"M91.4317 621.062 Q88.2836 621.062 86.4318 623.215 Q84.6031 625.368 84.6031 629.118 Q84.6031 632.845 86.4318 635.02 Q88.2836 637.173 91.4317 637.173 Q94.5799 637.173 96.4085 635.02 Q98.2604 632.845 98.2604 629.118 Q98.2604 625.368 96.4085 623.215 Q94.5799 621.062 91.4317 621.062 M100.714 606.409 L100.714 610.669 Q98.9548 609.835 97.1493 609.396 Q95.3669 608.956 93.6076 608.956 Q88.978 608.956 86.5243 612.081 Q84.0938 615.206 83.7466 621.525 Q85.1123 619.511 87.1725 618.446 Q89.2327 617.359 91.7095 617.359 Q96.9178 617.359 99.927 620.53 Q102.959 623.678 102.959 629.118 Q102.959 634.442 99.8113 637.659 Q96.6632 640.877 91.4317 640.877 Q85.4364 640.877 82.2651 636.294 Q79.0938 631.687 79.0938 622.96 Q79.0938 614.766 82.9827 609.905 Q86.8716 605.021 93.4225 605.021 Q95.1817 605.021 96.9641 605.368 Q98.7696 605.715 100.714 606.409 Z\" fill=\"#000000\" fill-rule=\"evenodd\" fill-opacity=\"1\" /><path clip-path=\"url(#clip490)\" d=\"M80.7373 461.725 L102.959 461.725 L102.959 463.716 L90.4132 496.285 L85.529 496.285 L97.3345 465.66 L80.7373 465.66 L80.7373 461.725 Z\" fill=\"#000000\" fill-rule=\"evenodd\" fill-opacity=\"1\" /><path clip-path=\"url(#clip490)\" d=\"M91.1077 335.953 Q87.7743 335.953 85.8531 337.735 Q83.9549 339.518 83.9549 342.643 Q83.9549 345.768 85.8531 347.55 Q87.7743 349.332 91.1077 349.332 Q94.441 349.332 96.3623 347.55 Q98.2835 345.745 98.2835 342.643 Q98.2835 339.518 96.3623 337.735 Q94.4641 335.953 91.1077 335.953 M86.4318 333.962 Q83.4225 333.221 81.7327 331.161 Q80.066 329.101 80.066 326.138 Q80.066 321.995 83.0058 319.587 Q85.9688 317.18 91.1077 317.18 Q96.2697 317.18 99.2095 319.587 Q102.149 321.995 102.149 326.138 Q102.149 329.101 100.459 331.161 Q98.7928 333.221 95.8067 333.962 Q99.1863 334.749 101.061 337.041 Q102.959 339.333 102.959 342.643 Q102.959 347.666 99.8808 350.351 Q96.8252 353.036 91.1077 353.036 Q85.3901 353.036 82.3114 350.351 Q79.2559 347.666 79.2559 342.643 Q79.2559 339.333 81.154 337.041 Q83.0521 334.749 86.4318 333.962 M84.7188 326.578 Q84.7188 329.263 86.3855 330.768 Q88.0753 332.272 91.1077 332.272 Q94.1169 332.272 95.8067 330.768 Q97.5197 329.263 97.5197 326.578 Q97.5197 323.893 95.8067 322.388 Q94.1169 320.884 91.1077 320.884 Q88.0753 320.884 86.3855 322.388 Q84.7188 323.893 84.7188 326.578 Z\" fill=\"#000000\" fill-rule=\"evenodd\" fill-opacity=\"1\" /><path clip-path=\"url(#clip490)\" d=\"M81.3392 207.727 L81.3392 203.468 Q83.0984 204.301 84.904 204.741 Q86.7095 205.181 88.4456 205.181 Q93.0752 205.181 95.5058 202.079 Q97.9595 198.954 98.3067 192.611 Q96.9641 194.602 94.9039 195.667 Q92.8438 196.732 90.3438 196.732 Q85.1586 196.732 82.1262 193.607 Q79.117 190.458 79.117 185.019 Q79.117 179.695 82.2651 176.477 Q85.4132 173.259 90.6447 173.259 Q96.64 173.259 99.7882 177.866 Q102.959 182.449 102.959 191.199 Q102.959 199.37 99.0706 204.255 Q95.2049 209.116 88.654 209.116 Q86.8947 209.116 85.0892 208.769 Q83.2836 208.421 81.3392 207.727 M90.6447 193.074 Q93.7928 193.074 95.6215 190.921 Q97.4734 188.769 97.4734 185.019 Q97.4734 181.292 95.6215 179.139 Q93.7928 176.963 90.6447 176.963 Q87.4966 176.963 85.6447 179.139 Q83.816 181.292 83.816 185.019 Q83.816 188.769 85.6447 190.921 Q87.4966 193.074 90.6447 193.074 Z\" fill=\"#000000\" fill-rule=\"evenodd\" fill-opacity=\"1\" /><path clip-path=\"url(#clip490)\" d=\"M51.6634 60.5889 L59.3023 60.5889 L59.3023 34.2233 L50.9921 35.89 L50.9921 31.6308 L59.256 29.9641 L63.9319 29.9641 L63.9319 60.5889 L71.5707 60.5889 L71.5707 64.5241 L51.6634 64.5241 L51.6634 60.5889 Z\" fill=\"#000000\" fill-rule=\"evenodd\" fill-opacity=\"1\" /><path clip-path=\"url(#clip490)\" d=\"M91.0151 33.0428 Q87.404 33.0428 85.5753 36.6076 Q83.7697 40.1492 83.7697 47.2788 Q83.7697 54.3853 85.5753 57.9501 Q87.404 61.4917 91.0151 61.4917 Q94.6493 61.4917 96.4548 57.9501 Q98.2835 54.3853 98.2835 47.2788 Q98.2835 40.1492 96.4548 36.6076 Q94.6493 33.0428 91.0151 33.0428 M91.0151 29.3391 Q96.8252 29.3391 99.8808 33.9456 Q102.959 38.5289 102.959 47.2788 Q102.959 56.0056 99.8808 60.6121 Q96.8252 65.1954 91.0151 65.1954 Q85.2049 65.1954 82.1262 60.6121 Q79.0707 56.0056 79.0707 47.2788 Q79.0707 38.5289 82.1262 33.9456 Q85.2049 29.3391 91.0151 29.3391 Z\" fill=\"#000000\" fill-rule=\"evenodd\" fill-opacity=\"1\" /><g clip-path=\"url(#clip492)\">\n",
       "<image width=\"1974\" height=\"1439\" xlink:href=\"data:image/png;base64,\n",
       "iVBORw0KGgoAAAANSUhEUgAAB7YAAAWfCAYAAAAvUBneAAAgAElEQVR4nOzbMWueVQCGYb9QOuQr\n",
       "HZQUA5JFkE4udejkUKpkEHR2qJMODu3iqouT6FKHIriJiBVXF8GpSweLIEUdVEStEQIKxQRqauM/\n",
       "cJJzbniv6xc8EM5JTm7e1bnNS8cPsRjPnzk9ewKDvPHTe7MnMNDu+pXZExjk4qN+bS/FW79/NXsC\n",
       "A+0f3FzN3sAYW+vzLvKFuPXc/dkTGGjn+pfu8YXYOfWse3xBnj55dvYEBvnwj2uzJzDIO4+/PHsC\n",
       "A732w/uzJzDI2fULsycwyMbsAQAAAAAAAADwX4RtAAAAAAAAANKEbQAAAAAAAADShG0AAAAAAAAA\n",
       "0oRtAAAAAAAAANKEbQAAAAAAAADShG0AAAAAAAAA0oRtAAAAAAAAANKEbQAAAAAAAADShG0AAAAA\n",
       "AAAA0oRtAAAAAAAAANKEbQAAAAAAAADShG0AAAAAAAAA0oRtAAAAAAAAANKEbQAAAAAAAADShG0A\n",
       "AAAAAAAA0oRtAAAAAAAAANKEbQAAAAAAAADShG0AAAAAAAAA0oRtAAAAAAAAANKEbQAAAAAAAADS\n",
       "hG0AAAAAAAAA0oRtAAAAAAAAANKEbQAAAAAAAADShG0AAAAAAAAA0oRtAAAAAAAAANKEbQAAAAAA\n",
       "AADShG0AAAAAAAAA0oRtAAAAAAAAANKEbQAAAAAAAADShG0AAAAAAAAA0oRtAAAAAAAAANKEbQAA\n",
       "AAAAAADShG0AAAAAAAAA0oRtAAAAAAAAANKEbQAAAAAAAADShG0AAAAAAAAA0oRtAAAAAAAAANKE\n",
       "bQAAAAAAAADShG0AAAAAAAAA0oRtAAAAAAAAANKEbQAAAAAAAADShG0AAAAAAAAA0oRtAAAAAAAA\n",
       "ANKEbQAAAAAAAADShG0AAAAAAAAA0oRtAAAAAAAAANKEbQAAAAAAAADShG0AAAAAAAAA0oRtAAAA\n",
       "AAAAANKEbQAAAAAAAADShG0AAAAAAAAA0oRtAAAAAAAAANKEbQAAAAAAAADShG0AAAAAAAAA0oRt\n",
       "AAAAAAAAANKEbQAAAAAAAADShG0AAAAAAAAA0oRtAAAAAAAAANKEbQAAAAAAAADShG0AAAAAAAAA\n",
       "0oRtAAAAAAAAANKEbQAAAAAAAADShG0AAAAAAAAA0oRtAAAAAAAAANKEbQAAAAAAAADShG0AAAAA\n",
       "AAAA0oRtAAAAAAAAANKEbQAAAAAAAADShG0AAAAAAAAA0oRtAAAAAAAAANKEbQAAAAAAAADShG0A\n",
       "AAAAAAAA0oRtAAAAAAAAANKEbQAAAAAAAADShG0AAAAAAAAA0oRtAAAAAAAAANKEbQAAAAAAAADS\n",
       "hG0AAAAAAAAA0oRtAAAAAAAAANKEbQAAAAAAAADShG0AAAAAAAAA0oRtAAAAAAAAANKEbQAAAAAA\n",
       "AADShG0AAAAAAAAA0oRtAAAAAAAAANKEbQAAAAAAAADShG0AAAAAAAAA0oRtAAAAAAAAANKEbQAA\n",
       "AAAAAADShG0AAAAAAAAA0oRtAAAAAAAAANKEbQAAAAAAAADShG0AAAAAAAAA0oRtAAAAAAAAANKE\n",
       "bQAAAAAAAADShG0AAAAAAAAA0oRtAAAAAAAAANKEbQAAAAAAAADShG0AAAAAAAAA0oRtAAAAAAAA\n",
       "ANKEbQAAAAAAAADShG0AAAAAAAAA0oRtAAAAAAAAANKEbQAAAAAAAADShG0AAAAAAAAA0oRtAAAA\n",
       "AAAAANKEbQAAAAAAAADShG0AAAAAAAAA0oRtAAAAAAAAANKEbQAAAAAAAADShG0AAAAAAAAA0oRt\n",
       "AAAAAAAAANKEbQAAAAAAAADShG0AAAAAAAAA0oRtAAAAAAAAANKEbQAAAAAAAADShG0AAAAAAAAA\n",
       "0oRtAAAAAAAAANKEbQAAAAAAAADShG0AAAAAAAAA0oRtAAAAAAAAANKEbQAAAAAAAADShG0AAAAA\n",
       "AAAA0oRtAAAAAAAAANKEbQAAAAAAAADShG0AAAAAAAAA0oRtAAAAAAAAANKEbQAAAAAAAADShG0A\n",
       "AAAAAAAA0oRtAAAAAAAAANKEbQAAAAAAAADShG0AAAAAAAAA0oRtAAAAAAAAANKEbQAAAAAAAADS\n",
       "hG0AAAAAAAAA0oRtAAAAAAAAANKEbQAAAAAAAADShG0AAAAAAAAA0oRtAAAAAAAAANKEbQAAAAAA\n",
       "AADShG0AAAAAAAAA0oRtAAAAAAAAANJWt3cvHM8ewTh7fz4yewKDfPLj9uwJDHTj8LfZExjkzIOH\n",
       "Z09gkG83vp49gYF2jp+YPYFBbh99MXsCg9w7urOavYFxPn7yJf9bWYi3v/ejXpJbhx+4yxfiyvZl\n",
       "h3shru6961wvyNb6vLO9EPsHN53thfDFNgAAAAAAAABpwjYAAAAAAAAAacI2AAAAAAAAAGnCNgAA\n",
       "AAAAAABpwjYAAAAAAAAAacI2AAAAAAAAAGnCNgAAAAAAAABpwjYAAAAAAAAAacI2AAAAAAAAAGnC\n",
       "NgAAAAAAAABpwjYAAAAAAAAAacI2AAAAAAAAAGnCNgAAAAAAAABpwjYAAAAAAAAAacI2AAAAAAAA\n",
       "AGnCNgAAAAAAAABpwjYAAAAAAAAAacI2AAAAAAAAAGnCNgAAAAAAAABpwjYAAAAAAAAAacI2AAAA\n",
       "AAAAAGnCNgAAAAAAAABpwjYAAAAAAAAAacI2AAAAAAAAAGnCNgAAAAAAAABpwjYAAAAAAAAAacI2\n",
       "AAAAAAAAAGnCNgAAAAAAAABpwjYAAAAAAAAAacI2AAAAAAAAAGnCNgAAAAAAAABpwjYAAAAAAAAA\n",
       "acI2AAAAAAAAAGnCNgAAAAAAAABpwjYAAAAAAAAAacI2AAAAAAAAAGnCNgAAAAAAAABpwjYAAAAA\n",
       "AAAAacI2AAAAAAAAAGnCNgAAAAAAAABpwjYAAAAAAAAAacI2AAAAAAAAAGnCNgAAAAAAAABpwjYA\n",
       "AAAAAAAAacI2AAAAAAAAAGnCNgAAAAAAAABpwjYAAAAAAAAAacI2AAAAAAAAAGnCNgAAAAAAAABp\n",
       "wjYAAAAAAAAAacI2AAAAAAAAAGnCNgAAAAAAAABpwjYAAAAAAAAAacI2AAAAAAAAAGnCNgAAAAAA\n",
       "AABpwjYAAAAAAAAAacI2AAAAAAAAAGnCNgAAAAAAAABpwjYAAAAAAAAAacI2AAAAAAAAAGnCNgAA\n",
       "AAAAAABpwjYAAAAAAAAAacI2AAAAAAAAAGnCNgAAAAAAAABpwjYAAAAAAAAAacI2AAAAAAAAAGnC\n",
       "NgAAAAAAAABpwjYAAAAAAAAAacI2AAAAAAAAAGnCNgAAAAAAAABpwjYAAAAAAAAAacI2AAAAAAAA\n",
       "AGnCNgAAAAAAAABpwjYAAAAAAAAAacI2AAAAAAAAAGnCNgAAAAAAAABpwjYAAAAAAAAAacI2AAAA\n",
       "AAAAAGnCNgAAAAAAAABpwjYAAAAAAAAAacI2AAAAAAAAAGnCNgAAAAAAAABpwjYAAAAAAAAAacI2\n",
       "AAAAAAAAAGnCNgAAAAAAAABpwjYAAAAAAAAAacI2AAAAAAAAAGnCNgAAAAAAAABpwjYAAAAAAAAA\n",
       "acI2AAAAAAAAAGnCNgAAAAAAAABpwjYAAAAAAAAAacI2AAAAAAAAAGnCNgAAAAAAAABpwjYAAAAA\n",
       "AAAAacI2AAAAAAAAAGnCNgAAAAAAAABpwjYAAAAAAAAAacI2AAAAAAAAAGnCNgAAAAAAAABpwjYA\n",
       "AAAAAAAAacI2AAAAAAAAAGnCNgAAAAAAAABpwjYAAAAAAAAAacI2AAAAAAAAAGnCNgAAAAAAAABp\n",
       "wjYAAAAAAAAAacI2AAAAAAAAAGnCNgAAAAAAAABpwjYAAAAAAAAAacI2AAAAAAAAAGnCNgAAAAAA\n",
       "AABpwjYAAAAAAAAAacI2AAAAAAAAAGnCNgAAAAAAAABpwjYAAAAAAAAAacI2AAAAAAAAAGnCNgAA\n",
       "AAAAAABpwjYAAAAAAAAAacI2AAAAAAAAAGnCNgAAAAAAAABpwjYAAAAAAAAAacI2AAAAAAAAAGnC\n",
       "NgAAAAAAAABpwjYAAAAAAAAAacI2AAAAAAAAAGnCNgAAAAAAAABpwjYAAAAAAAAAacI2AAAAAAAA\n",
       "AGnCNgAAAAAAAABpwjYAAAAAAAAAacI2AAAAAAAAAGnCNgAAAAAAAABpwjYAAAAAAAAAacI2AAAA\n",
       "AAAAAGnCNgAAAAAAAABpwjYAAAAAAAAAacI2AAAAAAAAAGnCNgAAAAAAAABpwjYAAAAAAAAAacI2\n",
       "AAAAAAAAAGnCNgAAAAAAAABpwjYAAAAAAAAAaavZAxhrd/3q8ewNwP/v+q+bsycwyGPbn82ewCDP\n",
       "nLw4ewIDffPP3uwJDPLdwafeYItxwttrQXZOXZg9gUF+/utz9/iCbGycdpcvxIMHd53txfA32rLc\n",
       "d7YX4tzmJWd7IXyxDQAAAAAAAECasA0AAAAAAABAmrANAAAAAAAAQJqwDQAAAAAAAECasA0AAAAA\n",
       "AABAmrANAAAAAAAAQJqwDQAAAAAAAECasA0AAAAAAABAmrANAAAAAAAAQJqwDQAAAAAAAECasA0A\n",
       "AAAAAABAmrANAAAAAAAAQJqwDQAAAAAAAECasA0AAAAAAABAmrANAAAAAAAAQJqwDQAAAAAAAECa\n",
       "sA0AAAAAAABAmrANAAAAAAAAQJqwDQAAAAAAAECasA0AAAAAAABAmrANAAAAAAAAQJqwDQAAAAAA\n",
       "AECasA0AAAAAAABAmrANAAAAAAAAQJqwDQAAAAAAAECasA0AAAAAAABAmrANAAAAAAAAQJqwDQAA\n",
       "AAAAAECasA0AAAAAAABAmrANAAAAAAAAQJqwDQAAAAAAAECasA0AAAAAAABAmrANAAAAAAAAQJqw\n",
       "DQAAAAAAAECasA0AAAAAAABAmrANAAAAAAAAQJqwDQAAAAAAAECasA0AAAAAAABAmrANAAAAAAAA\n",
       "QJqwDQAAAAAAAECasA0AAAAAAABAmrANAAAAAAAAQJqwDQAAAAAAAECasA0AAAAAAABAmrANAAAA\n",
       "AAAAQJqwDQAAAAAAAECasA0AAAAAAABAmrANAAAAAAAAQJqwDQAAAAAAAECasA0AAAAAAABAmrAN\n",
       "AAAAAAAAQJqwDQAAAAAAAECasA0AAAAAAABAmrANAAAAAAAAQJqwDQAAAAAAAECasA0AAAAAAABA\n",
       "mrANAAAAAAAAQJqwDQAAAAAAAECasA0AAAAAAABAmrANAAAAAAAAQJqwDQAAAAAAAECasA0AAAAA\n",
       "AABAmrANAAAAAAAAQJqwDQAAAAAAAECasA0AAAAAAABAmrANAAAAAAAAQJqwDQAAAAAAAECasA0A\n",
       "AAAAAABAmrANAAAAAAAAQJqwDQAAAAAAAECasA0AAAAAAABAmrANAAAAAAAAQJqwDQAAAAAAAECa\n",
       "sA0AAAAAAABAmrANAAAAAAAAQJqwDQAAAAAAAECasA0AAAAAAABAmrANAAAAAAAAQJqwDQAAAAAA\n",
       "AECasA0AAAAAAABAmrANAAAAAAAAQJqwDQAAAAAAAECasA0AAAAAAABAmrANAAAAAAAAQJqwDQAA\n",
       "AAAAAECasA0AAAAAAABAmrANAAAAAAAAQJqwDQAAAAAAAECasA0AAAAAAABAmrANAAAAAAAAQJqw\n",
       "DQAAAAAAAECasA0AAAAAAABAmrANAAAAAAAAQJqwDQAAAAAAAECasA0AAAAAAABAmrANAAAAAAAA\n",
       "QJqwDQAAAAAAAECasA0AAAAAAABAmrANAAAAAAAAQJqwDQAAAAAAAECasA0AAAAAAABAmrANAAAA\n",
       "AAAAQJqwDQAAAAAAAECasA0AAAAAAABAmrANAAAAAAAAQJqwDQAAAAAAAECasA0AAAAAAABAmrAN\n",
       "AAAAAAAAQJqwDQAAAAAAAECasA0AAAAAAABAmrANAAAAAAAAQJqwDQAAAAAAAECasA0AAAAAAABA\n",
       "mrANAAAAAAAAQJqwDQAAAAAAAECasA0AAAAAAABAmrANAAAAAAAAQJqwDQAAAAAAAECasA0AAAAA\n",
       "AABAmrANAAAAAAAAQJqwDQAAAAAAAECasA0AAAAAAABAmrANAAAAAAAAQJqwDQAAAAAAAECasA0A\n",
       "AAAAAABAmrANAAAAAAAAQJqwDQAAAAAAAECasA0AAAAAAABAmrANAAAAAAAAQJqwDQAAAAAAAECa\n",
       "sA0AAAAAAABAmrANAAAAAAAAQJqwDQAAAAAAAECasA0AAAAAAABAmrANAAAAAAAAQJqwDQAAAAAA\n",
       "AECasA0AAAAAAABAmrANAAAAAAAAQJqwDQAAAAAAAECasA0AAAAAAABAmrANAAAAAAAAQJqwDQAA\n",
       "AAAAAECasA0AAAAAAABA2urK9uXj2SMY5+retdkTGOTc5ouzJzDQrcOPZk9gkK31U7MnMMjdv3+Z\n",
       "PYGB7h3dWc3ewCgnvL8W475zDQAAEx28vuX9tRDrN/e9vxbCF9sAAAAAAAAApAnbAAAAAAAAAKQJ\n",
       "2wAAAAAAAACkCdsAAAAAAAAApAnbAAAAAAAAAKQJ2wAAAAAAAACkCdsAAAAAAAAApAnbAAAAAAAA\n",
       "AKQJ2wAAAAAAAACkCdsAAAAAAAAApAnbAAAAAAAAAKQJ2wAAAAAAAACkCdsAAAAAAAAApAnbAAAA\n",
       "AAAAAKQJ2wAAAAAAAACkCdsAAAAAAAAApAnbAAAAAAAAAKQJ2wAAAAAAAACkCdsAAAAAAAAApAnb\n",
       "AAAAAAAAAKQJ2wAAAAAAAACkCdsAAAAAAAAApAnbAAAAAAAAAKQJ2wAAAAAAAACkCdsAAAAAAAAA\n",
       "pAnbAAAAAAAAAKQJ2wAAAAAAAACkCdsAAAAAAAAApAnbAAAAAAAAAKQJ2wAAAAAAAACkCdsAAAAA\n",
       "AAAApAnbAAAAAAAAAKQJ2wAAAAAAAACkCdsAAAAAAAAApAnbAAAAAAAAAKQJ2wAAAAAAAACkCdsA\n",
       "AAAAAAAApAnbAAAAAAAAAKQJ2wAAAAAAAACkCdsAAAAAAAAApAnbAAAAAAAAAKQJ2wAAAAAAAACk\n",
       "CdsAAAAAAAAApAnbAAAAAAAAAKQJ2wAAAAAAAACkCdsAAAAAAAAApAnbAAAAAAAAAKQJ2wAAAAAA\n",
       "AACkCdsAAAAAAAAApAnbAAAAAAAAAKQJ2wAAAAAAAACkCdsAAAAAAAAApAnbAAAAAAAAAKQJ2wAA\n",
       "AAAAAACkCdsAAAAAAAAApAnbAAAAAAAAAKQJ2wAAAAAAAACkCdsAAAAAAAAApAnbAAAAAAAAAKQJ\n",
       "2wAAAAAAAACkCdsAAAAAAAAApAnbAAAAAAAAAKQJ2wAAAAAAAACkCdsAAAAAAAAApAnbAAAAAAAA\n",
       "AKQJ2wAAAAAAAACkCdsAAAAAAAAApAnbAAAAAAAAAKQJ2wAAAAAAAACkCdsAAAAAAAAApAnbAAAA\n",
       "AAAAAKQJ2wAAAAAAAACkCdsAAAAAAAAApAnbAAAAAAAAAKQJ2wAAAAAAAACkCdsAAAAAAAAApAnb\n",
       "AAAAAAAAAKQJ2wAAAAAAAACkCdsAAAAAAAAApAnbAAAAAAAAAKQJ2wAAAAAAAACkCdsAAAAAAAAA\n",
       "pAnbAAAAAAAAAKQJ2wAAAAAAAACkCdsAAAAAAAAApAnbAAAAAAAAAKQJ2wAAAAAAAACkCdsAAAAA\n",
       "AAAApAnbAAAAAAD8y779s8hVBXAYngmLyK5WsqAQLBUtdQvBRraKFhaCljYRi4Daid8jhHSaylIk\n",
       "pcYUYhGCaKFiIQhGECSCkD+6yuyOX8Kc8yb3eT7Brzn3zpyXCwCQJmwDAAAAAAAAkCZsAwAAAAAA\n",
       "AJAmbAMAAAAAAACQJmwDAAAAAAAAkCZsAwAAAAAAAJAmbAMAAAAAAACQJmwDAAAAAAAAkCZsAwAA\n",
       "AAAAAJAmbAMAAAAAAACQJmwDAAAAAAAAkCZsAwAAAAAAAJAmbAMAAAAAAACQJmwDAAAAAAAAkCZs\n",
       "AwAAAAAAAJAmbAMAAAAAAACQJmwDAAAAAAAAkCZsAwAAAAAAAJAmbAMAAAAAAACQJmwDAAAAAAAA\n",
       "kCZsAwAAAAAAAJAmbAMAAAAAAACQJmwDAAAAAAAAkCZsAwAAAAAAAJAmbAMAAAAAAACQJmwDAAAA\n",
       "AAAAkCZsAwAAAAAAAJAmbAMAAAAAAACQJmwDAAAAAAAAkCZsAwAAAAAAAJAmbAMAAAAAAACQJmwD\n",
       "AAAAAAAAkCZsAwAAAAAAAJAmbAMAAAAAAACQJmwDAAAAAAAAkCZsAwAAAAAAAJAmbAMAAAAAAACQ\n",
       "JmwDAAAAAAAAkCZsAwAAAAAAAJAmbAMAAAAAAACQJmwDAAAAAAAAkCZsAwAAAAAAAJAmbAMAAAAA\n",
       "AACQJmwDAAAAAAAAkCZsAwAAAAAAAJAmbAMAAAAAAACQJmwDAAAAAAAAkCZsAwAAAAAAAJAmbAMA\n",
       "AAAAAACQJmwDAAAAAAAAkCZsAwAAAAAAAJAmbAMAAAAAAACQJmwDAAAAAAAAkCZsAwAAAAAAAJAm\n",
       "bAMAAAAAAACQtvPXZvYERrr83BuzJzDI6999MXsCA733xLnZExjk/O+XZk9gkJOTW+vZGxjnzN65\n",
       "7ewNjPHJNz/PnsAgu09fca4XZH/vYPYEBrl595rfaPAAevThZ7y3F+Lf41uzJzDQxY9fnT2BYS7O\n",
       "HsAgvtgGAAAAAAAAIE3YBgAAAAAAACBN2AYAAAAAAAAgTdgGAAAAAAAAIE3YBgAAAAAAACBN2AYA\n",
       "AAAAAAAgTdgGAAAAAAAAIE3YBgAAAAAAACBN2AYAAAAAAAAgTdgGAAAAAAAAIE3YBgAAAAAAACBN\n",
       "2AYAAAAAAAAgTdgGAAAAAAAAIE3YBgAAAAAAACBN2AYAAAAAAAAgTdgGAAAAAAAAIE3YBgAAAAAA\n",
       "ACBN2AYAAAAAAAAgTdgGAAAAAAAAIE3YBgAAAAAAACBN2AYAAAAAAAAgTdgGAAAAAAAAIE3YBgAA\n",
       "AAAAACBN2AYAAAAAAAAgTdgGAAAAAAAAIE3YBgAAAAAAACBN2AYAAAAAAAAgTdgGAAAAAAAAIE3Y\n",
       "BgAAAAAAACBN2AYAAAAAAAAgTdgGAAAAAAAAIE3YBgAAAAAAACBN2AYAAAAAAAAgTdgGAAAAAAAA\n",
       "IE3YBgAAAAAAACBN2AYAAAAAAAAgTdgGAAAAAAAAIE3YBgAAAAAAACBN2AYAAAAAAAAgTdgGAAAA\n",
       "AAAAIE3YBgAAAAAAACBN2AYAAAAAAAAgTdgGAAAAAAAAIE3YBgAAAAAAACBN2AYAAAAAAAAgTdgG\n",
       "AAAAAAAAIE3YBgAAAAAAACBN2AYAAAAAAAAgTdgGAAAAAAAAIE3YBgAAAAAAACBN2AYAAAAAAAAg\n",
       "TdgGAAAAAAAAIE3YBgAAAAAAACBN2AYAAAAAAAAgTdgGAAAAAAAAIE3YBgAAAAAAACBN2AYAAAAA\n",
       "AAAgTdgGAAAAAAAAIE3YBgAAAAAAACBN2AYAAAAAAAAgTdgGAAAAAAAAIE3YBgAAAAAAACBN2AYA\n",
       "AAAAAAAgTdgGAAAAAAAAIE3YBgAAAAAAACBN2AYAAAAAAAAgTdgGAAAAAAAAIE3YBgAAAAAAACBN\n",
       "2AYAAAAAAAAgTdgGAAAAAAAAIE3YBgAAAAAAACBN2AYAAAAAAAAgTdgGAAAAAAAAIE3YBgAAAAAA\n",
       "ACBN2AYAAAAAAAAgTdgGAAAAAAAAIE3YBgAAAAAAACBN2AYAAAAAAAAgTdgGAAAAAAAAIE3YBgAA\n",
       "AAAAACBN2AYAAAAAAAAgTdgGAAAAAAAAIE3YBgAAAAAAACBN2AYAAAAAAAAgTdgGAAAAAAAAIE3Y\n",
       "BgAAAAAAACBN2AYAAAAAAAAgTdgGAAAAAAAAIE3YBgAAAAAAACBN2AYAAAAAAAAgTdgGAAAAAAAA\n",
       "IE3YBgAAAAAAACBN2AYAAAAAAAAgTdgGAAAAAAAAIE3YBgAAAAAAACBN2AYAAAAAAAAgTdgGAAAA\n",
       "AAAAIE3YBgAAAAAAACBN2AYAAAAAAAAgTdgGAAAAAAAAIE3YBgAAAAAAACBN2AYAAAAAAAAgTdgG\n",
       "AAAAAAAAIE3YBgAAAAAAACBN2AYAAAAAAAAgTdgGAAAAAAAAIE3YBgAAAAAAACBN2AYAAAAAAAAg\n",
       "TdgGAAAAAAAAIE3YBgAAAAAAACBN2AYAAAAAAAAgTdgGAAAAAAAAIE3YBgAAAAAAACBN2AYAAAAA\n",
       "AAAgTdgGAAAAAAAAIE3YBgAAAAAAACBN2AYAAAAAAAAgTdgGAAAAAAAAIE3YBgAAAAAAACBN2AYA\n",
       "AAAAAAAgTdgGAAAAAAAAIE3YBgAAAAAAACBN2AYAAAAAAAAgTdgGAAAAAAAAIE3YBgAAAAAAACBN\n",
       "2AYAAAAAAAAgTdgGAAAAAAAAIE3YBgAAAAAAACBN2AYAAAAAAAAgTdgGAAAAAAAAIE3YBgAAAAAA\n",
       "ACBN2AYAAAAAAAAgTdgGAAAAAAAAIE3YBgAAAAAAACBN2AYAAAAAAAAgTdgGAAAAAAAAIE3YBgAA\n",
       "AAAAACBN2AYAAAAAAAAgTdgGAAAAAAAAIE3YBgAAAAAAACBN2AYAAAAAAAAgTdgGAAAAAAAAIE3Y\n",
       "BgAAAAAAACBtvVrtbGePYKTNevYCxtjfe8HZXpCbd6852wD3sY+ePeu9vRDv//LD7AkM8tjq9OwJ\n",
       "DPTW4/uzJzDI5d+OZ09goC///nD2BAbZ3zuYPQG4B9yZLseFp952r7IQvtgGAAAAAAAAIE3YBgAA\n",
       "AAAAACBN2AYAAAAAAAAgTdgGAAAAAAAAIE3YBgAAAAAAACBN2AYAAAAAAAAgTdgGAAAAAAAAIE3Y\n",
       "BgAAAAAAACBN2AYAAAAAAAAgTdgGAAAAAAAAIE3YBgAAAAAAACBN2AYAAAAAAAAgTdgGAAAAAAAA\n",
       "IE3YBgAAAAAAACBN2AYAAAAAAAAgTdgGAAAAAAAAIE3YBgAAAAAAACBN2AYAAAAAAAAgTdgGAAAA\n",
       "AAAAIE3YBgAAAAAAACBN2AYAAAAAAAAgTdgGAAAAAAAAIE3YBgAAAAAAACBN2AYAAAAAAAAgTdgG\n",
       "AAAAAAAAIE3YBgAAAAAAACBN2AYAAAAAABgNEHsAABxlSURBVAAgTdgGAAAAAAAAIE3YBgAAAAAA\n",
       "ACBN2AYAAAAAAAAgTdgGAAAAAAAAIE3YBgAAAAAAACBN2AYAAAAAAAAgTdgGAAAAAAAAIE3YBgAA\n",
       "AAAAACBN2AYAAAAAAAAgTdgGAAAAAAAAIE3YBgAAAAAAACBN2AYAAAAAAAAgTdgGAAAAAAAAIE3Y\n",
       "BgAAAAAAACBN2AYAAAAAAAAgTdgGAAAAAAAAIE3YBgAAAAAAACBN2AYAAAAAAAAgTdgGAAAAAAAA\n",
       "IE3YBgAAAAAAACBN2AYAAAAAAAAgTdgGAAAAAAAAIE3YBgAAAAAAACBN2AYAAAAAAAAgTdgGAAAA\n",
       "AAAAIE3YBgAAAAAAACBN2AYAAAAAAAAgTdgGAAAAAAAAIE3YBgAAAAAAACBN2AYAAAAAAAAgTdgG\n",
       "AAAAAAAAIE3YBgAAAAAAACBN2AYAAAAAAAAgTdgGAAAAAAAAIE3YBgAAAAAAACBN2AYAAAAAAAAg\n",
       "TdgGAAAAAAAAIE3YBgAAAAAAACBN2AYAAAAAAAAgTdgGAAAAAAAAIE3YBgAAAAAAACBN2AYAAAAA\n",
       "AAAgTdgGAAAAAAAAIE3YBgAAAAAAACBN2AYAAAAAAAAgTdgGAAAAAAAAIE3YBgAAAAAAACBN2AYA\n",
       "AAAAAAAgTdgGAAAAAAAAIE3YBgAAAAAAACBN2AYAAAAAAAAgTdgGAAAAAAAAIE3YBgAAAAAAACBN\n",
       "2AYAAAAAAAAgTdgGAAAAAAAAIE3YBgAAAAAAACBN2AYAAAAAAAAgTdgGAAAAAAAAIE3YBgAAAAAA\n",
       "ACBN2AYAAAAAAAAgTdgGAAAAAAAAIE3YBgAAAAAAACBN2AYAAAAAAAAgTdgGAAAAAAAAIE3YBgAA\n",
       "AAAAACBN2AYAAAAAAAAgTdgGAAAAAAAAIE3YBgAAAAAAACBN2AYAAAAAAAAgTdgGAAAAAAAAIE3Y\n",
       "BgAAAAAAACBN2AYAAAAAAAAgTdgGAAAAAAAAIE3YBgAAAAAAACBN2AYAAAAAAAAgTdgGAAAAAAAA\n",
       "IE3YBgAAAAAAACBN2AYAAAAAAAAgTdgGAAAAAAAAIE3YBgAAAAAAACBN2AYAAAAAAAAgTdgGAAAA\n",
       "AAAAIE3YBgAAAAAAACBN2AYAAAAAAAAgTdgGAAAAAAAAIE3YBgAAAAAAACBN2AYAAAAAAAAgTdgG\n",
       "AAAAAAAAIE3YBgAAAAAAACBN2AYAAAAAAAAgTdgGAAAAAAAAIE3YBgAAAAAAACBN2AYAAAAAAAAg\n",
       "TdgGAAAAAAAAIE3YBgAAAAAAACBN2AYAAAAAAAAgTdgGAAAAAAAAIE3YBgAAAAAAACBN2AYAAAAA\n",
       "AAAgTdgGAAAAAAAAIE3YBgAAAAAAACBN2AYAAAAAAAAgTdgGAAAAAAAAIE3YBgAAAAAAACBN2AYA\n",
       "AAAAAAAgTdgGAAAAAAAAIE3YBgAAAAAAACBN2AYAAAAAAAAgTdgGAAAAAAAAIE3YBgAAAAAAACBN\n",
       "2AYAAAAAAAAgTdgGAAAAAAAAIE3YBgAAAAAAACBN2AYAAAAAAAAgTdgGAAAAAAAAIE3YBgAAAAAA\n",
       "ACBtvVrtbGePYJzN9tLsCQxycv7s7AkM9NC7/6xnbwD+X8/vvuk32oJ8e/Tp7AkMcv2lF2dPYJDX\n",
       "rh/PngDcAzfufOa/16K4N12OjbMNDyTP8aU4dWp39gQG8cU2AAAAAAAAAGnCNgAAAAAAAABpwjYA\n",
       "AAAAAAAAacI2AAAAAAAAAGnCNgAAAAAAAABpwjYAAAAAAAAAacI2AAAAAAAAAGnCNgAAAAAAAABp\n",
       "wjYAAAAAAAAAacI2AAAAAAAAAGnCNgAAAAAAAABpwjYAAAAAAAAAacI2AAAAAAAAAGnCNgAAAAAA\n",
       "AABpwjYAAAAAAAAAacI2AAAAAAAAAGnCNgAAAAAAAABpwjYAAAAAAAAAacI2AAAAAAAAAGnCNgAA\n",
       "AAAAAABpwjYAAAAAAAAAacI2AAAAAAAAAGnCNgAAAAAAAABpwjYAAAAAAAAAacI2AAAAAAAAAGnC\n",
       "NgAAAAAAAABpwjYAAAAAAAAAacI2AAAAAAAAAGnCNgAAAAAAAABpwjYAAAAAAAAAacI2AAAAAAAA\n",
       "AGnCNgAAAAAAAABpwjYAAAAAAAAAacI2AAAAAAAAAGnCNgAAAAAAAABpwjYAAAAAAAAAacI2AAAA\n",
       "AAAAAGnCNgAAAAAAAABpwjYAAAAAAAAAacI2AAAAAAAAAGnCNgAAAAAAAABpwjYAAAAAAAAAacI2\n",
       "AAAAAAAAAGnCNgAAAAAAAABpwjYAAAAAAAAAacI2AAAAAAAAAGnCNgAAAAAAAABpwjYAAAAAAAAA\n",
       "acI2AAAAAAAAAGnCNgAAAAAAAABpwjYAAAAAAAAAacI2AAAAAAAAAGnCNgAAAAAAAABpwjYAAAAA\n",
       "AAAAacI2AAAAAAAAAGnCNgAAAAAAAABpwjYAAAAAAAAAacI2AAAAAAAAAGnCNgAAAAAAAABpwjYA\n",
       "AAAAAAAAacI2AAAAAAAAAGnCNgAAAAAAAABpwjYAAAAAAAAAacI2AAAAAAAAAGnCNgAAAAAAAABp\n",
       "wjYAAAAAAAAAacI2AAAAAAAAAGnCNgAAAAAAAABpwjYAAAAAAAAAacI2AAAAAAAAAGnCNgAAAAAA\n",
       "AABpwjYAAAAAAAAAacI2AAAAAAAAAGnCNgAAAAAAAABpwjYAAAAAAAAAacI2AAAAAAAAAGnCNgAA\n",
       "AAAAAABpwjYAAAAAAAAAacI2AAAAAAAAAGnCNgAAAAAAAABpwjYAAAAAAAAAacI2AAAAAAAAAGnC\n",
       "NgAAAAAAAABpwjYAAAAAAAAAacI2AAAAAAAAAGnCNgAAAAAAAABpwjYAAAAAAAAAacI2AAAAAAAA\n",
       "AGnCNgAAAAAAAABpwjYAAAAAAAAAacI2AAAAAAAAAGnCNgAAAAAAAABpwjYAAAAAAAAAacI2AAAA\n",
       "AAAAAGnCNgAAAAAAAABpwjYAAAAAAAAAacI2AAAAAAAAAGnCNgAAAAAAAABpwjYAAAAAAAAAacI2\n",
       "AAAAAAAAAGnCNgAAAAAAAABpwjYAAAAAAAAAacI2AAAAAAAAAGnCNgAAAAAAAABpwjYAAAAAAAAA\n",
       "acI2AAAAAAAAAGnCNgAAAAAAAABpwjYAAAAAAAAAacI2AAAAAAAAAGnCNgAAAAAAAABpwjYAAAAA\n",
       "AAAAacI2AAAAAAAAAGnCNgAAAAAAAABpwjYAAAAAAAAAacI2AAAAAAAAAGnCNgAAAAAAAABpwjYA\n",
       "AAAAAAAAacI2AAAAAAAAAGnCNgAAAAAAAABpwjYAAAAAAAAAacI2AAAAAAAAAGnCNgAAAAAAAABp\n",
       "wjYAAAAAAAAAacI2AAAAAAAAAGnCNgAAAAAAAABpwjYAAAAAAAAAacI2AAAAAAAAAGnCNgAAAAAA\n",
       "AABpwjYAAAAAAAAAacI2AAAAAAAAAGnCNgAAAAAAAABpwjYAAAAAAAAAacI2AAAAAAAAAGnCNgAA\n",
       "AAAAAABpwjYAAAAAAAAAacI2AAAAAAAAAGnCNgAAAAAAAABpwjYAAAAAAAAAacI2AAAAAAAAAGnC\n",
       "NgAAAAAAAABpwjYAAAAAAAAAacI2AAAAAAAAAGnCNgAAAAAAAABp668PX97OHsE4B1c/nz2BYTbr\n",
       "2QsY54PT73iWL8SFP67MnsAgt49+9BxfkO/PHHqOL8QrX+3MnsAgf25+nT2BgW4f/TR7AoM8+cjh\n",
       "7AkMdOPO1dkTGMY9GgDcD3yxDQAAAAAAAECasA0AAAAAAABAmrANAAAAAAAAQJqwDQAAAAAAAECa\n",
       "sA0AAAAAAABAmrANAAAAAAAAQJqwDQAAAAAAAECasA0AAAAAAABAmrANAAAAAAAAQJqwDQAAAAAA\n",
       "AECasA0AAAAAAABAmrANAAAAAAAAQJqwDQAAAAAAAECasA0AAAAAAABAmrANAAAAAAAAQJqwDQAA\n",
       "AAAAAECasA0AAAAAAABAmrANAAAAAAAAQJqwDQAAAAAAAECasA0AAAAAAABAmrANAAAAAAAAQJqw\n",
       "DQAAAAAAAECasA0AAAAAAABAmrANAAAAAAAAQJqwDQAAAAAAAECasA0AAAAAAABAmrANAAAAAAAA\n",
       "QJqwDQAAAAAAAECasA0AAAAAAABAmrANAAAAAAAAQJqwDQAAAAAAAECasA0AAAAAAABAmrANAAAA\n",
       "AAAAQJqwDQAAAAAAAECasA0AAAAAAADwX/t2j1JHFIBhGC+KfzHYWQjp0rkOG7ukDS4qjYV7sBZL\n",
       "i0BWYG8rNt5bGAiYTYRzXu48zwq+Zs4c5mVIE7YBAAAAAAAASBO2AQAAAAAAAEgTtgEAAAAAAABI\n",
       "E7YBAAAAAAAASBO2AQAAAAAAAEgTtgEAAAAAAABIE7YBAAAAAAAASBO2AQAAAAAAAEgTtgEAAAAA\n",
       "AABIE7YBAAAAAAAASBO2AQAAAAAAAEgTtgEAAAAAAABIE7YBAAAAAAAASBO2AQAAAAAAAEgTtgEA\n",
       "AAAAAABIE7YBAAAAAAAASBO2AQAAAAAAAEgTtgEAAAAAAABIE7YBAAAAAAAASBO2AQAAAAAAAEgT\n",
       "tgEAAAAAAABIE7YBAAAAAAAASBO2AQAAAAAAAEgTtgEAAAAAAABIE7YBAAAAAAAASBO2AQAAAAAA\n",
       "AEgTtgEAAAAAAABIE7YBAAAAAAAASBO2AQAAAAAAAEgTtgEAAAAAAABIE7YBAAAAAAAASBO2AQAA\n",
       "AAAAAEgTtgEAAAAAAABIE7YBAAAAAAAASBO2AQAAAAAAAEgTtgEAAAAAAABIE7YBAAAAAAAASBO2\n",
       "AQAAAAAAAEgTtgEAAAAAAABIE7YBAAAAAAAASBO2AQAAAAAAAEgTtgEAAAAAAABIE7YBAAAAAAAA\n",
       "SBO2AQAAAAAAAEgTtgEAAAAAAABIE7YBAAAAAAAASBO2AQAAAAAAAEgTtgEAAAAAAABIE7YBAAAA\n",
       "AAAASBO2AQAAAAAAAEgTtgEAAAAAAABIE7YBAAAAAAAASBO2AQAAAAAAAEgTtgEAAAAAAABIE7YB\n",
       "AAAAAAAASBO2AQAAAAAAAEgTtgEAAAAAAABIE7YBAAAAAAAASBO2AQAAAAAAAEgTtgEAAAAAAABI\n",
       "E7YBAAAAAAAASBO2AQAAAAAAAEgTtgEAAAAAAABIE7YBAAAAAAAASBO2AQAAAAAAAEgTtgEAAAAA\n",
       "AABIE7YBAAAAAAAASBO2AQAAAAAAAEgTtgEAAAAAAABIE7YBAAAAAAAASBO2AQAAAAAAAEgTtgEA\n",
       "AAAAAABIE7YBAAAAAAAASBO2AQAAAAAAAEgTtgEAAAAAAABIE7YBAAAAAAAASBO2AQAAAAAAAEgT\n",
       "tgEAAAAAAABIE7YBAAAAAAAASBO2AQAAAAAAAEgTtgEAAAAAAABIE7YBAAAAAAAASBO2AQAAAAAA\n",
       "AEgTtgEAAAAAAABIE7YBAAAAAAAASBO2AQAAAAAAAEgTtgEAAAAAAABIE7YBAAAAAAAASBO2AQAA\n",
       "AAAAAEgTtgEAAAAAAABIE7YBAAAAAAAASBO2AQAAAAAAAEgTtgEAAAAAAABIE7YBAAAAAAAASBO2\n",
       "AQAAAAAAAEgTtgEAAAAAAABIE7YBAAAAAAAASBO2AQAAAAAAAEgTtgEAAAAAAABIE7YBAAAAAAAA\n",
       "SBO2AQAAAAAAAEgTtgEAAAAAAABIE7YBAAAAAAAASBO2AQAAAAAAAEgTtgEAAAAAAABIE7YBAAAA\n",
       "AAAASBO2AQAAAAAAAEgTtgEAAAAAAABI2/3x+3j2Bob6uzN7AaPsfsxewDi/Xv/MnsAg6/cn5/hC\n",
       "rFafneMLcnH/OHsC8J+tVkezJzDQ/t7Z7AkM8rx5cB9fFN9WYPt4rpdFD4Ft449tAAAAAAAAANKE\n",
       "bQAAAAAAAADShG0AAAAAAAAA0oRtAAAAAAAAANKEbQAAAAAAAADShG0AAAAAAAAA0oRtAAAAAAAA\n",
       "ANKEbQAAAAAAAADShG0AAAAAAAAA0oRtAAAAAAAAANKEbQAAAAAAAADShG0AAAAAAAAA0oRtAAAA\n",
       "AAAAANKEbQAAAAAAAADShG0AAAAAAAAA0oRtAAAAAAAAANKEbQAAAAAAAADShG0AAAAAAAAA0oRt\n",
       "AAAAAAAAANKEbQAAAAAAAADShG0AAAAAAAAA0oRtAAAAAAAAANKEbQAAAAAAAADShG0AAAAAAAAA\n",
       "0oRtAAAAAAAAANKEbQAAAAAAAADShG0AAAAAAAAA0oRtAAAAAAAAANKEbQAAAAAAAADShG0AAAAA\n",
       "AAAA0oRtAAAAAAAAANKEbQAAAAAAAADShG0AAAAAAAAA0oRtAAAAAAAAANKEbQAAAAAAAADShG0A\n",
       "AAAAAAAA0oRtAAAAAAAAANKEbQAAAAAAAADShG0AAAAAAAAA0oRtAAAAAAAAANKEbQAAAAAAAADS\n",
       "hG0AAAAAAAAA0oRtAAAAAAAAANKEbQAAAAAAAADShG0AAAAAAAAA0oRtAAAAAAAAANKEbQAAAAAA\n",
       "AADShG0AAAAAAAAA0oRtAAAAAAAAANKEbQAAAAAAAADShG0AAAAAAAAA0oRtAAAAAAAAANKEbQAA\n",
       "AAAAAADShG0AAAAAAAAA0oRtAAAAAAAAANKEbQAAAAAAAADShG0AAAAAAAAA0oRtAAAAAAAAANKE\n",
       "bQAAAAAAAADShG0AAAAAAAAA0oRtAAAAAAAAANKEbQAAAAAAAADShG0AAAAAAAAA0oRtAAAAAAAA\n",
       "ANKEbQAAAAAAAADShG0AAAAAAAAA0oRtAAAAAAAAANKEbQAAAAAAAADShG0AAAAAAAAA0oRtAAAA\n",
       "AAAAANKEbQAAAAAAAADShG0AAAAAAAAA0oRtAAAAAAAAANKEbQAAAAAAAADShG0AAAAAAAAA0oRt\n",
       "AAAAAAAAANKEbQAAAAAAAADShG0AAAAAAAAA0oRtAAAAAAAAANKEbQAAAAAAAADShG0AAAAAAAAA\n",
       "0oRtAAAAAAAAANKEbQAAAAAAAADShG0AAAAAAAAA0oRtAAAAAAAAANKEbQAAAAAAAADShG0AAAAA\n",
       "AAAA0oRtAAAAAAAAANKEbQAAAAAAAADShG0AAAAAAAAA0oRtAAAAAAAAANKEbQAAAAAAAADShG0A\n",
       "AAAAAAAA0oRtAAAAAAAAANKEbQAAAAAAAADShG0AAAAAAAAA0oRtAAAAAAAAANKEbQAAAAAAAADS\n",
       "hG0AAAAAAAAA0oRtAAAAAAAAANKEbQAAAAAAAADShG0AAAAAAAAA0oRtAAAAAAAAANKEbQAAAAAA\n",
       "AADShG0AAAAAAAAA0oRtAAAAAAAAANKEbQAAAAAAAADShG0AAAAAAAAA0oRtAAAAAAAAANKEbQAA\n",
       "AAAAAADShG0AAAAAAAAA0oRtAAAAAAAAANKEbQAAAAAAAADShG0AAAAAAAAA0oRtAAAAAAAAANKE\n",
       "bQAAAAAAAADShG0AAAAAAAAA0oRtAAAAAAAAANKEbQAAAAAAAADShG0AAAAAAAAA0oRtAAAAAAAA\n",
       "ANKEbQAAAAAAAADShG0AAAAAAAAA0oRtAAAAAAAAANKEbQAAAAAAAADShG0AAAAAAAAA0oRtAAAA\n",
       "AAAAANKEbQAAAAAAAADShG0AAAAAAAAA0oRtAAAAAAAAANKEbQAAAAAAAADShG0AAAAAAAAA0oRt\n",
       "AAAAAAAAANKEbQAAAAAAAADShG0AAAAAAAAA0oRtAAAAAAAAANKEbQAAAAAAAADShG0AAAAAAAAA\n",
       "0oRtAAAAAAAAANKEbQAAAAAAAADShG0AAAAAAAAA0oRtAAAAAAAAANKEbQAAAAAAAADSdmYPYKz9\n",
       "vfOP2RsY4/r0++wJDHT78tN5DlvGO3tZrg6/zZ7AIHdvN7MnMMjJwdfZExho/f7kPg4AEPPl06Vv\n",
       "KwvxvHlwH18If2wDAAAAAAAAkCZsAwAAAAAAAJAmbAMAAAAAAACQJmwDAAAAAAAAkCZsAwAAAAAA\n",
       "AJAmbAMAAAAAAACQJmwDAAAAAAAAkCZsAwAAAAAAAJAmbAMAAAAAAACQJmwDAAAAAAAAkCZsAwAA\n",
       "AAAAAJAmbAMAAAAAAACQJmwDAAAAAAAAkCZsAwAAAAAAAJAmbAMAAAAAAACQJmwDAAAAAAAAkCZs\n",
       "AwAAAAAAAJAmbAMAAAAAAACQJmwDAAAAAAAAkCZsAwAAAAAAAJAmbAMAAAAAAACQJmwDAAAAAAAA\n",
       "kCZsAwAAAAAAAJAmbAMAAAAAAACQJmwDAAAAAAAAkCZsAwAAAAAAAJAmbAMAAAAAAACQJmwDAAAA\n",
       "AAAAkCZsAwAAAAAAAJAmbAMAAAAAAACQJmwDAAAAAAAAkCZsAwAAAAAAAJAmbAMAAAAAAACQJmwD\n",
       "AAAAAAAAkCZsAwAAAAAAAJAmbAMAAAAAAACQJmwDAAAAAAAAkCZsAwAAAAAAAJAmbAMAAAAAAACQ\n",
       "JmwDAAAAAAAAkCZsAwAAAAAAAJAmbAMAAAAAAACQJmwDAAAAAAAAkCZsAwAAAAAAAJAmbAMAAAAA\n",
       "AACQJmwDAAAAAAAAkCZsAwAAAAAAAJAmbAMAAAAAAACQJmwDAAAAAAAAkCZsAwAAAAAAAJAmbAMA\n",
       "AAAAAACQJmwDAAAAAAAAkCZsAwAAAAAAAJAmbAMAAAAAAACQJmwDAAAAAAAAkCZsAwAAAAAAAJAm\n",
       "bAMAAAAAAACQJmwDAAAAAAAAkCZsAwAAAAAAAJAmbAMAAAAAAACQJmwDAAAAAAAAkCZsAwAAAAAA\n",
       "AJAmbAMAAAAAAACQJmwDAAAAAAAAkCZsAwAAAAAAAJAmbAMAAAAAAACQJmwDAAAAAAAAkCZsAwAA\n",
       "AAAAAJAmbAMAAAAAAACQJmwDAAAAAAAAkCZsAwAAAAAAAJAmbAMAAAAAAACQJmwDAAAAAAAAkCZs\n",
       "AwAAAAAAAJAmbAMAAAAAAACQJmwDAAAAAAAAkCZsAwAAAAAAAJAmbAMAAAAAAACQJmwDAAAAAAAA\n",
       "kCZsAwAAAAAAAJAmbAMAAAAAAACQJmwDAAAAAAAAkCZsAwAAAAAAAJAmbAMAAAAAAACQJmwDAAAA\n",
       "AAAAkCZsAwAAAAAAAJAmbAMAAAAAAACQJmwDAAAAAAAAkCZsAwAAAAAAAJAmbAMAAAAAAACQJmwD\n",
       "AAAAAAAAkCZsAwAAAAAAAJAmbAMAAAAAAACQJmwDAAAAAAAAkCZsAwAAAAAAAJAmbAMAAAAAAACQ\n",
       "JmwDAAAAAAAAkCZsAwAAAAAAAJAmbAMAAAAAAACQJmwDAAAAAAAAkCZsAwAAAAAAAJAmbAMAAAAA\n",
       "AACQJmwDAAAAAAAAkCZsAwAAAAAAAJAmbAMAAAAAAACQJmwDAAAAAAAAkCZsAwAAAAAAAJAmbAMA\n",
       "AAAAAACQJmwDAAAAAAAAkCZsAwAAAAAAAJAmbAMAAAAAAACQJmwDAAAAAAAAkCZsAwAAAAAAAJAm\n",
       "bAMAAAAAAACQJmwDAAAAAAAAkCZsAwAAAAAAAJAmbAMAAAAAAACQJmwDAAAAAAAAkCZsAwAAAAAA\n",
       "AJAmbAMAAAAAAACQJmwDAAAAAAAAkCZsAwAAAAAAAJAmbAMAAAAAAACQJmwDAAAAAAAAkCZsAwAA\n",
       "AAAAAJAmbAMAAAAAAACQJmwDAAAAAAAAkCZsAwAAAAAAAJAmbAMAAAAAAACQJmwDAAAAAAAAkCZs\n",
       "AwAAAAAAAJAmbAMAAAAAAACQJmwDAAAAAAAAkCZsAwAAAAAAAJAmbAMAAAAAAACQJmwDAAAAAAAA\n",
       "kCZsAwAAAAAAAJAmbAMAAAAAAACQJmwDAAAAAAAAkCZsAwAAAAAAAJAmbAMAAAAAAACQJmwDAAAA\n",
       "AAAAkPYPmZ7o/K80fr0AAAAASUVORK5CYII=\n",
       "\" transform=\"translate(139, 47)\"/>\n",
       "</g>\n",
       "<defs>\n",
       "  <clipPath id=\"clip493\">\n",
       "    <rect x=\"2160\" y=\"47\" width=\"73\" height=\"1440\"/>\n",
       "  </clipPath>\n",
       "</defs>\n",
       "<g clip-path=\"url(#clip493)\">\n",
       "<image width=\"72\" height=\"1439\" xlink:href=\"data:image/png;base64,\n",
       "iVBORw0KGgoAAAANSUhEUgAAAEgAAAWfCAYAAAAI7rB3AAAMWUlEQVR4nO3dwY0rRxAFwaZQ/lsh\n",
       "L6XfLQtUeSQPERYsEg8c9MyQ+/n3/v0O/+uvb/8Bv06gIFAQKAgU5r5/v/03/DQLCgIFgYJAQaAw\n",
       "7/359t/w0ywoCBQECgIFR41gQUGgIFAQKAgU5rmKrSwoCBQECgIFgcK86yq2saAgUBAoCBQcNYIF\n",
       "BYGCQEGgIFBwFQsWFAQKAgWBgvtBwYKCQEGgIFAQKMxx1FhZUBAoCBQECgIFN8yCBQWBgkBBoDDH\n",
       "DbOVBQWBgkBBoCBQmHP/+fbf8NMsKAgUBAoCBYGCxz7BgoJAQaAgUHDDLFhQECgIFAQKAgVXsWBB\n",
       "QaAgUBAouB8ULCgIFAQKAgWBwnwcNVYWFAQKAgWBgkBhzvWfWTYWFAQKAgWBgqNGsKAgUBAoCBQE\n",
       "Co4awYKCQEGgIFAQKHjDLFhQECgIFAQK83HUWFlQECgIFAQKAgXvSQcLCgIFgYJAwVEjWFAQKAgU\n",
       "BAoCBc/mgwUFgYJAQaAgUHAWCxYUBAoCBYGCo0awoCBQECgIFAQKjhrBgoJAQaAgUBAozLn323/D\n",
       "T7OgIFAQKAgUHDWCBQWBgkBBoCBQ8NgnWFAQKAgUBAo+pIMFBYGCQEGgIFCYj6caKwsKAgWBgkBB\n",
       "oOAsFiwoCBQECgIFL1AFCwoCBYGCQEGg4IZZsKAgUBAoCBTcDwoWFAQKAgWBgkDBDbNgQUGgIFAQ\n",
       "KAgUXMWCBQWBgkBBoOB788GCgkBBoCBQECg4agQLCgIFgYJAQaDgKhYsKAgUBAoCBR/SwYKCQEGg\n",
       "IFAQKLiKBQsKAgWBgkBhzvMhvbGgIFAQKAgUBAqOGsGCgkBBoCBQECi4igULCgIFgYJAwYd0sKAg\n",
       "UBAoCBQECnPu+/bf8NMsKAgUBAoCBYGCs1iwoCBQECgIFBw1ggUFgYJAQaAgUHDUCBYUBAoCBYGC\n",
       "o0awoCBQECgIFAQKc5w0VhYUBAoCBYGCQGHOcxbbWFAQKAgUBAqOGsGCgkBBoCBQECi4igULCgIF\n",
       "gYJAQaAwfohzZ0FBoCBQECg4agQLCgIFgYJAQaDgKhYsKAgUBAoChTn38+2/4adZUBAoCBQECgKF\n",
       "ec9VbGNBQaAgUBAoCBTcMAsWFAQKAgWBghtmwYKCQEGgIFAQKMy7Gm3UCQIFgYJAwVEjWFAQKAgU\n",
       "BAoChTmeza8sKAgUBAoCBYHCPGexlQUFgYJAQaAwx1ONlTpBoCBQECgIFBw1ggUFgYJAQaAgUPDY\n",
       "J1hQECgIFAQKXgMO6gSBgkBBoCBQ8J50sKAgUBAoCBQ81QgWFAQKAgWBgkBh3tNoo04QKAgUBAoC\n",
       "BTfMggUFgYJAQaDghlmwoCBQECgIFAQKc9wwW6kTBAoCBYGCQMFZLFhQECgIFAQKPqSDBQWBgkBB\n",
       "oCBQ8L35YEFBoCBQECj43nxQJwgUBAoCBYHCPEeNlQUFgYJAQaAgUPDYJ1hQECgIFAQK/jNLUCcI\n",
       "FAQKAgWBghtmwYKCQEGgIFAQKLhhFiwoCBQECgIFR41gQUGgIFAQKAgUvCcd1AkCBYGCQMFRI1hQ\n",
       "ECgIFAQKAgVPNYIFBYGCQEGgIFBwFgsWFAQKAgWBgn+fFSwoCBQECgIFgYJ/ZRzUCQIFgYJAQaDg\n",
       "hlmwoCBQECgIFDybDxYUBAoCBYGCQMFRI1hQECgIFAQKc31IrywoCBQECgIFgYLvzQd1gkBBoCBQ\n",
       "ECi4YRYsKAgUBAoCBR/SwYKCQEGgIFAQKHjDLFhQECgIFAQKjhrBgoJAQaAgUBAouIoFCwoCBYGC\n",
       "QEGg4NdfgjpBoCBQECjM9VRjZUFBoCBQECgIFNwwCxYUBAoCBYGCQMFVLFhQECgIFAQKPqSDBQWB\n",
       "gkBBoCBQ8BtmwYKCQEGgIFBw1AgWFAQKAgWBgkDBVSxYUBAoCBQECgIFX2YJ6gSBgkBBoODLLMGC\n",
       "gkBBoCBQECi4YRYsKAgUBAoCBYGCq1iwoCBQECgIFLwGHCwoCBQECgIFgYKjRrCgIFAQKAgU5h0f\n",
       "0hsLCgIFgYJAQaDghlmwoCBQECgIFAQKbpgFCwoCBYGCQMFRI1hQECgIFAQKAgVHjWBBQaAgUBAo\n",
       "CBScxYIFBYGCQEGg4KgRLCgIFAQKAgWBgqtYsKAgUBAoCBTm+jLLyoKCQEGgIFAQKDhqBAsKAgWB\n",
       "gkBBoODZfLCgIFAQKAgU5r1v/wm/zYKCQEGgIFAQKDhqBAsKAgWBgkDBD00GCwoCBYGCQEGg4KgR\n",
       "LCgIFAQKAgWBgjfMggUFgYJAQaDgyyzBgoJAQaAgUBAoeMMsWFAQKAgUBAoCBY99ggUFgYJAQaDg\n",
       "qUawoCBQECgIFAQKHvsECwoCBYGCQMH9oGBBQaAgUBAoCBQ8mw8WFAQKAgWBgkDBDbNgQUGgIFAQ\n",
       "KHg2HywoCBQECgIFgcLcb/8FP86CgkBBoCBQECg4iwULCgIFgYJAwRtmwYKCQEGgIFAQKLhhFiwo\n",
       "CBQECgIF94OCBQWBgkBBoCBQcNQIFhQECgIFgYJAwVksWFAQKAgUBAqezQcLCgIFgYJAQaAwfvxl\n",
       "Z0FBoCBQECgIFJzFggUFgYJAQaDg2XywoCBQECgIFAQKns0HCwoCBYGCQMFRI1hQECgIFAQKAgVH\n",
       "jWBBQaAgUBAoCBTmesVsZUFBoCBQECi4YRYsKAgUBAoCBYGCG2bBgoJAQaAgUHDUCBYUBAoCBYGC\n",
       "QGGepxorCwoCBYGCQEGgMPe4YbaxoCBQECgIFLxAFSwoCBQECgIFgYIfmgwWFAQKAgWBgkDBD00G\n",
       "CwoCBYGCQMGz+WBBQaAgUBAoCBS8Jx0sKAgUBAoCBd84DBYUBAoCBYGCQMFRI1hQECgIFAQKAgXv\n",
       "SQcLCgIFgYJAwWvAwYKCQEGgIFAQKDhqBAsKAgWBgkBBoOA96WBBQaAgUBAo+ImuYEFBoCBQECgI\n",
       "FNwwCxYUBAoCBYGCZ/PBgoJAQaAgUBAoOGoECwoCBYGCQEGg4CwWLCgIFAQKAgVHjWBBQaAgUBAo\n",
       "CBRcxYIFBYGCQEGgIFBwwyxYUBAoCBQECo4awYKCQEGgIFAQKDhqBAsKAgWBgkDBUSNYUBAoCBQE\n",
       "CgIFP9EVLCgIFAQKAgWBgv8vFiwoCBQECgIFN8yCBQWBgkBBoCBQmHdcxjYWFAQKAgWBgkDBWSxY\n",
       "UBAoCBQECp7NBwsKAgWBgkBBoODZfLCgIFAQKAgU3A8KFhQECgIFgYJAwbP5YEFBoCBQECgIFJzF\n",
       "ggUFgYJAQaDgJ7qCBQWBgkBBoCBQmOsVs5UFBYGCQEGg4AWqYEFBoCBQECgIFOY5aqwsKAgUBAoC\n",
       "BYGCs1iwoCBQECgIFDzVCBYUBAoCBYGCQMEbZsGCgkBBoCBQECjM9ZXMlQUFgYJAQaDghlmwoCBQ\n",
       "ECgIFAQKfv0lWFAQKAgUBApeoAoWFAQKAgWBgkDBU41gQUGgIFAQKAgU3DALFhQECgIFgcLc45bZ\n",
       "xoKCQEGgIFAQKLhhFiwoCBQECgIFgYKrWLCgIFAQKAgUPNUIFhQECgIFgYJAwWOfYEFBoCBQECjM\n",
       "/ThqbCwoCBQECgIFgYKjRrCgIFAQKAgUBArzXMVWFhQECgIFgYKjRrCgIFAQKAgUBApzP65iGwsK\n",
       "AgWBgkBBoOAsFiwoCBQECgIFTzWCBQWBgkBBoCBQcNQIFhQECgIFgYIP6WBBQaAgUBAoCBQ8mw8W\n",
       "FAQKAgWBgkBh3vnz7b/hp1lQECgIFAQKbpgFCwoCBYGCQEGg4A2zYEFBoCBQECjMfe4HbSwoCBQE\n",
       "CgIFgYKjRrCgIFAQKAgUBApzPZtfWVAQKAgUBAqOGsGCgkBBoCBQECg4agQLCgIFgYJAQaAw7zmL\n",
       "bSwoCBQECgIFN8yCBQWBgkBBoCBQ8J50sKAgUBAoCBQcNYIFBYGCQEGgIFCY56ixsqAgUBAoCBQE\n",
       "Cs5iwYKCQEGgIFCY6wWqlQUFgYJAQaAgUPCb9sGCgkBBoCBQECj4MkuwoCBQECgIFDzVCBYUBAoC\n",
       "BYGCQMFRI1hQECgIFAQKPqSDBQWBgkBBoCBQ8Gw+WFAQKAgUBAoCBWexYEFBoCBQECjM8Wx+ZUFB\n",
       "oCBQECgIFBw1ggUFgYJAQaAgUPCedLCgIFAQKAgU5jhqrCwoCBQECgIFgYI3zIIFBYGCQEGg4Nl8\n",
       "sKAgUBAoCBQECm6YBQsKAgWBgkBBoDDvvG//DT/NgoJAQaAgUHDDLFhQECgIFAQKAoU5jhorCwoC\n",
       "BYGCQOE/LrLuTX/wFc8AAAAASUVORK5CYII=\n",
       "\" transform=\"translate(2161, 47)\"/>\n",
       "</g>\n",
       "<path clip-path=\"url(#clip490)\" d=\"M2270.21 1328.47 L2288.57 1328.47 L2288.57 1332.41 L2274.5 1332.41 L2274.5 1340.88 Q2275.52 1340.53 2276.53 1340.37 Q2277.55 1340.18 2278.57 1340.18 Q2284.36 1340.18 2287.74 1343.36 Q2291.12 1346.53 2291.12 1351.94 Q2291.12 1357.52 2287.64 1360.62 Q2284.17 1363.7 2277.85 1363.7 Q2275.68 1363.7 2273.41 1363.33 Q2271.16 1362.96 2268.76 1362.22 L2268.76 1357.52 Q2270.84 1358.66 2273.06 1359.21 Q2275.28 1359.77 2277.76 1359.77 Q2281.77 1359.77 2284.1 1357.66 Q2286.44 1355.56 2286.44 1351.94 Q2286.44 1348.33 2284.1 1346.23 Q2281.77 1344.12 2277.76 1344.12 Q2275.89 1344.12 2274.01 1344.54 Q2272.16 1344.95 2270.21 1345.83 L2270.21 1328.47 Z\" fill=\"#000000\" fill-rule=\"evenodd\" fill-opacity=\"1\" /><path clip-path=\"url(#clip490)\" d=\"M2269.43 1187.76 L2277.07 1187.76 L2277.07 1161.4 L2268.76 1163.06 L2268.76 1158.8 L2277.02 1157.14 L2281.7 1157.14 L2281.7 1187.76 L2289.33 1187.76 L2289.33 1191.7 L2269.43 1191.7 L2269.43 1187.76 Z\" fill=\"#000000\" fill-rule=\"evenodd\" fill-opacity=\"1\" /><path clip-path=\"url(#clip490)\" d=\"M2308.78 1160.22 Q2305.17 1160.22 2303.34 1163.78 Q2301.53 1167.32 2301.53 1174.45 Q2301.53 1181.56 2303.34 1185.12 Q2305.17 1188.67 2308.78 1188.67 Q2312.41 1188.67 2314.22 1185.12 Q2316.05 1181.56 2316.05 1174.45 Q2316.05 1167.32 2314.22 1163.78 Q2312.41 1160.22 2308.78 1160.22 M2308.78 1156.51 Q2314.59 1156.51 2317.64 1161.12 Q2320.72 1165.7 2320.72 1174.45 Q2320.72 1183.18 2317.64 1187.79 Q2314.59 1192.37 2308.78 1192.37 Q2302.97 1192.37 2299.89 1187.79 Q2296.83 1183.18 2296.83 1174.45 Q2296.83 1165.7 2299.89 1161.12 Q2302.97 1156.51 2308.78 1156.51 Z\" fill=\"#000000\" fill-rule=\"evenodd\" fill-opacity=\"1\" /><path clip-path=\"url(#clip490)\" d=\"M2269.43 1016.43 L2277.07 1016.43 L2277.07 990.064 L2268.76 991.73 L2268.76 987.471 L2277.02 985.804 L2281.7 985.804 L2281.7 1016.43 L2289.33 1016.43 L2289.33 1020.36 L2269.43 1020.36 L2269.43 1016.43 Z\" fill=\"#000000\" fill-rule=\"evenodd\" fill-opacity=\"1\" /><path clip-path=\"url(#clip490)\" d=\"M2298.83 985.804 L2317.18 985.804 L2317.18 989.74 L2303.11 989.74 L2303.11 998.212 Q2304.13 997.865 2305.14 997.703 Q2306.16 997.517 2307.18 997.517 Q2312.97 997.517 2316.35 1000.69 Q2319.73 1003.86 2319.73 1009.28 Q2319.73 1014.86 2316.26 1017.96 Q2312.78 1021.04 2306.46 1021.04 Q2304.29 1021.04 2302.02 1020.67 Q2299.77 1020.3 2297.37 1019.55 L2297.37 1014.86 Q2299.45 1015.99 2301.67 1016.55 Q2303.89 1017.1 2306.37 1017.1 Q2310.38 1017.1 2312.71 1014.99 Q2315.05 1012.89 2315.05 1009.28 Q2315.05 1005.67 2312.71 1003.56 Q2310.38 1001.45 2306.37 1001.45 Q2304.5 1001.45 2302.62 1001.87 Q2300.77 1002.29 2298.83 1003.17 L2298.83 985.804 Z\" fill=\"#000000\" fill-rule=\"evenodd\" fill-opacity=\"1\" /><path clip-path=\"url(#clip490)\" d=\"M2274.38 845.096 L2290.7 845.096 L2290.7 849.031 L2268.76 849.031 L2268.76 845.096 Q2271.42 842.341 2276 837.711 Q2280.61 833.059 2281.79 831.716 Q2284.03 829.193 2284.91 827.457 Q2285.82 825.697 2285.82 824.008 Q2285.82 821.253 2283.87 819.517 Q2281.95 817.781 2278.85 817.781 Q2276.65 817.781 2274.2 818.545 Q2271.77 819.309 2268.99 820.86 L2268.99 816.137 Q2271.81 815.003 2274.27 814.424 Q2276.72 813.846 2278.76 813.846 Q2284.13 813.846 2287.32 816.531 Q2290.52 819.216 2290.52 823.707 Q2290.52 825.836 2289.7 827.758 Q2288.92 829.656 2286.81 832.248 Q2286.23 832.92 2283.13 836.137 Q2280.03 839.332 2274.38 845.096 Z\" fill=\"#000000\" fill-rule=\"evenodd\" fill-opacity=\"1\" /><path clip-path=\"url(#clip490)\" d=\"M2310.51 817.549 Q2306.9 817.549 2305.08 821.114 Q2303.27 824.656 2303.27 831.785 Q2303.27 838.892 2305.08 842.457 Q2306.9 845.998 2310.51 845.998 Q2314.15 845.998 2315.95 842.457 Q2317.78 838.892 2317.78 831.785 Q2317.78 824.656 2315.95 821.114 Q2314.15 817.549 2310.51 817.549 M2310.51 813.846 Q2316.33 813.846 2319.38 818.452 Q2322.46 823.035 2322.46 831.785 Q2322.46 840.512 2319.38 845.119 Q2316.33 849.702 2310.51 849.702 Q2304.7 849.702 2301.63 845.119 Q2298.57 840.512 2298.57 831.785 Q2298.57 823.035 2301.63 818.452 Q2304.7 813.846 2310.51 813.846 Z\" fill=\"#000000\" fill-rule=\"evenodd\" fill-opacity=\"1\" /><path clip-path=\"url(#clip490)\" d=\"M2274.38 673.762 L2290.7 673.762 L2290.7 677.697 L2268.76 677.697 L2268.76 673.762 Q2271.42 671.007 2276 666.378 Q2280.61 661.725 2281.79 660.382 Q2284.03 657.859 2284.91 656.123 Q2285.82 654.364 2285.82 652.674 Q2285.82 649.919 2283.87 648.183 Q2281.95 646.447 2278.85 646.447 Q2276.65 646.447 2274.2 647.211 Q2271.77 647.975 2268.99 649.526 L2268.99 644.804 Q2271.81 643.669 2274.27 643.091 Q2276.72 642.512 2278.76 642.512 Q2284.13 642.512 2287.32 645.197 Q2290.52 647.882 2290.52 652.373 Q2290.52 654.503 2289.7 656.424 Q2288.92 658.322 2286.81 660.915 Q2286.23 661.586 2283.13 664.803 Q2280.03 667.998 2274.38 673.762 Z\" fill=\"#000000\" fill-rule=\"evenodd\" fill-opacity=\"1\" /><path clip-path=\"url(#clip490)\" d=\"M2300.56 643.137 L2318.92 643.137 L2318.92 647.072 L2304.84 647.072 L2304.84 655.544 Q2305.86 655.197 2306.88 655.035 Q2307.9 654.85 2308.92 654.85 Q2314.7 654.85 2318.08 658.021 Q2321.46 661.192 2321.46 666.609 Q2321.46 672.188 2317.99 675.29 Q2314.52 678.368 2308.2 678.368 Q2306.02 678.368 2303.76 677.998 Q2301.51 677.627 2299.1 676.887 L2299.1 672.188 Q2301.19 673.322 2303.41 673.877 Q2305.63 674.433 2308.11 674.433 Q2312.11 674.433 2314.45 672.327 Q2316.79 670.22 2316.79 666.609 Q2316.79 662.998 2314.45 660.891 Q2312.11 658.785 2308.11 658.785 Q2306.23 658.785 2304.36 659.202 Q2302.51 659.618 2300.56 660.498 L2300.56 643.137 Z\" fill=\"#000000\" fill-rule=\"evenodd\" fill-opacity=\"1\" /><path clip-path=\"url(#clip490)\" d=\"M2284.38 487.729 Q2287.74 488.447 2289.61 490.715 Q2291.51 492.984 2291.51 496.317 Q2291.51 501.433 2287.99 504.234 Q2284.47 507.034 2277.99 507.034 Q2275.82 507.034 2273.5 506.595 Q2271.21 506.178 2268.76 505.321 L2268.76 500.808 Q2270.7 501.942 2273.02 502.521 Q2275.33 503.099 2277.85 503.099 Q2282.25 503.099 2284.54 501.363 Q2286.86 499.627 2286.86 496.317 Q2286.86 493.261 2284.7 491.548 Q2282.58 489.812 2278.76 489.812 L2274.73 489.812 L2274.73 485.97 L2278.94 485.97 Q2282.39 485.97 2284.22 484.604 Q2286.05 483.215 2286.05 480.623 Q2286.05 477.961 2284.15 476.548 Q2282.27 475.113 2278.76 475.113 Q2276.83 475.113 2274.64 475.53 Q2272.44 475.947 2269.8 476.826 L2269.8 472.66 Q2272.46 471.919 2274.77 471.549 Q2277.11 471.178 2279.17 471.178 Q2284.5 471.178 2287.6 473.609 Q2290.7 476.016 2290.7 480.136 Q2290.7 483.007 2289.06 484.998 Q2287.41 486.965 2284.38 487.729 Z\" fill=\"#000000\" fill-rule=\"evenodd\" fill-opacity=\"1\" /><path clip-path=\"url(#clip490)\" d=\"M2310.38 474.882 Q2306.76 474.882 2304.94 478.447 Q2303.13 481.988 2303.13 489.118 Q2303.13 496.224 2304.94 499.789 Q2306.76 503.331 2310.38 503.331 Q2314.01 503.331 2315.82 499.789 Q2317.64 496.224 2317.64 489.118 Q2317.64 481.988 2315.82 478.447 Q2314.01 474.882 2310.38 474.882 M2310.38 471.178 Q2316.19 471.178 2319.24 475.785 Q2322.32 480.368 2322.32 489.118 Q2322.32 497.845 2319.24 502.451 Q2316.19 507.034 2310.38 507.034 Q2304.57 507.034 2301.49 502.451 Q2298.43 497.845 2298.43 489.118 Q2298.43 480.368 2301.49 475.785 Q2304.57 471.178 2310.38 471.178 Z\" fill=\"#000000\" fill-rule=\"evenodd\" fill-opacity=\"1\" /><path clip-path=\"url(#clip490)\" d=\"M2284.38 316.395 Q2287.74 317.113 2289.61 319.381 Q2291.51 321.65 2291.51 324.983 Q2291.51 330.099 2287.99 332.9 Q2284.47 335.701 2277.99 335.701 Q2275.82 335.701 2273.5 335.261 Q2271.21 334.844 2268.76 333.988 L2268.76 329.474 Q2270.7 330.608 2273.02 331.187 Q2275.33 331.765 2277.85 331.765 Q2282.25 331.765 2284.54 330.029 Q2286.86 328.293 2286.86 324.983 Q2286.86 321.928 2284.7 320.215 Q2282.58 318.479 2278.76 318.479 L2274.73 318.479 L2274.73 314.636 L2278.94 314.636 Q2282.39 314.636 2284.22 313.27 Q2286.05 311.881 2286.05 309.289 Q2286.05 306.627 2284.15 305.215 Q2282.27 303.78 2278.76 303.78 Q2276.83 303.78 2274.64 304.196 Q2272.44 304.613 2269.8 305.492 L2269.8 301.326 Q2272.46 300.585 2274.77 300.215 Q2277.11 299.844 2279.17 299.844 Q2284.5 299.844 2287.6 302.275 Q2290.7 304.682 2290.7 308.803 Q2290.7 311.673 2289.06 313.664 Q2287.41 315.631 2284.38 316.395 Z\" fill=\"#000000\" fill-rule=\"evenodd\" fill-opacity=\"1\" /><path clip-path=\"url(#clip490)\" d=\"M2300.42 300.469 L2318.78 300.469 L2318.78 304.405 L2304.7 304.405 L2304.7 312.877 Q2305.72 312.529 2306.74 312.367 Q2307.76 312.182 2308.78 312.182 Q2314.57 312.182 2317.95 315.354 Q2321.33 318.525 2321.33 323.941 Q2321.33 329.52 2317.85 332.622 Q2314.38 335.701 2308.06 335.701 Q2305.89 335.701 2303.62 335.33 Q2301.37 334.96 2298.96 334.219 L2298.96 329.52 Q2301.05 330.654 2303.27 331.21 Q2305.49 331.765 2307.97 331.765 Q2311.97 331.765 2314.31 329.659 Q2316.65 327.553 2316.65 323.941 Q2316.65 320.33 2314.31 318.224 Q2311.97 316.117 2307.97 316.117 Q2306.09 316.117 2304.22 316.534 Q2302.37 316.951 2300.42 317.83 L2300.42 300.469 Z\" fill=\"#000000\" fill-rule=\"evenodd\" fill-opacity=\"1\" /><path clip-path=\"url(#clip490)\" d=\"M2284.36 133.21 L2272.55 151.659 L2284.36 151.659 L2284.36 133.21 M2283.13 129.136 L2289.01 129.136 L2289.01 151.659 L2293.94 151.659 L2293.94 155.547 L2289.01 155.547 L2289.01 163.696 L2284.36 163.696 L2284.36 155.547 L2268.76 155.547 L2268.76 151.034 L2283.13 129.136 Z\" fill=\"#000000\" fill-rule=\"evenodd\" fill-opacity=\"1\" /><path clip-path=\"url(#clip490)\" d=\"M2311.67 132.214 Q2308.06 132.214 2306.23 135.779 Q2304.43 139.321 2304.43 146.45 Q2304.43 153.557 2306.23 157.122 Q2308.06 160.663 2311.67 160.663 Q2315.31 160.663 2317.11 157.122 Q2318.94 153.557 2318.94 146.45 Q2318.94 139.321 2317.11 135.779 Q2315.31 132.214 2311.67 132.214 M2311.67 128.511 Q2317.48 128.511 2320.54 133.117 Q2323.62 137.7 2323.62 146.45 Q2323.62 155.177 2320.54 159.784 Q2317.48 164.367 2311.67 164.367 Q2305.86 164.367 2302.78 159.784 Q2299.73 155.177 2299.73 146.45 Q2299.73 137.7 2302.78 133.117 Q2305.86 128.511 2311.67 128.511 Z\" fill=\"#000000\" fill-rule=\"evenodd\" fill-opacity=\"1\" /><polyline clip-path=\"url(#clip490)\" style=\"stroke:#000000; stroke-linecap:round; stroke-linejoin:round; stroke-width:4; stroke-opacity:1; fill:none\" points=\"\n",
       "  2232.76,1486.45 2232.76,1349.38 2256.76,1349.38 2232.76,1349.38 2232.76,1178.05 2256.76,1178.05 2232.76,1178.05 2232.76,1006.71 2256.76,1006.71 2232.76,1006.71 \n",
       "  2232.76,835.379 2256.76,835.379 2232.76,835.379 2232.76,664.046 2256.76,664.046 2232.76,664.046 2232.76,492.712 2256.76,492.712 2232.76,492.712 2232.76,321.378 \n",
       "  2256.76,321.378 2232.76,321.378 2232.76,150.044 2256.76,150.044 2232.76,150.044 2232.76,47.2441 \n",
       "  \"/>\n",
       "</svg>\n"
      ]
     },
     "metadata": {},
     "output_type": "display_data"
    }
   ],
   "source": [
    "histogram2d(xn, yn, bins = 16, yticks = 1:10, xticks=1:16)"
   ]
  },
  {
   "cell_type": "code",
   "execution_count": 399,
   "metadata": {},
   "outputs": [
    {
     "data": {
      "text/plain": [
       "(Float32[1.0, 1.0, 1.0, 0.0], Float32[1.0, 1.0, 0.0, 0.0], Float32[0.0, 1.0, 0.0, 1.0], Float32[0.0, 0.0, 1.0, 0.0])"
      ]
     },
     "metadata": {},
     "output_type": "display_data"
    }
   ],
   "source": [
    "minvocab[7], minvocab[3], minvocab[10], minvocab[14]"
   ]
  },
  {
   "cell_type": "code",
   "execution_count": 400,
   "metadata": {},
   "outputs": [],
   "source": []
  }
 ],
 "metadata": {
  "kernelspec": {
   "display_name": "Julia 1.8.2",
   "language": "julia",
   "name": "julia-1.8"
  },
  "language_info": {
   "file_extension": ".jl",
   "mimetype": "application/julia",
   "name": "julia",
   "version": "1.8.2"
  },
  "orig_nbformat": 4,
  "vscode": {
   "interpreter": {
    "hash": "c261aea317cc0286b3b3261fbba9abdec21eaa57589985bb7a274bf54d6cc0a7"
   }
  }
 },
 "nbformat": 4,
 "nbformat_minor": 2
}
