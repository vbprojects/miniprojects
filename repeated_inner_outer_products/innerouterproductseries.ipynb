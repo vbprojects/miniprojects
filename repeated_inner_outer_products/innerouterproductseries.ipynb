{
 "cells": [
  {
   "cell_type": "code",
   "execution_count": 44,
   "metadata": {},
   "outputs": [],
   "source": [
    "using LinearAlgebra, Statistics, Flux"
   ]
  },
  {
   "cell_type": "code",
   "execution_count": 101,
   "metadata": {},
   "outputs": [
    {
     "data": {
      "text/plain": [
       "14-element Vector{Vector{Int64}}:\n",
       " [0, 0, 0, 0]\n",
       " [1, 0, 0, 0]\n",
       " [0, 1, 0, 0]\n",
       " [1, 1, 0, 0]\n",
       " [0, 0, 1, 0]\n",
       " [1, 0, 1, 0]\n",
       " [0, 1, 1, 0]\n",
       " [1, 1, 1, 0]\n",
       " [0, 0, 0, 1]\n",
       " [1, 0, 0, 1]\n",
       " [0, 1, 0, 1]\n",
       " [1, 1, 0, 1]\n",
       " [0, 0, 1, 1]\n",
       " [1, 0, 1, 1]"
      ]
     },
     "metadata": {},
     "output_type": "display_data"
    }
   ],
   "source": [
    "S = 0:13 .|> x -> digits(x, base = 2, pad = 4)"
   ]
  },
  {
   "cell_type": "code",
   "execution_count": 102,
   "metadata": {},
   "outputs": [
    {
     "data": {
      "text/plain": [
       "innerouter (generic function with 1 method)"
      ]
     },
     "metadata": {},
     "output_type": "display_data"
    }
   ],
   "source": [
    "function innerouter(S)\n",
    "    c = S[1]\n",
    "    for (i,s) in enumerate(S[2:end])\n",
    "        if i % 2 == 0\n",
    "            c = c * s\n",
    "        else\n",
    "            c = c * s'\n",
    "        end\n",
    "    end\n",
    "    return c\n",
    "end"
   ]
  },
  {
   "cell_type": "code",
   "execution_count": 103,
   "metadata": {},
   "outputs": [
    {
     "data": {
      "text/plain": [
       "4×4 Matrix{Float64}:\n",
       " 0.10143  0.08933  0.0896   0.08811\n",
       " 0.08941  0.07604  0.0775   0.07632\n",
       " 0.08833  0.07613  0.07702  0.07702\n",
       " 0.08656  0.07674  0.07666  0.07582"
      ]
     },
     "metadata": {},
     "output_type": "display_data"
    }
   ],
   "source": [
    "insouts = [innerouter(rand(S, 10)) for _ in 1:100000]\n",
    "reduce(+, insouts) ./ length(insouts)"
   ]
  },
  {
   "cell_type": "code",
   "execution_count": null,
   "metadata": {},
   "outputs": [],
   "source": []
  }
 ],
 "metadata": {
  "kernelspec": {
   "display_name": "Julia 1.8.0",
   "language": "julia",
   "name": "julia-1.8"
  },
  "language_info": {
   "file_extension": ".jl",
   "mimetype": "application/julia",
   "name": "julia",
   "version": "1.8.2"
  },
  "orig_nbformat": 4,
  "vscode": {
   "interpreter": {
    "hash": "c261aea317cc0286b3b3261fbba9abdec21eaa57589985bb7a274bf54d6cc0a7"
   }
  }
 },
 "nbformat": 4,
 "nbformat_minor": 2
}
